{
 "cells": [
  {
   "cell_type": "markdown",
   "id": "cb128a99",
   "metadata": {},
   "source": [
    "1. Show that an error of 3% in flux units is very nearly the same as an error of 0.03 magnitudes."
   ]
  },
  {
   "cell_type": "markdown",
   "id": "814d0da1",
   "metadata": {},
   "source": [
    "The relationship between Flux and Magnitude:\n",
    "\n",
    "m = -2.5log_{10}(F/F_0)\n",
    "\n",
    "If we have flux F_1 and F_2 with a 3% error:\n",
    "\n",
    "F_2 = F_1 * (1 + 0.03)\n",
    "F_2 = F_1 * (1 - 0.03)\n",
    "\n",
    "We can calculate magnitude:\n",
    "\n",
    "m_1 = -2.5log_{10}(F_1/F_0)\n",
    "m_2 = -2.5log_{10}(F_2/F_0)\n",
    "\n",
    "Now, substitute F_2 into the equation for m_2:\n",
    "\n",
    "m_2 = -2.5log_{10} ((F_1 * (1 +- 0.03) /F_0))\n",
    "\n",
    "Therefore:\n",
    "\n",
    "m_2 = -2.5log_{10} (F_1/F_0) + log_{10}(1 +- 0.03)\n",
    "\n",
    "We know m_2 - m_1 is the difference in magnitudes between F_2 and F_1:\n",
    "\n",
    "m_2 - m_1 = -2.5log_{10}((1 +- 0.03))\n",
    "\n",
    "We calculate m_2 - m_1 for both the positive and negative 3% errors:\n",
    "\n",
    "m_2 - m_1 (Positive Error) = -2.5(log_{10}(1 + 0.03)) = -2.5(log_{10}(1.03)) = −2.5⋅0.014\n",
    "<br>\n",
    "m_2 - m_1 (Negative Error) = -2.5 log_{10}(1 - 0.03)) = -2.5(log_{10}(0.97)) = −2.5⋅(−0.014)\n",
    "\n",
    "\n",
    "Both of these values are approximately equal to +/- 0.035,  close to 0.03. Showing that an error of 3% in flux units is very nearly the same as an error of 0.03 magnitudes."
   ]
  },
  {
   "cell_type": "markdown",
   "id": "7d240d71",
   "metadata": {},
   "source": [
    "2. For source A from HW2 (surface brightness of 1 MJy per steradian at 5500 Angstroms),\n",
    "suppose that you are observing with a V filter with a CCD camera on a 2.3 m diameter\n",
    "telescope like WIRO. How many photons will you collect per second in a single ccd pixel\n",
    "assuming that the pixel equals 1 square arcsecond on the sky and assuming you have a\n",
    "typical V filter bandpass width. Assume that the efficiency of the camera, CCD, and all\n",
    "the optics is 100%."
   ]
  },
  {
   "cell_type": "markdown",
   "id": "2c1b05cc",
   "metadata": {},
   "source": [
    "We calculate the number of photons collected per second in a single CCD pixel, we can use the following formula:\n",
    "\n",
    "Photons/sec/pixel = Surface Brightness * Collecting Area * Bandpass Efficiency * Quantum Efficiency \n",
    "\n",
    "We know:\n",
    "- Surface Brightness = 1 MJy per steradian at 5500 Angstroms = 1 * 10^6 Jy per steradian at 5500 Angstroms.\n",
    "- Telescope diameteer (D) = 2.3 m\n",
    "- Pixel size = 1 square arcsecond = 1 arcsec^2).\n",
    "- Efficiency of camera, CCD, and optics = 100% (1.0)\n",
    "- V filter bandpass width (Δλ) =  5510  Angstroms\n",
    "- Speed of light (c) = 3 * 10^18 Angstroms/s\n",
    "\n",
    "We need to calculate the collecting area of the telescope and the quantum efficiencyof the CCD.\n",
    "\n",
    "1. Calculate Collecting Area (A):\n",
    "The collecting area of a telescope is given by the formula:\n",
    "\n",
    "A =  pi/{4} * D^2 = 4.1535 m^2 \n",
    "\n",
    "2. Calculate Bandpass Efficiency :\n",
    "You'll need to provide the bandwidth (Δλ) of the V filter in Angstroms. The bandpass efficiency represents the fraction of light within the filter bandwidth.\n",
    "\n",
    "BE = 90 Angstroms /5510 Angstroms\n",
    "\n",
    "3. Calculate Quantum Efficiency (QE):\n",
    "\n",
    "QE = 100 %\n",
    "\n",
    "4. Plug in:\n",
    "\n",
    "Photons/sec/pixel = (1 * 10^6 Jy/steradian at 5510 Angstrom) * 4.1535 m^2 * (90 Angstroms /5510 Angstroms) * 1.0\n",
    "<br>\n",
    "Photons/sec/pixel = 192.85 photons/sec/pixel\n",
    "\n",
    "Therefore, you would collect approximately 192.85 photons per second in a single CCD pixel when observing with a V filter through this telescope. "
   ]
  },
  {
   "cell_type": "markdown",
   "id": "6a138f15",
   "metadata": {},
   "source": [
    "3. If a galaxy at a distance of 10 Mpc has a monochromatic luminosity of 1038 erg s^-1\n",
    "Angstrom^-1 over the optical part of the spectrum, how many photons per second do you\n",
    "expect to detect with a 2.3 m telescope in the V filter, assuming your optics and CCD\n",
    "have a total efficiency of 50%? Assume you observe your source at 2 airmasses."
   ]
  },
  {
   "cell_type": "markdown",
   "id": "0449103e",
   "metadata": {},
   "source": [
    "Photons/sec = Luminosity * Telescope Area * Bandpass Eff * Quantum Eff\n",
    "\n",
    "1. Calculate Collecting Area (A):\n",
    "The collecting area of a telescope is given by the formula for the area of a circular aperture:\n",
    "\n",
    "A =  pi/{4} * D^2 = 4.1535 m^2 \n",
    "\n",
    "2. Calculate Atmospheric Effect:\n",
    "\n",
    "A = 0.2 * airmass = 0.4\n",
    "\n",
    "3. Plug in:\n",
    "\n",
    "Photons/sec = (10^38 erg s^-1 Angstrom^-1) * 4.1535 m^2  * (90 Angstroms /5510 Angstroms) * 0.5\n",
    "<br>\n",
    "Photons/sec = 6.256 * 10^9 photons/sec \n",
    "\n",
    "Therefore, we would detect approximately 6.256 * 10^9 photons per second with a 2.3 m telescope in the V filter, assuming a total efficiency of 50%. "
   ]
  },
  {
   "cell_type": "markdown",
   "id": "31d0fe42",
   "metadata": {},
   "source": [
    "4. If a point source has a total count rate of 0.2 ph s^-1, the sky background has a count rate\n",
    "of 0.5 ph s^-1 pixel^-1, the dark current is 10 electrons hour^-1 pixel^-1, and the read noise\n",
    "is 5 electrons, how many 1-minute exposures does it take to reach a S/N of 100? Assume\n",
    "the stellar PSF is distributed over 4 pixels."
   ]
  },
  {
   "cell_type": "markdown",
   "id": "c27de3c1",
   "metadata": {},
   "source": [
    "S/N = R_st/(R_st + npix (R_bt + R_dt+ N_r^2)\n",
    "\n",
    "\n",
    "<br>\n",
    "t = (R_s*t)^2/((S/N)^2 * npix (R_b*t + R_d*t + N_r^2))\n",
    "\n",
    "\n",
    "<br>\n",
    "t = (0.2 ph * sec^1 * t)^2 /((100)^2 * 4 pix (30 ph pixel^-1 * t + (1/6) e min^-1* t + (5 e)^2)) = 7.91 Hours\n",
    "\n",
    "\n",
    "<br>\n",
    "Therefore it would take approximately 7.91 hours of exposure time to reach a (S/N) ratio of 100."
   ]
  },
  {
   "cell_type": "markdown",
   "id": "6d72bff3",
   "metadata": {},
   "source": [
    "5. At WIRO with the prime focus imager (a 2.3m f/2.1 telescope with 13.5  m pixels),\n",
    "assuming observations are taken at 1 airmass, detector QE = 0:90, and other telescope\n",
    "efficiencies are 0.70, how long would be required to achieve a S/N of 100 on a V = 22\n",
    "magnitude star in the V filter if the moon phase is full ( uV = 20 mag arcsec^-2)? Assume 1.100\" seeing. The WIRO Prime read noise is 4.5 electrons pixel^-1 and the dark current is effectively zero. Compare your first answer to when the moon phase is new ( uV = 22 mag arcsec^-2, e.g. from Kitt Peak Imaging Manual). Are you detector, source, or background\n",
    "limited?"
   ]
  },
  {
   "cell_type": "markdown",
   "id": "67b17107",
   "metadata": {},
   "source": [
    "Using Seeing 1.0\" = 7 pixels FWHM \n",
    "\n",
    "We have the equation for S/N:\n",
    "\n",
    "S/N = (R_s * t)/((R_s * t) + npix * (R_b *t + R_d * t+ N_r^2))^1/2\n",
    "\n",
    "To solve for t we square both sides:\n",
    "\n",
    "(S/N)^2 = ((R_s * t)^2/((R_s * t) + npix(R_b * t + R_d t + N_r^2)^1/2))^2\n",
    "\n",
    "We isolate t: \n",
    " \n",
    " \n",
    "t = N_r^2/(R_b + R_d) - ((R_s)^2) / ((S/N)^2 * npix)\n",
    "\n",
    "\n",
    "For Full Moon:\n",
    "- uv = 20 mag arcsec^-2\n",
    "-  R_b = 0.002 ph pixel ^-1 \n",
    "-  N_r = 4.5 e\n",
    "-  n_pix = 4 number of pixels\n",
    "-  R_s = 0.2 ph s ^-1\n",
    "-  S/N = 100\n",
    "\n",
    "For New Moon:\n",
    "-  uv = 22 mag arcsec^-2\n",
    "-  R_b = 0.002 ph pixel ^-1 \n",
    "-  N_r = 4.5 e\n",
    "-  n_pix = 4 number of pixels\n",
    "-  R_s = 0.2 ph s ^-1\n",
    "-  S/N = 100\n",
    "\n",
    "We can to change mag into flux units. We should try to calculate R_s , plate scale, and pixel size: \n",
    "Let's calculate t for both scenarios (Full Moon and New Moon):\n",
    "\n",
    "Plugging in these values:\n",
    "\n",
    "t_Full Moon = 4.5^2/(0.002 + 0) - ((0.2)^2) / ((100)^2 * 4)\n",
    " \n",
    "t_Full Moon = 109.82 s\n",
    "\n",
    "For New Moon:\n",
    "\n",
    "Plugging in these values:\n",
    "\n",
    "t_New Moon = 4.5^2/(0.002 + 0) - ((0.2)^2) / ((100)^2 * 4)\n",
    "\n",
    "t_New Moon = 108.86 s\n",
    "\n",
    "It appears that both Full Moon and New Moon scenarios have a similar exposure time of approximately 109.82 seconds to achieve a Signal-to-Noise ratio (S/N) of 100. Therefore the exposure time is not significantly affected by the different background levels in these scenarios.\n",
    "Compared to when the moon is new, the change in background noise is small, therefore we are still detector limited. "
   ]
  },
  {
   "cell_type": "markdown",
   "id": "0b72a628",
   "metadata": {},
   "source": [
    "6. At Keck, an imager with a QE of 80% is used to image a stellar object with a S/N of\n",
    "50 in 10 minutes through a narrowband filter of width 50 Å. Compute how long would\n",
    "be required to obtain the same S/N on WIRO using our imager with 95% QE and a\n",
    "broadband V filter. Assume the source noise limited case and state any other assumptions\n",
    "you needed to make to solve the problem."
   ]
  },
  {
   "cell_type": "code",
   "execution_count": null,
   "id": "cf141233",
   "metadata": {},
   "outputs": [],
   "source": []
  }
 ],
 "metadata": {
  "kernelspec": {
   "display_name": "Python 3 (ipykernel)",
   "language": "python",
   "name": "python3"
  },
  "language_info": {
   "codemirror_mode": {
    "name": "ipython",
    "version": 3
   },
   "file_extension": ".py",
   "mimetype": "text/x-python",
   "name": "python",
   "nbconvert_exporter": "python",
   "pygments_lexer": "ipython3",
   "version": "3.9.12"
  },
  "widgets": {
   "application/vnd.jupyter.widget-state+json": {
    "state": {},
    "version_major": 2,
    "version_minor": 0
   }
  }
 },
 "nbformat": 4,
 "nbformat_minor": 5
}
