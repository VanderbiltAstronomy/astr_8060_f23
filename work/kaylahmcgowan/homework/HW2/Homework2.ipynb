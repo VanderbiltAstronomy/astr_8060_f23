{
 "cells": [
  {
   "cell_type": "code",
   "execution_count": 1,
   "id": "4494f638",
   "metadata": {},
   "outputs": [],
   "source": [
    "import math \n",
    "import numpy as np"
   ]
  },
  {
   "cell_type": "markdown",
   "id": "2795ef9c",
   "metadata": {},
   "source": [
    "1. You are observing the H $B$  emission line in a binary supermassive black hole candidate\n",
    "with a radial velocity of 5,000 km s^-1. For what redshifts will this line fall in the J,H,K\n",
    "windows?"
   ]
  },
  {
   "cell_type": "code",
   "execution_count": 31,
   "id": "4fadfb99",
   "metadata": {},
   "outputs": [
    {
     "name": "stdout",
     "output_type": "stream",
     "text": [
      "The wavelength emitted by the binary supermassive black hole candidate: 4.941e-07 meters or 0.4941 microns.\n"
     ]
    }
   ],
   "source": [
    "# Redshift: 1 + Z =lamb_obs/lamb_emit\n",
    "# lambda_rest,HB 4,860 Angstrom (1 Angstrom = 10^-10 m)\n",
    "# will need atmosphere notes will have 6 values\n",
    "# lambda_binary - lambda_rest/lambda_rest = V_r/c \n",
    "c = 3 * 10**8 # Speed of Light in m/s\n",
    "V_r = 5 * 10**6 # Radial Velocity in m/s \n",
    "lambda_rest = 4.86 * 10**-7 # Rest wavelength of Hydrogen Beta Emission Line in m \n",
    "\n",
    "# We use the rest wave length of the hydrogen beta emission line and the radial velocity of the binary to find the associate wavelength\n",
    "lambda_binary = (V_r * lambda_rest)/c + lambda_rest\n",
    "print(f\"The wavelength emitted by the binary supermassive black hole candidate: {lambda_binary} meters or {lambda_binary * 10**6} microns.\")"
   ]
  },
  {
   "cell_type": "code",
   "execution_count": 30,
   "id": "8e7aadc9",
   "metadata": {},
   "outputs": [
    {
     "name": "stdout",
     "output_type": "stream",
     "text": [
      "The Hydrogen-Beta line will fall between z-shifts (0.22626998583282765, 0.8334345274235986) for J band,(0.8334345274235986, 1.642987249544627) for H band and (2.0477636106051404, 3.059704513256426) for the K band.\n"
     ]
    }
   ],
   "source": [
    "# Calculate the observed z-shift for the J,K, and H band using the wavelength emitted by the binary\n",
    "# lambda_obs - lambda_binary/lambda_binary = 1 + z\n",
    "lambda_obsJ1 = 1.1 * 10**-6\n",
    "lambda_obsJ2 = 1.4  * 10**-6 # J band 1.1 - 1.4 microns\n",
    "lambda_obsH1 = 1.4 * 10 **-6 \n",
    "lambda_obsH2 = 1.8 * 10 **-6 # H band 1.4 - 1.8 microns\n",
    "lambda_obsK1 = 2.0 * 10 **-6\n",
    "lambda_obsK2 = 2.5 * 10 **-6 # K band 2.0 - 2.5 microns\n",
    "#lambda_obsJ = (z * lambda_binary) + (2 * lambda_binary)\n",
    "#lambda_obsH = (z * lambda_binary) + (2 * lambda_binary)\n",
    "#lambda_obsK = (z * lambda_binary) + (2 * lambda_binary)\n",
    "\n",
    "# Function calculates the z shift for each band \n",
    "def get_zshift(lambda_obs):\n",
    "    z = lambda_obs / lambda_binary - 2\n",
    "    return z \n",
    "z_J1 = get_zshift(lambda_obsJ1)\n",
    "z_J2 = get_zshift(lambda_obsJ2)\n",
    "z_H1 = get_zshift(lambda_obsH1)\n",
    "z_H2 = get_zshift(lambda_obsH2)\n",
    "z_K1 = get_zshift(lambda_obsK1)\n",
    "z_K2 = get_zshift(lambda_obsK2)\n",
    "\n",
    "print(f\"The Hydrogen-Beta line will fall between z-shifts {z_J1,z_J2} for J band,{z_H1,z_H2} for H band and {z_K1,z_K2} for the K band.\")"
   ]
  },
  {
   "cell_type": "markdown",
   "id": "0b25e25a",
   "metadata": {},
   "source": [
    "2. If a galaxy is 1 Mpc away and has a diameter of 30 kpc, how large is it in the sky?"
   ]
  },
  {
   "cell_type": "code",
   "execution_count": 16,
   "id": "1a7c2b41",
   "metadata": {},
   "outputs": [],
   "source": [
    "# Using small angle approximation we calculate the angular size of a galaxy in the sky\n",
    "# Where D is distance and d is diameter tan(theta/2)= (d/2)/D\n",
    "# theta/2 =arctan(15kpc/1Mpc) but we can use small angle approximation \n",
    "# theta = (d / D) * (180/pi) degrees\n",
    "distance = 1 * 10**6 #distance to the galaxy in parsecs\n",
    "diameter = 30 * 10**3 #diameter of the galaxy in parsecs \n",
    "theta = (diameter/distance) * (180/np.pi) #angular size of the galaxy in the sky"
   ]
  },
  {
   "cell_type": "code",
   "execution_count": 17,
   "id": "23fd1fc8",
   "metadata": {},
   "outputs": [
    {
     "name": "stdout",
     "output_type": "stream",
     "text": [
      "The angular size of the galaxy is approximately 1.7189 degrees.\n"
     ]
    }
   ],
   "source": [
    "print(f\"The angular size of the galaxy is approximately {theta:.4f} degrees.\")"
   ]
  },
  {
   "cell_type": "markdown",
   "id": "c3ab4646",
   "metadata": {},
   "source": [
    "3. You are observing on a 8 m diameter optical telescope with an f/3 prime focus or an f/12\n",
    "Nasmyth focus. The typical seeing is 0.5 arcsec FWHM at this site. What physical size\n",
    "in microns should your ccd pixels have in order to Nyquist sample a star image at Prime\n",
    "focus? At Nasmyth? What is your resulting field of view in each case if the ccd has 2048^2\n",
    "pix."
   ]
  },
  {
   "cell_type": "code",
   "execution_count": 5,
   "id": "f0513f7e",
   "metadata": {},
   "outputs": [],
   "source": [
    "#f/3 prime focus or f/12 Nasmyth focus\n",
    "def get_pixel_size(focal_ratio, diameter, seeing_theta):\n",
    "    # Calculate the focal length in microns\n",
    "    # First we find platescale S using focal ratio R \n",
    "    focal_length = focal_ratio * diameter * 10**6  # microns\n",
    "    plate_scale = 206265 / focal_length  # arcseconds/mm\n",
    "    \n",
    "    # Need pixels to be p = theta /2 arcseconds (2 pixels per resolution for a source)\n",
    "    pixel_resolution = seeing_theta / 2\n",
    "    \n",
    "    # Calculate the pixel size in microns\n",
    "    pixel_size = pixel_resolution / plate_scale\n",
    "    \n",
    "    return pixel_size,pixel_resolution"
   ]
  },
  {
   "cell_type": "code",
   "execution_count": 19,
   "id": "189c409a",
   "metadata": {},
   "outputs": [
    {
     "name": "stdout",
     "output_type": "stream",
     "text": [
      "The optimal pixel size at prime focus is approx. 29.089 microns.\n"
     ]
    }
   ],
   "source": [
    "# Calculate the physical size in microns for ccd pixels to Nyquists sample a star image at prime focus\n",
    "# For f/3 prime focus \n",
    "focal_ratio = 3\n",
    "diameter = 8  # meters\n",
    "seeing_theta = 0.5  # arcseconds\n",
    "pixel_size1,resolution1 = get_pixel_size(focal_ratio, diameter, seeing_theta)\n",
    "print(f\"The optimal pixel size at prime focus is approx. {pixel_size1:.3f} microns.\")"
   ]
  },
  {
   "cell_type": "code",
   "execution_count": 20,
   "id": "9b818ca4",
   "metadata": {},
   "outputs": [
    {
     "name": "stdout",
     "output_type": "stream",
     "text": [
      "The optimal pixel size at Nasmyth focus is approx. 116.355 microns.\n"
     ]
    }
   ],
   "source": [
    "# Calculate the physical size in microns for ccd pixels to Nyquists sample a star image at Nasmyth focus\n",
    "# For f/12 prime focus \n",
    "focal_ratio = 12\n",
    "diameter = 8  # meters\n",
    "seeing_theta = 0.5  # arcseconds\n",
    "pixel_size2,resolution2= get_pixel_size(focal_ratio, diameter, seeing_theta)\n",
    "print(f\"The optimal pixel size at Nasmyth focus is approx. {pixel_size2:.3f} microns.\") \n",
    "#wow this this a lot larger!"
   ]
  },
  {
   "cell_type": "code",
   "execution_count": 32,
   "id": "7097ba56",
   "metadata": {},
   "outputs": [
    {
     "name": "stdout",
     "output_type": "stream",
     "text": [
      "The field of view = 2048px x 2048px\n",
      "The field of view at prime focus is 128.000 arcseconds or 2.133 arcminutes.\n",
      "The field of view at Nasmyth focus is 128.000 arcseconds or 2.133 arcminutes.\n"
     ]
    }
   ],
   "source": [
    "# Calculate the field of view (FOV) at prime focus and Nasmyth if the ccd has 2048^2 pix\n",
    "# FOV = 2048px* 2048px \n",
    "# FOV = 2048px * 0.25\"/pix x 2048px * 0.25\"/pix\n",
    "nxn_pixels = 2048 * 0.25 \n",
    "field_of_view_p = resolution1 * nxn_pixels  #arcseconds\n",
    "field_of_view_n = resolution2 * nxn_pixels #arcseconds\n",
    "print('The field of view = 2048px x 2048px')\n",
    "print(f\"The field of view at prime focus is {field_of_view_p:.3f} arcseconds or {field_of_view_p/60:.3f} arcminutes.\")\n",
    "print(f\"The field of view at Nasmyth focus is {field_of_view_n:.3f} arcseconds or {field_of_view_n/60:.3f} arcminutes.\") "
   ]
  },
  {
   "cell_type": "markdown",
   "id": "94fac874",
   "metadata": {},
   "source": [
    "4. A star has a B magnitude of B= 9.5. Convert this to erg s^-1 cm^-2 Angstrom-1, photons\n",
    "s^-1 cm^-2 Angstrom-1 and Jy. Write out each step of the conversion in detail, showing\n",
    "units, rather than simply adopting the handy conversions I have in the class notes"
   ]
  },
  {
   "cell_type": "markdown",
   "id": "091d4aba",
   "metadata": {},
   "source": [
    "### Conversion of B Magnitude to Various Units\n",
    "\n",
    "**Given Values:**\n",
    "<br>\n",
    "- B_Magnitude (B) = 9.5\n",
    "<br>\n",
    "- Flux Zero_Point in the B_Band (F0_B) = 6.41 x 10^-20 erg s^-1 cm^-2 Angstrom^-1\n",
    "<br>\n",
    "- Speed of Light (c) = 2.998 x 10^18 Angstrom s^-1\n",
    "<br>\n",
    "- Plancks Const (h) = 6.626 x 10^-27 erg s\n",
    "<br>\n",
    "- B_Band Effective Wavelength (λ_B) = 4350 Angstrom\n",
    "<br>\n",
    "\n",
    "- Hint:start with m2-m1=-2.5log(f2/f1) a magnitude relation where: \n",
    "    - m1 is the magnitude of a reference source (in this case, Vega with 0 magnitude).\n",
    "    <br>\n",
    "    - m2 is the magnitude of the star.\n",
    "    <br>\n",
    "    - f1 is the flux of the reference source (Vega) the unit we want (e.g., erg s^-1 cm^-2 Angstrom^-1 for the first conversion).\n",
    "    <br>\n",
    "    - f2 is the flux of the star in the same unit.\n",
    "<br>\n",
    "- We look up flux of VEGA in notes: f1 = 632 * 10^-11 erg * cm^-2 s^-1 Angstrom^-1, from Bessell et al. (1998)\n",
    "<br>\n",
    "- m2-mvega = -2.5log(f2/fvega)\n",
    "<br>\n",
    "- f2 = fvega10^(-0.4(m2))\n",
    "<br>\n",
    "\n",
    "To convert f2 to Jy, we rearrange this formula and solve for f2 in terms of Jy:\n",
    "<br>\n",
    "m2 - mvega = -2.5log(f2/fvega)\n",
    "<br>\n",
    "\n",
    "f2 = fvega * 10^(-0.4(m2-mvega)) \n",
    "<br>\n",
    "\n",
    "Now, plug in the values:\n",
    "<br>\n",
    "f2 = (632 * 10^-11 erg * cm^-2 s^-1 Angstrom^-1) * 10^-0.4(9.5-0)\n",
    "<br>\n",
    "f2 = (632 * 10^-11 erg * cm^-2 s^-1 Angstrom^-1) * 10^-3.8\n",
    "<br>\n",
    "Next, to convert from erg cm^-2 s^-1 Angstrom^-1 to Jy, use the conversion factor:\n",
    "<br>\n",
    "1Jy = 10^−23 erg s^-1 cm^-2 Hz^-1 \n",
    "<br>\n",
    "\n",
    "We divide f2 by 10^-23 to obtain the flux in Jy:\n",
    "<br>\n",
    "f2 (in Jy) =  (632 * 10^-11 erg * cm^-2 s^-1 Angstrom^-1) * 10^-3.8 / 10^-23 erg s^-1 cm^-2 Hz^-1 \n",
    "<br>\n",
    "Now, calculate the value of f2 in Jy: \n",
    "<br>\n",
    "f2 = 1.001 * 10^9 Jy.\n",
    "<br>\n",
    "So, the star has an approx. B magnitude of 9.5:\n",
    "Flux = 1.001 * 10^9 Jy.\n"
   ]
  },
  {
   "cell_type": "markdown",
   "id": "08ba5e99",
   "metadata": {},
   "source": [
    "5. A star has an AB magnitude of 20 at 5500 Å. Convert this into standard Johnson V\n",
    "magnitude and into photons s^-1 cm^-2 Angstrom^-1."
   ]
  },
  {
   "cell_type": "markdown",
   "id": "b5e0b255",
   "metadata": {},
   "source": [
    "To convert the AB magnitude of a star at 5500 Å into the standard Johnson V magnitude and into photons s^-1 cm^-2 Angstrom^-1, we'll use the provided AB magnitude definition and the following formula for converting AB magnitudes into flux densities:\n",
    "<br>\n",
    "ABmag = -2.5log10(fv/3.63 * 10^-20 erg * cm^-2 s^-1 Hz^-1)\n",
    "<br>\n",
    "Where:\n",
    "- ABmag is the AB magnitude of the star.\n",
    "- fv is the flux density in erg cm^-2 s^-1 Hz^-1. \n",
    "- Note that the AB system is defined such that a source with Fnu = 3.63 x 10-20 erg cm-2 s-1 Hz-1 has AB mag = 0 in every filter\n",
    "- in general ABmag = - 2.5 log10fv - 48.6.\n",
    "<br>\n",
    "\n",
    "To convert into standard Johnson V magnitude: \n",
    "<br>\n",
    "\n",
    "1. First, convert the AB magnitude into flux density using the AB magnitude definition:\n",
    "\n",
    "<br>\n",
    "ABmag = -2.5log10(fv/3.63 * 10^-20 erg cm^-2 s^-1 Hz^-1)\n",
    "<br>\n",
    "20 = -2.5log10(fv/3.63 * 10^-20)\n",
    "<br>\n",
    "fv = 3.63 * 10^-20 * 10^-8 = 3.63 * 10^-28 erg cm^-2 s^-1 Hz^-1 \n",
    "<br>\n",
    "The flux density of the star at 5500 Angstrom is 3.63 * 10^-28 erg cm^-2 s^-1 Hz^-1. \n",
    " \n",
    "2. Second, convert tflux density into photons s^-1 cm^-2 Angstrom^-1. \n",
    "    -To do this, we need to know the energy per photon at 5500 Angstrom:\n",
    "\n",
    "The energy per photon (Ephoton) can be calculated using the formula: \n",
    "\n",
    "Ephoton\t= hc / λ \n",
    "Where: \n",
    "- h is Planck's constant \n",
    "- c is the speed of light\n",
    "- λ is the wavelength in centimeters\n",
    "\n",
    "With Ephoton we convert the flux density from erg cm^-2 s^-1 Hz^-1 to photons s^-1 cm^-2 Angstrom^-1.\n",
    "\n",
    "Ephoton = hc / λ  = (6.626 * 10^-27 erg s)(3 * 10^10 cm/s) / 5500 Angstrom \n",
    "\n",
    "Ephoton = 3.61 * 10 ^-12 erg \n",
    "\n",
    "Now we convert the flux density from erg cm^-2 s^-1 Hz^-1 to photons s^-1 cm^-2 Angstrom^-1:\n",
    "<br>\n",
    "Flux_photons = fv / Ephoton = 3.63 * 10^-28 erg cm^-2 s^-1 Hz^-1 / 3.61 * 10 ^-12 erg\n",
    "<br>\n",
    "Flux_photons = 1.006 * 10^16 photons s^-1 cm-2 Angstrom^-1\n",
    "\n",
    "So, the flux of the star at 5500 Angstrom is approximately 1.006 * 10^16 photons s^-1 cm^-2 Angstrom^-1."
   ]
  },
  {
   "cell_type": "markdown",
   "id": "340bac62",
   "metadata": {},
   "source": [
    "6. An astronomical source A has surface brightness of 1 MJy per steradian at 5500 Angstroms.\n",
    "Convert this into erg s^-1 cm^-2 Hz^-1 arcsec^-2, into erg s^-1 cm^-2 Angstrom^-1 arcsec^-2 into\n",
    "mag arcsec^-2, and into photons s^-1 cm^-2 Angstrom^-1 arcsec^-2."
   ]
  },
  {
   "cell_type": "markdown",
   "id": "126dfc18",
   "metadata": {},
   "source": [
    "Approach 1\n",
    "<br>\n",
    "1. Convert to erg s^-1 cm^-2 Hz^-1 arcsec^-2:\n",
    "First find the flux density Fv in erg s^-1 cm^-2 Hz^-1 at 5500 Angstrom. We know that 1 MJy per steradian is equivalent to 10^6 Jy per steradian.\n",
    "<br>\n",
    "We know flux density relation:\n",
    "<br>\n",
    "Fv = S * c / lambda^2\n",
    "<br>\n",
    "Where:\n",
    "<br>\n",
    "- Surface Brightness S = 1 MJy per steradian\n",
    "- Wavelength lambda = 5500 Angstrom = 5500 * 10^-8 cm\n",
    "Fv = 10^6 Jy/steradian * 3 * 10^10 cm/s / (5500 * 10^-8 cm)^2\n",
    "Fv = 2.19 * 10^−17 erg/s/cm^2/Hz/arcsec^2\n",
    "<br>\n",
    "So, the flux density in erg s^-1 cm^-2 Hz^-1 arcsec^-2 is 2.19 * 10^−17 erg/s/cm^2/Hz/arcsec^2\n",
    "<br>\n",
    "2. Convert to erg s^-1 cm^-2 Angstrom^-1 arcsec^-2:\n",
    "<br>\n",
    "To convert from Hz to Angstrom: \n",
    "<br>\n",
    "1 Hz = c / λ\n",
    "F_lambda = (Fv * lambda^2) / c\n",
    "<br>\n",
    "Where F_lambda is the flux density in erg s^-1 cm^-2 Angstrom^-1 arcsec^-2\n",
    "<br>\n",
    "F_lambda = (2.19 * 10^−17 erg/s/cm^2/Hz/arcsec^2 * (5500 * 10^-8 cm)^2) / 3 * 10^10 cm/s \n",
    "F_lambda = 2.54 * 10^-8 erg/s/cm^2/Angstrom/arcsec^2 \n",
    "<br>\n",
    "The flux density in erg s^-1 cm^-2 Angstrom^-1 arcsec^-2 is 2.54 * 10^-8 \n",
    "<br>\n",
    "3. Convert to mag arcsec^-2: \n",
    "<br>\n",
    "To convert flux density to magnitude, you can use the formula:\n",
    "<br>\n",
    "m = -2.5log10(F_lambda/F_lambda,0) \n",
    "<br>\n",
    "Where:\n",
    "- m is the magnitude\n",
    "- F_lambda is the flux density in erg s^-1 cm^-2 Angstrom^-1 arcsec^-2\n",
    "- F_lambda,0 is a reference flux density\n",
    "<br>\n",
    "Assuming a reference flux density of F_lambda,0 = 3.63 * 10^-9 erg s^-1 cm^-2 Angstrom^-1 arcsec^-2 (which corresponds to a magnitude of 0), we calculate the magnitude:\n",
    "<br>\n",
    "m = -2.5log(2.54 * 10^-8/ 3.62 *10^-9) = 5.84\n",
    "<br>\n",
    "The magnitude in arcsec^-2 is approximately 5.84.\n",
    "4. Convert to photons s^-1 cm^-2 Angstrom^-1 arcsec^-2:\n",
    "<br>\n",
    "To convert from energy flux density (in erg s^-1 cm^-2 Angstrom^-1 arcsec^-2) to photon flux density, we use the formula:\n",
    "<br>\n",
    "Fphotons = F_lambda/Ephoton\n",
    "\n",
    "Where:\n",
    "- Fphotons is the photon flux density in photons s^-1 cm^-2 Angstrom^-1 arcsec^-2\n",
    "- Ephoton is the energy of a photon at the wavelength\n",
    "<br>\n",
    "The energy of a photon Ephoton is given by:\n",
    "<br>\n",
    "Ephoton\t= hc / lambda\n",
    "<br>\n",
    "Where:\n",
    "- h is Planck's constant 6.626 * 10^-27  erg s \n",
    "- c is the speed of light 3.00 * 10^10 cm/s \n",
    "- lambda is the wavelength in cm \n",
    "<br>\n",
    "Ephoton = (6.626 * 10^-27  erg s * 3.00 * 10^10 cm/s) / 5500 * 10^-8 cm = 3.61 * 10^-12 erg\n",
    "<br>\n",
    "Calculate Fphotons: \n",
    "<br>\n",
    "Fphotons = 2.54 * 10^-8 erg/s/cm^2/Angstrom/arcsec^2 / 3.61 * 10^-12 erg = 7.03 * 10^3 photons/s/cm^2/Angstrom/arcsec^2\n",
    "<br>\n",
    "The photon flux density in photons s^-1 cm^-2 Angstrom^-1 arcsec^-2 is 7.03 * 10^3 \n"
   ]
  },
  {
   "cell_type": "markdown",
   "id": "05e79d8f",
   "metadata": {},
   "source": [
    "7. Write a 1 page description (use a figure or two if it helps) of how a CCD works as if\n",
    "you were educating a family member. Be sure to include the fundamental physics of the\n",
    "detection process, and the process by which the ccd is read out."
   ]
  },
  {
   "cell_type": "markdown",
   "id": "922bc21d",
   "metadata": {},
   "source": [
    "Think of a CCD (Charge-Coupled Device) as the heart of a camera, much like the ones we use in our phone. It's like magic, but it all comes down to capturing light and transforming it into pictures. The core of a CCD is an array of tiny light-sensitive dots known as pixels. These pixels are special because they can detect even the tiniest particles of light, called photons. The entire process relies on a fundamental principle known as the photoelectric effect, which is somewhat like how sunlight warms your skin.\n",
    "\n",
    "Inside a CCD, they use a special material called silicon, carefully chosen because it easily releases electrons when hit by light. Think of each pixel as a miniature bucket, collecting every photon that enters its space. However, instead of filling up with water, these buckets gather electrons whenever light strikes them.\n",
    "\n",
    "Now, here's where the magic really happens. When you take a picture with your camera, it opens a kind of \"shutter\" to allow light in. While this shutter is open, the pixels work continously, collecting electrons from all the incoming photons. Because the pixels can collect light over long exposures, CCDs produce images of faint objects that we normally couldn't see with our eyes. This is because our eyes work similarally to taking to many photos rather than one long one.\n",
    "\n",
    "Once the picture-taking moment is over, the electrons collected in each pixel are sent off for processing. They're transformed into voltage, essentially electricity. Next, this electrical signal is amplified, similar to turning up the volume on your TV. Finally, it's converted into digital information using a device known as an analog-to-digital converter, which translates it into a language that your computer can read.\n",
    "\n",
    "This entire process unfolds for each pixel, one at a time, which is how we get those beautiful, detailed pictures. What's truly interesting is that because these pixels can accumulate light for extended periods, CCDs excel at capturing images of incredibly faint objects, such as distant stars or galaxies. It's almost like creating one long, extraordinarily detailed picture instead of taking numerous quick snapshots.\n",
    "\n",
    "In summary, CCDs are like the superheroes of cameras, capturing light and turning it into images that help us see things our eyes cannot. It's not just magic, it's the result of a combination of physics principles, like the photoelectric effect, combined with the readout process that transforms captured light into the beautiful pictures we associate with telescopes like HST. "
   ]
  },
  {
   "cell_type": "code",
   "execution_count": null,
   "id": "eebf88cd",
   "metadata": {},
   "outputs": [],
   "source": []
  }
 ],
 "metadata": {
  "kernelspec": {
   "display_name": "Python 3 (ipykernel)",
   "language": "python",
   "name": "python3"
  },
  "language_info": {
   "codemirror_mode": {
    "name": "ipython",
    "version": 3
   },
   "file_extension": ".py",
   "mimetype": "text/x-python",
   "name": "python",
   "nbconvert_exporter": "python",
   "pygments_lexer": "ipython3",
   "version": "3.9.12"
  }
 },
 "nbformat": 4,
 "nbformat_minor": 5
}
