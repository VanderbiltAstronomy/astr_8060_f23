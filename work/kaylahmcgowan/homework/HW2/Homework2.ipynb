{
 "cells": [
  {
   "cell_type": "code",
   "execution_count": 3,
   "id": "4494f638",
   "metadata": {},
   "outputs": [],
   "source": [
    "import math \n",
    "import numpy as np"
   ]
  },
  {
   "cell_type": "markdown",
   "id": "2795ef9c",
   "metadata": {},
   "source": [
    "1. You are observing the H $B$  emission line in a binary supermassive black hole candidate\n",
    "with a radial velocity of 5,000 km s^-1. For what redshifts will this line fall in the J,H,K\n",
    "windows?"
   ]
  },
  {
   "cell_type": "code",
   "execution_count": null,
   "id": "8e7aadc9",
   "metadata": {},
   "outputs": [],
   "source": []
  },
  {
   "cell_type": "markdown",
   "id": "0b25e25a",
   "metadata": {},
   "source": [
    "2. If a galaxy is 1 Mpc away and has a diameter of 30 kpc, how large is it in the sky?"
   ]
  },
  {
   "cell_type": "code",
   "execution_count": 10,
   "id": "1a7c2b41",
   "metadata": {},
   "outputs": [],
   "source": [
    "# Using small angle approximation we calculate the angular diameter of a galaxy in the sky\n",
    "#theta = (d / D) * (180/pi) degrees\n",
    "distance = 1 * 10**6 #distance to the galaxy in parsecs\n",
    "diameter = 30 * 10**3 #diameter of the galaxy in parsecs \n",
    "theta = (diameter/distance) * (180/np.pi) #angular size of the galaxy in the sky"
   ]
  },
  {
   "cell_type": "code",
   "execution_count": 11,
   "id": "23fd1fc8",
   "metadata": {},
   "outputs": [
    {
     "name": "stdout",
     "output_type": "stream",
     "text": [
      "The angular size of the galaxy is approximately 1.7189 degrees.\n"
     ]
    }
   ],
   "source": [
    "print(f\"The angular size of the galaxy is approximately {theta:.4f} degrees.\")"
   ]
  },
  {
   "cell_type": "markdown",
   "id": "c3ab4646",
   "metadata": {},
   "source": [
    "3. You are observing on a 8 m diameter optical telescope with an f/3 prime focus or an f/12\n",
    "Nasmyth focus. The typical seeing is 0.5 arcsec FWHM at this site. What physical size\n",
    "in microns should your ccd pixels have in order to Nyquist sample a star image at Prime\n",
    "focus? At Nasmyth? What is your resulting field of view in each case if the ccd has 20482\n",
    "pix."
   ]
  },
  {
   "cell_type": "code",
   "execution_count": 17,
   "id": "f0513f7e",
   "metadata": {},
   "outputs": [],
   "source": [
    "#f/3 prime focus or f/12 Nasmyth focus\n",
    "def get_pixel_size(focal_ratio, diameter, seeing_theta):\n",
    "    # Calculate the focal length in microns\n",
    "    # First we find platescale S using focal ratio R \n",
    "    focal_length = focal_ratio * diameter * 10**6  # microns\n",
    "    plate_scale = 206265 / focal_length  # arcseconds/mm\n",
    "    \n",
    "    # Need pixels to be p = theta /2 arcseconds\n",
    "    pixel_resolution = seeing_theta / 2\n",
    "    \n",
    "    # Calculate the pixel size in microns\n",
    "    pixel_size = pixel_resolution / plate_scale\n",
    "    \n",
    "    return pixel_size"
   ]
  },
  {
   "cell_type": "code",
   "execution_count": 19,
   "id": "189c409a",
   "metadata": {},
   "outputs": [
    {
     "name": "stdout",
     "output_type": "stream",
     "text": [
      "The optimal pixel size at prime focus is approx. 29.089 microns.\n"
     ]
    }
   ],
   "source": [
    "# Calculate the physical size in microns for ccd pixels to Nyquists sample a star image at prime focus\n",
    "# For f/3 prime focus \n",
    "focal_ratio = 3\n",
    "diameter = 8  # meters\n",
    "seeing_theta = 0.5  # arcseconds\n",
    "pixel_size = get_pixel_size(focal_ratio, diameter, seeing_theta)\n",
    "print(f\"The optimal pixel size at prime focus is approx. {pixel_size:.3f} microns.\")"
   ]
  },
  {
   "cell_type": "code",
   "execution_count": 20,
   "id": "9b818ca4",
   "metadata": {},
   "outputs": [
    {
     "name": "stdout",
     "output_type": "stream",
     "text": [
      "The optimal pixel size at prime focus is approx. 116.355 microns.\n"
     ]
    }
   ],
   "source": [
    "# Calculate the physical size in microns for ccd pixels to Nyquists sample a star image at Nasmyth focus\n",
    "# For f/3 prime focus \n",
    "focal_ratio = 12\n",
    "diameter = 8  # meters\n",
    "seeing_theta = 0.5  # arcseconds\n",
    "pixel_size = get_pixel_size(focal_ratio, diameter, seeing_theta)\n",
    "print(f\"The optimal pixel size at Nasmyth focus is approx. {pixel_size:.3f} microns.\") \n",
    "#wow this this a lot larger!"
   ]
  },
  {
   "cell_type": "code",
   "execution_count": 27,
   "id": "7097ba56",
   "metadata": {},
   "outputs": [
    {
     "name": "stdout",
     "output_type": "stream",
     "text": [
      "The field of view at prime focus and Nasmyth is 116.355 arcseconds or 1.939 arcminutes.\n"
     ]
    }
   ],
   "source": [
    "# Calculate the field of view (FOV) at prime focus and Nasmyth if the ccd has 20482 pix\n",
    "n_pixels = 20482\n",
    "field_of_view = pixel_resolution * n_pixels #arcseconds\n",
    "print(f\"The field of view at prime focus and Nasmyth is {pixel_size:.3f} arcseconds or {pixel_size/60:.3f} arcminutes.\") "
   ]
  },
  {
   "cell_type": "markdown",
   "id": "94fac874",
   "metadata": {},
   "source": [
    "4. A star has a B magnitude of B= 9.5. Convert this to erg s^-1 cm^-2 Angstrom-1, photons\n",
    "s^-1 cm^-2 Angstrom-1 and Jy. Write out each step of the conversion in detail, showing\n",
    "units, rather than simply adopting the handy conversions I have in the class notes"
   ]
  },
  {
   "cell_type": "markdown",
   "id": "091d4aba",
   "metadata": {},
   "source": [
    "### Conversion of B Magnitude to Various Units\n",
    "\n",
    "**Given Values:**\n",
    "- B_Magnitude (B) = 9.5\n",
    "- Flux Zero_Point in the B_Band (F0_B) = 6.41 x 10^-20 erg s^-1 cm^-2 Angstrom^-1\n",
    "- Speed of Light (c) = 2.998 x 10^18 Angstrom s^-1\n",
    "- Plancks Const (h) = 6.626 x 10^-27 erg s\n",
    "- B_Band Effective Wavelength (λ_B) = 4350 Angstrom\n",
    "\n",
    "**Convert B Magnitude to Flux in erg s^-1 cm^-2 Angstrom^-1**\n",
    "<br>\n",
    "We know Flux = F0_B * 10^(-0.4 * B)\n",
    "<br>\n",
    "Flux = 6.41 x 10^-20 * 10^(-0.4 * 9.5)\n",
    "<br>\n",
    "Flux = 1.0457 x 10^-18 erg s^-1 cm^-2 Angstrom^-1\n",
    "<br>\n",
    "\n",
    "**Convert Flux to Photons s^-1 cm^-2 Angstrom^-1**\n",
    "<br>\n",
    "Calculate the energy of a photon:\n",
    "<br>\n",
    "Energy of photon E ≈ (h * c) / λ_B\n",
    "<br>\n",
    "\n",
    "E = (6.626 x 10^-27 erg s * 2.998 x 10^18 Angstrom s^-1) / 4350 Angstrom\n",
    "<br>\n",
    "E = 4.555 x 10^-12 erg\n",
    "<br>\n",
    "Now, convert Flux to Photons:\n",
    "<br>\n",
    "Photons s^-1 cm^-2 Angstrom^-1 = Flux / Energy of photon\n",
    "<br>\n",
    "Photons s^-1 cm^-2 Angstrom^-1 = (1.0457 x 10^-18 erg s^-1 cm^-2 Angstrom^-1) / (4.555 x 10^-12 erg)\n",
    "<br>\n",
    "Photons s^-1 cm^-2 Angstrom^-1 = 2,295,081 photons s^-1 cm^-2 Angstrom^-1\n",
    "<br>\n",
    "**Convert Flux to Janskys (Jy)**\n",
    "<br>\n",
    "Conversion factor: 1 Jy = 10^-23 erg s^-1 cm^-2 Hz^-1\n",
    "<br>\n",
    "Calculate the frequency ν: \n",
    "<br>\n",
    "ν = c / λ_B\n",
    "<br>\n",
    "ν = (2.998 x 10^18 Angstrom s^-1) / 4350 Angstrom\n",
    "<br>\n",
    "ν = 6.892 x 10^14 Hz\n",
    "<br>\n",
    "\n",
    "Now, convert Flux to Jy: \n",
    "<br>\n",
    "Flux (Jy) ≈ Flux * 10^-23 / ν (Hz)\n",
    "<br>\n",
    "Flux (Jy) = (1.0457 x 10^-18 erg s^-1 cm^-2 Angstrom^-1) * 10^-23 / (6.892 x 10^14 Hz)\n",
    "<br>\n",
    "Flux (Jy) = 1.5185 x 10^-4 Jy\n",
    "<br>\n",
    "\n",
    "So, the star has an approx. B magnitude of 9.5:\n",
    "- Flux = 1.0457 x 10^-18 erg s^-1 cm^-2 Angstrom^-1\n",
    "- Photons s^-1 cm^-2 Angstrom^-1 =2,295,081 photons s^-1 cm^-2 Angstrom^-1\n",
    "- Flux = 1.5185 x 10^-4 Jy\n"
   ]
  },
  {
   "cell_type": "markdown",
   "id": "08ba5e99",
   "metadata": {},
   "source": [
    "5. A star has an AB magnitude of 20 at 5500 Å. Convert this into standard Johnson V\n",
    "magnitude and into photons s^-1 cm^-2 Angstrom^-1."
   ]
  },
  {
   "cell_type": "code",
   "execution_count": null,
   "id": "5ec90a1b",
   "metadata": {},
   "outputs": [],
   "source": []
  },
  {
   "cell_type": "markdown",
   "id": "340bac62",
   "metadata": {},
   "source": [
    "6. An astronomical source A has surface brightness of 1 MJy per steradian at 5500 Angstroms.\n",
    "Convert this into erg s􀀀1 cm􀀀2 Hz􀀀1 arcsec􀀀2, into erg s􀀀1 cm􀀀2 Angstrom􀀀1 arcsec􀀀2 into\n",
    "mag arcsec􀀀2, and into photons s􀀀1 cm􀀀2 Angstrom􀀀1 arcsec􀀀2."
   ]
  },
  {
   "cell_type": "code",
   "execution_count": null,
   "id": "d37aaa50",
   "metadata": {},
   "outputs": [],
   "source": []
  },
  {
   "cell_type": "markdown",
   "id": "05e79d8f",
   "metadata": {},
   "source": [
    "7. Write a 1 page description (use a figure or two if it helps) of how a CCD works as if\n",
    "you were educating a family member. Be sure to include the fundamental physics of the\n",
    "detection process, and the process by which the ccd is read out."
   ]
  },
  {
   "cell_type": "code",
   "execution_count": null,
   "id": "200f62ea",
   "metadata": {},
   "outputs": [],
   "source": []
  }
 ],
 "metadata": {
  "kernelspec": {
   "display_name": "Python 3 (ipykernel)",
   "language": "python",
   "name": "python3"
  },
  "language_info": {
   "codemirror_mode": {
    "name": "ipython",
    "version": 3
   },
   "file_extension": ".py",
   "mimetype": "text/x-python",
   "name": "python",
   "nbconvert_exporter": "python",
   "pygments_lexer": "ipython3",
   "version": "3.9.12"
  }
 },
 "nbformat": 4,
 "nbformat_minor": 5
}
