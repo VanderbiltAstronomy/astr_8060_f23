{
 "cells": [
  {
   "cell_type": "markdown",
   "id": "434c9697",
   "metadata": {},
   "source": [
    "Examine your individual flat field images for the V filter. Are there significant artifacts?\n",
    "How might we combine the frames into a master flat field frame to get rid of these\n",
    "artifacts? Compare the average light levels in your V flats and say how this will impact\n",
    "your combine strategy (hint: you will want to scale your flat field images to a common\n",
    "level, and then combine using some weighting to account for the fact that some flats have\n",
    "higher signal than others–it world be inappropriate to give them all equal weight). After\n",
    "scaling to a common mean, discuss the advantages and disadvantages of making a master\n",
    "flat field image from:\n",
    "• A straight average of all V flat frames\n",
    "• A straight median of all V flat frames\n",
    "• An average where outlier pixels are rejected if they are more than 3  from the mean\n",
    "• An average where outlier pixels are rejected and the weighted mean is obtained by\n",
    "weighting each image by the mean counts in the original image. This way, bright\n",
    "flats field exposures with higher count rates are given more weight than flats with\n",
    "low light levels.\n",
    "Which of these strategies, if any, is the best? Or is some combination the right approach?\n",
    "Show plots and metrics like RMS to defend your conclusions."
   ]
  },
  {
   "cell_type": "code",
   "execution_count": 1,
   "id": "fc65be32",
   "metadata": {},
   "outputs": [
    {
     "ename": "NameError",
     "evalue": "name 'fits' is not defined",
     "output_type": "error",
     "traceback": [
      "\u001b[0;31m---------------------------------------------------------------------------\u001b[0m",
      "\u001b[0;31mNameError\u001b[0m                                 Traceback (most recent call last)",
      "Input \u001b[0;32mIn [1]\u001b[0m, in \u001b[0;36m<cell line: 2>\u001b[0;34m()\u001b[0m\n\u001b[1;32m      1\u001b[0m \u001b[38;5;66;03m# Flat Field images for V filter (a043-a049)\u001b[39;00m\n\u001b[0;32m----> 2\u001b[0m hdu \u001b[38;5;241m=\u001b[39m \u001b[43mfits\u001b[49m\u001b[38;5;241m.\u001b[39mopen(data_dir \u001b[38;5;241m+\u001b[39m \u001b[38;5;124m'\u001b[39m\u001b[38;5;124ma043.fits\u001b[39m\u001b[38;5;124m'\u001b[39m)\n\u001b[1;32m      3\u001b[0m img \u001b[38;5;241m=\u001b[39m hdu[\u001b[38;5;241m0\u001b[39m]\u001b[38;5;241m.\u001b[39mdata\n\u001b[1;32m      4\u001b[0m np\u001b[38;5;241m.\u001b[39mshape(img)\n",
      "\u001b[0;31mNameError\u001b[0m: name 'fits' is not defined"
     ]
    }
   ],
   "source": [
    "# Flat Field images for V filter (a043-a049)\n",
    "hdu = fits.open(data_dir + 'a043.fits')\n",
    "img = hdu[0].data\n",
    "np.shape(img)\n",
    "#section = img[:,50:2048]\n",
    "show_image(img)# before subtraction \n",
    "show_image(section)# after subtraction"
   ]
  },
  {
   "cell_type": "code",
   "execution_count": null,
   "id": "d1b0562f",
   "metadata": {},
   "outputs": [],
   "source": []
  }
 ],
 "metadata": {
  "kernelspec": {
   "display_name": "Python 3 (ipykernel)",
   "language": "python",
   "name": "python3"
  },
  "language_info": {
   "codemirror_mode": {
    "name": "ipython",
    "version": 3
   },
   "file_extension": ".py",
   "mimetype": "text/x-python",
   "name": "python",
   "nbconvert_exporter": "python",
   "pygments_lexer": "ipython3",
   "version": "3.9.12"
  }
 },
 "nbformat": 4,
 "nbformat_minor": 5
}
