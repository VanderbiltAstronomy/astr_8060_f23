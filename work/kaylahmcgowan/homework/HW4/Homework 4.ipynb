{
 "cells": [
  {
   "cell_type": "markdown",
   "id": "dd9dda1b",
   "metadata": {},
   "source": [
    "## Learning goals: Learn to quantitatively assess digital images using Python:\n",
    "Learn to quantitatively assess digital images using Python, including making\n",
    "line and column plots, computing RMS from selected regions; read and write FITS files in\n",
    "Python; compute gain and readnoise from data; remove bias levels by fitting overscan regions\n",
    "and trim images."
   ]
  },
  {
   "cell_type": "code",
   "execution_count": 2,
   "id": "fe3073fd",
   "metadata": {},
   "outputs": [],
   "source": [
    "#import packages \n",
    "import numpy as np\n",
    "from astropy.io import fits\n",
    "from matplotlib import pyplot as plt\n",
    "from matplotlib import rc\n",
    "import matplotlib as mpl\n",
    "%matplotlib inline\n",
    "from astropy.visualization import hist\n",
    "from ccdproc import ImageFileCollection\n",
    "import ccdproc as ccdp\n",
    "from astropy.modeling import fitting\n",
    "from astropy.modeling.models import Polynomial1D,Chebyshev1D,Legendre1D,Hermite1D\n",
    "from astropy.nddata import CCDData\n",
    "import glob\n",
    "from datetime import datetime\n",
    "from matplotlib.ticker import (MultipleLocator, AutoMinorLocator)\n",
    "import glob\n",
    "import sys\n",
    "path_dir = '/Users/mcgowkb1/ASTR8060/astr_8060_f23/software/ccd-reduction-and-photometry-guide/ccd-reduction-and-photometry-guide/notebooks/'\n",
    "sys.path.insert(0,path_dir)\n",
    "from convenience_functions import show_image"
   ]
  },
  {
   "cell_type": "markdown",
   "id": "5892bb27",
   "metadata": {},
   "source": [
    "# Examining Images in DS9\n",
    "Examine the images in DS9 to become familiar with where the overscan region of the\n",
    "chip is (on both sides of the data section; make note of where this is). Examples of bias images, dark images, and flats: https://astrobasics.de/en/basics/bias-flats-darks-darkflats/"
   ]
  },
  {
   "cell_type": "markdown",
   "id": "b5ed6002",
   "metadata": {},
   "source": [
    "- a005-010 are SkyFlats\n",
    "- a093-111 are Bias \n",
    "- d001-015 are Darks\n",
    "    - Flat a005 overscan 43250-44300\n",
    "    - Flat a010 overscan 28300-29200\n",
    "    - Bias a093 overscan 660-680\n",
    "    - Bias a111 overscan 640-680\n",
    "    - Dark d001 overscan 640-680\n",
    "    - Dark d015 overscan 650-670"
   ]
  },
  {
   "cell_type": "markdown",
   "id": "3220b2b8",
   "metadata": {},
   "source": [
    "# Opening Images with Python"
   ]
  },
  {
   "cell_type": "code",
   "execution_count": 3,
   "id": "58cb5d30",
   "metadata": {},
   "outputs": [],
   "source": [
    "# Data Directory for Images folder\n",
    "\n",
    "data_dir = '/Users/mcgowkb1/ASTR8060/Imaging/' #raw data \n",
    "reduced_dir = '/Users/mcgowkb1/ASTR8060/astr_8060_f23/reduced_data/10102023/' #processed data"
   ]
  },
  {
   "cell_type": "code",
   "execution_count": 4,
   "id": "1f5f0b06",
   "metadata": {},
   "outputs": [
    {
     "name": "stdout",
     "output_type": "stream",
     "text": [
      "['a005.fits', 'a006.fits', 'a007.fits', 'a008.fits', 'a009.fits', 'a010.fits']\n",
      "['a005.fits', 'a006.fits', 'a007.fits', 'a008.fits', 'a009.fits', 'a010.fits']\n"
     ]
    }
   ],
   "source": [
    "# Create file/image IDs for each type\n",
    "\n",
    "# ID for flats a005-010\n",
    "flat_id = ['a'+ str(num).zfill(3) + '.fits' for num in np.arange(5,11)]\n",
    "print(flat_id)\n",
    "\n",
    "# ID for flats a005-010\n",
    "flat_id = ['a'+ str(num).zfill(3) + '.fits' for num in np.arange(5,11)]\n",
    "print(flat_id)"
   ]
  },
  {
   "cell_type": "code",
   "execution_count": 5,
   "id": "b6fca0cc",
   "metadata": {},
   "outputs": [
    {
     "ename": "SyntaxError",
     "evalue": "invalid syntax (704761466.py, line 4)",
     "output_type": "error",
     "traceback": [
      "\u001b[0;36m  Cell \u001b[0;32mIn[5], line 4\u001b[0;36m\u001b[0m\n\u001b[0;31m    Yhandy code snippet for plotting:\u001b[0m\n\u001b[0m           ^\u001b[0m\n\u001b[0;31mSyntaxError\u001b[0m\u001b[0;31m:\u001b[0m invalid syntax\n"
     ]
    }
   ],
   "source": [
    "hdu = fits.open('filename')\n",
    "hdr = hdu[0].header\n",
    "img = hdu[0].data\n",
    "\n",
    "fig = plt.subplots(1,1,figsize=(4,4))\n",
    "plt.imshow(img, vmin=min_level, vmax=max_level)\n",
    "plt.xticks([])\n",
    "plt.yticks([])\n",
    "plt.title('Title')\n",
    "plt.grid(False)\n",
    "plt.show()"
   ]
  },
  {
   "cell_type": "code",
   "execution_count": null,
   "id": "8288035e",
   "metadata": {},
   "outputs": [],
   "source": []
  },
  {
   "cell_type": "markdown",
   "id": "26b4fd8f",
   "metadata": {},
   "source": [
    "# Accessing the RMS and Mean of an image\n",
    "Assess the RMS and mean levels of an image. Use Python to practice plotting lines and\n",
    "columns of data from one of the bias images. Use Python to compute the mean and RMS\n",
    "of a region near the center of the chip."
   ]
  },
  {
   "cell_type": "code",
   "execution_count": null,
   "id": "bddf47ad",
   "metadata": {},
   "outputs": [],
   "source": []
  }
 ],
 "metadata": {
  "kernelspec": {
   "display_name": "Python 3 (ipykernel)",
   "language": "python",
   "name": "python3"
  },
  "language_info": {
   "codemirror_mode": {
    "name": "ipython",
    "version": 3
   },
   "file_extension": ".py",
   "mimetype": "text/x-python",
   "name": "python",
   "nbconvert_exporter": "python",
   "pygments_lexer": "ipython3",
   "version": "3.8.18"
  }
 },
 "nbformat": 4,
 "nbformat_minor": 5
}
