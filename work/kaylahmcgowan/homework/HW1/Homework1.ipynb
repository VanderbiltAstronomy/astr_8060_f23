{
 "cells": [
  {
   "cell_type": "markdown",
   "id": "08b65ba1",
   "metadata": {},
   "source": [
    "1. Compute starting from their RA and Dec. the angular distance in arcseconds between\n",
    "Alcor and Mizar starting from their Right Ascension and Declination. Also compute their\n",
    "position angle, usually defined east of north (make the assumption of plane geometry,\n",
    "given that their separation is small, so no need to do spherical trigonometry)."
   ]
  },
  {
   "cell_type": "code",
   "execution_count": 26,
   "id": "d9e40d01",
   "metadata": {},
   "outputs": [],
   "source": [
    "import math \n",
    "import numpy as np \n",
    "import matplotlib.pyplot as plt\n",
    "from scipy.optimize import fsolve"
   ]
  },
  {
   "cell_type": "code",
   "execution_count": 2,
   "id": "61e0dade",
   "metadata": {},
   "outputs": [],
   "source": [
    "# angular distance between Alcor and Mizar using RA and Dec. \n",
    "# Alcor: RA 13h 25m 14s | Dec +54° 59′ 17″\n",
    "# Mizar: RA 13h 23m 56s | Dec +54° 55′ 31″"
   ]
  },
  {
   "cell_type": "code",
   "execution_count": 3,
   "id": "37dffe89",
   "metadata": {},
   "outputs": [],
   "source": [
    "hour = 0 \n",
    "mins = 0\n",
    "secs = 0\n",
    "deg = 0\n",
    "arcmin = 0 \n",
    "arcsec = 0 \n",
    "#automated converter from HMS to DEG \n",
    "RA = 15 * (hour + mins * 1/60 + secs * 1/60 * 1/60)\n",
    "DEC = deg + arcmin * 1/60 + arcsec * 1/60 * 1/60"
   ]
  },
  {
   "cell_type": "code",
   "execution_count": 4,
   "id": "e4430432",
   "metadata": {},
   "outputs": [],
   "source": [
    "# convert equitorial from HMS to DEG\n",
    "# remember 360deg/24hr = 15deg/hr of RA\n",
    "alcor_ra = 15 * (13 + 25 * 1//60 + 14 * 1//60 * 1//60)\n",
    "alcor_dec = 54 + 59 * 1//60 + 17 * 1//60 *1//60\n",
    "mizar_ra = 15 * (13 + 23 * 1//60 + 56 * 1//60 * 1//60)\n",
    "mizar_dec = 54 + 55 * 1//60 + 31 * 1//60 *1//60"
   ]
  },
  {
   "cell_type": "code",
   "execution_count": 5,
   "id": "1c21b14a",
   "metadata": {},
   "outputs": [
    {
     "name": "stdout",
     "output_type": "stream",
     "text": [
      "Alcor RA 195 Degrees\n",
      "Alcor Dec 54 Degrees\n",
      "Mizar RA 195 Degrees\n",
      "Mizar Dec 54 Degrees\n"
     ]
    }
   ],
   "source": [
    "print('Alcor RA', alcor_ra,'Degrees')\n",
    "print('Alcor Dec', alcor_dec,'Degrees')\n",
    "print('Mizar RA', mizar_ra,'Degrees')\n",
    "print('Mizar Dec', mizar_dec,'Degrees')"
   ]
  },
  {
   "cell_type": "code",
   "execution_count": 6,
   "id": "437758b3",
   "metadata": {},
   "outputs": [
    {
     "ename": "NameError",
     "evalue": "name 'd_avg' is not defined",
     "output_type": "error",
     "traceback": [
      "\u001b[0;31m---------------------------------------------------------------------------\u001b[0m",
      "\u001b[0;31mNameError\u001b[0m                                 Traceback (most recent call last)",
      "Input \u001b[0;32mIn [6]\u001b[0m, in \u001b[0;36m<cell line: 4>\u001b[0;34m()\u001b[0m\n\u001b[1;32m      2\u001b[0m delta_d \u001b[38;5;241m=\u001b[39m alcor_dec \u001b[38;5;241m-\u001b[39m mizar_dec \u001b[38;5;66;03m#dec\u001b[39;00m\n\u001b[1;32m      3\u001b[0m delta_a \u001b[38;5;241m=\u001b[39m alcor_ra \u001b[38;5;241m-\u001b[39m mizar_ra \n\u001b[0;32m----> 4\u001b[0m theta \u001b[38;5;241m=\u001b[39m (delta_d)\u001b[38;5;241m*\u001b[39m\u001b[38;5;241m*\u001b[39m\u001b[38;5;241m2\u001b[39m \u001b[38;5;241m+\u001b[39m (delta_a)\u001b[38;5;241m*\u001b[39m\u001b[38;5;241m*\u001b[39m\u001b[38;5;241m2\u001b[39m \u001b[38;5;241m*\u001b[39m np\u001b[38;5;241m.\u001b[39mcos(\u001b[43md_avg\u001b[49m)\u001b[38;5;241m*\u001b[39m\u001b[38;5;241m*\u001b[39m\u001b[38;5;241m2\u001b[39m\n",
      "\u001b[0;31mNameError\u001b[0m: name 'd_avg' is not defined"
     ]
    }
   ],
   "source": [
    "# angular separation/distance in degrees \n",
    "delta_d = alcor_dec - mizar_dec #dec\n",
    "delta_a = alcor_ra - mizar_ra \n",
    "theta = (delta_d)**2 + (delta_a)**2 * np.cos(d_avg)**2"
   ]
  },
  {
   "cell_type": "code",
   "execution_count": 7,
   "id": "75bbddf5",
   "metadata": {},
   "outputs": [],
   "source": [
    "# angular distance in arcsec/s \n",
    "del_a = ((25 * 60) + 14) - ((23 * 60) + 56)\n",
    "del_d = ((59 * 60) + 17) - ((55 * 60) + 31)\n",
    "d_avg = ((54 * 3600 + 59 * 60 + 17 * 60 * 60) + (54 * 3600 + 55 * 60 + 31 * 60 * 60))//2"
   ]
  },
  {
   "cell_type": "code",
   "execution_count": 8,
   "id": "891bb01f",
   "metadata": {},
   "outputs": [
    {
     "name": "stdout",
     "output_type": "stream",
     "text": [
      "226 arceconds\n",
      "78 arcseconds\n",
      "284220 arcseconds\n"
     ]
    }
   ],
   "source": [
    "print(del_d,'arceconds')\n",
    "print(del_a,'arcseconds')\n",
    "print(d_avg,'arcseconds')"
   ]
  },
  {
   "cell_type": "code",
   "execution_count": 10,
   "id": "76c2b487",
   "metadata": {},
   "outputs": [],
   "source": [
    "theta = (del_d)**2 + (del_a)**2 * np.cos(d_avg)**2"
   ]
  },
  {
   "cell_type": "code",
   "execution_count": 11,
   "id": "f6a16a09",
   "metadata": {},
   "outputs": [
    {
     "name": "stdout",
     "output_type": "stream",
     "text": [
      "57083.14747919183 Angular Separation between Mizar and Alcor in arcseconds\n",
      "951.0 Angular Separation between Mizar and Alcor in arcminutes\n"
     ]
    }
   ],
   "source": [
    "print(theta, \"Angular Separation between Mizar and Alcor in arcseconds\")\n",
    "print(theta//60, \"Angular Separation between Mizar and Alcor in arcminutes\" )"
   ]
  },
  {
   "cell_type": "code",
   "execution_count": 12,
   "id": "3831c9ca",
   "metadata": {},
   "outputs": [],
   "source": [
    "# position angle of Alcor & Mizar (angle east of north onto the sky)\n",
    "# example: if you measured an angle of separation of 30 degrees between two stars \n",
    "# and the line connecting them points 45 degrees CW from north,\n",
    "# the position angle of the second star relative to the first star is 45 degrees - 30 degrees = 15 degrees \n",
    "# CW from north"
   ]
  },
  {
   "cell_type": "code",
   "execution_count": 14,
   "id": "bea22b3b",
   "metadata": {},
   "outputs": [
    {
     "name": "stdout",
     "output_type": "stream",
     "text": [
      "302916.85252080817 position angle of Alcor in arcseconds\n"
     ]
    }
   ],
   "source": [
    "# position angle of Alcor (CW from north)\n",
    "PA1 = 360000 - theta\n",
    "print(PA1, 'position angle of Alcor in arcseconds')"
   ]
  },
  {
   "cell_type": "code",
   "execution_count": 13,
   "id": "86e04c35",
   "metadata": {},
   "outputs": [
    {
     "name": "stdout",
     "output_type": "stream",
     "text": [
      "237083.14747919183 position angle of Mizar in arcseconds\n"
     ]
    }
   ],
   "source": [
    "# position angle of Mizar\n",
    "# using the same angular separation value of 57,083 arcseconds but measure in the opposite direction\n",
    "PA2 = theta + 180000\n",
    "print(PA2,'position angle of Mizar in arcseconds')"
   ]
  },
  {
   "cell_type": "markdown",
   "id": "39739c78",
   "metadata": {},
   "source": [
    "2.Derive the law of cosines (Chromey equation 3.1) and then rewrite it in terms of RA\n",
    "and declination. Use this to determine the separations for which the assumption of plane\n",
    "geometry is valid. To do this, make a plot comparing separations calculated with the law\n",
    "of cosines and the plane geometry assumption and see where they diverge from one-to-one."
   ]
  },
  {
   "cell_type": "markdown",
   "id": "ac3a6211",
   "metadata": {},
   "source": [
    "We use LOC to calculate angular separations between two points on a sphere, such as celestial objects in the sky. It relates the lengths of the sides of a spherical triangle to the cosine of one of its angles.\n",
    "\n",
    "Consider a spherical triangle with vertices A, B, and C, where sides a, b, and c are the arcs of great circles connecting these points. Let γ be the angular separation between points A and B, α the angular separation between points B and C, and β the angular separation between points C and A. The Law of Cosines for spherical triangles states:\n",
    "\n",
    "cos(γ) = cos(α) * cos(β) + sin(α) * sin(β) * cos(c)\n",
    "\n",
    "Now we rewrite the LOC in terms of RA and Dec using spherical trigonometry relations:\n",
    "\n",
    "1. The angular separation (γ) between two celestial objects on the celestial sphere is equal to the great circle arc length (c) between them.\n",
    "2. The Declination (Dec) of a celestial object is the angle between a line from the North Celestial Pole (NCP) to the object and the plane of the celestial equator.\n",
    "3. The Right Ascension (RA) of a celestial object is the angle measured eastward along the celestial equator from the vernal equinox to the object.\n",
    "\n",
    "With these definitions, we can rewrite the LOC in terms of RA and Dec. Let A and B be two celestial objects with coordinates (RA_A, Dec_A) and (RA_B, Dec_B).\n",
    "\n",
    "γ = c  (angular separation)\n",
    "α = 90° - Dec_A \n",
    "β = 90° - Dec_B \n",
    "\n",
    "Using these substitutions and knowing that c is the angular separation between A and B, we can rewrite LOC:\n",
    "\n",
    "cos(c) = cos(90° - Dec_A) * cos(90° - Dec_B) + sin(90° - Dec_A) * sin(90° - Dec_B) * cos(RA_A - RA_B)\n",
    "\n",
    "cos(c) = sin(Dec_A) * sin(Dec_B) + cos(Dec_A) * cos(Dec_B) * cos(RA_A - RA_B)\n",
    "\n",
    "Giving LOC expressed in terms of RA & Dec for celestial objects. I.E.: can be used to find the angular separation  between two objects on a sphere sphere using RA and Dec coordinates."
   ]
  },
  {
   "cell_type": "code",
   "execution_count": 18,
   "id": "a5ded0c8",
   "metadata": {},
   "outputs": [
    {
     "name": "stdout",
     "output_type": "stream",
     "text": [
      "Angular Separation between Star A and Star B: 16.847753574824996 degrees\n"
     ]
    }
   ],
   "source": [
    "# Function calculates the angular separation (degrees) between two celestial objects\n",
    "def angular_separation(ra1, dec1, ra2, dec2):\n",
    "    # Convert degrees to radians\n",
    "    ra1_rad = np.radians(ra1)\n",
    "    dec1_rad = np.radians(dec1)\n",
    "    ra2_rad = np.radians(ra2)\n",
    "    dec2_rad = np.radians(dec2)\n",
    "\n",
    "    # Calculate the angular separation using the LOC\n",
    "    cos_c = np.sin(dec1_rad) * np.sin(dec2_rad) + np.cos(dec1_rad) * np.cos(dec2_rad) * np.cos(ra1_rad - ra2_rad)\n",
    "\n",
    "    # Calculate the angular separation in degrees\n",
    "    c_rad = np.arccos(cos_c)\n",
    "    c_deg = np.degrees(c_rad)\n",
    "\n",
    "    return c_deg\n",
    "\n",
    "# Example:\n",
    "RA_A = 45.0  # RA of Star A in degrees\n",
    "Dec_A = 30.0  # Dec of Star A in degrees\n",
    "RA_B = 60.0  # RA of Star B in degrees\n",
    "Dec_B = 20.0  # Dec of Star B in degrees\n",
    "\n",
    "angular_sep = angular_separation(RA_A, Dec_A, RA_B, Dec_B)\n",
    "print(f\"Angular Separation between Star A and Star B: {angular_sep} degrees\")"
   ]
  },
  {
   "cell_type": "code",
   "execution_count": 30,
   "id": "26b274df",
   "metadata": {},
   "outputs": [
    {
     "data": {
      "image/png": "[encoded data removed]",
      "text/plain": [
       "<Figure size 576x432 with 1 Axes>"
      ]
     },
     "metadata": {
      "needs_background": "light"
     },
     "output_type": "display_data"
    }
   ],
   "source": [
    "# To determine the separations for which the assumption of plane geometry is valid\n",
    "# Create range of celestial object separations (in degrees)\n",
    "separations_deg = np.linspace(0, 180, 1000)\n",
    "\n",
    "# Calculate angular sep using the plane geometry assumption\n",
    "separations_plane_deg = separations_deg\n",
    "\n",
    "# Calculate angular sep using the LOC\n",
    "ra1 = 45.0  # RA Star A in degrees\n",
    "dec1 = 30.0  # Dec Star A in degrees\n",
    "ra2 = 60.0  # RA Star B in degrees\n",
    "dec2 = 20.0  # Dec Star B in degrees\n",
    "angular_separations_cosines = [angular_separation(ra1, dec1, ra2, dec2) for d in separations_deg]\n",
    "\n",
    "# Plotting the two methods\n",
    "plt.figure(figsize=(8, 6))\n",
    "plt.plot(separations_deg, angular_separations_cosines, label='Law of Cosines', color='dodgerblue')\n",
    "plt.plot(separations_deg, separations_plane_deg, label='Plane Geometry', color='firebrick', linestyle='--')\n",
    "plt.xlabel('Angular Separation (Degrees)')\n",
    "plt.ylabel('Angular Separation (Degrees)')\n",
    "plt.title('Comparison of Angular Separations')\n",
    "plt.legend()\n",
    "plt.grid(True)\n",
    "plt.show()"
   ]
  },
  {
   "cell_type": "code",
   "execution_count": 31,
   "id": "8d9fb64b",
   "metadata": {},
   "outputs": [
    {
     "data": {
      "image/png": "[encoded data removed]",
      "text/plain": [
       "<Figure size 576x432 with 1 Axes>"
      ]
     },
     "metadata": {
      "needs_background": "light"
     },
     "output_type": "display_data"
    },
    {
     "name": "stdout",
     "output_type": "stream",
     "text": [
      "Intersection Point: 16.847753574824996 degrees\n"
     ]
    }
   ],
   "source": [
    "# Function calculates the intersection of the two angular separation functions\n",
    "def intersection_function(separation):\n",
    "    return angular_separation(ra1, dec1, ra2, dec2) - separation\n",
    "\n",
    "# Init values for RA and Dec of stars A and B\n",
    "ra1 = 45.0  # RA Star A in degrees\n",
    "dec1 = 30.0  # Dec Star A in degrees\n",
    "ra2 = 60.0  # RA Star B in degrees\n",
    "dec2 = 20.0  # Dec Star B in degrees\n",
    "\n",
    "# Create a range of celestial object separations (in deg)\n",
    "separations_deg = np.linspace(0, 180, 1000)\n",
    "\n",
    "# Calculate angular separations using the LOC \n",
    "angular_separations_cosines = [angular_separation(ra1, dec1, ra2, dec2) for d in separations_deg]\n",
    "\n",
    "# Find the point of intersection by solving for the separation value\n",
    "# We use fsolve to find the root (zero) of the intersection_function\n",
    "# This gives the separation value where the two functions intersect\n",
    "intersection_point = fsolve(intersection_function, 0)\n",
    "\n",
    "# Plot\n",
    "plt.figure(figsize=(8, 6))\n",
    "plt.plot(separations_deg, angular_separations_cosines, label='Law of Cosines', color='dodgerblue')\n",
    "plt.plot(separations_deg, separations_plane_deg, label='Plane Geometry', color='firebrick', linestyle='--')\n",
    "plt.plot(intersection_point, angular_separation(ra1, dec1, ra2, dec2), 'ro', label='Intersection Point')\n",
    "plt.xlabel('Angular Separation (Degrees)')\n",
    "plt.ylabel('Angular Separation (Degrees)')\n",
    "plt.title('Comparison of Angular Separations and Intersection Point')\n",
    "plt.legend()\n",
    "plt.grid(True)\n",
    "plt.show()\n",
    "\n",
    "\n",
    "print(f\"Intersection Point: {intersection_point[0]} degrees\")\n"
   ]
  },
  {
   "cell_type": "markdown",
   "id": "997dce8d",
   "metadata": {},
   "source": [
    "3. Using a tool such as the NASA/IPAC Extragalactic Database (NED) Coordinate Calculator,\n",
    "find the RA and DEC of:\n",
    "• Galactic Center\n",
    "• Galactic anti-center\n",
    "• Galactic North Pole\n",
    "• Galactic South Pole\n",
    "• The location(s) where the ecliptic crosses the Galactic Plane\n",
    "Commit these, roughly, to memory."
   ]
  },
  {
   "cell_type": "markdown",
   "id": "625284dc",
   "metadata": {},
   "source": [
    "Galactic Center:\n",
    "<br>\n",
    "RA: 17h 45m 36.0s \n",
    "DEC: -28° 55' 58.8\"\n",
    "<br>\n",
    "Galactic Anti_Center:\n",
    "<br>\n",
    "RA: 6h 17m 0.0s\n",
    "DEC: +22d 30m 0.0s\n",
    "<br>\n",
    "Galactic North Pole:\n",
    "<br>\n",
    "RA: 12h 51m 26.00s\n",
    "DEC: +27d 7m 42.0s\n",
    "<br>\n",
    "Galactic South Pole:\n",
    "<br>\n",
    "RA: 0h 51m 26.00s\n",
    "DEC: -27d 7m 42.0s\n",
    "<br>\n",
    "Location(s) Where the Ecliptic Crosses the Galactic Plane:\n",
    "<br>\n",
    "Vernal Equinox:\n",
    "<br>\n",
    "RA: 0h\n",
    "DEC: 0°\n",
    "<br>\n",
    "Autunal Equinox:\n",
    "<br>\n",
    "RA: 12h\n",
    "DEC: 0°"
   ]
  },
  {
   "cell_type": "markdown",
   "id": "698dee38",
   "metadata": {},
   "source": [
    "4. You’re going observing on September 1, 2023 at Kitt Peak to follow up several binary\n",
    "supermassive black hole candidates from Charisi et al. (2016).\n",
    "Without resorting to any software, estimate approximately when, local time, the following\n",
    "objects will rise and set to within a couple hours. Use what you know about the Sun’s track\n",
    "across the sky, and how its declination varies with seasons. Give the minimum airmass\n",
    "achieved by each object during that 24-hour period.\n",
    "• UM 269\n",
    "• PDS 898\n",
    "• PKS 2203-215"
   ]
  },
  {
   "cell_type": "code",
   "execution_count": 33,
   "id": "295c1e9c",
   "metadata": {},
   "outputs": [],
   "source": [
    "# Find RA and Dec of Objects \n",
    "# UM 269 00h43m19.737s, +00d51m15.47s / 10.832238, 0.854296\n",
    "# PDS 898 15h36m58.313s, +34d31m49.48s / 234.242970, 34.530410\n",
    "# PKS 22023-215 22h06m41.3822s, -21d19m40.513s / 331.672426, -21.327920"
   ]
  },
  {
   "cell_type": "markdown",
   "id": "5e807bc1",
   "metadata": {},
   "source": [
    "Sunrise and Sunset Times for Kitt Peak, Arizona \n",
    "<br>\n",
    "I used EDT because I found sunset and sunrise times in EDT lol\n",
    "<br>\n",
    "UTC would be standard practice sorry.\n",
    "<br>\n",
    "\n",
    "1. Find Sunrise/Sunset times\n",
    "**Sunrise Time:** 07:09 AM (EDT)\n",
    "**Sunset Time:** 08:06 PM (EDT)\n",
    "\n",
    "2. Consider Twilight\n",
    "**Astronomical Twilight:**\n",
    "- Astronomical twilight is the period when the sky is dark enough for astronomical observations. We can estimate it by subtracting/adding approximately 1.5 hours from/to the sunrise/sunset times.\n",
    "\n",
    "**Evening/Morning Astronomical Twilight:**\n",
    "- Start: 07:09 AM (EDT) + 1.5 hours = 05:39 AM (EDT)\n",
    "- End: 07:09 AM (EDT) - 1.5 hours = 08:39 AM (EDT)\n",
    "- Start: 08:06 PM (EDT) + 1.5 hours = 09:36 PM (EDT)\n",
    "- End: 08:06 PM (EDT) - 1.5 hours = 06:36 PM (EDT)\n",
    "\n",
    "3. Estimate the rise and set times and the minimum airmass for UM 269, PDS 898 and PKS 2203-215:\n",
    "\n",
    "**UM 269 (RA: 00h43m19.737s, Dec: +00d51m15.47s):**\n",
    "- UM 269 is near the celestial equator, so its rise and set times are semi-symmetric around midnight.\n",
    "- Estimated Rise Time: between 09:36 PM (EDT) and 05:39 AM (EDT).\n",
    "- Estimated Set Time: between 06:36 PM (EDT) and 08:39 AM (EDT).\n",
    "\n",
    "**PKS 2203-215 (RA: 22h06m41.3822s, Dec: -21d19m40.513s):**\n",
    "- PKS 2203-215 is in the southern sky, so it will be visible during the night.\n",
    "- Estimated Rise Time: Around 09:36 PM (EDT) (evening astronomical twilight).\n",
    "- Estimated Set Time: Around 05:39 AM (EDT) (morning astronomical twilight).\n",
    "\n",
    "**PDS 898 (RA: 15h36m58.313s, Dec: +34d31m49.48s):**\n",
    "- PDS 898 has a northern declination, so it may not be visible from Kitt Peak on this date because it's above the northern horizon.\n",
    "- Estimated Rise Time: below the horizon at night.\n",
    "- Estimated Set Time: below the horizon at night.\n",
    "\n",
    "Due to its northern declination, PDS 898 may not be observable from Kitt Peak Observatory on September 1, 2023, as it will be below the horizon all night.\n"
   ]
  },
  {
   "cell_type": "code",
   "execution_count": 38,
   "id": "ca0ab037",
   "metadata": {},
   "outputs": [
    {
     "name": "stdout",
     "output_type": "stream",
     "text": [
      "Minimum Zenith of UM269: 31.104004 degrees\n",
      "Minimum Zenith of PKS_2203_215: 53.28622 degrees\n",
      "Minimum Zenith of PDS_898: 2.572110000000002 degrees\n"
     ]
    }
   ],
   "source": [
    "# Compute minimum airmass for each object \n",
    "# First find Zmin \n",
    "# Observatory latitude is the latitude of Kitt Peak Observatory, which is ~31.9583 degrees North.\n",
    "\n",
    "#Zmin = |observatory latitude - source declination|\n",
    "\n",
    "Zmin_UM269 = abs(31.9583 - 0.854296) #degrees\n",
    "Zmin_PKS_2203_215 = abs(31.9583 - (-21.327920)) #degrees\n",
    "Zmin_PDS_898 = abs(31.9583 - 34.530410) #degrees\n",
    "\n",
    "print(f\"Minimum Zenith of UM269: {Zmin_UM269} degrees\")\n",
    "print(f\"Minimum Zenith of PKS_2203_215: {Zmin_PKS_2203_215} degrees\")\n",
    "print(f\"Minimum Zenith of PDS_898: {Zmin_PDS_898} degrees\")"
   ]
  },
  {
   "cell_type": "code",
   "execution_count": 40,
   "id": "8c764bda",
   "metadata": {},
   "outputs": [],
   "source": [
    "# Minimum airmass \n",
    "min_airmass1 = 1/np.cos(Zmin_UM269)\n",
    "min_airmass2 = 1/np.cos(Zmin_PKS_2203_215)\n",
    "min_airmass3 = 1/np.cos(Zmin_PDS_898)"
   ]
  },
  {
   "cell_type": "code",
   "execution_count": 41,
   "id": "15f8ab4f",
   "metadata": {},
   "outputs": [
    {
     "name": "stdout",
     "output_type": "stream",
     "text": [
      "Minimum Airmass of UM269: 1.050701248214092 degrees\n",
      "Minimum Airmass of PKS_2203_215: -1.007347689077627 degrees\n",
      "Minimum Airmass of PDS_898: -1.1873945634778882 degrees\n"
     ]
    }
   ],
   "source": [
    "print(f\"Minimum Airmass of UM269: {min_airmass1} degrees\")\n",
    "print(f\"Minimum Airmass of PKS_2203_215: {min_airmass2} degrees\")\n",
    "print(f\"Minimum Airmass of PDS_898: {min_airmass3} degrees\")"
   ]
  },
  {
   "cell_type": "markdown",
   "id": "9148fc80",
   "metadata": {},
   "source": [
    "5. When you have completed the previous problem, check your answers using appropriate\n",
    "software. I recommend pyskycalc from ThorSky1 or this website. In either case, you\n",
    "should create a coordinate list including all the bold (i.e. significantly periodic) objects\n",
    "in Table 2 of Charisi et al. (2016). Then set the site, date, and time in the software and\n",
    "generate airmass (or altitude) plots for each target. Use these to check your answers for\n",
    "the objects in the previous problem."
   ]
  },
  {
   "attachments": {
    "image-2.gif": {
     "image/gif": "[encoded data removed]"
    }
   },
   "cell_type": "markdown",
   "id": "37fe5fde",
   "metadata": {},
   "source": [
    "![image-2.gif](attachment:image-2.gif)"
   ]
  },
  {
   "cell_type": "markdown",
   "id": "2307cd5f",
   "metadata": {},
   "source": [
    "NOTE: could not generate others because of name or coordinates. I tried many different variations."
   ]
  },
  {
   "cell_type": "markdown",
   "id": "eaf57805",
   "metadata": {},
   "source": [
    "6. Write a table of vital stats for the following telescopes: Nu-STAR, Chandra, HST, Gemini,\n",
    "SOAR, LCO, Spitzer, JWST, ALMA, NOEMA, VLBA, VLA\n",
    "Break up the assignment so that each student does a handful of telescopes then merge\n",
    "your answers. Include at least the following:\n",
    "• full name (i.e. not the acronym)\n",
    "• location\n",
    "• aperture size\n",
    "• operational wavelength range or photometric bands (this will be instrument dependent,\n",
    "so list the instrument)\n",
    "• website link"
   ]
  },
  {
   "cell_type": "markdown",
   "id": "44100f2a",
   "metadata": {},
   "source": [
    "\n",
    "| Telescope               | Full Name                            | Location                   | Aperture Size       | Wavelength Range / Bands                    | Website Link                                         |\n",
    "|-------------------------|-------------------------------------|----------------------------|---------------------|--------------------------------------------|------------------------------------------------------|\n",
    "| Nu-STAR                 | Nuclear Spectroscopic Telescope Array | In Earth Orbit           | 0.1 - 79 keV         | X-ray (Hard X-rays)                        | [Nu-STAR Website](https://www.nustar.caltech.edu/)   |\n",
    "| Chandra                 | Chandra X-ray Observatory            | In Earth Orbit           | 0.1 - 10 keV         | X-ray (Soft X-rays)                        | [Chandra X-ray Observatory](https://www.nasa.gov/mission_pages/chandra/main/index.html) |\n",
    "| HST                     | Hubble Space Telescope               | In Earth Orbit           | 2.4 meters           | Ultraviolet (100 - 400 nm), Visible (400 - 700 nm), Near-Infrared (700 - 2500 nm) | [Hubble Site](https://hubblesite.org/)             |\n",
    "| Gemini                  | Gemini Observatory                   | Multiple Locations        | 8.1 meters (Gemini North), 8.1 meters (Gemini South) | Optical (300 - 1100 nm), Infrared (1 - 25 microns) | [Gemini Observatory](https://gemini.edu/)           |\n",
    "| SOAR                    | Southern Astrophysical Research Telescope | Cerro Pachón, Chile | 4.1 meters           | Optical (320 - 1000 nm), Infrared (1 - 5 microns) | [SOAR Telescope](http://www.ctio.noao.edu/soar/)     |\n",
    "| LCO                     | Las Cumbres Observatory               | Multiple Locations        | Varies by Telescope | Optical (350 - 800 nm), Infrared (700 - 1100 nm) | [Las Cumbres Observatory](https://lco.global/)      |\n",
    "| Spitzer                 | Spitzer Space Telescope               | In Earth Orbit           | 3 - 150,000 microns   | Infrared (3 - 150,000 microns)             | [Spitzer Space Telescope](https://www.jpl.nasa.gov/missions/spitzer-space-telescope/) |\n",
    "| JWST                    | James Webb Space Telescope           | In Earth Orbit (L2)      | 0.6 - 28 microns      | Infrared (0.6 - 28 microns)               | [James Webb Space Telescope](https://webb.nasa.gov/content/about/launch.html) |\n",
    "| ALMA                    | Atacama Large Millimeter/submillimeter Array | Atacama Desert, Chile | Array of 12-meter and 7-meter dishes | Millimeter (0.3 - 9.6 mm), Submillimeter (0.321 - 3.87 mm) | [ALMA Observatory](https://almascience.nrao.edu/)    |\n",
    "| NOEMA                   | Northern Extended Millimeter Array    | French Alps              | 3 mm (Millimeter)  | Millimeter (3 mm)                        | [NOEMA Observatory](https://www.iram-institute.org/EN/noema.php) |\n",
    "| VLBA                    | Very Long Baseline Array              | Multiple Locations in the U.S. | Array of radio telescopes | Radio (Centimeter and Millimeter Bands)  | [VLBA](https://science.nrao.edu/facilities/vlba/)   |\n",
    "| VLA                     | Karl G. Jansky Very Large Array       | New Mexico, USA          | 27 radio antennas   | Radio (Centimeter and Millimeter Bands)  | [VLA](https://science.nrao.edu/facilities/vla/)    |\n"
   ]
  },
  {
   "cell_type": "markdown",
   "id": "81dee267",
   "metadata": {},
   "source": [
    "7. Create an “observational notebook”. This should include a directory on your computer\n",
    "where you can store useful references to access them at the telescope and an electronic\n",
    "format for saving your notes (e.g., with software like Evernote or Google Docs). For each\n",
    "resource below, write up a 2–3 sentence summary of the usefulness and contents of each\n",
    "paper. Are there other papers you’d recommend be in this list?\n",
    "• The Kitt Peak Direct Imaging Manual\n",
    "• Photometric Standards: Landolt, 1992, AJ, 104, 340\n",
    "• A User’s Guide to Stellar CCD Photometry with IRAF: Massey & Davis, 1992\n",
    "• A User’s Guide to CCD Reductions with IRA: Massey, 1997"
   ]
  },
  {
   "cell_type": "code",
   "execution_count": null,
   "id": "9af6eac3",
   "metadata": {},
   "outputs": [],
   "source": [
    "# I will be using Evernote for notes\n",
    "# The table above and the information below is copied to Evernote."
   ]
  },
  {
   "cell_type": "markdown",
   "id": "0d700f85",
   "metadata": {},
   "source": [
    "1. **The Kitt Peak Direct Imaging Manual:**\n",
    "   - This manual is a \"quick\" guide to using direct imaging techniques for astro observations. It covers instrument setup, data acquisition, and data reduction procedures specific to Kitt Peak Observatory's instruments, enabling researchers to optimize their observations and obtain high-quality images.\n",
    "   - The manual also includes tips and tricks from the experience of others, helping new observers overcome common challenges specific to Kitt Peak.\n",
    "\n",
    "2. **Photometric Standards: Landolt, 1992, AJ, 104, 340:**\n",
    "   - Landolt's paper is a great reference for conducting photometric observations. It contains an extensive catalog of standard stars with well-defined photometric properties, aiding in the calibration of astronomical images and measurements. This paper can be used to accurately determine the magnitudes and colors of celestial objects.The catalog includes stars suitable for calibration in a wide range of photometric systems, making it adaptable to various observational setups worldwide. \n",
    "   - By comparing target objects with the standard stars known magnitudes and colors, we can correct for atmospheric and instrumental effects to produce reliable measurements.\n",
    "\n",
    "3. **A User’s Guide to Stellar CCD Photometry with IRAF: Massey & Davis, 1992:**\n",
    "   - Massey and Davis' user's guide is a good resource for using IRAF (Image Reduction and Analysis Facility) software for stellar CCD photometry. The paper has step-by-step guide to performing photometric measurements, including data reduction and analysis techniques. The guide is valuable tool for conducting precise photometric studies of stars.\n",
    "   - The guide includes step-by-step instructions and examples for bias and dark subtraction, flat-fielding, and aperture photometry. The guide introduces the challenges specific to CCD photometry, such as the effects of cosmic rays, bad pixels, and photometric calibration.\n",
    "   - The importance of understanding the uncertainties associated with photometric measurements is highlighted as well as a guide on error estimiation.\n",
    "   \n",
    "4. **A User’s Guide to CCD Reductions with IRA: Massey, 1997:**\n",
    "   - Massey's user's guide is great for observers using IRAF for CCD data reduction. It provides in depth instructions and tips for reducing astronomical data obtained with CCD detectors, calibration, image processing, and photometric analysis. It provides a detailed explanation of the CCD data reduction process, including key steps such as bias subtraction, dark current correction, flat-fielding, and image calibration. These steps are critical for eliminating instrumental artifacts and enhancing the accuracy of measurements.\n",
    "   - The paper also addresses data analysis tasks, including aperture photometry, image alignment, and combining of multiple frames for improved signal-to-noise ratio.\n",
    "\n"
   ]
  },
  {
   "cell_type": "code",
   "execution_count": null,
   "id": "65bc4c1c",
   "metadata": {},
   "outputs": [],
   "source": []
  }
 ],
 "metadata": {
  "kernelspec": {
   "display_name": "Python 3 (ipykernel)",
   "language": "python",
   "name": "python3"
  },
  "language_info": {
   "codemirror_mode": {
    "name": "ipython",
    "version": 3
   },
   "file_extension": ".py",
   "mimetype": "text/x-python",
   "name": "python",
   "nbconvert_exporter": "python",
   "pygments_lexer": "ipython3",
   "version": "3.9.12"
  }
 },
 "nbformat": 4,
 "nbformat_minor": 5
}
