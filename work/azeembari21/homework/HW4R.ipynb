{
 "cells": [
  {
   "cell_type": "code",
   "execution_count": 24,
   "id": "bade67dd-48d6-4fd5-83d2-c60528d79db1",
   "metadata": {
    "tags": []
   },
   "outputs": [],
   "source": [
    "# import block\n",
    "import numpy as np\n",
    "from astropy.io import fits\n",
    "%matplotlib inline\n",
    "from matplotlib import pyplot as plt\n",
    "from astropy.visualization import hist\n",
    "import ccdproc as ccdp\n",
    "from matplotlib import rc\n",
    "from datetime import datetime\n",
    "from ccdproc import ImageFileCollection\n",
    "import ccdproc as ccdp\n",
    "from astropy.modeling.models import Polynomial1D,Chebyshev1D,Legendre1D,Hermite1D, Gaussian1D\n",
    "from astropy.modeling import fitting\n",
    "from astropy.stats import mad_std\n",
    "from astropy.nddata import CCDData\n",
    "from scipy import stats\n",
    "from astropy import units as u"
   ]
  },
  {
   "cell_type": "markdown",
   "id": "8d53ec4e-4571-434f-a1dc-3abf48a4b873",
   "metadata": {},
   "source": [
    "First, we import our convience functions"
   ]
  },
  {
   "cell_type": "code",
   "execution_count": 25,
   "id": "3d4e3d36-2bdb-4b0d-ac32-344f977ded8e",
   "metadata": {
    "tags": []
   },
   "outputs": [],
   "source": [
    "# import convenience plotting functions downloaded from \n",
    "# here: https://github.com/mwcraig/ccd-reduction-and-photometry-guide\n",
    "phot_tutorial_dir = '/Users/azeem/Downloads/Software/py/ccd-reduction-and-photometry-guide/ccd-reduction-and-photometry-guide/notebooks/'\n",
    "import sys\n",
    "sys.path.insert(0,phot_tutorial_dir)\n",
    "from convenience_functions import show_image"
   ]
  },
  {
   "cell_type": "markdown",
   "id": "4a656c07-e3fc-4e94-ae61-baafee3db801",
   "metadata": {},
   "source": [
    "We then make insert directories for our raw data and where our reduced data will go"
   ]
  },
  {
   "cell_type": "code",
   "execution_count": 39,
   "id": "085c5449-325f-409e-ada5-3670352aa48c",
   "metadata": {
    "tags": []
   },
   "outputs": [],
   "source": [
    "data_dir = '/Users/azeem/Downloads/Imaging/'\n",
    "reduced_dir = '/Users/azeem/Downloads/Reduced/'"
   ]
  },
  {
   "cell_type": "markdown",
   "id": "aee57580-c976-4dd9-9c53-8674b3053dc2",
   "metadata": {},
   "source": [
    "We now read in the bias frames while introducing key words in our headers. This will let us easily trim and grab these files. We determine that the overscan region we subtract our data from is from 2141:2200. Additionally, to trim off the overscan region, we determine the region to keep is from 54:2101 "
   ]
  },
  {
   "cell_type": "code",
   "execution_count": 27,
   "id": "f5f4d90e-5b35-44bf-b354-d72e44c80497",
   "metadata": {
    "tags": []
   },
   "outputs": [],
   "source": [
    "# read in the biases, they're in a093-a111.fits\n",
    "bias_files = ['a'+str(i).zfill(3)+'.fits' for i in np.arange(19)+93]\n",
    "hdus = [fits.open(data_dir+file) for file in bias_files]\n",
    "hdrs = [hdu[0].header for hdu in hdus]\n",
    "    \n",
    "for i in range(np.size(hdus)):\n",
    "    hdrs[i]['imagetyp'] = 'bias'\n",
    "    hdrs[i]['object']   = 'none'\n",
    "    hdrs[i]['biassec']  = '[2141:2200,1:2048]' # FITS indexing, row/col reversed\n",
    "    hdrs[i]['trimsec']  = '[54:2101,1:2048]'\n",
    "    hdrs[i]['filter']   = 'none'\n",
    "    \n",
    "    hdus[i].writeto(reduced_dir+bias_files[i],overwrite=True)\n",
    "    \n",
    "del hdus\n",
    "del hdrs"
   ]
  },
  {
   "cell_type": "markdown",
   "id": "ab4ac8cb-30e6-4976-be1f-b2250f171b47",
   "metadata": {},
   "source": [
    "We do the same for the sky flats. There are saturated flats that need to be removed. Also, we should specify which flat goes with what filter."
   ]
  },
  {
   "cell_type": "code",
   "execution_count": 28,
   "id": "68537c85-23fa-4ffc-a5fb-4f3aee0ed11c",
   "metadata": {
    "tags": []
   },
   "outputs": [],
   "source": [
    "# read in the flats, they're in a005-a062.fits\n",
    "\n",
    "flat_files = ['a'+str(i).zfill(3)+'.fits' for i in np.arange(58)+5]\n",
    "\n",
    "# delete saturated/bad flats from the list\n",
    "del flat_files[16], flat_files[23:26], flat_files[47]\n",
    "\n",
    "hdus = [fits.open(data_dir+file) for file in flat_files]\n",
    "hdrs = [hdu[0].header for hdu in hdus]\n",
    "\n",
    "for i in range(np.size(hdus)):\n",
    "    hdrs[i]['imagetyp'] = 'skyflat'\n",
    "    hdrs[i]['object']   = 'none'\n",
    "    hdrs[i]['biassec']  = '[2141:2200,1:2048]'# FITS standard\n",
    "    hdrs[i]['trimsec']  = '[54:2101,1:2048]'\n",
    "    \n",
    "    if ((i>=16) & (i<=22)):\n",
    "        hdrs[i]['filter']   = 'U'\n",
    "    elif ((i>=22) & (i<= 33)):\n",
    "        hdrs[i]['filter']   = 'B'\n",
    "    elif ((i>=33) & (i<= 40)):\n",
    "        hdrs[i]['filter']   = 'V'        \n",
    "    elif ((i>=40) & (i<= 46)):\n",
    "        hdrs[i]['filter']   = 'R'        \n",
    "    elif ((i>=46) & (i<= 52)):\n",
    "        hdrs[i]['filter']   = 'I'  \n",
    "    else:\n",
    "        hdrs[i]['filter']   = 'Ha'\n",
    "    \n",
    "    hdus[i].writeto(reduced_dir+flat_files[i],overwrite=True)\n",
    "\n",
    "del hdus\n",
    "del hdrs"
   ]
  },
  {
   "cell_type": "markdown",
   "id": "a1abf4b8-39d4-4be7-b582-d9951f956447",
   "metadata": {},
   "source": [
    "As well as the dark frames."
   ]
  },
  {
   "cell_type": "code",
   "execution_count": 29,
   "id": "0c0aea46-f5ef-4299-bd6f-d401b5e766e9",
   "metadata": {
    "tags": []
   },
   "outputs": [],
   "source": [
    "dark_files = ['d'+str(i).zfill(3)+'.fits' for i in np.arange(15)+1]\n",
    "hdus = [fits.open(data_dir+file) for file in dark_files]\n",
    "hdrs = [hdu[0].header for hdu in hdus]\n",
    "    \n",
    "for i in range(np.size(hdus)):\n",
    "    hdrs[i]['imagetyp'] = 'dark'\n",
    "    hdrs[i]['biassec']  = '[2141:2200,1:2048]' # FITS standard\n",
    "    hdrs[i]['trimsec']  = '[54:2101,1:2048]'\n",
    "    hdrs[i]['filter']   = 'none'\n",
    "    \n",
    "    hdus[i].writeto(reduced_dir+dark_files[i],overwrite=True)\n",
    "    \n",
    "del hdus\n",
    "del hdrs"
   ]
  },
  {
   "cell_type": "markdown",
   "id": "6242daac-842d-4943-a588-1c661ffe2dfd",
   "metadata": {},
   "source": [
    "We want to do the same for the PG1633 science frames. However, since they are scattered in the file list we first generate their full range, then delete intervals to get what we need."
   ]
  },
  {
   "cell_type": "code",
   "execution_count": 30,
   "id": "53481876-0547-48a4-8a39-d5dcdf40c30e",
   "metadata": {
    "tags": []
   },
   "outputs": [],
   "source": [
    "science_files = ['a'+str(i).zfill(3)+'.fits' for i in np.arange(173)+74]\n",
    "del science_files[19:56]\n",
    "del science_files[29:91]\n",
    "del science_files[39:64]\n",
    "\n",
    "hdus = [fits.open(data_dir+file) for file in science_files]\n",
    "hdrs = [hdu[0].header for hdu in hdus]\n",
    "\n",
    "for i in range(np.size(hdus)):\n",
    "    hdrs[i]['imagetyp'] = 'science'\n",
    "    hdrs[i]['object']   = 'pg1633'\n",
    "    hdrs[i]['biassec']  = '[2141:2200,1:2048]' # FITS standard\n",
    "    hdrs[i]['trimsec']  = '[54:2101,1:2048]'\n",
    "    \n",
    "    if ((i>=7) & (i<=8)) | ((i>=19) & (i<=20)) | ((i>=29) & (i<=30)) | ((i>=39) & (i<=40)):\n",
    "        hdrs[i]['filter']   = 'U'\n",
    "    elif ((i>=8) & (i<=10)) | ((i>=20) & (i<=22)) | ((i>=30) & (i<=32)) | ((i>=40) & (i<=42)):\n",
    "        hdrs[i]['filter']   = 'B' \n",
    "    elif ((i>=0) & (i<=6)) | ((i>=10) & (i<=12)) | ((i>=22) & (i<=24)) | ((i>=32) & (i<=34)) | ((i>=42) & (i<=44)):\n",
    "        hdrs[i]['filter']   = 'V'        \n",
    "    elif ((i>=12) & (i<=14)) | ((i>=24) & (i<=26)) | ((i>=34) & (i<=36)) | ((i>=44) & (i<=46)):\n",
    "        hdrs[i]['filter']   = 'R'        \n",
    "    elif ((i>=14) & (i<=16)) | ((i>=26) & (i<=28)) | ((i>=36) & (i<=38)) | ((i>=46) & (i<=48)):\n",
    "        hdrs[i]['filter']   = 'I'  \n",
    "    else:\n",
    "        hdrs[i]['filter']   = 'Ha'\n",
    "    \n",
    "    hdus[i].writeto(reduced_dir+science_files[i],overwrite=True)\n",
    "\n",
    "del hdus\n",
    "del hdrs"
   ]
  },
  {
   "cell_type": "markdown",
   "id": "a50dffda-839b-40eb-9147-deb722093f81",
   "metadata": {},
   "source": [
    "We also do this for the NGC6823 science frames. This time being in 2 sets."
   ]
  },
  {
   "cell_type": "code",
   "execution_count": 31,
   "id": "30d431d8-5218-43a8-a86a-b97fa6d8211c",
   "metadata": {
    "tags": []
   },
   "outputs": [],
   "source": [
    "science_files = ['a'+str(i).zfill(3)+'.fits' for i in np.arange(11)+153]\n",
    "\n",
    "hdus = [fits.open(data_dir+file) for file in science_files]\n",
    "hdrs = [hdu[0].header for hdu in hdus]\n",
    "\n",
    "for i in range(np.size(hdus)):\n",
    "    hdrs[i]['imagetyp'] = 'science'\n",
    "    hdrs[i]['object']   = 'ngc6823'\n",
    "    hdrs[i]['biassec']  = '[2141:2200,1:2048]' # FITS standard\n",
    "    hdrs[i]['trimsec']  = '[54:2101,1:2048]'\n",
    "    \n",
    "    if ((i>=9) & (i<=11)):\n",
    "        hdrs[i]['filter']   = 'U'\n",
    "    elif ((i>=7) & (i<=8)):\n",
    "        hdrs[i]['filter']   = 'B' \n",
    "    elif ((i>=4) & (i<=6)):\n",
    "        hdrs[i]['filter']   = 'V'        \n",
    "    elif ((i>=2) & (i<=3)):\n",
    "        hdrs[i]['filter']   = 'R'        \n",
    "    elif ((i>=0) & (i<=1)):\n",
    "        hdrs[i]['filter']   = 'I'  \n",
    "    \n",
    "    hdus[i].writeto(reduced_dir+science_files[i],overwrite=True)\n",
    "\n",
    "del hdus\n",
    "del hdrs"
   ]
  },
  {
   "cell_type": "markdown",
   "id": "2b54fc65-de1b-46d5-83ef-160d2d320e77",
   "metadata": {},
   "source": [
    "We also do this for the PVSEP frames"
   ]
  },
  {
   "cell_type": "code",
   "execution_count": 33,
   "id": "6b1d6d72-c7b2-40b8-b374-c4b1e3537e9f",
   "metadata": {
    "tags": []
   },
   "outputs": [
    {
     "name": "stdout",
     "output_type": "stream",
     "text": [
      "['a112.fits', 'a113.fits', 'a114.fits', 'a115.fits', 'a116.fits', 'a117.fits', 'a118.fits', 'a119.fits', 'a120.fits', 'a121.fits', 'a122.fits', 'a123.fits', 'a124.fits', 'a125.fits', 'a126.fits', 'a127.fits', 'a128.fits', 'a129.fits']\n"
     ]
    }
   ],
   "source": [
    "science_files = ['a'+str(i).zfill(3)+'.fits' for i in np.arange(112, 130)]\n",
    "print(science_files)\n",
    "hdus = [fits.open(data_dir+file) for file in science_files]\n",
    "hdrs = [hdu[0].header for hdu in hdus]\n",
    "\n",
    "for i in range(np.size(hdus)):\n",
    "    hdrs[i]['imagetyp'] = 'science'\n",
    "    hdrs[i]['object']   = 'pvsep'\n",
    "    hdrs[i]['biassec']  = '[2141:2200,1:2048]' # FITS standard\n",
    "    hdrs[i]['trimsec']  = '[54:2101,1:2048]'\n",
    "    \n",
    "    if ((i>=9) & (i<=11)):\n",
    "        hdrs[i]['filter']   = 'U'\n",
    "    elif ((i>=7) & (i<=8)):\n",
    "        hdrs[i]['filter']   = 'B' \n",
    "    elif ((i>=4) & (i<=6)):\n",
    "        hdrs[i]['filter']   = 'V'        \n",
    "    elif ((i>=2) & (i<=3)):\n",
    "        hdrs[i]['filter']   = 'R'        \n",
    "    elif ((i>=0) & (i<=1)):\n",
    "        hdrs[i]['filter']   = 'I'  \n",
    "    \n",
    "    hdus[i].writeto(reduced_dir+science_files[i],overwrite=True)\n",
    "\n",
    "del hdus\n",
    "del hdrs"
   ]
  },
  {
   "cell_type": "markdown",
   "id": "77f3226e-9637-4ffb-bd5b-62ed05d61dae",
   "metadata": {},
   "source": [
    "The M16 frames"
   ]
  },
  {
   "cell_type": "code",
   "execution_count": 34,
   "id": "26e73398-94a8-4015-9c26-250b9eb04767",
   "metadata": {
    "tags": []
   },
   "outputs": [],
   "source": [
    "science_files = ['a'+str(i).zfill(3)+'.fits' for i in np.arange(165, 182)]\n",
    "\n",
    "hdus = [fits.open(data_dir+file) for file in science_files]\n",
    "hdrs = [hdu[0].header for hdu in hdus]\n",
    "\n",
    "for i in range(np.size(hdus)):\n",
    "    hdrs[i]['imagetyp'] = 'science'\n",
    "    hdrs[i]['object']   = 'm16'\n",
    "    hdrs[i]['biassec']  = '[2141:2200,1:2048]' # FITS standard\n",
    "    hdrs[i]['trimsec']  = '[54:2101,1:2048]'\n",
    "    \n",
    "    if ((i>=9) & (i<=11)):\n",
    "        hdrs[i]['filter']   = 'U'\n",
    "    elif ((i>=7) & (i<=8)):\n",
    "        hdrs[i]['filter']   = 'B' \n",
    "    elif ((i>=4) & (i<=6)):\n",
    "        hdrs[i]['filter']   = 'V'        \n",
    "    elif ((i>=2) & (i<=3)):\n",
    "        hdrs[i]['filter']   = 'R'        \n",
    "    elif ((i>=0) & (i<=1)):\n",
    "        hdrs[i]['filter']   = 'I'  \n",
    "    \n",
    "    hdus[i].writeto(reduced_dir+science_files[i],overwrite=True)\n",
    "\n",
    "del hdus\n",
    "del hdrs"
   ]
  },
  {
   "cell_type": "markdown",
   "id": "b2f5f2ec-962d-44e1-b233-2e481b9c3730",
   "metadata": {},
   "source": [
    "The NGC7006 frames"
   ]
  },
  {
   "cell_type": "code",
   "execution_count": 35,
   "id": "424720ae-3de8-4e5e-a924-6c05759d389a",
   "metadata": {
    "tags": []
   },
   "outputs": [],
   "source": [
    "science_files = ['a'+str(i).zfill(3)+'.fits' for i in np.arange(183,193)]\n",
    "\n",
    "hdus = [fits.open(data_dir+file) for file in science_files]\n",
    "hdrs = [hdu[0].header for hdu in hdus]\n",
    "\n",
    "for i in range(np.size(hdus)):\n",
    "    hdrs[i]['imagetyp'] = 'science'\n",
    "    hdrs[i]['object']   = 'ngc7006'\n",
    "    hdrs[i]['biassec']  = '[2141:2200,1:2048]' # FITS standard\n",
    "    hdrs[i]['trimsec']  = '[54:2101,1:2048]'\n",
    "    \n",
    "    if ((i>=9) & (i<=11)):\n",
    "        hdrs[i]['filter']   = 'U'\n",
    "    elif ((i>=7) & (i<=8)):\n",
    "        hdrs[i]['filter']   = 'B' \n",
    "    elif ((i>=4) & (i<=6)):\n",
    "        hdrs[i]['filter']   = 'V'        \n",
    "    elif ((i>=2) & (i<=3)):\n",
    "        hdrs[i]['filter']   = 'R'        \n",
    "    elif ((i>=0) & (i<=1)):\n",
    "        hdrs[i]['filter']   = 'I'  \n",
    "    \n",
    "    hdus[i].writeto(reduced_dir+science_files[i],overwrite=True)\n",
    "\n",
    "del hdus\n",
    "del hdrs"
   ]
  },
  {
   "cell_type": "markdown",
   "id": "9f6c825f-8586-48c9-8707-f34cb0433f64",
   "metadata": {},
   "source": [
    "And the M101 frames"
   ]
  },
  {
   "cell_type": "code",
   "execution_count": 36,
   "id": "cf56ae58-2393-4f83-8a62-6acb8ee2f067",
   "metadata": {
    "tags": []
   },
   "outputs": [],
   "source": [
    "science_files = ['a'+str(i).zfill(3)+'.fits' for i in np.arange(212,221)]\n",
    "\n",
    "hdus = [fits.open(data_dir+file) for file in science_files]\n",
    "hdrs = [hdu[0].header for hdu in hdus]\n",
    "\n",
    "for i in range(np.size(hdus)):\n",
    "    hdrs[i]['imagetyp'] = 'science'\n",
    "    hdrs[i]['object']   = 'm101'\n",
    "    hdrs[i]['biassec']  = '[2141:2200,1:2048]' # FITS standard\n",
    "    hdrs[i]['trimsec']  = '[54:2101,1:2048]'\n",
    "    \n",
    "    if ((i>=9) & (i<=11)):\n",
    "        hdrs[i]['filter']   = 'U'\n",
    "    elif ((i>=7) & (i<=8)):\n",
    "        hdrs[i]['filter']   = 'B' \n",
    "    elif ((i>=4) & (i<=6)):\n",
    "        hdrs[i]['filter']   = 'V'        \n",
    "    elif ((i>=2) & (i<=3)):\n",
    "        hdrs[i]['filter']   = 'R'        \n",
    "    elif ((i>=0) & (i<=1)):\n",
    "        hdrs[i]['filter']   = 'I'  \n",
    "    \n",
    "    hdus[i].writeto(reduced_dir+science_files[i],overwrite=True)\n",
    "\n",
    "del hdus\n",
    "del hdrs"
   ]
  },
  {
   "cell_type": "code",
   "execution_count": 37,
   "id": "2471feac-de09-44c6-9869-419fdc14ae84",
   "metadata": {
    "tags": []
   },
   "outputs": [],
   "source": [
    "imgs = ImageFileCollection(reduced_dir,glob_include='[ad]???.fits',glob_exclude='*ot*.fits') # exclude master*, otz files in case of rerun"
   ]
  },
  {
   "cell_type": "markdown",
   "id": "432ee5ac-e082-4337-b54c-9b4d1c1b7f19",
   "metadata": {},
   "source": [
    "We set our model to be a third order 1D polynomial, subtract the overscan region, trim the image to be 2048x2048 for all frames and save each image into our reduced data directory."
   ]
  },
  {
   "cell_type": "code",
   "execution_count": 40,
   "id": "9d6f4b2d-3b31-4301-a277-b5e2fb6b1f32",
   "metadata": {
    "tags": []
   },
   "outputs": [
    {
     "name": "stderr",
     "output_type": "stream",
     "text": [
      "WARNING: FITSFixedWarning: 'datfix' made the change 'Set MJD-OBS to 55005.074317 from DATE-OBS'. [astropy.wcs.wcs]\n",
      "WARNING:astropy:FITSFixedWarning: 'datfix' made the change 'Set MJD-OBS to 55005.074317 from DATE-OBS'.\n",
      "WARNING: FITSFixedWarning: 'datfix' made the change 'Set MJD-OBS to 55005.074780 from DATE-OBS'. [astropy.wcs.wcs]\n",
      "WARNING:astropy:FITSFixedWarning: 'datfix' made the change 'Set MJD-OBS to 55005.074780 from DATE-OBS'.\n",
      "WARNING: FITSFixedWarning: 'datfix' made the change 'Set MJD-OBS to 55005.075312 from DATE-OBS'. [astropy.wcs.wcs]\n",
      "WARNING:astropy:FITSFixedWarning: 'datfix' made the change 'Set MJD-OBS to 55005.075312 from DATE-OBS'.\n",
      "WARNING: FITSFixedWarning: 'datfix' made the change 'Set MJD-OBS to 55005.075995 from DATE-OBS'. [astropy.wcs.wcs]\n",
      "WARNING:astropy:FITSFixedWarning: 'datfix' made the change 'Set MJD-OBS to 55005.075995 from DATE-OBS'.\n",
      "WARNING: FITSFixedWarning: 'datfix' made the change 'Set MJD-OBS to 55005.076377 from DATE-OBS'. [astropy.wcs.wcs]\n",
      "WARNING:astropy:FITSFixedWarning: 'datfix' made the change 'Set MJD-OBS to 55005.076377 from DATE-OBS'.\n",
      "WARNING: FITSFixedWarning: 'datfix' made the change 'Set MJD-OBS to 55005.076817 from DATE-OBS'. [astropy.wcs.wcs]\n",
      "WARNING:astropy:FITSFixedWarning: 'datfix' made the change 'Set MJD-OBS to 55005.076817 from DATE-OBS'.\n",
      "WARNING: FITSFixedWarning: 'datfix' made the change 'Set MJD-OBS to 55005.077315 from DATE-OBS'. [astropy.wcs.wcs]\n",
      "WARNING:astropy:FITSFixedWarning: 'datfix' made the change 'Set MJD-OBS to 55005.077315 from DATE-OBS'.\n",
      "WARNING: FITSFixedWarning: 'datfix' made the change 'Set MJD-OBS to 55005.077731 from DATE-OBS'. [astropy.wcs.wcs]\n",
      "WARNING:astropy:FITSFixedWarning: 'datfix' made the change 'Set MJD-OBS to 55005.077731 from DATE-OBS'.\n",
      "WARNING: FITSFixedWarning: 'datfix' made the change 'Set MJD-OBS to 55005.078148 from DATE-OBS'. [astropy.wcs.wcs]\n",
      "WARNING:astropy:FITSFixedWarning: 'datfix' made the change 'Set MJD-OBS to 55005.078148 from DATE-OBS'.\n",
      "WARNING: FITSFixedWarning: 'datfix' made the change 'Set MJD-OBS to 55005.078588 from DATE-OBS'. [astropy.wcs.wcs]\n",
      "WARNING:astropy:FITSFixedWarning: 'datfix' made the change 'Set MJD-OBS to 55005.078588 from DATE-OBS'.\n",
      "WARNING: FITSFixedWarning: 'datfix' made the change 'Set MJD-OBS to 55005.079734 from DATE-OBS'. [astropy.wcs.wcs]\n",
      "WARNING:astropy:FITSFixedWarning: 'datfix' made the change 'Set MJD-OBS to 55005.079734 from DATE-OBS'.\n",
      "WARNING: FITSFixedWarning: 'datfix' made the change 'Set MJD-OBS to 55005.080174 from DATE-OBS'. [astropy.wcs.wcs]\n",
      "WARNING:astropy:FITSFixedWarning: 'datfix' made the change 'Set MJD-OBS to 55005.080174 from DATE-OBS'.\n",
      "WARNING: FITSFixedWarning: 'datfix' made the change 'Set MJD-OBS to 55005.080556 from DATE-OBS'. [astropy.wcs.wcs]\n",
      "WARNING:astropy:FITSFixedWarning: 'datfix' made the change 'Set MJD-OBS to 55005.080556 from DATE-OBS'.\n",
      "WARNING: FITSFixedWarning: 'datfix' made the change 'Set MJD-OBS to 55005.080949 from DATE-OBS'. [astropy.wcs.wcs]\n",
      "WARNING:astropy:FITSFixedWarning: 'datfix' made the change 'Set MJD-OBS to 55005.080949 from DATE-OBS'.\n",
      "WARNING: FITSFixedWarning: 'datfix' made the change 'Set MJD-OBS to 55005.081771 from DATE-OBS'. [astropy.wcs.wcs]\n",
      "WARNING:astropy:FITSFixedWarning: 'datfix' made the change 'Set MJD-OBS to 55005.081771 from DATE-OBS'.\n",
      "WARNING: FITSFixedWarning: 'datfix' made the change 'Set MJD-OBS to 55005.082234 from DATE-OBS'. [astropy.wcs.wcs]\n",
      "WARNING:astropy:FITSFixedWarning: 'datfix' made the change 'Set MJD-OBS to 55005.082234 from DATE-OBS'.\n",
      "WARNING: FITSFixedWarning: 'datfix' made the change 'Set MJD-OBS to 55005.084225 from DATE-OBS'. [astropy.wcs.wcs]\n",
      "WARNING:astropy:FITSFixedWarning: 'datfix' made the change 'Set MJD-OBS to 55005.084225 from DATE-OBS'.\n",
      "WARNING: FITSFixedWarning: 'datfix' made the change 'Set MJD-OBS to 55005.084850 from DATE-OBS'. [astropy.wcs.wcs]\n",
      "WARNING:astropy:FITSFixedWarning: 'datfix' made the change 'Set MJD-OBS to 55005.084850 from DATE-OBS'.\n",
      "WARNING: FITSFixedWarning: 'datfix' made the change 'Set MJD-OBS to 55005.085486 from DATE-OBS'. [astropy.wcs.wcs]\n",
      "WARNING:astropy:FITSFixedWarning: 'datfix' made the change 'Set MJD-OBS to 55005.085486 from DATE-OBS'.\n",
      "WARNING: FITSFixedWarning: 'datfix' made the change 'Set MJD-OBS to 55005.085880 from DATE-OBS'. [astropy.wcs.wcs]\n",
      "WARNING:astropy:FITSFixedWarning: 'datfix' made the change 'Set MJD-OBS to 55005.085880 from DATE-OBS'.\n",
      "WARNING: FITSFixedWarning: 'datfix' made the change 'Set MJD-OBS to 55005.086343 from DATE-OBS'. [astropy.wcs.wcs]\n",
      "WARNING:astropy:FITSFixedWarning: 'datfix' made the change 'Set MJD-OBS to 55005.086343 from DATE-OBS'.\n",
      "WARNING: FITSFixedWarning: 'datfix' made the change 'Set MJD-OBS to 55005.086725 from DATE-OBS'. [astropy.wcs.wcs]\n",
      "WARNING:astropy:FITSFixedWarning: 'datfix' made the change 'Set MJD-OBS to 55005.086725 from DATE-OBS'.\n",
      "WARNING: FITSFixedWarning: 'datfix' made the change 'Set MJD-OBS to 55005.087269 from DATE-OBS'. [astropy.wcs.wcs]\n",
      "WARNING:astropy:FITSFixedWarning: 'datfix' made the change 'Set MJD-OBS to 55005.087269 from DATE-OBS'.\n",
      "WARNING: FITSFixedWarning: 'datfix' made the change 'Set MJD-OBS to 55005.091157 from DATE-OBS'. [astropy.wcs.wcs]\n",
      "WARNING:astropy:FITSFixedWarning: 'datfix' made the change 'Set MJD-OBS to 55005.091157 from DATE-OBS'.\n",
      "WARNING: FITSFixedWarning: 'datfix' made the change 'Set MJD-OBS to 55005.091690 from DATE-OBS'. [astropy.wcs.wcs]\n",
      "WARNING:astropy:FITSFixedWarning: 'datfix' made the change 'Set MJD-OBS to 55005.091690 from DATE-OBS'.\n",
      "WARNING: FITSFixedWarning: 'datfix' made the change 'Set MJD-OBS to 55005.092361 from DATE-OBS'. [astropy.wcs.wcs]\n",
      "WARNING:astropy:FITSFixedWarning: 'datfix' made the change 'Set MJD-OBS to 55005.092361 from DATE-OBS'.\n",
      "WARNING: FITSFixedWarning: 'datfix' made the change 'Set MJD-OBS to 55005.092824 from DATE-OBS'. [astropy.wcs.wcs]\n",
      "WARNING:astropy:FITSFixedWarning: 'datfix' made the change 'Set MJD-OBS to 55005.092824 from DATE-OBS'.\n",
      "WARNING: FITSFixedWarning: 'datfix' made the change 'Set MJD-OBS to 55005.093391 from DATE-OBS'. [astropy.wcs.wcs]\n",
      "WARNING:astropy:FITSFixedWarning: 'datfix' made the change 'Set MJD-OBS to 55005.093391 from DATE-OBS'.\n",
      "WARNING: FITSFixedWarning: 'datfix' made the change 'Set MJD-OBS to 55005.093796 from DATE-OBS'. [astropy.wcs.wcs]\n",
      "WARNING:astropy:FITSFixedWarning: 'datfix' made the change 'Set MJD-OBS to 55005.093796 from DATE-OBS'.\n",
      "WARNING: FITSFixedWarning: 'datfix' made the change 'Set MJD-OBS to 55005.094363 from DATE-OBS'. [astropy.wcs.wcs]\n",
      "WARNING:astropy:FITSFixedWarning: 'datfix' made the change 'Set MJD-OBS to 55005.094363 from DATE-OBS'.\n",
      "WARNING: FITSFixedWarning: 'datfix' made the change 'Set MJD-OBS to 55005.096169 from DATE-OBS'. [astropy.wcs.wcs]\n",
      "WARNING:astropy:FITSFixedWarning: 'datfix' made the change 'Set MJD-OBS to 55005.096169 from DATE-OBS'.\n",
      "WARNING: FITSFixedWarning: 'datfix' made the change 'Set MJD-OBS to 55005.096829 from DATE-OBS'. [astropy.wcs.wcs]\n",
      "WARNING:astropy:FITSFixedWarning: 'datfix' made the change 'Set MJD-OBS to 55005.096829 from DATE-OBS'.\n",
      "WARNING: FITSFixedWarning: 'datfix' made the change 'Set MJD-OBS to 55005.097269 from DATE-OBS'. [astropy.wcs.wcs]\n",
      "WARNING:astropy:FITSFixedWarning: 'datfix' made the change 'Set MJD-OBS to 55005.097269 from DATE-OBS'.\n",
      "WARNING: FITSFixedWarning: 'datfix' made the change 'Set MJD-OBS to 55005.097708 from DATE-OBS'. [astropy.wcs.wcs]\n",
      "WARNING:astropy:FITSFixedWarning: 'datfix' made the change 'Set MJD-OBS to 55005.097708 from DATE-OBS'.\n",
      "WARNING: FITSFixedWarning: 'datfix' made the change 'Set MJD-OBS to 55005.098264 from DATE-OBS'. [astropy.wcs.wcs]\n",
      "WARNING:astropy:FITSFixedWarning: 'datfix' made the change 'Set MJD-OBS to 55005.098264 from DATE-OBS'.\n",
      "WARNING: FITSFixedWarning: 'datfix' made the change 'Set MJD-OBS to 55005.098646 from DATE-OBS'. [astropy.wcs.wcs]\n",
      "WARNING:astropy:FITSFixedWarning: 'datfix' made the change 'Set MJD-OBS to 55005.098646 from DATE-OBS'.\n",
      "WARNING: FITSFixedWarning: 'datfix' made the change 'Set MJD-OBS to 55005.099155 from DATE-OBS'. [astropy.wcs.wcs]\n",
      "WARNING:astropy:FITSFixedWarning: 'datfix' made the change 'Set MJD-OBS to 55005.099155 from DATE-OBS'.\n",
      "WARNING: FITSFixedWarning: 'datfix' made the change 'Set MJD-OBS to 55005.099711 from DATE-OBS'. [astropy.wcs.wcs]\n",
      "WARNING:astropy:FITSFixedWarning: 'datfix' made the change 'Set MJD-OBS to 55005.099711 from DATE-OBS'.\n",
      "WARNING: FITSFixedWarning: 'datfix' made the change 'Set MJD-OBS to 55005.100197 from DATE-OBS'. [astropy.wcs.wcs]\n",
      "WARNING:astropy:FITSFixedWarning: 'datfix' made the change 'Set MJD-OBS to 55005.100197 from DATE-OBS'.\n",
      "WARNING: FITSFixedWarning: 'datfix' made the change 'Set MJD-OBS to 55005.100799 from DATE-OBS'. [astropy.wcs.wcs]\n",
      "WARNING:astropy:FITSFixedWarning: 'datfix' made the change 'Set MJD-OBS to 55005.100799 from DATE-OBS'.\n",
      "WARNING: FITSFixedWarning: 'datfix' made the change 'Set MJD-OBS to 55005.101343 from DATE-OBS'. [astropy.wcs.wcs]\n",
      "WARNING:astropy:FITSFixedWarning: 'datfix' made the change 'Set MJD-OBS to 55005.101343 from DATE-OBS'.\n",
      "WARNING: FITSFixedWarning: 'datfix' made the change 'Set MJD-OBS to 55005.102130 from DATE-OBS'. [astropy.wcs.wcs]\n",
      "WARNING:astropy:FITSFixedWarning: 'datfix' made the change 'Set MJD-OBS to 55005.102130 from DATE-OBS'.\n",
      "WARNING: FITSFixedWarning: 'datfix' made the change 'Set MJD-OBS to 55005.102789 from DATE-OBS'. [astropy.wcs.wcs]\n",
      "WARNING:astropy:FITSFixedWarning: 'datfix' made the change 'Set MJD-OBS to 55005.102789 from DATE-OBS'.\n",
      "WARNING: FITSFixedWarning: 'datfix' made the change 'Set MJD-OBS to 55005.103588 from DATE-OBS'. [astropy.wcs.wcs]\n",
      "WARNING:astropy:FITSFixedWarning: 'datfix' made the change 'Set MJD-OBS to 55005.103588 from DATE-OBS'.\n",
      "WARNING: FITSFixedWarning: 'datfix' made the change 'Set MJD-OBS to 55005.104236 from DATE-OBS'. [astropy.wcs.wcs]\n",
      "WARNING:astropy:FITSFixedWarning: 'datfix' made the change 'Set MJD-OBS to 55005.104236 from DATE-OBS'.\n",
      "WARNING: FITSFixedWarning: 'datfix' made the change 'Set MJD-OBS to 55005.105127 from DATE-OBS'. [astropy.wcs.wcs]\n",
      "WARNING:astropy:FITSFixedWarning: 'datfix' made the change 'Set MJD-OBS to 55005.105127 from DATE-OBS'.\n",
      "WARNING: FITSFixedWarning: 'datfix' made the change 'Set MJD-OBS to 55005.106192 from DATE-OBS'. [astropy.wcs.wcs]\n",
      "WARNING:astropy:FITSFixedWarning: 'datfix' made the change 'Set MJD-OBS to 55005.106192 from DATE-OBS'.\n",
      "WARNING: FITSFixedWarning: 'datfix' made the change 'Set MJD-OBS to 55005.108437 from DATE-OBS'. [astropy.wcs.wcs]\n",
      "WARNING:astropy:FITSFixedWarning: 'datfix' made the change 'Set MJD-OBS to 55005.108437 from DATE-OBS'.\n",
      "WARNING: FITSFixedWarning: 'datfix' made the change 'Set MJD-OBS to 55005.109931 from DATE-OBS'. [astropy.wcs.wcs]\n",
      "WARNING:astropy:FITSFixedWarning: 'datfix' made the change 'Set MJD-OBS to 55005.109931 from DATE-OBS'.\n",
      "WARNING: FITSFixedWarning: 'datfix' made the change 'Set MJD-OBS to 55005.111366 from DATE-OBS'. [astropy.wcs.wcs]\n",
      "WARNING:astropy:FITSFixedWarning: 'datfix' made the change 'Set MJD-OBS to 55005.111366 from DATE-OBS'.\n",
      "WARNING: FITSFixedWarning: 'datfix' made the change 'Set MJD-OBS to 55005.113275 from DATE-OBS'. [astropy.wcs.wcs]\n",
      "WARNING:astropy:FITSFixedWarning: 'datfix' made the change 'Set MJD-OBS to 55005.113275 from DATE-OBS'.\n",
      "WARNING: FITSFixedWarning: 'datfix' made the change 'Set MJD-OBS to 55005.114988 from DATE-OBS'. [astropy.wcs.wcs]\n",
      "WARNING:astropy:FITSFixedWarning: 'datfix' made the change 'Set MJD-OBS to 55005.114988 from DATE-OBS'.\n",
      "WARNING: FITSFixedWarning: 'datfix' made the change 'Set MJD-OBS to 55005.117986 from DATE-OBS'. [astropy.wcs.wcs]\n",
      "WARNING:astropy:FITSFixedWarning: 'datfix' made the change 'Set MJD-OBS to 55005.117986 from DATE-OBS'.\n",
      "WARNING: FITSFixedWarning: 'datfix' made the change 'Set MJD-OBS to 55005.162674 from DATE-OBS'. [astropy.wcs.wcs]\n",
      "WARNING:astropy:FITSFixedWarning: 'datfix' made the change 'Set MJD-OBS to 55005.162674 from DATE-OBS'.\n",
      "WARNING: FITSFixedWarning: 'datfix' made the change 'Set MJD-OBS to 55005.163032 from DATE-OBS'. [astropy.wcs.wcs]\n",
      "WARNING:astropy:FITSFixedWarning: 'datfix' made the change 'Set MJD-OBS to 55005.163032 from DATE-OBS'.\n",
      "WARNING: FITSFixedWarning: 'datfix' made the change 'Set MJD-OBS to 55005.163437 from DATE-OBS'. [astropy.wcs.wcs]\n",
      "WARNING:astropy:FITSFixedWarning: 'datfix' made the change 'Set MJD-OBS to 55005.163437 from DATE-OBS'.\n",
      "WARNING: FITSFixedWarning: 'datfix' made the change 'Set MJD-OBS to 55005.163843 from DATE-OBS'. [astropy.wcs.wcs]\n",
      "WARNING:astropy:FITSFixedWarning: 'datfix' made the change 'Set MJD-OBS to 55005.163843 from DATE-OBS'.\n",
      "WARNING: FITSFixedWarning: 'datfix' made the change 'Set MJD-OBS to 55005.164479 from DATE-OBS'. [astropy.wcs.wcs]\n",
      "WARNING:astropy:FITSFixedWarning: 'datfix' made the change 'Set MJD-OBS to 55005.164479 from DATE-OBS'.\n",
      "WARNING: FITSFixedWarning: 'datfix' made the change 'Set MJD-OBS to 55005.165208 from DATE-OBS'. [astropy.wcs.wcs]\n",
      "WARNING:astropy:FITSFixedWarning: 'datfix' made the change 'Set MJD-OBS to 55005.165208 from DATE-OBS'.\n",
      "WARNING: FITSFixedWarning: 'datfix' made the change 'Set MJD-OBS to 55005.166273 from DATE-OBS'. [astropy.wcs.wcs]\n",
      "WARNING:astropy:FITSFixedWarning: 'datfix' made the change 'Set MJD-OBS to 55005.166273 from DATE-OBS'.\n",
      "WARNING: FITSFixedWarning: 'datfix' made the change 'Set MJD-OBS to 55005.168773 from DATE-OBS'. [astropy.wcs.wcs]\n",
      "WARNING:astropy:FITSFixedWarning: 'datfix' made the change 'Set MJD-OBS to 55005.168773 from DATE-OBS'.\n",
      "WARNING: FITSFixedWarning: 'datfix' made the change 'Set MJD-OBS to 55005.169410 from DATE-OBS'. [astropy.wcs.wcs]\n",
      "WARNING:astropy:FITSFixedWarning: 'datfix' made the change 'Set MJD-OBS to 55005.169410 from DATE-OBS'.\n",
      "WARNING: FITSFixedWarning: 'datfix' made the change 'Set MJD-OBS to 55005.170625 from DATE-OBS'. [astropy.wcs.wcs]\n",
      "WARNING:astropy:FITSFixedWarning: 'datfix' made the change 'Set MJD-OBS to 55005.170625 from DATE-OBS'.\n",
      "WARNING: FITSFixedWarning: 'datfix' made the change 'Set MJD-OBS to 55005.171412 from DATE-OBS'. [astropy.wcs.wcs]\n",
      "WARNING:astropy:FITSFixedWarning: 'datfix' made the change 'Set MJD-OBS to 55005.171412 from DATE-OBS'.\n",
      "WARNING: FITSFixedWarning: 'datfix' made the change 'Set MJD-OBS to 55005.172384 from DATE-OBS'. [astropy.wcs.wcs]\n",
      "WARNING:astropy:FITSFixedWarning: 'datfix' made the change 'Set MJD-OBS to 55005.172384 from DATE-OBS'.\n",
      "WARNING: FITSFixedWarning: 'datfix' made the change 'Set MJD-OBS to 55005.173009 from DATE-OBS'. [astropy.wcs.wcs]\n",
      "WARNING:astropy:FITSFixedWarning: 'datfix' made the change 'Set MJD-OBS to 55005.173009 from DATE-OBS'.\n",
      "WARNING: FITSFixedWarning: 'datfix' made the change 'Set MJD-OBS to 55005.173924 from DATE-OBS'. [astropy.wcs.wcs]\n",
      "WARNING:astropy:FITSFixedWarning: 'datfix' made the change 'Set MJD-OBS to 55005.173924 from DATE-OBS'.\n",
      "WARNING: FITSFixedWarning: 'datfix' made the change 'Set MJD-OBS to 55005.174479 from DATE-OBS'. [astropy.wcs.wcs]\n",
      "WARNING:astropy:FITSFixedWarning: 'datfix' made the change 'Set MJD-OBS to 55005.174479 from DATE-OBS'.\n",
      "WARNING: FITSFixedWarning: 'datfix' made the change 'Set MJD-OBS to 55005.175359 from DATE-OBS'. [astropy.wcs.wcs]\n",
      "WARNING:astropy:FITSFixedWarning: 'datfix' made the change 'Set MJD-OBS to 55005.175359 from DATE-OBS'.\n",
      "WARNING: FITSFixedWarning: 'datfix' made the change 'Set MJD-OBS to 55005.175775 from DATE-OBS'. [astropy.wcs.wcs]\n",
      "WARNING:astropy:FITSFixedWarning: 'datfix' made the change 'Set MJD-OBS to 55005.175775 from DATE-OBS'.\n",
      "WARNING: FITSFixedWarning: 'datfix' made the change 'Set MJD-OBS to 55005.176736 from DATE-OBS'. [astropy.wcs.wcs]\n",
      "WARNING:astropy:FITSFixedWarning: 'datfix' made the change 'Set MJD-OBS to 55005.176736 from DATE-OBS'.\n",
      "WARNING: FITSFixedWarning: 'datfix' made the change 'Set MJD-OBS to 55005.178391 from DATE-OBS'. [astropy.wcs.wcs]\n",
      "WARNING:astropy:FITSFixedWarning: 'datfix' made the change 'Set MJD-OBS to 55005.178391 from DATE-OBS'.\n",
      "WARNING: FITSFixedWarning: 'datfix' made the change 'Set MJD-OBS to 55005.180382 from DATE-OBS'. [astropy.wcs.wcs]\n",
      "WARNING:astropy:FITSFixedWarning: 'datfix' made the change 'Set MJD-OBS to 55005.180382 from DATE-OBS'.\n",
      "WARNING: FITSFixedWarning: 'datfix' made the change 'Set MJD-OBS to 55005.180660 from DATE-OBS'. [astropy.wcs.wcs]\n",
      "WARNING:astropy:FITSFixedWarning: 'datfix' made the change 'Set MJD-OBS to 55005.180660 from DATE-OBS'.\n",
      "WARNING: FITSFixedWarning: 'datfix' made the change 'Set MJD-OBS to 55005.180938 from DATE-OBS'. [astropy.wcs.wcs]\n",
      "WARNING:astropy:FITSFixedWarning: 'datfix' made the change 'Set MJD-OBS to 55005.180938 from DATE-OBS'.\n",
      "WARNING: FITSFixedWarning: 'datfix' made the change 'Set MJD-OBS to 55005.181227 from DATE-OBS'. [astropy.wcs.wcs]\n",
      "WARNING:astropy:FITSFixedWarning: 'datfix' made the change 'Set MJD-OBS to 55005.181227 from DATE-OBS'.\n",
      "WARNING: FITSFixedWarning: 'datfix' made the change 'Set MJD-OBS to 55005.181505 from DATE-OBS'. [astropy.wcs.wcs]\n",
      "WARNING:astropy:FITSFixedWarning: 'datfix' made the change 'Set MJD-OBS to 55005.181505 from DATE-OBS'.\n",
      "WARNING: FITSFixedWarning: 'datfix' made the change 'Set MJD-OBS to 55005.181782 from DATE-OBS'. [astropy.wcs.wcs]\n",
      "WARNING:astropy:FITSFixedWarning: 'datfix' made the change 'Set MJD-OBS to 55005.181782 from DATE-OBS'.\n",
      "WARNING: FITSFixedWarning: 'datfix' made the change 'Set MJD-OBS to 55005.182060 from DATE-OBS'. [astropy.wcs.wcs]\n",
      "WARNING:astropy:FITSFixedWarning: 'datfix' made the change 'Set MJD-OBS to 55005.182060 from DATE-OBS'.\n",
      "WARNING: FITSFixedWarning: 'datfix' made the change 'Set MJD-OBS to 55005.182338 from DATE-OBS'. [astropy.wcs.wcs]\n",
      "WARNING:astropy:FITSFixedWarning: 'datfix' made the change 'Set MJD-OBS to 55005.182338 from DATE-OBS'.\n",
      "WARNING: FITSFixedWarning: 'datfix' made the change 'Set MJD-OBS to 55005.182616 from DATE-OBS'. [astropy.wcs.wcs]\n",
      "WARNING:astropy:FITSFixedWarning: 'datfix' made the change 'Set MJD-OBS to 55005.182616 from DATE-OBS'.\n",
      "WARNING: FITSFixedWarning: 'datfix' made the change 'Set MJD-OBS to 55005.182894 from DATE-OBS'. [astropy.wcs.wcs]\n",
      "WARNING:astropy:FITSFixedWarning: 'datfix' made the change 'Set MJD-OBS to 55005.182894 from DATE-OBS'.\n",
      "WARNING: FITSFixedWarning: 'datfix' made the change 'Set MJD-OBS to 55005.183171 from DATE-OBS'. [astropy.wcs.wcs]\n",
      "WARNING:astropy:FITSFixedWarning: 'datfix' made the change 'Set MJD-OBS to 55005.183171 from DATE-OBS'.\n",
      "WARNING: FITSFixedWarning: 'datfix' made the change 'Set MJD-OBS to 55005.183449 from DATE-OBS'. [astropy.wcs.wcs]\n",
      "WARNING:astropy:FITSFixedWarning: 'datfix' made the change 'Set MJD-OBS to 55005.183449 from DATE-OBS'.\n",
      "WARNING: FITSFixedWarning: 'datfix' made the change 'Set MJD-OBS to 55005.183727 from DATE-OBS'. [astropy.wcs.wcs]\n",
      "WARNING:astropy:FITSFixedWarning: 'datfix' made the change 'Set MJD-OBS to 55005.183727 from DATE-OBS'.\n",
      "WARNING: FITSFixedWarning: 'datfix' made the change 'Set MJD-OBS to 55005.184005 from DATE-OBS'. [astropy.wcs.wcs]\n",
      "WARNING:astropy:FITSFixedWarning: 'datfix' made the change 'Set MJD-OBS to 55005.184005 from DATE-OBS'.\n",
      "WARNING: FITSFixedWarning: 'datfix' made the change 'Set MJD-OBS to 55005.184282 from DATE-OBS'. [astropy.wcs.wcs]\n",
      "WARNING:astropy:FITSFixedWarning: 'datfix' made the change 'Set MJD-OBS to 55005.184282 from DATE-OBS'.\n",
      "WARNING: FITSFixedWarning: 'datfix' made the change 'Set MJD-OBS to 55005.184572 from DATE-OBS'. [astropy.wcs.wcs]\n",
      "WARNING:astropy:FITSFixedWarning: 'datfix' made the change 'Set MJD-OBS to 55005.184572 from DATE-OBS'.\n",
      "WARNING: FITSFixedWarning: 'datfix' made the change 'Set MJD-OBS to 55005.184850 from DATE-OBS'. [astropy.wcs.wcs]\n",
      "WARNING:astropy:FITSFixedWarning: 'datfix' made the change 'Set MJD-OBS to 55005.184850 from DATE-OBS'.\n",
      "WARNING: FITSFixedWarning: 'datfix' made the change 'Set MJD-OBS to 55005.185127 from DATE-OBS'. [astropy.wcs.wcs]\n",
      "WARNING:astropy:FITSFixedWarning: 'datfix' made the change 'Set MJD-OBS to 55005.185127 from DATE-OBS'.\n",
      "WARNING: FITSFixedWarning: 'datfix' made the change 'Set MJD-OBS to 55005.185405 from DATE-OBS'. [astropy.wcs.wcs]\n",
      "WARNING:astropy:FITSFixedWarning: 'datfix' made the change 'Set MJD-OBS to 55005.185405 from DATE-OBS'.\n",
      "WARNING: FITSFixedWarning: 'datfix' made the change 'Set MJD-OBS to 55005.189549 from DATE-OBS'. [astropy.wcs.wcs]\n",
      "WARNING:astropy:FITSFixedWarning: 'datfix' made the change 'Set MJD-OBS to 55005.189549 from DATE-OBS'.\n",
      "WARNING: FITSFixedWarning: 'datfix' made the change 'Set MJD-OBS to 55005.190995 from DATE-OBS'. [astropy.wcs.wcs]\n",
      "WARNING:astropy:FITSFixedWarning: 'datfix' made the change 'Set MJD-OBS to 55005.190995 from DATE-OBS'.\n",
      "WARNING: FITSFixedWarning: 'datfix' made the change 'Set MJD-OBS to 55005.192431 from DATE-OBS'. [astropy.wcs.wcs]\n",
      "WARNING:astropy:FITSFixedWarning: 'datfix' made the change 'Set MJD-OBS to 55005.192431 from DATE-OBS'.\n",
      "WARNING: FITSFixedWarning: 'datfix' made the change 'Set MJD-OBS to 55005.194618 from DATE-OBS'. [astropy.wcs.wcs]\n",
      "WARNING:astropy:FITSFixedWarning: 'datfix' made the change 'Set MJD-OBS to 55005.194618 from DATE-OBS'.\n",
      "WARNING: FITSFixedWarning: 'datfix' made the change 'Set MJD-OBS to 55005.196065 from DATE-OBS'. [astropy.wcs.wcs]\n",
      "WARNING:astropy:FITSFixedWarning: 'datfix' made the change 'Set MJD-OBS to 55005.196065 from DATE-OBS'.\n",
      "WARNING: FITSFixedWarning: 'datfix' made the change 'Set MJD-OBS to 55005.197500 from DATE-OBS'. [astropy.wcs.wcs]\n",
      "WARNING:astropy:FITSFixedWarning: 'datfix' made the change 'Set MJD-OBS to 55005.197500 from DATE-OBS'.\n",
      "WARNING: FITSFixedWarning: 'datfix' made the change 'Set MJD-OBS to 55005.199039 from DATE-OBS'. [astropy.wcs.wcs]\n",
      "WARNING:astropy:FITSFixedWarning: 'datfix' made the change 'Set MJD-OBS to 55005.199039 from DATE-OBS'.\n",
      "WARNING: FITSFixedWarning: 'datfix' made the change 'Set MJD-OBS to 55005.199549 from DATE-OBS'. [astropy.wcs.wcs]\n",
      "WARNING:astropy:FITSFixedWarning: 'datfix' made the change 'Set MJD-OBS to 55005.199549 from DATE-OBS'.\n",
      "WARNING: FITSFixedWarning: 'datfix' made the change 'Set MJD-OBS to 55005.200058 from DATE-OBS'. [astropy.wcs.wcs]\n",
      "WARNING:astropy:FITSFixedWarning: 'datfix' made the change 'Set MJD-OBS to 55005.200058 from DATE-OBS'.\n",
      "WARNING: FITSFixedWarning: 'datfix' made the change 'Set MJD-OBS to 55005.200648 from DATE-OBS'. [astropy.wcs.wcs]\n",
      "WARNING:astropy:FITSFixedWarning: 'datfix' made the change 'Set MJD-OBS to 55005.200648 from DATE-OBS'.\n",
      "WARNING: FITSFixedWarning: 'datfix' made the change 'Set MJD-OBS to 55005.201169 from DATE-OBS'. [astropy.wcs.wcs]\n",
      "WARNING:astropy:FITSFixedWarning: 'datfix' made the change 'Set MJD-OBS to 55005.201169 from DATE-OBS'.\n",
      "WARNING: FITSFixedWarning: 'datfix' made the change 'Set MJD-OBS to 55005.201678 from DATE-OBS'. [astropy.wcs.wcs]\n",
      "WARNING:astropy:FITSFixedWarning: 'datfix' made the change 'Set MJD-OBS to 55005.201678 from DATE-OBS'.\n",
      "WARNING: FITSFixedWarning: 'datfix' made the change 'Set MJD-OBS to 55005.202419 from DATE-OBS'. [astropy.wcs.wcs]\n",
      "WARNING:astropy:FITSFixedWarning: 'datfix' made the change 'Set MJD-OBS to 55005.202419 from DATE-OBS'.\n",
      "WARNING: FITSFixedWarning: 'datfix' made the change 'Set MJD-OBS to 55005.204444 from DATE-OBS'. [astropy.wcs.wcs]\n",
      "WARNING:astropy:FITSFixedWarning: 'datfix' made the change 'Set MJD-OBS to 55005.204444 from DATE-OBS'.\n",
      "WARNING: FITSFixedWarning: 'datfix' made the change 'Set MJD-OBS to 55005.205023 from DATE-OBS'. [astropy.wcs.wcs]\n",
      "WARNING:astropy:FITSFixedWarning: 'datfix' made the change 'Set MJD-OBS to 55005.205023 from DATE-OBS'.\n",
      "WARNING: FITSFixedWarning: 'datfix' made the change 'Set MJD-OBS to 55005.206181 from DATE-OBS'. [astropy.wcs.wcs]\n",
      "WARNING:astropy:FITSFixedWarning: 'datfix' made the change 'Set MJD-OBS to 55005.206181 from DATE-OBS'.\n",
      "WARNING: FITSFixedWarning: 'datfix' made the change 'Set MJD-OBS to 55005.216944 from DATE-OBS'. [astropy.wcs.wcs]\n",
      "WARNING:astropy:FITSFixedWarning: 'datfix' made the change 'Set MJD-OBS to 55005.216944 from DATE-OBS'.\n",
      "WARNING: FITSFixedWarning: 'datfix' made the change 'Set MJD-OBS to 55005.227813 from DATE-OBS'. [astropy.wcs.wcs]\n",
      "WARNING:astropy:FITSFixedWarning: 'datfix' made the change 'Set MJD-OBS to 55005.227813 from DATE-OBS'.\n",
      "WARNING: FITSFixedWarning: 'datfix' made the change 'Set MJD-OBS to 55005.244132 from DATE-OBS'. [astropy.wcs.wcs]\n",
      "WARNING:astropy:FITSFixedWarning: 'datfix' made the change 'Set MJD-OBS to 55005.244132 from DATE-OBS'.\n",
      "WARNING: FITSFixedWarning: 'datfix' made the change 'Set MJD-OBS to 55005.245162 from DATE-OBS'. [astropy.wcs.wcs]\n",
      "WARNING:astropy:FITSFixedWarning: 'datfix' made the change 'Set MJD-OBS to 55005.245162 from DATE-OBS'.\n",
      "WARNING: FITSFixedWarning: 'datfix' made the change 'Set MJD-OBS to 55005.246296 from DATE-OBS'. [astropy.wcs.wcs]\n",
      "WARNING:astropy:FITSFixedWarning: 'datfix' made the change 'Set MJD-OBS to 55005.246296 from DATE-OBS'.\n",
      "WARNING: FITSFixedWarning: 'datfix' made the change 'Set MJD-OBS to 55005.246921 from DATE-OBS'. [astropy.wcs.wcs]\n",
      "WARNING:astropy:FITSFixedWarning: 'datfix' made the change 'Set MJD-OBS to 55005.246921 from DATE-OBS'.\n",
      "WARNING: FITSFixedWarning: 'datfix' made the change 'Set MJD-OBS to 55005.247662 from DATE-OBS'. [astropy.wcs.wcs]\n",
      "WARNING:astropy:FITSFixedWarning: 'datfix' made the change 'Set MJD-OBS to 55005.247662 from DATE-OBS'.\n",
      "WARNING: FITSFixedWarning: 'datfix' made the change 'Set MJD-OBS to 55005.248067 from DATE-OBS'. [astropy.wcs.wcs]\n",
      "WARNING:astropy:FITSFixedWarning: 'datfix' made the change 'Set MJD-OBS to 55005.248067 from DATE-OBS'.\n",
      "WARNING: FITSFixedWarning: 'datfix' made the change 'Set MJD-OBS to 55005.248553 from DATE-OBS'. [astropy.wcs.wcs]\n",
      "WARNING:astropy:FITSFixedWarning: 'datfix' made the change 'Set MJD-OBS to 55005.248553 from DATE-OBS'.\n",
      "WARNING: FITSFixedWarning: 'datfix' made the change 'Set MJD-OBS to 55005.248947 from DATE-OBS'. [astropy.wcs.wcs]\n",
      "WARNING:astropy:FITSFixedWarning: 'datfix' made the change 'Set MJD-OBS to 55005.248947 from DATE-OBS'.\n",
      "WARNING: FITSFixedWarning: 'datfix' made the change 'Set MJD-OBS to 55005.249479 from DATE-OBS'. [astropy.wcs.wcs]\n",
      "WARNING:astropy:FITSFixedWarning: 'datfix' made the change 'Set MJD-OBS to 55005.249479 from DATE-OBS'.\n",
      "WARNING: FITSFixedWarning: 'datfix' made the change 'Set MJD-OBS to 55005.249873 from DATE-OBS'. [astropy.wcs.wcs]\n",
      "WARNING:astropy:FITSFixedWarning: 'datfix' made the change 'Set MJD-OBS to 55005.249873 from DATE-OBS'.\n",
      "WARNING: FITSFixedWarning: 'datfix' made the change 'Set MJD-OBS to 55005.263900 from DATE-OBS'. [astropy.wcs.wcs]\n",
      "WARNING:astropy:FITSFixedWarning: 'datfix' made the change 'Set MJD-OBS to 55005.263900 from DATE-OBS'.\n",
      "WARNING: FITSFixedWarning: 'datfix' made the change 'Set MJD-OBS to 55005.264433 from DATE-OBS'. [astropy.wcs.wcs]\n",
      "WARNING:astropy:FITSFixedWarning: 'datfix' made the change 'Set MJD-OBS to 55005.264433 from DATE-OBS'.\n",
      "WARNING: FITSFixedWarning: 'datfix' made the change 'Set MJD-OBS to 55005.264942 from DATE-OBS'. [astropy.wcs.wcs]\n",
      "WARNING:astropy:FITSFixedWarning: 'datfix' made the change 'Set MJD-OBS to 55005.264942 from DATE-OBS'.\n",
      "WARNING: FITSFixedWarning: 'datfix' made the change 'Set MJD-OBS to 55005.265370 from DATE-OBS'. [astropy.wcs.wcs]\n",
      "WARNING:astropy:FITSFixedWarning: 'datfix' made the change 'Set MJD-OBS to 55005.265370 from DATE-OBS'.\n",
      "WARNING: FITSFixedWarning: 'datfix' made the change 'Set MJD-OBS to 55005.265764 from DATE-OBS'. [astropy.wcs.wcs]\n",
      "WARNING:astropy:FITSFixedWarning: 'datfix' made the change 'Set MJD-OBS to 55005.265764 from DATE-OBS'.\n",
      "WARNING: FITSFixedWarning: 'datfix' made the change 'Set MJD-OBS to 55005.266157 from DATE-OBS'. [astropy.wcs.wcs]\n",
      "WARNING:astropy:FITSFixedWarning: 'datfix' made the change 'Set MJD-OBS to 55005.266157 from DATE-OBS'.\n",
      "WARNING: FITSFixedWarning: 'datfix' made the change 'Set MJD-OBS to 55005.266725 from DATE-OBS'. [astropy.wcs.wcs]\n",
      "WARNING:astropy:FITSFixedWarning: 'datfix' made the change 'Set MJD-OBS to 55005.266725 from DATE-OBS'.\n",
      "WARNING: FITSFixedWarning: 'datfix' made the change 'Set MJD-OBS to 55005.267303 from DATE-OBS'. [astropy.wcs.wcs]\n",
      "WARNING:astropy:FITSFixedWarning: 'datfix' made the change 'Set MJD-OBS to 55005.267303 from DATE-OBS'.\n",
      "WARNING: FITSFixedWarning: 'datfix' made the change 'Set MJD-OBS to 55005.267963 from DATE-OBS'. [astropy.wcs.wcs]\n",
      "WARNING:astropy:FITSFixedWarning: 'datfix' made the change 'Set MJD-OBS to 55005.267963 from DATE-OBS'.\n",
      "WARNING: FITSFixedWarning: 'datfix' made the change 'Set MJD-OBS to 55005.268553 from DATE-OBS'. [astropy.wcs.wcs]\n",
      "WARNING:astropy:FITSFixedWarning: 'datfix' made the change 'Set MJD-OBS to 55005.268553 from DATE-OBS'.\n",
      "WARNING: FITSFixedWarning: 'datfix' made the change 'Set MJD-OBS to 55005.269074 from DATE-OBS'. [astropy.wcs.wcs]\n",
      "WARNING:astropy:FITSFixedWarning: 'datfix' made the change 'Set MJD-OBS to 55005.269074 from DATE-OBS'.\n",
      "WARNING: FITSFixedWarning: 'datfix' made the change 'Set MJD-OBS to 55005.273194 from DATE-OBS'. [astropy.wcs.wcs]\n",
      "WARNING:astropy:FITSFixedWarning: 'datfix' made the change 'Set MJD-OBS to 55005.273194 from DATE-OBS'.\n",
      "WARNING: FITSFixedWarning: 'datfix' made the change 'Set MJD-OBS to 55005.274329 from DATE-OBS'. [astropy.wcs.wcs]\n",
      "WARNING:astropy:FITSFixedWarning: 'datfix' made the change 'Set MJD-OBS to 55005.274329 from DATE-OBS'.\n",
      "WARNING: FITSFixedWarning: 'datfix' made the change 'Set MJD-OBS to 55005.274954 from DATE-OBS'. [astropy.wcs.wcs]\n",
      "WARNING:astropy:FITSFixedWarning: 'datfix' made the change 'Set MJD-OBS to 55005.274954 from DATE-OBS'.\n",
      "WARNING: FITSFixedWarning: 'datfix' made the change 'Set MJD-OBS to 55005.275625 from DATE-OBS'. [astropy.wcs.wcs]\n",
      "WARNING:astropy:FITSFixedWarning: 'datfix' made the change 'Set MJD-OBS to 55005.275625 from DATE-OBS'.\n",
      "WARNING: FITSFixedWarning: 'datfix' made the change 'Set MJD-OBS to 55005.276019 from DATE-OBS'. [astropy.wcs.wcs]\n",
      "WARNING:astropy:FITSFixedWarning: 'datfix' made the change 'Set MJD-OBS to 55005.276019 from DATE-OBS'.\n",
      "WARNING: FITSFixedWarning: 'datfix' made the change 'Set MJD-OBS to 55005.276597 from DATE-OBS'. [astropy.wcs.wcs]\n",
      "WARNING:astropy:FITSFixedWarning: 'datfix' made the change 'Set MJD-OBS to 55005.276597 from DATE-OBS'.\n",
      "WARNING: FITSFixedWarning: 'datfix' made the change 'Set MJD-OBS to 55005.276944 from DATE-OBS'. [astropy.wcs.wcs]\n",
      "WARNING:astropy:FITSFixedWarning: 'datfix' made the change 'Set MJD-OBS to 55005.276944 from DATE-OBS'.\n",
      "WARNING: FITSFixedWarning: 'datfix' made the change 'Set MJD-OBS to 55005.277280 from DATE-OBS'. [astropy.wcs.wcs]\n",
      "WARNING:astropy:FITSFixedWarning: 'datfix' made the change 'Set MJD-OBS to 55005.277280 from DATE-OBS'.\n",
      "WARNING: FITSFixedWarning: 'datfix' made the change 'Set MJD-OBS to 55005.277743 from DATE-OBS'. [astropy.wcs.wcs]\n",
      "WARNING:astropy:FITSFixedWarning: 'datfix' made the change 'Set MJD-OBS to 55005.277743 from DATE-OBS'.\n",
      "WARNING: FITSFixedWarning: 'datfix' made the change 'Set MJD-OBS to 55005.278090 from DATE-OBS'. [astropy.wcs.wcs]\n",
      "WARNING:astropy:FITSFixedWarning: 'datfix' made the change 'Set MJD-OBS to 55005.278090 from DATE-OBS'.\n",
      "WARNING: FITSFixedWarning: 'datfix' made the change 'Set MJD-OBS to 55005.278426 from DATE-OBS'. [astropy.wcs.wcs]\n",
      "WARNING:astropy:FITSFixedWarning: 'datfix' made the change 'Set MJD-OBS to 55005.278426 from DATE-OBS'.\n",
      "WARNING: FITSFixedWarning: 'datfix' made the change 'Set MJD-OBS to 55005.279236 from DATE-OBS'. [astropy.wcs.wcs]\n",
      "WARNING:astropy:FITSFixedWarning: 'datfix' made the change 'Set MJD-OBS to 55005.279236 from DATE-OBS'.\n",
      "WARNING: FITSFixedWarning: 'datfix' made the change 'Set MJD-OBS to 55005.280093 from DATE-OBS'. [astropy.wcs.wcs]\n",
      "WARNING:astropy:FITSFixedWarning: 'datfix' made the change 'Set MJD-OBS to 55005.280093 from DATE-OBS'.\n",
      "WARNING: FITSFixedWarning: 'datfix' made the change 'Set MJD-OBS to 55005.280949 from DATE-OBS'. [astropy.wcs.wcs]\n",
      "WARNING:astropy:FITSFixedWarning: 'datfix' made the change 'Set MJD-OBS to 55005.280949 from DATE-OBS'.\n",
      "WARNING: FITSFixedWarning: 'datfix' made the change 'Set MJD-OBS to 55005.282512 from DATE-OBS'. [astropy.wcs.wcs]\n",
      "WARNING:astropy:FITSFixedWarning: 'datfix' made the change 'Set MJD-OBS to 55005.282512 from DATE-OBS'.\n",
      "WARNING: FITSFixedWarning: 'datfix' made the change 'Set MJD-OBS to 55005.283252 from DATE-OBS'. [astropy.wcs.wcs]\n",
      "WARNING:astropy:FITSFixedWarning: 'datfix' made the change 'Set MJD-OBS to 55005.283252 from DATE-OBS'.\n",
      "WARNING: FITSFixedWarning: 'datfix' made the change 'Set MJD-OBS to 55005.285347 from DATE-OBS'. [astropy.wcs.wcs]\n",
      "WARNING:astropy:FITSFixedWarning: 'datfix' made the change 'Set MJD-OBS to 55005.285347 from DATE-OBS'.\n",
      "WARNING: FITSFixedWarning: 'datfix' made the change 'Set MJD-OBS to 55005.291111 from DATE-OBS'. [astropy.wcs.wcs]\n",
      "WARNING:astropy:FITSFixedWarning: 'datfix' made the change 'Set MJD-OBS to 55005.291111 from DATE-OBS'.\n",
      "WARNING: FITSFixedWarning: 'datfix' made the change 'Set MJD-OBS to 55005.291447 from DATE-OBS'. [astropy.wcs.wcs]\n",
      "WARNING:astropy:FITSFixedWarning: 'datfix' made the change 'Set MJD-OBS to 55005.291447 from DATE-OBS'.\n",
      "WARNING: FITSFixedWarning: 'datfix' made the change 'Set MJD-OBS to 55005.291921 from DATE-OBS'. [astropy.wcs.wcs]\n",
      "WARNING:astropy:FITSFixedWarning: 'datfix' made the change 'Set MJD-OBS to 55005.291921 from DATE-OBS'.\n",
      "WARNING: FITSFixedWarning: 'datfix' made the change 'Set MJD-OBS to 55005.292257 from DATE-OBS'. [astropy.wcs.wcs]\n",
      "WARNING:astropy:FITSFixedWarning: 'datfix' made the change 'Set MJD-OBS to 55005.292257 from DATE-OBS'.\n",
      "WARNING: FITSFixedWarning: 'datfix' made the change 'Set MJD-OBS to 55005.292731 from DATE-OBS'. [astropy.wcs.wcs]\n",
      "WARNING:astropy:FITSFixedWarning: 'datfix' made the change 'Set MJD-OBS to 55005.292731 from DATE-OBS'.\n",
      "WARNING: FITSFixedWarning: 'datfix' made the change 'Set MJD-OBS to 55005.293079 from DATE-OBS'. [astropy.wcs.wcs]\n",
      "WARNING:astropy:FITSFixedWarning: 'datfix' made the change 'Set MJD-OBS to 55005.293079 from DATE-OBS'.\n",
      "WARNING: FITSFixedWarning: 'datfix' made the change 'Set MJD-OBS to 55005.293623 from DATE-OBS'. [astropy.wcs.wcs]\n",
      "WARNING:astropy:FITSFixedWarning: 'datfix' made the change 'Set MJD-OBS to 55005.293623 from DATE-OBS'.\n",
      "WARNING: FITSFixedWarning: 'datfix' made the change 'Set MJD-OBS to 55005.294074 from DATE-OBS'. [astropy.wcs.wcs]\n",
      "WARNING:astropy:FITSFixedWarning: 'datfix' made the change 'Set MJD-OBS to 55005.294074 from DATE-OBS'.\n",
      "WARNING: FITSFixedWarning: 'datfix' made the change 'Set MJD-OBS to 55005.294664 from DATE-OBS'. [astropy.wcs.wcs]\n",
      "WARNING:astropy:FITSFixedWarning: 'datfix' made the change 'Set MJD-OBS to 55005.294664 from DATE-OBS'.\n",
      "WARNING: FITSFixedWarning: 'datfix' made the change 'Set MJD-OBS to 55005.295463 from DATE-OBS'. [astropy.wcs.wcs]\n",
      "WARNING:astropy:FITSFixedWarning: 'datfix' made the change 'Set MJD-OBS to 55005.295463 from DATE-OBS'.\n",
      "WARNING: FITSFixedWarning: 'datfix' made the change 'Set MJD-OBS to 55005.304595 from DATE-OBS'. [astropy.wcs.wcs]\n",
      "WARNING:astropy:FITSFixedWarning: 'datfix' made the change 'Set MJD-OBS to 55005.304595 from DATE-OBS'.\n",
      "WARNING: FITSFixedWarning: 'datfix' made the change 'Set MJD-OBS to 55005.305567 from DATE-OBS'. [astropy.wcs.wcs]\n",
      "WARNING:astropy:FITSFixedWarning: 'datfix' made the change 'Set MJD-OBS to 55005.305567 from DATE-OBS'.\n",
      "WARNING: FITSFixedWarning: 'datfix' made the change 'Set MJD-OBS to 55005.306655 from DATE-OBS'. [astropy.wcs.wcs]\n",
      "WARNING:astropy:FITSFixedWarning: 'datfix' made the change 'Set MJD-OBS to 55005.306655 from DATE-OBS'.\n",
      "WARNING: FITSFixedWarning: 'datfix' made the change 'Set MJD-OBS to 55005.307280 from DATE-OBS'. [astropy.wcs.wcs]\n",
      "WARNING:astropy:FITSFixedWarning: 'datfix' made the change 'Set MJD-OBS to 55005.307280 from DATE-OBS'.\n",
      "WARNING: FITSFixedWarning: 'datfix' made the change 'Set MJD-OBS to 55005.308090 from DATE-OBS'. [astropy.wcs.wcs]\n",
      "WARNING:astropy:FITSFixedWarning: 'datfix' made the change 'Set MJD-OBS to 55005.308090 from DATE-OBS'.\n",
      "WARNING: FITSFixedWarning: 'datfix' made the change 'Set MJD-OBS to 55005.308495 from DATE-OBS'. [astropy.wcs.wcs]\n",
      "WARNING:astropy:FITSFixedWarning: 'datfix' made the change 'Set MJD-OBS to 55005.308495 from DATE-OBS'.\n",
      "WARNING: FITSFixedWarning: 'datfix' made the change 'Set MJD-OBS to 55005.309074 from DATE-OBS'. [astropy.wcs.wcs]\n",
      "WARNING:astropy:FITSFixedWarning: 'datfix' made the change 'Set MJD-OBS to 55005.309074 from DATE-OBS'.\n",
      "WARNING: FITSFixedWarning: 'datfix' made the change 'Set MJD-OBS to 55005.309479 from DATE-OBS'. [astropy.wcs.wcs]\n",
      "WARNING:astropy:FITSFixedWarning: 'datfix' made the change 'Set MJD-OBS to 55005.309479 from DATE-OBS'.\n",
      "WARNING: FITSFixedWarning: 'datfix' made the change 'Set MJD-OBS to 55005.309954 from DATE-OBS'. [astropy.wcs.wcs]\n",
      "WARNING:astropy:FITSFixedWarning: 'datfix' made the change 'Set MJD-OBS to 55005.309954 from DATE-OBS'.\n",
      "WARNING: FITSFixedWarning: 'datfix' made the change 'Set MJD-OBS to 55005.310347 from DATE-OBS'. [astropy.wcs.wcs]\n",
      "WARNING:astropy:FITSFixedWarning: 'datfix' made the change 'Set MJD-OBS to 55005.310347 from DATE-OBS'.\n",
      "WARNING: FITSFixedWarning: 'datfix' made the change 'Set MJD-OBS to 55005.312639 from DATE-OBS'. [astropy.wcs.wcs]\n",
      "WARNING:astropy:FITSFixedWarning: 'datfix' made the change 'Set MJD-OBS to 55005.312639 from DATE-OBS'.\n",
      "WARNING: FITSFixedWarning: 'datfix' made the change 'Set MJD-OBS to 55005.313264 from DATE-OBS'. [astropy.wcs.wcs]\n",
      "WARNING:astropy:FITSFixedWarning: 'datfix' made the change 'Set MJD-OBS to 55005.313264 from DATE-OBS'.\n",
      "WARNING: FITSFixedWarning: 'datfix' made the change 'Set MJD-OBS to 55005.313889 from DATE-OBS'. [astropy.wcs.wcs]\n",
      "WARNING:astropy:FITSFixedWarning: 'datfix' made the change 'Set MJD-OBS to 55005.313889 from DATE-OBS'.\n",
      "WARNING: FITSFixedWarning: 'datfix' made the change 'Set MJD-OBS to 55005.314653 from DATE-OBS'. [astropy.wcs.wcs]\n",
      "WARNING:astropy:FITSFixedWarning: 'datfix' made the change 'Set MJD-OBS to 55005.314653 from DATE-OBS'.\n",
      "WARNING: FITSFixedWarning: 'datfix' made the change 'Set MJD-OBS to 55005.315278 from DATE-OBS'. [astropy.wcs.wcs]\n",
      "WARNING:astropy:FITSFixedWarning: 'datfix' made the change 'Set MJD-OBS to 55005.315278 from DATE-OBS'.\n",
      "WARNING: FITSFixedWarning: 'datfix' made the change 'Set MJD-OBS to 55005.315903 from DATE-OBS'. [astropy.wcs.wcs]\n",
      "WARNING:astropy:FITSFixedWarning: 'datfix' made the change 'Set MJD-OBS to 55005.315903 from DATE-OBS'.\n",
      "WARNING: FITSFixedWarning: 'datfix' made the change 'Set MJD-OBS to 55005.316725 from DATE-OBS'. [astropy.wcs.wcs]\n",
      "WARNING:astropy:FITSFixedWarning: 'datfix' made the change 'Set MJD-OBS to 55005.316725 from DATE-OBS'.\n",
      "WARNING: FITSFixedWarning: 'datfix' made the change 'Set MJD-OBS to 55005.317697 from DATE-OBS'. [astropy.wcs.wcs]\n",
      "WARNING:astropy:FITSFixedWarning: 'datfix' made the change 'Set MJD-OBS to 55005.317697 from DATE-OBS'.\n",
      "WARNING: FITSFixedWarning: 'datfix' made the change 'Set MJD-OBS to 55005.318669 from DATE-OBS'. [astropy.wcs.wcs]\n",
      "WARNING:astropy:FITSFixedWarning: 'datfix' made the change 'Set MJD-OBS to 55005.318669 from DATE-OBS'.\n",
      "WARNING: FITSFixedWarning: 'datfix' made the change 'Set MJD-OBS to 55005.360370 from DATE-OBS'. [astropy.wcs.wcs]\n",
      "WARNING:astropy:FITSFixedWarning: 'datfix' made the change 'Set MJD-OBS to 55005.360370 from DATE-OBS'.\n",
      "WARNING: FITSFixedWarning: 'datfix' made the change 'Set MJD-OBS to 55005.361354 from DATE-OBS'. [astropy.wcs.wcs]\n",
      "WARNING:astropy:FITSFixedWarning: 'datfix' made the change 'Set MJD-OBS to 55005.361354 from DATE-OBS'.\n",
      "WARNING: FITSFixedWarning: 'datfix' made the change 'Set MJD-OBS to 55005.362627 from DATE-OBS'. [astropy.wcs.wcs]\n",
      "WARNING:astropy:FITSFixedWarning: 'datfix' made the change 'Set MJD-OBS to 55005.362627 from DATE-OBS'.\n",
      "WARNING: FITSFixedWarning: 'datfix' made the change 'Set MJD-OBS to 55005.363252 from DATE-OBS'. [astropy.wcs.wcs]\n",
      "WARNING:astropy:FITSFixedWarning: 'datfix' made the change 'Set MJD-OBS to 55005.363252 from DATE-OBS'.\n",
      "WARNING: FITSFixedWarning: 'datfix' made the change 'Set MJD-OBS to 55005.363970 from DATE-OBS'. [astropy.wcs.wcs]\n",
      "WARNING:astropy:FITSFixedWarning: 'datfix' made the change 'Set MJD-OBS to 55005.363970 from DATE-OBS'.\n",
      "WARNING: FITSFixedWarning: 'datfix' made the change 'Set MJD-OBS to 55005.364375 from DATE-OBS'. [astropy.wcs.wcs]\n",
      "WARNING:astropy:FITSFixedWarning: 'datfix' made the change 'Set MJD-OBS to 55005.364375 from DATE-OBS'.\n",
      "WARNING: FITSFixedWarning: 'datfix' made the change 'Set MJD-OBS to 55005.364826 from DATE-OBS'. [astropy.wcs.wcs]\n",
      "WARNING:astropy:FITSFixedWarning: 'datfix' made the change 'Set MJD-OBS to 55005.364826 from DATE-OBS'.\n",
      "WARNING: FITSFixedWarning: 'datfix' made the change 'Set MJD-OBS to 55005.365220 from DATE-OBS'. [astropy.wcs.wcs]\n",
      "WARNING:astropy:FITSFixedWarning: 'datfix' made the change 'Set MJD-OBS to 55005.365220 from DATE-OBS'.\n",
      "WARNING: FITSFixedWarning: 'datfix' made the change 'Set MJD-OBS to 55005.366042 from DATE-OBS'. [astropy.wcs.wcs]\n",
      "WARNING:astropy:FITSFixedWarning: 'datfix' made the change 'Set MJD-OBS to 55005.366042 from DATE-OBS'.\n",
      "WARNING: FITSFixedWarning: 'datfix' made the change 'Set MJD-OBS to 55005.366435 from DATE-OBS'. [astropy.wcs.wcs]\n",
      "WARNING:astropy:FITSFixedWarning: 'datfix' made the change 'Set MJD-OBS to 55005.366435 from DATE-OBS'.\n",
      "WARNING: FITSFixedWarning: 'datfix' made the change 'Set MJD-OBS to 54333.443183 from DATE-OBS'. [astropy.wcs.wcs]\n",
      "WARNING:astropy:FITSFixedWarning: 'datfix' made the change 'Set MJD-OBS to 54333.443183 from DATE-OBS'.\n",
      "WARNING: FITSFixedWarning: 'datfix' made the change 'Set MJD-OBS to 54333.443507 from DATE-OBS'. [astropy.wcs.wcs]\n",
      "WARNING:astropy:FITSFixedWarning: 'datfix' made the change 'Set MJD-OBS to 54333.443507 from DATE-OBS'.\n",
      "WARNING: FITSFixedWarning: 'datfix' made the change 'Set MJD-OBS to 54333.443831 from DATE-OBS'. [astropy.wcs.wcs]\n",
      "WARNING:astropy:FITSFixedWarning: 'datfix' made the change 'Set MJD-OBS to 54333.443831 from DATE-OBS'.\n",
      "WARNING: FITSFixedWarning: 'datfix' made the change 'Set MJD-OBS to 54333.444155 from DATE-OBS'. [astropy.wcs.wcs]\n",
      "WARNING:astropy:FITSFixedWarning: 'datfix' made the change 'Set MJD-OBS to 54333.444155 from DATE-OBS'.\n",
      "WARNING: FITSFixedWarning: 'datfix' made the change 'Set MJD-OBS to 54333.444491 from DATE-OBS'. [astropy.wcs.wcs]\n",
      "WARNING:astropy:FITSFixedWarning: 'datfix' made the change 'Set MJD-OBS to 54333.444491 from DATE-OBS'.\n",
      "WARNING: FITSFixedWarning: 'datfix' made the change 'Set MJD-OBS to 54333.445370 from DATE-OBS'. [astropy.wcs.wcs]\n",
      "WARNING:astropy:FITSFixedWarning: 'datfix' made the change 'Set MJD-OBS to 54333.445370 from DATE-OBS'.\n",
      "WARNING: FITSFixedWarning: 'datfix' made the change 'Set MJD-OBS to 54333.445729 from DATE-OBS'. [astropy.wcs.wcs]\n",
      "WARNING:astropy:FITSFixedWarning: 'datfix' made the change 'Set MJD-OBS to 54333.445729 from DATE-OBS'.\n",
      "WARNING: FITSFixedWarning: 'datfix' made the change 'Set MJD-OBS to 54333.446100 from DATE-OBS'. [astropy.wcs.wcs]\n",
      "WARNING:astropy:FITSFixedWarning: 'datfix' made the change 'Set MJD-OBS to 54333.446100 from DATE-OBS'.\n",
      "WARNING: FITSFixedWarning: 'datfix' made the change 'Set MJD-OBS to 54333.446458 from DATE-OBS'. [astropy.wcs.wcs]\n",
      "WARNING:astropy:FITSFixedWarning: 'datfix' made the change 'Set MJD-OBS to 54333.446458 from DATE-OBS'.\n",
      "WARNING: FITSFixedWarning: 'datfix' made the change 'Set MJD-OBS to 54333.446817 from DATE-OBS'. [astropy.wcs.wcs]\n",
      "WARNING:astropy:FITSFixedWarning: 'datfix' made the change 'Set MJD-OBS to 54333.446817 from DATE-OBS'.\n",
      "WARNING: FITSFixedWarning: 'datfix' made the change 'Set MJD-OBS to 54333.447546 from DATE-OBS'. [astropy.wcs.wcs]\n",
      "WARNING:astropy:FITSFixedWarning: 'datfix' made the change 'Set MJD-OBS to 54333.447546 from DATE-OBS'.\n",
      "WARNING: FITSFixedWarning: 'datfix' made the change 'Set MJD-OBS to 54333.451319 from DATE-OBS'. [astropy.wcs.wcs]\n",
      "WARNING:astropy:FITSFixedWarning: 'datfix' made the change 'Set MJD-OBS to 54333.451319 from DATE-OBS'.\n",
      "WARNING: FITSFixedWarning: 'datfix' made the change 'Set MJD-OBS to 54333.455093 from DATE-OBS'. [astropy.wcs.wcs]\n",
      "WARNING:astropy:FITSFixedWarning: 'datfix' made the change 'Set MJD-OBS to 54333.455093 from DATE-OBS'.\n",
      "WARNING: FITSFixedWarning: 'datfix' made the change 'Set MJD-OBS to 54333.458866 from DATE-OBS'. [astropy.wcs.wcs]\n",
      "WARNING:astropy:FITSFixedWarning: 'datfix' made the change 'Set MJD-OBS to 54333.458866 from DATE-OBS'.\n",
      "WARNING: FITSFixedWarning: 'datfix' made the change 'Set MJD-OBS to 54333.462639 from DATE-OBS'. [astropy.wcs.wcs]\n",
      "WARNING:astropy:FITSFixedWarning: 'datfix' made the change 'Set MJD-OBS to 54333.462639 from DATE-OBS'.\n"
     ]
    }
   ],
   "source": [
    "model = Polynomial1D(3)\n",
    "\n",
    "# loop over all frames and do subtraction and trim\n",
    "for ccd, file_name in imgs.ccds(ccd_kwargs={'unit': 'adu'},return_fname=True):\n",
    "    ccd = ccdp.subtract_overscan(ccd, fits_section=ccd.header['biassec'], median=False, model=model)  # subtract overscan, fits index\n",
    "    ccd = ccdp.trim_image(ccd,fits_section=ccd.header['trimsec']) # trim images\n",
    "    outfile = file_name.strip('.fits')+'ot.fits'\n",
    "    ccd.write(reduced_dir+'/'+outfile, overwrite=True) # save the result"
   ]
  },
  {
   "cell_type": "markdown",
   "id": "616a48d6-2620-4cc7-b086-723492674a21",
   "metadata": {},
   "source": [
    "We now make a master bias from the overscan subtracted and trimmed frames with 3-sigma clipping"
   ]
  },
  {
   "cell_type": "code",
   "execution_count": 41,
   "id": "4aad9a6e-663d-4a5d-9fea-4f40c3ddba92",
   "metadata": {
    "tags": []
   },
   "outputs": [
    {
     "name": "stderr",
     "output_type": "stream",
     "text": [
      "INFO:astropy:using the unit adu passed to the FITS reader instead of the unit adu in the FITS file.\n",
      "WARNING: FITSFixedWarning: 'datfix' made the change 'Set MJD-OBS to 55005.180382 from DATE-OBS'. [astropy.wcs.wcs]\n",
      "WARNING:astropy:FITSFixedWarning: 'datfix' made the change 'Set MJD-OBS to 55005.180382 from DATE-OBS'.\n",
      "INFO:astropy:splitting each image into 11 chunks to limit memory usage to 350000000.0 bytes.\n",
      "INFO:astropy:using the unit adu passed to the FITS reader instead of the unit adu in the FITS file.\n"
     ]
    },
    {
     "name": "stdout",
     "output_type": "stream",
     "text": [
      "INFO: using the unit adu passed to the FITS reader instead of the unit adu in the FITS file. [astropy.nddata.ccddata]\n",
      "INFO: splitting each image into 11 chunks to limit memory usage to 350000000.0 bytes. [ccdproc.combiner]\n",
      "INFO: using the unit adu passed to the FITS reader instead of the unit adu in the FITS file. [astropy.nddata.ccddata]\n"
     ]
    },
    {
     "name": "stderr",
     "output_type": "stream",
     "text": [
      "INFO:astropy:using the unit adu passed to the FITS reader instead of the unit adu in the FITS file.\n",
      "WARNING: FITSFixedWarning: 'datfix' made the change 'Set MJD-OBS to 55005.180660 from DATE-OBS'. [astropy.wcs.wcs]\n",
      "WARNING:astropy:FITSFixedWarning: 'datfix' made the change 'Set MJD-OBS to 55005.180660 from DATE-OBS'.\n",
      "INFO:astropy:using the unit adu passed to the FITS reader instead of the unit adu in the FITS file.\n",
      "WARNING: FITSFixedWarning: 'datfix' made the change 'Set MJD-OBS to 55005.180938 from DATE-OBS'. [astropy.wcs.wcs]\n",
      "WARNING:astropy:FITSFixedWarning: 'datfix' made the change 'Set MJD-OBS to 55005.180938 from DATE-OBS'.\n",
      "INFO:astropy:using the unit adu passed to the FITS reader instead of the unit adu in the FITS file.\n",
      "WARNING: FITSFixedWarning: 'datfix' made the change 'Set MJD-OBS to 55005.181227 from DATE-OBS'. [astropy.wcs.wcs]\n",
      "WARNING:astropy:FITSFixedWarning: 'datfix' made the change 'Set MJD-OBS to 55005.181227 from DATE-OBS'.\n",
      "INFO:astropy:using the unit adu passed to the FITS reader instead of the unit adu in the FITS file.\n",
      "WARNING: FITSFixedWarning: 'datfix' made the change 'Set MJD-OBS to 55005.181505 from DATE-OBS'. [astropy.wcs.wcs]\n",
      "WARNING:astropy:FITSFixedWarning: 'datfix' made the change 'Set MJD-OBS to 55005.181505 from DATE-OBS'.\n",
      "INFO:astropy:using the unit adu passed to the FITS reader instead of the unit adu in the FITS file.\n",
      "WARNING: FITSFixedWarning: 'datfix' made the change 'Set MJD-OBS to 55005.181782 from DATE-OBS'. [astropy.wcs.wcs]\n",
      "WARNING:astropy:FITSFixedWarning: 'datfix' made the change 'Set MJD-OBS to 55005.181782 from DATE-OBS'.\n",
      "INFO:astropy:using the unit adu passed to the FITS reader instead of the unit adu in the FITS file.\n"
     ]
    },
    {
     "name": "stdout",
     "output_type": "stream",
     "text": [
      "INFO: using the unit adu passed to the FITS reader instead of the unit adu in the FITS file. [astropy.nddata.ccddata]\n",
      "INFO: using the unit adu passed to the FITS reader instead of the unit adu in the FITS file. [astropy.nddata.ccddata]\n",
      "INFO: using the unit adu passed to the FITS reader instead of the unit adu in the FITS file. [astropy.nddata.ccddata]\n",
      "INFO: using the unit adu passed to the FITS reader instead of the unit adu in the FITS file. [astropy.nddata.ccddata]\n",
      "INFO: using the unit adu passed to the FITS reader instead of the unit adu in the FITS file. [astropy.nddata.ccddata]\n",
      "INFO: using the unit adu passed to the FITS reader instead of the unit adu in the FITS file. [astropy.nddata.ccddata]\n"
     ]
    },
    {
     "name": "stderr",
     "output_type": "stream",
     "text": [
      "WARNING: FITSFixedWarning: 'datfix' made the change 'Set MJD-OBS to 55005.182060 from DATE-OBS'. [astropy.wcs.wcs]\n",
      "WARNING:astropy:FITSFixedWarning: 'datfix' made the change 'Set MJD-OBS to 55005.182060 from DATE-OBS'.\n",
      "INFO:astropy:using the unit adu passed to the FITS reader instead of the unit adu in the FITS file.\n",
      "WARNING: FITSFixedWarning: 'datfix' made the change 'Set MJD-OBS to 55005.182338 from DATE-OBS'. [astropy.wcs.wcs]\n",
      "WARNING:astropy:FITSFixedWarning: 'datfix' made the change 'Set MJD-OBS to 55005.182338 from DATE-OBS'.\n",
      "INFO:astropy:using the unit adu passed to the FITS reader instead of the unit adu in the FITS file.\n",
      "WARNING: FITSFixedWarning: 'datfix' made the change 'Set MJD-OBS to 55005.182616 from DATE-OBS'. [astropy.wcs.wcs]\n",
      "WARNING:astropy:FITSFixedWarning: 'datfix' made the change 'Set MJD-OBS to 55005.182616 from DATE-OBS'.\n",
      "INFO:astropy:using the unit adu passed to the FITS reader instead of the unit adu in the FITS file.\n",
      "WARNING: FITSFixedWarning: 'datfix' made the change 'Set MJD-OBS to 55005.182894 from DATE-OBS'. [astropy.wcs.wcs]\n",
      "WARNING:astropy:FITSFixedWarning: 'datfix' made the change 'Set MJD-OBS to 55005.182894 from DATE-OBS'.\n",
      "INFO:astropy:using the unit adu passed to the FITS reader instead of the unit adu in the FITS file.\n",
      "WARNING: FITSFixedWarning: 'datfix' made the change 'Set MJD-OBS to 55005.183171 from DATE-OBS'. [astropy.wcs.wcs]\n",
      "WARNING:astropy:FITSFixedWarning: 'datfix' made the change 'Set MJD-OBS to 55005.183171 from DATE-OBS'.\n",
      "INFO:astropy:using the unit adu passed to the FITS reader instead of the unit adu in the FITS file.\n",
      "WARNING: FITSFixedWarning: 'datfix' made the change 'Set MJD-OBS to 55005.183449 from DATE-OBS'. [astropy.wcs.wcs]\n",
      "WARNING:astropy:FITSFixedWarning: 'datfix' made the change 'Set MJD-OBS to 55005.183449 from DATE-OBS'.\n",
      "INFO:astropy:using the unit adu passed to the FITS reader instead of the unit adu in the FITS file.\n",
      "WARNING: FITSFixedWarning: 'datfix' made the change 'Set MJD-OBS to 55005.183727 from DATE-OBS'. [astropy.wcs.wcs]\n",
      "WARNING:astropy:FITSFixedWarning: 'datfix' made the change 'Set MJD-OBS to 55005.183727 from DATE-OBS'.\n",
      "INFO:astropy:using the unit adu passed to the FITS reader instead of the unit adu in the FITS file.\n"
     ]
    },
    {
     "name": "stdout",
     "output_type": "stream",
     "text": [
      "INFO: using the unit adu passed to the FITS reader instead of the unit adu in the FITS file. [astropy.nddata.ccddata]\n",
      "INFO: using the unit adu passed to the FITS reader instead of the unit adu in the FITS file. [astropy.nddata.ccddata]\n",
      "INFO: using the unit adu passed to the FITS reader instead of the unit adu in the FITS file. [astropy.nddata.ccddata]\n",
      "INFO: using the unit adu passed to the FITS reader instead of the unit adu in the FITS file. [astropy.nddata.ccddata]\n",
      "INFO: using the unit adu passed to the FITS reader instead of the unit adu in the FITS file. [astropy.nddata.ccddata]\n",
      "INFO: using the unit adu passed to the FITS reader instead of the unit adu in the FITS file. [astropy.nddata.ccddata]\n",
      "INFO: using the unit adu passed to the FITS reader instead of the unit adu in the FITS file. [astropy.nddata.ccddata]\n"
     ]
    },
    {
     "name": "stderr",
     "output_type": "stream",
     "text": [
      "WARNING: FITSFixedWarning: 'datfix' made the change 'Set MJD-OBS to 55005.184005 from DATE-OBS'. [astropy.wcs.wcs]\n",
      "WARNING:astropy:FITSFixedWarning: 'datfix' made the change 'Set MJD-OBS to 55005.184005 from DATE-OBS'.\n",
      "INFO:astropy:using the unit adu passed to the FITS reader instead of the unit adu in the FITS file.\n",
      "WARNING: FITSFixedWarning: 'datfix' made the change 'Set MJD-OBS to 55005.184282 from DATE-OBS'. [astropy.wcs.wcs]\n",
      "WARNING:astropy:FITSFixedWarning: 'datfix' made the change 'Set MJD-OBS to 55005.184282 from DATE-OBS'.\n",
      "INFO:astropy:using the unit adu passed to the FITS reader instead of the unit adu in the FITS file.\n",
      "WARNING: FITSFixedWarning: 'datfix' made the change 'Set MJD-OBS to 55005.184572 from DATE-OBS'. [astropy.wcs.wcs]\n",
      "WARNING:astropy:FITSFixedWarning: 'datfix' made the change 'Set MJD-OBS to 55005.184572 from DATE-OBS'.\n",
      "INFO:astropy:using the unit adu passed to the FITS reader instead of the unit adu in the FITS file.\n",
      "WARNING: FITSFixedWarning: 'datfix' made the change 'Set MJD-OBS to 55005.184850 from DATE-OBS'. [astropy.wcs.wcs]\n",
      "WARNING:astropy:FITSFixedWarning: 'datfix' made the change 'Set MJD-OBS to 55005.184850 from DATE-OBS'.\n",
      "INFO:astropy:using the unit adu passed to the FITS reader instead of the unit adu in the FITS file.\n",
      "WARNING: FITSFixedWarning: 'datfix' made the change 'Set MJD-OBS to 55005.185127 from DATE-OBS'. [astropy.wcs.wcs]\n",
      "WARNING:astropy:FITSFixedWarning: 'datfix' made the change 'Set MJD-OBS to 55005.185127 from DATE-OBS'.\n",
      "INFO:astropy:using the unit adu passed to the FITS reader instead of the unit adu in the FITS file.\n",
      "WARNING: FITSFixedWarning: 'datfix' made the change 'Set MJD-OBS to 55005.185405 from DATE-OBS'. [astropy.wcs.wcs]\n",
      "WARNING:astropy:FITSFixedWarning: 'datfix' made the change 'Set MJD-OBS to 55005.185405 from DATE-OBS'.\n"
     ]
    },
    {
     "name": "stdout",
     "output_type": "stream",
     "text": [
      "INFO: using the unit adu passed to the FITS reader instead of the unit adu in the FITS file. [astropy.nddata.ccddata]\n",
      "INFO: using the unit adu passed to the FITS reader instead of the unit adu in the FITS file. [astropy.nddata.ccddata]\n",
      "INFO: using the unit adu passed to the FITS reader instead of the unit adu in the FITS file. [astropy.nddata.ccddata]\n",
      "INFO: using the unit adu passed to the FITS reader instead of the unit adu in the FITS file. [astropy.nddata.ccddata]\n",
      "INFO: using the unit adu passed to the FITS reader instead of the unit adu in the FITS file. [astropy.nddata.ccddata]\n"
     ]
    },
    {
     "name": "stderr",
     "output_type": "stream",
     "text": [
      "INFO:astropy:using the unit adu passed to the FITS reader instead of the unit adu in the FITS file.\n",
      "WARNING: FITSFixedWarning: 'datfix' made the change 'Set MJD-OBS to 55005.180382 from DATE-OBS'. [astropy.wcs.wcs]\n",
      "WARNING:astropy:FITSFixedWarning: 'datfix' made the change 'Set MJD-OBS to 55005.180382 from DATE-OBS'.\n",
      "INFO:astropy:using the unit adu passed to the FITS reader instead of the unit adu in the FITS file.\n",
      "WARNING: FITSFixedWarning: 'datfix' made the change 'Set MJD-OBS to 55005.180660 from DATE-OBS'. [astropy.wcs.wcs]\n",
      "WARNING:astropy:FITSFixedWarning: 'datfix' made the change 'Set MJD-OBS to 55005.180660 from DATE-OBS'.\n",
      "INFO:astropy:using the unit adu passed to the FITS reader instead of the unit adu in the FITS file.\n",
      "WARNING: FITSFixedWarning: 'datfix' made the change 'Set MJD-OBS to 55005.180938 from DATE-OBS'. [astropy.wcs.wcs]\n",
      "WARNING:astropy:FITSFixedWarning: 'datfix' made the change 'Set MJD-OBS to 55005.180938 from DATE-OBS'.\n",
      "INFO:astropy:using the unit adu passed to the FITS reader instead of the unit adu in the FITS file.\n",
      "WARNING: FITSFixedWarning: 'datfix' made the change 'Set MJD-OBS to 55005.181227 from DATE-OBS'. [astropy.wcs.wcs]\n",
      "WARNING:astropy:FITSFixedWarning: 'datfix' made the change 'Set MJD-OBS to 55005.181227 from DATE-OBS'.\n",
      "INFO:astropy:using the unit adu passed to the FITS reader instead of the unit adu in the FITS file.\n"
     ]
    },
    {
     "name": "stdout",
     "output_type": "stream",
     "text": [
      "INFO: using the unit adu passed to the FITS reader instead of the unit adu in the FITS file. [astropy.nddata.ccddata]\n",
      "INFO: using the unit adu passed to the FITS reader instead of the unit adu in the FITS file. [astropy.nddata.ccddata]\n",
      "INFO: using the unit adu passed to the FITS reader instead of the unit adu in the FITS file. [astropy.nddata.ccddata]\n",
      "INFO: using the unit adu passed to the FITS reader instead of the unit adu in the FITS file. [astropy.nddata.ccddata]\n",
      "INFO: using the unit adu passed to the FITS reader instead of the unit adu in the FITS file. [astropy.nddata.ccddata]\n"
     ]
    },
    {
     "name": "stderr",
     "output_type": "stream",
     "text": [
      "WARNING: FITSFixedWarning: 'datfix' made the change 'Set MJD-OBS to 55005.181505 from DATE-OBS'. [astropy.wcs.wcs]\n",
      "WARNING:astropy:FITSFixedWarning: 'datfix' made the change 'Set MJD-OBS to 55005.181505 from DATE-OBS'.\n",
      "INFO:astropy:using the unit adu passed to the FITS reader instead of the unit adu in the FITS file.\n",
      "WARNING: FITSFixedWarning: 'datfix' made the change 'Set MJD-OBS to 55005.181782 from DATE-OBS'. [astropy.wcs.wcs]\n",
      "WARNING:astropy:FITSFixedWarning: 'datfix' made the change 'Set MJD-OBS to 55005.181782 from DATE-OBS'.\n",
      "INFO:astropy:using the unit adu passed to the FITS reader instead of the unit adu in the FITS file.\n",
      "WARNING: FITSFixedWarning: 'datfix' made the change 'Set MJD-OBS to 55005.182060 from DATE-OBS'. [astropy.wcs.wcs]\n",
      "WARNING:astropy:FITSFixedWarning: 'datfix' made the change 'Set MJD-OBS to 55005.182060 from DATE-OBS'.\n",
      "INFO:astropy:using the unit adu passed to the FITS reader instead of the unit adu in the FITS file.\n",
      "WARNING: FITSFixedWarning: 'datfix' made the change 'Set MJD-OBS to 55005.182338 from DATE-OBS'. [astropy.wcs.wcs]\n",
      "WARNING:astropy:FITSFixedWarning: 'datfix' made the change 'Set MJD-OBS to 55005.182338 from DATE-OBS'.\n",
      "INFO:astropy:using the unit adu passed to the FITS reader instead of the unit adu in the FITS file.\n",
      "WARNING: FITSFixedWarning: 'datfix' made the change 'Set MJD-OBS to 55005.182616 from DATE-OBS'. [astropy.wcs.wcs]\n",
      "WARNING:astropy:FITSFixedWarning: 'datfix' made the change 'Set MJD-OBS to 55005.182616 from DATE-OBS'.\n",
      "INFO:astropy:using the unit adu passed to the FITS reader instead of the unit adu in the FITS file.\n",
      "WARNING: FITSFixedWarning: 'datfix' made the change 'Set MJD-OBS to 55005.182894 from DATE-OBS'. [astropy.wcs.wcs]\n",
      "WARNING:astropy:FITSFixedWarning: 'datfix' made the change 'Set MJD-OBS to 55005.182894 from DATE-OBS'.\n",
      "INFO:astropy:using the unit adu passed to the FITS reader instead of the unit adu in the FITS file.\n"
     ]
    },
    {
     "name": "stdout",
     "output_type": "stream",
     "text": [
      "INFO: using the unit adu passed to the FITS reader instead of the unit adu in the FITS file. [astropy.nddata.ccddata]\n",
      "INFO: using the unit adu passed to the FITS reader instead of the unit adu in the FITS file. [astropy.nddata.ccddata]\n",
      "INFO: using the unit adu passed to the FITS reader instead of the unit adu in the FITS file. [astropy.nddata.ccddata]\n",
      "INFO: using the unit adu passed to the FITS reader instead of the unit adu in the FITS file. [astropy.nddata.ccddata]\n",
      "INFO: using the unit adu passed to the FITS reader instead of the unit adu in the FITS file. [astropy.nddata.ccddata]\n",
      "INFO: using the unit adu passed to the FITS reader instead of the unit adu in the FITS file. [astropy.nddata.ccddata]\n"
     ]
    },
    {
     "name": "stderr",
     "output_type": "stream",
     "text": [
      "WARNING: FITSFixedWarning: 'datfix' made the change 'Set MJD-OBS to 55005.183171 from DATE-OBS'. [astropy.wcs.wcs]\n",
      "WARNING:astropy:FITSFixedWarning: 'datfix' made the change 'Set MJD-OBS to 55005.183171 from DATE-OBS'.\n",
      "INFO:astropy:using the unit adu passed to the FITS reader instead of the unit adu in the FITS file.\n",
      "WARNING: FITSFixedWarning: 'datfix' made the change 'Set MJD-OBS to 55005.183449 from DATE-OBS'. [astropy.wcs.wcs]\n",
      "WARNING:astropy:FITSFixedWarning: 'datfix' made the change 'Set MJD-OBS to 55005.183449 from DATE-OBS'.\n",
      "INFO:astropy:using the unit adu passed to the FITS reader instead of the unit adu in the FITS file.\n",
      "WARNING: FITSFixedWarning: 'datfix' made the change 'Set MJD-OBS to 55005.183727 from DATE-OBS'. [astropy.wcs.wcs]\n",
      "WARNING:astropy:FITSFixedWarning: 'datfix' made the change 'Set MJD-OBS to 55005.183727 from DATE-OBS'.\n",
      "INFO:astropy:using the unit adu passed to the FITS reader instead of the unit adu in the FITS file.\n",
      "WARNING: FITSFixedWarning: 'datfix' made the change 'Set MJD-OBS to 55005.184005 from DATE-OBS'. [astropy.wcs.wcs]\n",
      "WARNING:astropy:FITSFixedWarning: 'datfix' made the change 'Set MJD-OBS to 55005.184005 from DATE-OBS'.\n",
      "INFO:astropy:using the unit adu passed to the FITS reader instead of the unit adu in the FITS file.\n",
      "WARNING: FITSFixedWarning: 'datfix' made the change 'Set MJD-OBS to 55005.184282 from DATE-OBS'. [astropy.wcs.wcs]\n",
      "WARNING:astropy:FITSFixedWarning: 'datfix' made the change 'Set MJD-OBS to 55005.184282 from DATE-OBS'.\n",
      "INFO:astropy:using the unit adu passed to the FITS reader instead of the unit adu in the FITS file.\n",
      "WARNING: FITSFixedWarning: 'datfix' made the change 'Set MJD-OBS to 55005.184572 from DATE-OBS'. [astropy.wcs.wcs]\n",
      "WARNING:astropy:FITSFixedWarning: 'datfix' made the change 'Set MJD-OBS to 55005.184572 from DATE-OBS'.\n",
      "INFO:astropy:using the unit adu passed to the FITS reader instead of the unit adu in the FITS file.\n",
      "WARNING: FITSFixedWarning: 'datfix' made the change 'Set MJD-OBS to 55005.184850 from DATE-OBS'. [astropy.wcs.wcs]\n",
      "WARNING:astropy:FITSFixedWarning: 'datfix' made the change 'Set MJD-OBS to 55005.184850 from DATE-OBS'.\n"
     ]
    },
    {
     "name": "stdout",
     "output_type": "stream",
     "text": [
      "INFO: using the unit adu passed to the FITS reader instead of the unit adu in the FITS file. [astropy.nddata.ccddata]\n",
      "INFO: using the unit adu passed to the FITS reader instead of the unit adu in the FITS file. [astropy.nddata.ccddata]\n",
      "INFO: using the unit adu passed to the FITS reader instead of the unit adu in the FITS file. [astropy.nddata.ccddata]\n",
      "INFO: using the unit adu passed to the FITS reader instead of the unit adu in the FITS file. [astropy.nddata.ccddata]\n",
      "INFO: using the unit adu passed to the FITS reader instead of the unit adu in the FITS file. [astropy.nddata.ccddata]\n",
      "INFO: using the unit adu passed to the FITS reader instead of the unit adu in the FITS file. [astropy.nddata.ccddata]\n"
     ]
    },
    {
     "name": "stderr",
     "output_type": "stream",
     "text": [
      "INFO:astropy:using the unit adu passed to the FITS reader instead of the unit adu in the FITS file.\n",
      "WARNING: FITSFixedWarning: 'datfix' made the change 'Set MJD-OBS to 55005.185127 from DATE-OBS'. [astropy.wcs.wcs]\n",
      "WARNING:astropy:FITSFixedWarning: 'datfix' made the change 'Set MJD-OBS to 55005.185127 from DATE-OBS'.\n",
      "INFO:astropy:using the unit adu passed to the FITS reader instead of the unit adu in the FITS file.\n",
      "WARNING: FITSFixedWarning: 'datfix' made the change 'Set MJD-OBS to 55005.185405 from DATE-OBS'. [astropy.wcs.wcs]\n",
      "WARNING:astropy:FITSFixedWarning: 'datfix' made the change 'Set MJD-OBS to 55005.185405 from DATE-OBS'.\n"
     ]
    },
    {
     "name": "stdout",
     "output_type": "stream",
     "text": [
      "INFO: using the unit adu passed to the FITS reader instead of the unit adu in the FITS file. [astropy.nddata.ccddata]\n",
      "INFO: using the unit adu passed to the FITS reader instead of the unit adu in the FITS file. [astropy.nddata.ccddata]\n"
     ]
    },
    {
     "name": "stderr",
     "output_type": "stream",
     "text": [
      "INFO:astropy:using the unit adu passed to the FITS reader instead of the unit adu in the FITS file.\n",
      "WARNING: FITSFixedWarning: 'datfix' made the change 'Set MJD-OBS to 55005.180382 from DATE-OBS'. [astropy.wcs.wcs]\n",
      "WARNING:astropy:FITSFixedWarning: 'datfix' made the change 'Set MJD-OBS to 55005.180382 from DATE-OBS'.\n",
      "INFO:astropy:using the unit adu passed to the FITS reader instead of the unit adu in the FITS file.\n",
      "WARNING: FITSFixedWarning: 'datfix' made the change 'Set MJD-OBS to 55005.180660 from DATE-OBS'. [astropy.wcs.wcs]\n",
      "WARNING:astropy:FITSFixedWarning: 'datfix' made the change 'Set MJD-OBS to 55005.180660 from DATE-OBS'.\n",
      "INFO:astropy:using the unit adu passed to the FITS reader instead of the unit adu in the FITS file.\n",
      "WARNING: FITSFixedWarning: 'datfix' made the change 'Set MJD-OBS to 55005.180938 from DATE-OBS'. [astropy.wcs.wcs]\n",
      "WARNING:astropy:FITSFixedWarning: 'datfix' made the change 'Set MJD-OBS to 55005.180938 from DATE-OBS'.\n",
      "INFO:astropy:using the unit adu passed to the FITS reader instead of the unit adu in the FITS file.\n",
      "WARNING: FITSFixedWarning: 'datfix' made the change 'Set MJD-OBS to 55005.181227 from DATE-OBS'. [astropy.wcs.wcs]\n",
      "WARNING:astropy:FITSFixedWarning: 'datfix' made the change 'Set MJD-OBS to 55005.181227 from DATE-OBS'.\n",
      "INFO:astropy:using the unit adu passed to the FITS reader instead of the unit adu in the FITS file.\n",
      "WARNING: FITSFixedWarning: 'datfix' made the change 'Set MJD-OBS to 55005.181505 from DATE-OBS'. [astropy.wcs.wcs]\n",
      "WARNING:astropy:FITSFixedWarning: 'datfix' made the change 'Set MJD-OBS to 55005.181505 from DATE-OBS'.\n",
      "INFO:astropy:using the unit adu passed to the FITS reader instead of the unit adu in the FITS file.\n"
     ]
    },
    {
     "name": "stdout",
     "output_type": "stream",
     "text": [
      "INFO: using the unit adu passed to the FITS reader instead of the unit adu in the FITS file. [astropy.nddata.ccddata]\n",
      "INFO: using the unit adu passed to the FITS reader instead of the unit adu in the FITS file. [astropy.nddata.ccddata]\n",
      "INFO: using the unit adu passed to the FITS reader instead of the unit adu in the FITS file. [astropy.nddata.ccddata]\n",
      "INFO: using the unit adu passed to the FITS reader instead of the unit adu in the FITS file. [astropy.nddata.ccddata]\n",
      "INFO: using the unit adu passed to the FITS reader instead of the unit adu in the FITS file. [astropy.nddata.ccddata]\n",
      "INFO: using the unit adu passed to the FITS reader instead of the unit adu in the FITS file. [astropy.nddata.ccddata]\n"
     ]
    },
    {
     "name": "stderr",
     "output_type": "stream",
     "text": [
      "WARNING: FITSFixedWarning: 'datfix' made the change 'Set MJD-OBS to 55005.181782 from DATE-OBS'. [astropy.wcs.wcs]\n",
      "WARNING:astropy:FITSFixedWarning: 'datfix' made the change 'Set MJD-OBS to 55005.181782 from DATE-OBS'.\n",
      "INFO:astropy:using the unit adu passed to the FITS reader instead of the unit adu in the FITS file.\n",
      "WARNING: FITSFixedWarning: 'datfix' made the change 'Set MJD-OBS to 55005.182060 from DATE-OBS'. [astropy.wcs.wcs]\n",
      "WARNING:astropy:FITSFixedWarning: 'datfix' made the change 'Set MJD-OBS to 55005.182060 from DATE-OBS'.\n",
      "INFO:astropy:using the unit adu passed to the FITS reader instead of the unit adu in the FITS file.\n",
      "WARNING: FITSFixedWarning: 'datfix' made the change 'Set MJD-OBS to 55005.182338 from DATE-OBS'. [astropy.wcs.wcs]\n",
      "WARNING:astropy:FITSFixedWarning: 'datfix' made the change 'Set MJD-OBS to 55005.182338 from DATE-OBS'.\n",
      "INFO:astropy:using the unit adu passed to the FITS reader instead of the unit adu in the FITS file.\n",
      "WARNING: FITSFixedWarning: 'datfix' made the change 'Set MJD-OBS to 55005.182616 from DATE-OBS'. [astropy.wcs.wcs]\n",
      "WARNING:astropy:FITSFixedWarning: 'datfix' made the change 'Set MJD-OBS to 55005.182616 from DATE-OBS'.\n",
      "INFO:astropy:using the unit adu passed to the FITS reader instead of the unit adu in the FITS file.\n",
      "WARNING: FITSFixedWarning: 'datfix' made the change 'Set MJD-OBS to 55005.182894 from DATE-OBS'. [astropy.wcs.wcs]\n",
      "WARNING:astropy:FITSFixedWarning: 'datfix' made the change 'Set MJD-OBS to 55005.182894 from DATE-OBS'.\n",
      "INFO:astropy:using the unit adu passed to the FITS reader instead of the unit adu in the FITS file.\n",
      "WARNING: FITSFixedWarning: 'datfix' made the change 'Set MJD-OBS to 55005.183171 from DATE-OBS'. [astropy.wcs.wcs]\n",
      "WARNING:astropy:FITSFixedWarning: 'datfix' made the change 'Set MJD-OBS to 55005.183171 from DATE-OBS'.\n"
     ]
    },
    {
     "name": "stdout",
     "output_type": "stream",
     "text": [
      "INFO: using the unit adu passed to the FITS reader instead of the unit adu in the FITS file. [astropy.nddata.ccddata]\n",
      "INFO: using the unit adu passed to the FITS reader instead of the unit adu in the FITS file. [astropy.nddata.ccddata]\n",
      "INFO: using the unit adu passed to the FITS reader instead of the unit adu in the FITS file. [astropy.nddata.ccddata]\n",
      "INFO: using the unit adu passed to the FITS reader instead of the unit adu in the FITS file. [astropy.nddata.ccddata]\n",
      "INFO: using the unit adu passed to the FITS reader instead of the unit adu in the FITS file. [astropy.nddata.ccddata]\n"
     ]
    },
    {
     "name": "stderr",
     "output_type": "stream",
     "text": [
      "INFO:astropy:using the unit adu passed to the FITS reader instead of the unit adu in the FITS file.\n",
      "WARNING: FITSFixedWarning: 'datfix' made the change 'Set MJD-OBS to 55005.183449 from DATE-OBS'. [astropy.wcs.wcs]\n",
      "WARNING:astropy:FITSFixedWarning: 'datfix' made the change 'Set MJD-OBS to 55005.183449 from DATE-OBS'.\n",
      "INFO:astropy:using the unit adu passed to the FITS reader instead of the unit adu in the FITS file.\n",
      "WARNING: FITSFixedWarning: 'datfix' made the change 'Set MJD-OBS to 55005.183727 from DATE-OBS'. [astropy.wcs.wcs]\n",
      "WARNING:astropy:FITSFixedWarning: 'datfix' made the change 'Set MJD-OBS to 55005.183727 from DATE-OBS'.\n",
      "INFO:astropy:using the unit adu passed to the FITS reader instead of the unit adu in the FITS file.\n",
      "WARNING: FITSFixedWarning: 'datfix' made the change 'Set MJD-OBS to 55005.184005 from DATE-OBS'. [astropy.wcs.wcs]\n",
      "WARNING:astropy:FITSFixedWarning: 'datfix' made the change 'Set MJD-OBS to 55005.184005 from DATE-OBS'.\n",
      "INFO:astropy:using the unit adu passed to the FITS reader instead of the unit adu in the FITS file.\n",
      "WARNING: FITSFixedWarning: 'datfix' made the change 'Set MJD-OBS to 55005.184282 from DATE-OBS'. [astropy.wcs.wcs]\n",
      "WARNING:astropy:FITSFixedWarning: 'datfix' made the change 'Set MJD-OBS to 55005.184282 from DATE-OBS'.\n",
      "INFO:astropy:using the unit adu passed to the FITS reader instead of the unit adu in the FITS file.\n",
      "WARNING: FITSFixedWarning: 'datfix' made the change 'Set MJD-OBS to 55005.184572 from DATE-OBS'. [astropy.wcs.wcs]\n",
      "WARNING:astropy:FITSFixedWarning: 'datfix' made the change 'Set MJD-OBS to 55005.184572 from DATE-OBS'.\n",
      "INFO:astropy:using the unit adu passed to the FITS reader instead of the unit adu in the FITS file.\n"
     ]
    },
    {
     "name": "stdout",
     "output_type": "stream",
     "text": [
      "INFO: using the unit adu passed to the FITS reader instead of the unit adu in the FITS file. [astropy.nddata.ccddata]\n",
      "INFO: using the unit adu passed to the FITS reader instead of the unit adu in the FITS file. [astropy.nddata.ccddata]\n",
      "INFO: using the unit adu passed to the FITS reader instead of the unit adu in the FITS file. [astropy.nddata.ccddata]\n",
      "INFO: using the unit adu passed to the FITS reader instead of the unit adu in the FITS file. [astropy.nddata.ccddata]\n",
      "INFO: using the unit adu passed to the FITS reader instead of the unit adu in the FITS file. [astropy.nddata.ccddata]\n",
      "INFO: using the unit adu passed to the FITS reader instead of the unit adu in the FITS file. [astropy.nddata.ccddata]\n"
     ]
    },
    {
     "name": "stderr",
     "output_type": "stream",
     "text": [
      "WARNING: FITSFixedWarning: 'datfix' made the change 'Set MJD-OBS to 55005.184850 from DATE-OBS'. [astropy.wcs.wcs]\n",
      "WARNING:astropy:FITSFixedWarning: 'datfix' made the change 'Set MJD-OBS to 55005.184850 from DATE-OBS'.\n",
      "INFO:astropy:using the unit adu passed to the FITS reader instead of the unit adu in the FITS file.\n",
      "WARNING: FITSFixedWarning: 'datfix' made the change 'Set MJD-OBS to 55005.185127 from DATE-OBS'. [astropy.wcs.wcs]\n",
      "WARNING:astropy:FITSFixedWarning: 'datfix' made the change 'Set MJD-OBS to 55005.185127 from DATE-OBS'.\n",
      "INFO:astropy:using the unit adu passed to the FITS reader instead of the unit adu in the FITS file.\n",
      "WARNING: FITSFixedWarning: 'datfix' made the change 'Set MJD-OBS to 55005.185405 from DATE-OBS'. [astropy.wcs.wcs]\n",
      "WARNING:astropy:FITSFixedWarning: 'datfix' made the change 'Set MJD-OBS to 55005.185405 from DATE-OBS'.\n"
     ]
    },
    {
     "name": "stdout",
     "output_type": "stream",
     "text": [
      "INFO: using the unit adu passed to the FITS reader instead of the unit adu in the FITS file. [astropy.nddata.ccddata]\n",
      "INFO: using the unit adu passed to the FITS reader instead of the unit adu in the FITS file. [astropy.nddata.ccddata]\n"
     ]
    },
    {
     "name": "stderr",
     "output_type": "stream",
     "text": [
      "INFO:astropy:using the unit adu passed to the FITS reader instead of the unit adu in the FITS file.\n",
      "WARNING: FITSFixedWarning: 'datfix' made the change 'Set MJD-OBS to 55005.180382 from DATE-OBS'. [astropy.wcs.wcs]\n",
      "WARNING:astropy:FITSFixedWarning: 'datfix' made the change 'Set MJD-OBS to 55005.180382 from DATE-OBS'.\n",
      "INFO:astropy:using the unit adu passed to the FITS reader instead of the unit adu in the FITS file.\n",
      "WARNING: FITSFixedWarning: 'datfix' made the change 'Set MJD-OBS to 55005.180660 from DATE-OBS'. [astropy.wcs.wcs]\n",
      "WARNING:astropy:FITSFixedWarning: 'datfix' made the change 'Set MJD-OBS to 55005.180660 from DATE-OBS'.\n",
      "INFO:astropy:using the unit adu passed to the FITS reader instead of the unit adu in the FITS file.\n",
      "WARNING: FITSFixedWarning: 'datfix' made the change 'Set MJD-OBS to 55005.180938 from DATE-OBS'. [astropy.wcs.wcs]\n",
      "WARNING:astropy:FITSFixedWarning: 'datfix' made the change 'Set MJD-OBS to 55005.180938 from DATE-OBS'.\n",
      "INFO:astropy:using the unit adu passed to the FITS reader instead of the unit adu in the FITS file.\n",
      "WARNING: FITSFixedWarning: 'datfix' made the change 'Set MJD-OBS to 55005.181227 from DATE-OBS'. [astropy.wcs.wcs]\n",
      "WARNING:astropy:FITSFixedWarning: 'datfix' made the change 'Set MJD-OBS to 55005.181227 from DATE-OBS'.\n",
      "INFO:astropy:using the unit adu passed to the FITS reader instead of the unit adu in the FITS file.\n"
     ]
    },
    {
     "name": "stdout",
     "output_type": "stream",
     "text": [
      "INFO: using the unit adu passed to the FITS reader instead of the unit adu in the FITS file. [astropy.nddata.ccddata]\n",
      "INFO: using the unit adu passed to the FITS reader instead of the unit adu in the FITS file. [astropy.nddata.ccddata]\n",
      "INFO: using the unit adu passed to the FITS reader instead of the unit adu in the FITS file. [astropy.nddata.ccddata]\n",
      "INFO: using the unit adu passed to the FITS reader instead of the unit adu in the FITS file. [astropy.nddata.ccddata]\n",
      "INFO: using the unit adu passed to the FITS reader instead of the unit adu in the FITS file. [astropy.nddata.ccddata]\n"
     ]
    },
    {
     "name": "stderr",
     "output_type": "stream",
     "text": [
      "WARNING: FITSFixedWarning: 'datfix' made the change 'Set MJD-OBS to 55005.181505 from DATE-OBS'. [astropy.wcs.wcs]\n",
      "WARNING:astropy:FITSFixedWarning: 'datfix' made the change 'Set MJD-OBS to 55005.181505 from DATE-OBS'.\n",
      "INFO:astropy:using the unit adu passed to the FITS reader instead of the unit adu in the FITS file.\n",
      "WARNING: FITSFixedWarning: 'datfix' made the change 'Set MJD-OBS to 55005.181782 from DATE-OBS'. [astropy.wcs.wcs]\n",
      "WARNING:astropy:FITSFixedWarning: 'datfix' made the change 'Set MJD-OBS to 55005.181782 from DATE-OBS'.\n",
      "INFO:astropy:using the unit adu passed to the FITS reader instead of the unit adu in the FITS file.\n",
      "WARNING: FITSFixedWarning: 'datfix' made the change 'Set MJD-OBS to 55005.182060 from DATE-OBS'. [astropy.wcs.wcs]\n",
      "WARNING:astropy:FITSFixedWarning: 'datfix' made the change 'Set MJD-OBS to 55005.182060 from DATE-OBS'.\n",
      "INFO:astropy:using the unit adu passed to the FITS reader instead of the unit adu in the FITS file.\n",
      "WARNING: FITSFixedWarning: 'datfix' made the change 'Set MJD-OBS to 55005.182338 from DATE-OBS'. [astropy.wcs.wcs]\n",
      "WARNING:astropy:FITSFixedWarning: 'datfix' made the change 'Set MJD-OBS to 55005.182338 from DATE-OBS'.\n",
      "INFO:astropy:using the unit adu passed to the FITS reader instead of the unit adu in the FITS file.\n",
      "WARNING: FITSFixedWarning: 'datfix' made the change 'Set MJD-OBS to 55005.182616 from DATE-OBS'. [astropy.wcs.wcs]\n",
      "WARNING:astropy:FITSFixedWarning: 'datfix' made the change 'Set MJD-OBS to 55005.182616 from DATE-OBS'.\n",
      "INFO:astropy:using the unit adu passed to the FITS reader instead of the unit adu in the FITS file.\n",
      "WARNING: FITSFixedWarning: 'datfix' made the change 'Set MJD-OBS to 55005.182894 from DATE-OBS'. [astropy.wcs.wcs]\n",
      "WARNING:astropy:FITSFixedWarning: 'datfix' made the change 'Set MJD-OBS to 55005.182894 from DATE-OBS'.\n",
      "INFO:astropy:using the unit adu passed to the FITS reader instead of the unit adu in the FITS file.\n"
     ]
    },
    {
     "name": "stdout",
     "output_type": "stream",
     "text": [
      "INFO: using the unit adu passed to the FITS reader instead of the unit adu in the FITS file. [astropy.nddata.ccddata]\n",
      "INFO: using the unit adu passed to the FITS reader instead of the unit adu in the FITS file. [astropy.nddata.ccddata]\n",
      "INFO: using the unit adu passed to the FITS reader instead of the unit adu in the FITS file. [astropy.nddata.ccddata]\n",
      "INFO: using the unit adu passed to the FITS reader instead of the unit adu in the FITS file. [astropy.nddata.ccddata]\n",
      "INFO: using the unit adu passed to the FITS reader instead of the unit adu in the FITS file. [astropy.nddata.ccddata]\n",
      "INFO: using the unit adu passed to the FITS reader instead of the unit adu in the FITS file. [astropy.nddata.ccddata]\n"
     ]
    },
    {
     "name": "stderr",
     "output_type": "stream",
     "text": [
      "WARNING: FITSFixedWarning: 'datfix' made the change 'Set MJD-OBS to 55005.183171 from DATE-OBS'. [astropy.wcs.wcs]\n",
      "WARNING:astropy:FITSFixedWarning: 'datfix' made the change 'Set MJD-OBS to 55005.183171 from DATE-OBS'.\n",
      "INFO:astropy:using the unit adu passed to the FITS reader instead of the unit adu in the FITS file.\n",
      "WARNING: FITSFixedWarning: 'datfix' made the change 'Set MJD-OBS to 55005.183449 from DATE-OBS'. [astropy.wcs.wcs]\n",
      "WARNING:astropy:FITSFixedWarning: 'datfix' made the change 'Set MJD-OBS to 55005.183449 from DATE-OBS'.\n",
      "INFO:astropy:using the unit adu passed to the FITS reader instead of the unit adu in the FITS file.\n",
      "WARNING: FITSFixedWarning: 'datfix' made the change 'Set MJD-OBS to 55005.183727 from DATE-OBS'. [astropy.wcs.wcs]\n",
      "WARNING:astropy:FITSFixedWarning: 'datfix' made the change 'Set MJD-OBS to 55005.183727 from DATE-OBS'.\n",
      "INFO:astropy:using the unit adu passed to the FITS reader instead of the unit adu in the FITS file.\n",
      "WARNING: FITSFixedWarning: 'datfix' made the change 'Set MJD-OBS to 55005.184005 from DATE-OBS'. [astropy.wcs.wcs]\n",
      "WARNING:astropy:FITSFixedWarning: 'datfix' made the change 'Set MJD-OBS to 55005.184005 from DATE-OBS'.\n",
      "INFO:astropy:using the unit adu passed to the FITS reader instead of the unit adu in the FITS file.\n",
      "WARNING: FITSFixedWarning: 'datfix' made the change 'Set MJD-OBS to 55005.184282 from DATE-OBS'. [astropy.wcs.wcs]\n",
      "WARNING:astropy:FITSFixedWarning: 'datfix' made the change 'Set MJD-OBS to 55005.184282 from DATE-OBS'.\n",
      "INFO:astropy:using the unit adu passed to the FITS reader instead of the unit adu in the FITS file.\n",
      "WARNING: FITSFixedWarning: 'datfix' made the change 'Set MJD-OBS to 55005.184572 from DATE-OBS'. [astropy.wcs.wcs]\n",
      "WARNING:astropy:FITSFixedWarning: 'datfix' made the change 'Set MJD-OBS to 55005.184572 from DATE-OBS'.\n",
      "INFO:astropy:using the unit adu passed to the FITS reader instead of the unit adu in the FITS file.\n"
     ]
    },
    {
     "name": "stdout",
     "output_type": "stream",
     "text": [
      "INFO: using the unit adu passed to the FITS reader instead of the unit adu in the FITS file. [astropy.nddata.ccddata]\n",
      "INFO: using the unit adu passed to the FITS reader instead of the unit adu in the FITS file. [astropy.nddata.ccddata]\n",
      "INFO: using the unit adu passed to the FITS reader instead of the unit adu in the FITS file. [astropy.nddata.ccddata]\n",
      "INFO: using the unit adu passed to the FITS reader instead of the unit adu in the FITS file. [astropy.nddata.ccddata]\n",
      "INFO: using the unit adu passed to the FITS reader instead of the unit adu in the FITS file. [astropy.nddata.ccddata]\n",
      "INFO: using the unit adu passed to the FITS reader instead of the unit adu in the FITS file. [astropy.nddata.ccddata]\n"
     ]
    },
    {
     "name": "stderr",
     "output_type": "stream",
     "text": [
      "WARNING: FITSFixedWarning: 'datfix' made the change 'Set MJD-OBS to 55005.184850 from DATE-OBS'. [astropy.wcs.wcs]\n",
      "WARNING:astropy:FITSFixedWarning: 'datfix' made the change 'Set MJD-OBS to 55005.184850 from DATE-OBS'.\n",
      "INFO:astropy:using the unit adu passed to the FITS reader instead of the unit adu in the FITS file.\n",
      "WARNING: FITSFixedWarning: 'datfix' made the change 'Set MJD-OBS to 55005.185127 from DATE-OBS'. [astropy.wcs.wcs]\n",
      "WARNING:astropy:FITSFixedWarning: 'datfix' made the change 'Set MJD-OBS to 55005.185127 from DATE-OBS'.\n",
      "INFO:astropy:using the unit adu passed to the FITS reader instead of the unit adu in the FITS file.\n",
      "WARNING: FITSFixedWarning: 'datfix' made the change 'Set MJD-OBS to 55005.185405 from DATE-OBS'. [astropy.wcs.wcs]\n",
      "WARNING:astropy:FITSFixedWarning: 'datfix' made the change 'Set MJD-OBS to 55005.185405 from DATE-OBS'.\n"
     ]
    },
    {
     "name": "stdout",
     "output_type": "stream",
     "text": [
      "INFO: using the unit adu passed to the FITS reader instead of the unit adu in the FITS file. [astropy.nddata.ccddata]\n",
      "INFO: using the unit adu passed to the FITS reader instead of the unit adu in the FITS file. [astropy.nddata.ccddata]\n"
     ]
    },
    {
     "name": "stderr",
     "output_type": "stream",
     "text": [
      "INFO:astropy:using the unit adu passed to the FITS reader instead of the unit adu in the FITS file.\n",
      "WARNING: FITSFixedWarning: 'datfix' made the change 'Set MJD-OBS to 55005.180382 from DATE-OBS'. [astropy.wcs.wcs]\n",
      "WARNING:astropy:FITSFixedWarning: 'datfix' made the change 'Set MJD-OBS to 55005.180382 from DATE-OBS'.\n",
      "INFO:astropy:using the unit adu passed to the FITS reader instead of the unit adu in the FITS file.\n",
      "WARNING: FITSFixedWarning: 'datfix' made the change 'Set MJD-OBS to 55005.180660 from DATE-OBS'. [astropy.wcs.wcs]\n",
      "WARNING:astropy:FITSFixedWarning: 'datfix' made the change 'Set MJD-OBS to 55005.180660 from DATE-OBS'.\n",
      "INFO:astropy:using the unit adu passed to the FITS reader instead of the unit adu in the FITS file.\n",
      "WARNING: FITSFixedWarning: 'datfix' made the change 'Set MJD-OBS to 55005.180938 from DATE-OBS'. [astropy.wcs.wcs]\n",
      "WARNING:astropy:FITSFixedWarning: 'datfix' made the change 'Set MJD-OBS to 55005.180938 from DATE-OBS'.\n",
      "INFO:astropy:using the unit adu passed to the FITS reader instead of the unit adu in the FITS file.\n",
      "WARNING: FITSFixedWarning: 'datfix' made the change 'Set MJD-OBS to 55005.181227 from DATE-OBS'. [astropy.wcs.wcs]\n",
      "WARNING:astropy:FITSFixedWarning: 'datfix' made the change 'Set MJD-OBS to 55005.181227 from DATE-OBS'.\n",
      "INFO:astropy:using the unit adu passed to the FITS reader instead of the unit adu in the FITS file.\n",
      "WARNING: FITSFixedWarning: 'datfix' made the change 'Set MJD-OBS to 55005.181505 from DATE-OBS'. [astropy.wcs.wcs]\n",
      "WARNING:astropy:FITSFixedWarning: 'datfix' made the change 'Set MJD-OBS to 55005.181505 from DATE-OBS'.\n",
      "INFO:astropy:using the unit adu passed to the FITS reader instead of the unit adu in the FITS file.\n",
      "WARNING: FITSFixedWarning: 'datfix' made the change 'Set MJD-OBS to 55005.181782 from DATE-OBS'. [astropy.wcs.wcs]\n",
      "WARNING:astropy:FITSFixedWarning: 'datfix' made the change 'Set MJD-OBS to 55005.181782 from DATE-OBS'.\n"
     ]
    },
    {
     "name": "stdout",
     "output_type": "stream",
     "text": [
      "INFO: using the unit adu passed to the FITS reader instead of the unit adu in the FITS file. [astropy.nddata.ccddata]\n",
      "INFO: using the unit adu passed to the FITS reader instead of the unit adu in the FITS file. [astropy.nddata.ccddata]\n",
      "INFO: using the unit adu passed to the FITS reader instead of the unit adu in the FITS file. [astropy.nddata.ccddata]\n",
      "INFO: using the unit adu passed to the FITS reader instead of the unit adu in the FITS file. [astropy.nddata.ccddata]\n",
      "INFO: using the unit adu passed to the FITS reader instead of the unit adu in the FITS file. [astropy.nddata.ccddata]\n",
      "INFO: using the unit adu passed to the FITS reader instead of the unit adu in the FITS file. [astropy.nddata.ccddata]\n"
     ]
    },
    {
     "name": "stderr",
     "output_type": "stream",
     "text": [
      "INFO:astropy:using the unit adu passed to the FITS reader instead of the unit adu in the FITS file.\n",
      "WARNING: FITSFixedWarning: 'datfix' made the change 'Set MJD-OBS to 55005.182060 from DATE-OBS'. [astropy.wcs.wcs]\n",
      "WARNING:astropy:FITSFixedWarning: 'datfix' made the change 'Set MJD-OBS to 55005.182060 from DATE-OBS'.\n",
      "INFO:astropy:using the unit adu passed to the FITS reader instead of the unit adu in the FITS file.\n",
      "WARNING: FITSFixedWarning: 'datfix' made the change 'Set MJD-OBS to 55005.182338 from DATE-OBS'. [astropy.wcs.wcs]\n",
      "WARNING:astropy:FITSFixedWarning: 'datfix' made the change 'Set MJD-OBS to 55005.182338 from DATE-OBS'.\n",
      "INFO:astropy:using the unit adu passed to the FITS reader instead of the unit adu in the FITS file.\n",
      "WARNING: FITSFixedWarning: 'datfix' made the change 'Set MJD-OBS to 55005.182616 from DATE-OBS'. [astropy.wcs.wcs]\n",
      "WARNING:astropy:FITSFixedWarning: 'datfix' made the change 'Set MJD-OBS to 55005.182616 from DATE-OBS'.\n",
      "INFO:astropy:using the unit adu passed to the FITS reader instead of the unit adu in the FITS file.\n",
      "WARNING: FITSFixedWarning: 'datfix' made the change 'Set MJD-OBS to 55005.182894 from DATE-OBS'. [astropy.wcs.wcs]\n",
      "WARNING:astropy:FITSFixedWarning: 'datfix' made the change 'Set MJD-OBS to 55005.182894 from DATE-OBS'.\n",
      "INFO:astropy:using the unit adu passed to the FITS reader instead of the unit adu in the FITS file.\n",
      "WARNING: FITSFixedWarning: 'datfix' made the change 'Set MJD-OBS to 55005.183171 from DATE-OBS'. [astropy.wcs.wcs]\n",
      "WARNING:astropy:FITSFixedWarning: 'datfix' made the change 'Set MJD-OBS to 55005.183171 from DATE-OBS'.\n",
      "INFO:astropy:using the unit adu passed to the FITS reader instead of the unit adu in the FITS file.\n",
      "WARNING: FITSFixedWarning: 'datfix' made the change 'Set MJD-OBS to 55005.183449 from DATE-OBS'. [astropy.wcs.wcs]\n",
      "WARNING:astropy:FITSFixedWarning: 'datfix' made the change 'Set MJD-OBS to 55005.183449 from DATE-OBS'.\n",
      "INFO:astropy:using the unit adu passed to the FITS reader instead of the unit adu in the FITS file.\n"
     ]
    },
    {
     "name": "stdout",
     "output_type": "stream",
     "text": [
      "INFO: using the unit adu passed to the FITS reader instead of the unit adu in the FITS file. [astropy.nddata.ccddata]\n",
      "INFO: using the unit adu passed to the FITS reader instead of the unit adu in the FITS file. [astropy.nddata.ccddata]\n",
      "INFO: using the unit adu passed to the FITS reader instead of the unit adu in the FITS file. [astropy.nddata.ccddata]\n",
      "INFO: using the unit adu passed to the FITS reader instead of the unit adu in the FITS file. [astropy.nddata.ccddata]\n",
      "INFO: using the unit adu passed to the FITS reader instead of the unit adu in the FITS file. [astropy.nddata.ccddata]\n",
      "INFO: using the unit adu passed to the FITS reader instead of the unit adu in the FITS file. [astropy.nddata.ccddata]\n",
      "INFO: using the unit adu passed to the FITS reader instead of the unit adu in the FITS file. [astropy.nddata.ccddata]\n"
     ]
    },
    {
     "name": "stderr",
     "output_type": "stream",
     "text": [
      "WARNING: FITSFixedWarning: 'datfix' made the change 'Set MJD-OBS to 55005.183727 from DATE-OBS'. [astropy.wcs.wcs]\n",
      "WARNING:astropy:FITSFixedWarning: 'datfix' made the change 'Set MJD-OBS to 55005.183727 from DATE-OBS'.\n",
      "INFO:astropy:using the unit adu passed to the FITS reader instead of the unit adu in the FITS file.\n",
      "WARNING: FITSFixedWarning: 'datfix' made the change 'Set MJD-OBS to 55005.184005 from DATE-OBS'. [astropy.wcs.wcs]\n",
      "WARNING:astropy:FITSFixedWarning: 'datfix' made the change 'Set MJD-OBS to 55005.184005 from DATE-OBS'.\n",
      "INFO:astropy:using the unit adu passed to the FITS reader instead of the unit adu in the FITS file.\n",
      "WARNING: FITSFixedWarning: 'datfix' made the change 'Set MJD-OBS to 55005.184282 from DATE-OBS'. [astropy.wcs.wcs]\n",
      "WARNING:astropy:FITSFixedWarning: 'datfix' made the change 'Set MJD-OBS to 55005.184282 from DATE-OBS'.\n",
      "INFO:astropy:using the unit adu passed to the FITS reader instead of the unit adu in the FITS file.\n",
      "WARNING: FITSFixedWarning: 'datfix' made the change 'Set MJD-OBS to 55005.184572 from DATE-OBS'. [astropy.wcs.wcs]\n",
      "WARNING:astropy:FITSFixedWarning: 'datfix' made the change 'Set MJD-OBS to 55005.184572 from DATE-OBS'.\n",
      "INFO:astropy:using the unit adu passed to the FITS reader instead of the unit adu in the FITS file.\n",
      "WARNING: FITSFixedWarning: 'datfix' made the change 'Set MJD-OBS to 55005.184850 from DATE-OBS'. [astropy.wcs.wcs]\n",
      "WARNING:astropy:FITSFixedWarning: 'datfix' made the change 'Set MJD-OBS to 55005.184850 from DATE-OBS'.\n",
      "INFO:astropy:using the unit adu passed to the FITS reader instead of the unit adu in the FITS file.\n",
      "WARNING: FITSFixedWarning: 'datfix' made the change 'Set MJD-OBS to 55005.185127 from DATE-OBS'. [astropy.wcs.wcs]\n",
      "WARNING:astropy:FITSFixedWarning: 'datfix' made the change 'Set MJD-OBS to 55005.185127 from DATE-OBS'.\n",
      "INFO:astropy:using the unit adu passed to the FITS reader instead of the unit adu in the FITS file.\n",
      "WARNING: FITSFixedWarning: 'datfix' made the change 'Set MJD-OBS to 55005.185405 from DATE-OBS'. [astropy.wcs.wcs]\n",
      "WARNING:astropy:FITSFixedWarning: 'datfix' made the change 'Set MJD-OBS to 55005.185405 from DATE-OBS'.\n"
     ]
    },
    {
     "name": "stdout",
     "output_type": "stream",
     "text": [
      "INFO: using the unit adu passed to the FITS reader instead of the unit adu in the FITS file. [astropy.nddata.ccddata]\n",
      "INFO: using the unit adu passed to the FITS reader instead of the unit adu in the FITS file. [astropy.nddata.ccddata]\n",
      "INFO: using the unit adu passed to the FITS reader instead of the unit adu in the FITS file. [astropy.nddata.ccddata]\n",
      "INFO: using the unit adu passed to the FITS reader instead of the unit adu in the FITS file. [astropy.nddata.ccddata]\n",
      "INFO: using the unit adu passed to the FITS reader instead of the unit adu in the FITS file. [astropy.nddata.ccddata]\n",
      "INFO: using the unit adu passed to the FITS reader instead of the unit adu in the FITS file. [astropy.nddata.ccddata]\n"
     ]
    },
    {
     "name": "stderr",
     "output_type": "stream",
     "text": [
      "INFO:astropy:using the unit adu passed to the FITS reader instead of the unit adu in the FITS file.\n",
      "WARNING: FITSFixedWarning: 'datfix' made the change 'Set MJD-OBS to 55005.180382 from DATE-OBS'. [astropy.wcs.wcs]\n",
      "WARNING:astropy:FITSFixedWarning: 'datfix' made the change 'Set MJD-OBS to 55005.180382 from DATE-OBS'.\n",
      "INFO:astropy:using the unit adu passed to the FITS reader instead of the unit adu in the FITS file.\n",
      "WARNING: FITSFixedWarning: 'datfix' made the change 'Set MJD-OBS to 55005.180660 from DATE-OBS'. [astropy.wcs.wcs]\n",
      "WARNING:astropy:FITSFixedWarning: 'datfix' made the change 'Set MJD-OBS to 55005.180660 from DATE-OBS'.\n",
      "INFO:astropy:using the unit adu passed to the FITS reader instead of the unit adu in the FITS file.\n",
      "WARNING: FITSFixedWarning: 'datfix' made the change 'Set MJD-OBS to 55005.180938 from DATE-OBS'. [astropy.wcs.wcs]\n",
      "WARNING:astropy:FITSFixedWarning: 'datfix' made the change 'Set MJD-OBS to 55005.180938 from DATE-OBS'.\n",
      "INFO:astropy:using the unit adu passed to the FITS reader instead of the unit adu in the FITS file.\n",
      "WARNING: FITSFixedWarning: 'datfix' made the change 'Set MJD-OBS to 55005.181227 from DATE-OBS'. [astropy.wcs.wcs]\n",
      "WARNING:astropy:FITSFixedWarning: 'datfix' made the change 'Set MJD-OBS to 55005.181227 from DATE-OBS'.\n",
      "INFO:astropy:using the unit adu passed to the FITS reader instead of the unit adu in the FITS file.\n",
      "WARNING: FITSFixedWarning: 'datfix' made the change 'Set MJD-OBS to 55005.181505 from DATE-OBS'. [astropy.wcs.wcs]\n",
      "WARNING:astropy:FITSFixedWarning: 'datfix' made the change 'Set MJD-OBS to 55005.181505 from DATE-OBS'.\n",
      "INFO:astropy:using the unit adu passed to the FITS reader instead of the unit adu in the FITS file.\n",
      "WARNING: FITSFixedWarning: 'datfix' made the change 'Set MJD-OBS to 55005.181782 from DATE-OBS'. [astropy.wcs.wcs]\n",
      "WARNING:astropy:FITSFixedWarning: 'datfix' made the change 'Set MJD-OBS to 55005.181782 from DATE-OBS'.\n",
      "INFO:astropy:using the unit adu passed to the FITS reader instead of the unit adu in the FITS file.\n",
      "WARNING: FITSFixedWarning: 'datfix' made the change 'Set MJD-OBS to 55005.182060 from DATE-OBS'. [astropy.wcs.wcs]\n",
      "WARNING:astropy:FITSFixedWarning: 'datfix' made the change 'Set MJD-OBS to 55005.182060 from DATE-OBS'.\n"
     ]
    },
    {
     "name": "stdout",
     "output_type": "stream",
     "text": [
      "INFO: using the unit adu passed to the FITS reader instead of the unit adu in the FITS file. [astropy.nddata.ccddata]\n",
      "INFO: using the unit adu passed to the FITS reader instead of the unit adu in the FITS file. [astropy.nddata.ccddata]\n",
      "INFO: using the unit adu passed to the FITS reader instead of the unit adu in the FITS file. [astropy.nddata.ccddata]\n",
      "INFO: using the unit adu passed to the FITS reader instead of the unit adu in the FITS file. [astropy.nddata.ccddata]\n",
      "INFO: using the unit adu passed to the FITS reader instead of the unit adu in the FITS file. [astropy.nddata.ccddata]\n",
      "INFO: using the unit adu passed to the FITS reader instead of the unit adu in the FITS file. [astropy.nddata.ccddata]\n",
      "INFO: using the unit adu passed to the FITS reader instead of the unit adu in the FITS file. [astropy.nddata.ccddata]\n"
     ]
    },
    {
     "name": "stderr",
     "output_type": "stream",
     "text": [
      "INFO:astropy:using the unit adu passed to the FITS reader instead of the unit adu in the FITS file.\n",
      "WARNING: FITSFixedWarning: 'datfix' made the change 'Set MJD-OBS to 55005.182338 from DATE-OBS'. [astropy.wcs.wcs]\n",
      "WARNING:astropy:FITSFixedWarning: 'datfix' made the change 'Set MJD-OBS to 55005.182338 from DATE-OBS'.\n",
      "INFO:astropy:using the unit adu passed to the FITS reader instead of the unit adu in the FITS file.\n",
      "WARNING: FITSFixedWarning: 'datfix' made the change 'Set MJD-OBS to 55005.182616 from DATE-OBS'. [astropy.wcs.wcs]\n",
      "WARNING:astropy:FITSFixedWarning: 'datfix' made the change 'Set MJD-OBS to 55005.182616 from DATE-OBS'.\n",
      "INFO:astropy:using the unit adu passed to the FITS reader instead of the unit adu in the FITS file.\n",
      "WARNING: FITSFixedWarning: 'datfix' made the change 'Set MJD-OBS to 55005.182894 from DATE-OBS'. [astropy.wcs.wcs]\n",
      "WARNING:astropy:FITSFixedWarning: 'datfix' made the change 'Set MJD-OBS to 55005.182894 from DATE-OBS'.\n",
      "INFO:astropy:using the unit adu passed to the FITS reader instead of the unit adu in the FITS file.\n",
      "WARNING: FITSFixedWarning: 'datfix' made the change 'Set MJD-OBS to 55005.183171 from DATE-OBS'. [astropy.wcs.wcs]\n",
      "WARNING:astropy:FITSFixedWarning: 'datfix' made the change 'Set MJD-OBS to 55005.183171 from DATE-OBS'.\n",
      "INFO:astropy:using the unit adu passed to the FITS reader instead of the unit adu in the FITS file.\n",
      "WARNING: FITSFixedWarning: 'datfix' made the change 'Set MJD-OBS to 55005.183449 from DATE-OBS'. [astropy.wcs.wcs]\n",
      "WARNING:astropy:FITSFixedWarning: 'datfix' made the change 'Set MJD-OBS to 55005.183449 from DATE-OBS'.\n",
      "INFO:astropy:using the unit adu passed to the FITS reader instead of the unit adu in the FITS file.\n",
      "WARNING: FITSFixedWarning: 'datfix' made the change 'Set MJD-OBS to 55005.183727 from DATE-OBS'. [astropy.wcs.wcs]\n",
      "WARNING:astropy:FITSFixedWarning: 'datfix' made the change 'Set MJD-OBS to 55005.183727 from DATE-OBS'.\n",
      "INFO:astropy:using the unit adu passed to the FITS reader instead of the unit adu in the FITS file.\n",
      "WARNING: FITSFixedWarning: 'datfix' made the change 'Set MJD-OBS to 55005.184005 from DATE-OBS'. [astropy.wcs.wcs]\n",
      "WARNING:astropy:FITSFixedWarning: 'datfix' made the change 'Set MJD-OBS to 55005.184005 from DATE-OBS'.\n"
     ]
    },
    {
     "name": "stdout",
     "output_type": "stream",
     "text": [
      "INFO: using the unit adu passed to the FITS reader instead of the unit adu in the FITS file. [astropy.nddata.ccddata]\n",
      "INFO: using the unit adu passed to the FITS reader instead of the unit adu in the FITS file. [astropy.nddata.ccddata]\n",
      "INFO: using the unit adu passed to the FITS reader instead of the unit adu in the FITS file. [astropy.nddata.ccddata]\n",
      "INFO: using the unit adu passed to the FITS reader instead of the unit adu in the FITS file. [astropy.nddata.ccddata]\n",
      "INFO: using the unit adu passed to the FITS reader instead of the unit adu in the FITS file. [astropy.nddata.ccddata]\n",
      "INFO: using the unit adu passed to the FITS reader instead of the unit adu in the FITS file. [astropy.nddata.ccddata]\n",
      "INFO: using the unit adu passed to the FITS reader instead of the unit adu in the FITS file. [astropy.nddata.ccddata]\n"
     ]
    },
    {
     "name": "stderr",
     "output_type": "stream",
     "text": [
      "INFO:astropy:using the unit adu passed to the FITS reader instead of the unit adu in the FITS file.\n",
      "WARNING: FITSFixedWarning: 'datfix' made the change 'Set MJD-OBS to 55005.184282 from DATE-OBS'. [astropy.wcs.wcs]\n",
      "WARNING:astropy:FITSFixedWarning: 'datfix' made the change 'Set MJD-OBS to 55005.184282 from DATE-OBS'.\n",
      "INFO:astropy:using the unit adu passed to the FITS reader instead of the unit adu in the FITS file.\n",
      "WARNING: FITSFixedWarning: 'datfix' made the change 'Set MJD-OBS to 55005.184572 from DATE-OBS'. [astropy.wcs.wcs]\n",
      "WARNING:astropy:FITSFixedWarning: 'datfix' made the change 'Set MJD-OBS to 55005.184572 from DATE-OBS'.\n",
      "INFO:astropy:using the unit adu passed to the FITS reader instead of the unit adu in the FITS file.\n",
      "WARNING: FITSFixedWarning: 'datfix' made the change 'Set MJD-OBS to 55005.184850 from DATE-OBS'. [astropy.wcs.wcs]\n",
      "WARNING:astropy:FITSFixedWarning: 'datfix' made the change 'Set MJD-OBS to 55005.184850 from DATE-OBS'.\n",
      "INFO:astropy:using the unit adu passed to the FITS reader instead of the unit adu in the FITS file.\n",
      "WARNING: FITSFixedWarning: 'datfix' made the change 'Set MJD-OBS to 55005.185127 from DATE-OBS'. [astropy.wcs.wcs]\n",
      "WARNING:astropy:FITSFixedWarning: 'datfix' made the change 'Set MJD-OBS to 55005.185127 from DATE-OBS'.\n",
      "INFO:astropy:using the unit adu passed to the FITS reader instead of the unit adu in the FITS file.\n",
      "WARNING: FITSFixedWarning: 'datfix' made the change 'Set MJD-OBS to 55005.185405 from DATE-OBS'. [astropy.wcs.wcs]\n",
      "WARNING:astropy:FITSFixedWarning: 'datfix' made the change 'Set MJD-OBS to 55005.185405 from DATE-OBS'.\n"
     ]
    },
    {
     "name": "stdout",
     "output_type": "stream",
     "text": [
      "INFO: using the unit adu passed to the FITS reader instead of the unit adu in the FITS file. [astropy.nddata.ccddata]\n",
      "INFO: using the unit adu passed to the FITS reader instead of the unit adu in the FITS file. [astropy.nddata.ccddata]\n",
      "INFO: using the unit adu passed to the FITS reader instead of the unit adu in the FITS file. [astropy.nddata.ccddata]\n",
      "INFO: using the unit adu passed to the FITS reader instead of the unit adu in the FITS file. [astropy.nddata.ccddata]\n",
      "INFO: using the unit adu passed to the FITS reader instead of the unit adu in the FITS file. [astropy.nddata.ccddata]\n"
     ]
    },
    {
     "name": "stderr",
     "output_type": "stream",
     "text": [
      "INFO:astropy:using the unit adu passed to the FITS reader instead of the unit adu in the FITS file.\n",
      "WARNING: FITSFixedWarning: 'datfix' made the change 'Set MJD-OBS to 55005.180382 from DATE-OBS'. [astropy.wcs.wcs]\n",
      "WARNING:astropy:FITSFixedWarning: 'datfix' made the change 'Set MJD-OBS to 55005.180382 from DATE-OBS'.\n",
      "INFO:astropy:using the unit adu passed to the FITS reader instead of the unit adu in the FITS file.\n",
      "WARNING: FITSFixedWarning: 'datfix' made the change 'Set MJD-OBS to 55005.180660 from DATE-OBS'. [astropy.wcs.wcs]\n",
      "WARNING:astropy:FITSFixedWarning: 'datfix' made the change 'Set MJD-OBS to 55005.180660 from DATE-OBS'.\n",
      "INFO:astropy:using the unit adu passed to the FITS reader instead of the unit adu in the FITS file.\n",
      "WARNING: FITSFixedWarning: 'datfix' made the change 'Set MJD-OBS to 55005.180938 from DATE-OBS'. [astropy.wcs.wcs]\n",
      "WARNING:astropy:FITSFixedWarning: 'datfix' made the change 'Set MJD-OBS to 55005.180938 from DATE-OBS'.\n",
      "INFO:astropy:using the unit adu passed to the FITS reader instead of the unit adu in the FITS file.\n",
      "WARNING: FITSFixedWarning: 'datfix' made the change 'Set MJD-OBS to 55005.181227 from DATE-OBS'. [astropy.wcs.wcs]\n",
      "WARNING:astropy:FITSFixedWarning: 'datfix' made the change 'Set MJD-OBS to 55005.181227 from DATE-OBS'.\n",
      "INFO:astropy:using the unit adu passed to the FITS reader instead of the unit adu in the FITS file.\n",
      "WARNING: FITSFixedWarning: 'datfix' made the change 'Set MJD-OBS to 55005.181505 from DATE-OBS'. [astropy.wcs.wcs]\n",
      "WARNING:astropy:FITSFixedWarning: 'datfix' made the change 'Set MJD-OBS to 55005.181505 from DATE-OBS'.\n",
      "INFO:astropy:using the unit adu passed to the FITS reader instead of the unit adu in the FITS file.\n",
      "WARNING: FITSFixedWarning: 'datfix' made the change 'Set MJD-OBS to 55005.181782 from DATE-OBS'. [astropy.wcs.wcs]\n",
      "WARNING:astropy:FITSFixedWarning: 'datfix' made the change 'Set MJD-OBS to 55005.181782 from DATE-OBS'.\n",
      "INFO:astropy:using the unit adu passed to the FITS reader instead of the unit adu in the FITS file.\n",
      "WARNING: FITSFixedWarning: 'datfix' made the change 'Set MJD-OBS to 55005.182060 from DATE-OBS'. [astropy.wcs.wcs]\n",
      "WARNING:astropy:FITSFixedWarning: 'datfix' made the change 'Set MJD-OBS to 55005.182060 from DATE-OBS'.\n"
     ]
    },
    {
     "name": "stdout",
     "output_type": "stream",
     "text": [
      "INFO: using the unit adu passed to the FITS reader instead of the unit adu in the FITS file. [astropy.nddata.ccddata]\n",
      "INFO: using the unit adu passed to the FITS reader instead of the unit adu in the FITS file. [astropy.nddata.ccddata]\n",
      "INFO: using the unit adu passed to the FITS reader instead of the unit adu in the FITS file. [astropy.nddata.ccddata]\n",
      "INFO: using the unit adu passed to the FITS reader instead of the unit adu in the FITS file. [astropy.nddata.ccddata]\n",
      "INFO: using the unit adu passed to the FITS reader instead of the unit adu in the FITS file. [astropy.nddata.ccddata]\n",
      "INFO: using the unit adu passed to the FITS reader instead of the unit adu in the FITS file. [astropy.nddata.ccddata]\n",
      "INFO: using the unit adu passed to the FITS reader instead of the unit adu in the FITS file. [astropy.nddata.ccddata]\n"
     ]
    },
    {
     "name": "stderr",
     "output_type": "stream",
     "text": [
      "INFO:astropy:using the unit adu passed to the FITS reader instead of the unit adu in the FITS file.\n",
      "WARNING: FITSFixedWarning: 'datfix' made the change 'Set MJD-OBS to 55005.182338 from DATE-OBS'. [astropy.wcs.wcs]\n",
      "WARNING:astropy:FITSFixedWarning: 'datfix' made the change 'Set MJD-OBS to 55005.182338 from DATE-OBS'.\n",
      "INFO:astropy:using the unit adu passed to the FITS reader instead of the unit adu in the FITS file.\n",
      "WARNING: FITSFixedWarning: 'datfix' made the change 'Set MJD-OBS to 55005.182616 from DATE-OBS'. [astropy.wcs.wcs]\n",
      "WARNING:astropy:FITSFixedWarning: 'datfix' made the change 'Set MJD-OBS to 55005.182616 from DATE-OBS'.\n",
      "INFO:astropy:using the unit adu passed to the FITS reader instead of the unit adu in the FITS file.\n",
      "WARNING: FITSFixedWarning: 'datfix' made the change 'Set MJD-OBS to 55005.182894 from DATE-OBS'. [astropy.wcs.wcs]\n",
      "WARNING:astropy:FITSFixedWarning: 'datfix' made the change 'Set MJD-OBS to 55005.182894 from DATE-OBS'.\n",
      "INFO:astropy:using the unit adu passed to the FITS reader instead of the unit adu in the FITS file.\n",
      "WARNING: FITSFixedWarning: 'datfix' made the change 'Set MJD-OBS to 55005.183171 from DATE-OBS'. [astropy.wcs.wcs]\n",
      "WARNING:astropy:FITSFixedWarning: 'datfix' made the change 'Set MJD-OBS to 55005.183171 from DATE-OBS'.\n",
      "INFO:astropy:using the unit adu passed to the FITS reader instead of the unit adu in the FITS file.\n",
      "WARNING: FITSFixedWarning: 'datfix' made the change 'Set MJD-OBS to 55005.183449 from DATE-OBS'. [astropy.wcs.wcs]\n",
      "WARNING:astropy:FITSFixedWarning: 'datfix' made the change 'Set MJD-OBS to 55005.183449 from DATE-OBS'.\n",
      "INFO:astropy:using the unit adu passed to the FITS reader instead of the unit adu in the FITS file.\n",
      "WARNING: FITSFixedWarning: 'datfix' made the change 'Set MJD-OBS to 55005.183727 from DATE-OBS'. [astropy.wcs.wcs]\n",
      "WARNING:astropy:FITSFixedWarning: 'datfix' made the change 'Set MJD-OBS to 55005.183727 from DATE-OBS'.\n",
      "INFO:astropy:using the unit adu passed to the FITS reader instead of the unit adu in the FITS file.\n",
      "WARNING: FITSFixedWarning: 'datfix' made the change 'Set MJD-OBS to 55005.184005 from DATE-OBS'. [astropy.wcs.wcs]\n",
      "WARNING:astropy:FITSFixedWarning: 'datfix' made the change 'Set MJD-OBS to 55005.184005 from DATE-OBS'.\n",
      "INFO:astropy:using the unit adu passed to the FITS reader instead of the unit adu in the FITS file.\n"
     ]
    },
    {
     "name": "stdout",
     "output_type": "stream",
     "text": [
      "INFO: using the unit adu passed to the FITS reader instead of the unit adu in the FITS file. [astropy.nddata.ccddata]\n",
      "INFO: using the unit adu passed to the FITS reader instead of the unit adu in the FITS file. [astropy.nddata.ccddata]\n",
      "INFO: using the unit adu passed to the FITS reader instead of the unit adu in the FITS file. [astropy.nddata.ccddata]\n",
      "INFO: using the unit adu passed to the FITS reader instead of the unit adu in the FITS file. [astropy.nddata.ccddata]\n",
      "INFO: using the unit adu passed to the FITS reader instead of the unit adu in the FITS file. [astropy.nddata.ccddata]\n",
      "INFO: using the unit adu passed to the FITS reader instead of the unit adu in the FITS file. [astropy.nddata.ccddata]\n",
      "INFO: using the unit adu passed to the FITS reader instead of the unit adu in the FITS file. [astropy.nddata.ccddata]\n",
      "INFO: using the unit adu passed to the FITS reader instead of the unit adu in the FITS file. [astropy.nddata.ccddata]\n"
     ]
    },
    {
     "name": "stderr",
     "output_type": "stream",
     "text": [
      "WARNING: FITSFixedWarning: 'datfix' made the change 'Set MJD-OBS to 55005.184282 from DATE-OBS'. [astropy.wcs.wcs]\n",
      "WARNING:astropy:FITSFixedWarning: 'datfix' made the change 'Set MJD-OBS to 55005.184282 from DATE-OBS'.\n",
      "INFO:astropy:using the unit adu passed to the FITS reader instead of the unit adu in the FITS file.\n",
      "WARNING: FITSFixedWarning: 'datfix' made the change 'Set MJD-OBS to 55005.184572 from DATE-OBS'. [astropy.wcs.wcs]\n",
      "WARNING:astropy:FITSFixedWarning: 'datfix' made the change 'Set MJD-OBS to 55005.184572 from DATE-OBS'.\n",
      "INFO:astropy:using the unit adu passed to the FITS reader instead of the unit adu in the FITS file.\n",
      "WARNING: FITSFixedWarning: 'datfix' made the change 'Set MJD-OBS to 55005.184850 from DATE-OBS'. [astropy.wcs.wcs]\n",
      "WARNING:astropy:FITSFixedWarning: 'datfix' made the change 'Set MJD-OBS to 55005.184850 from DATE-OBS'.\n",
      "INFO:astropy:using the unit adu passed to the FITS reader instead of the unit adu in the FITS file.\n",
      "WARNING: FITSFixedWarning: 'datfix' made the change 'Set MJD-OBS to 55005.185127 from DATE-OBS'. [astropy.wcs.wcs]\n",
      "WARNING:astropy:FITSFixedWarning: 'datfix' made the change 'Set MJD-OBS to 55005.185127 from DATE-OBS'.\n"
     ]
    },
    {
     "name": "stdout",
     "output_type": "stream",
     "text": [
      "INFO: using the unit adu passed to the FITS reader instead of the unit adu in the FITS file. [astropy.nddata.ccddata]\n",
      "INFO: using the unit adu passed to the FITS reader instead of the unit adu in the FITS file. [astropy.nddata.ccddata]\n",
      "INFO: using the unit adu passed to the FITS reader instead of the unit adu in the FITS file. [astropy.nddata.ccddata]\n"
     ]
    },
    {
     "name": "stderr",
     "output_type": "stream",
     "text": [
      "INFO:astropy:using the unit adu passed to the FITS reader instead of the unit adu in the FITS file.\n",
      "WARNING: FITSFixedWarning: 'datfix' made the change 'Set MJD-OBS to 55005.185405 from DATE-OBS'. [astropy.wcs.wcs]\n",
      "WARNING:astropy:FITSFixedWarning: 'datfix' made the change 'Set MJD-OBS to 55005.185405 from DATE-OBS'.\n"
     ]
    },
    {
     "name": "stdout",
     "output_type": "stream",
     "text": [
      "INFO: using the unit adu passed to the FITS reader instead of the unit adu in the FITS file. [astropy.nddata.ccddata]\n"
     ]
    },
    {
     "name": "stderr",
     "output_type": "stream",
     "text": [
      "INFO:astropy:using the unit adu passed to the FITS reader instead of the unit adu in the FITS file.\n",
      "WARNING: FITSFixedWarning: 'datfix' made the change 'Set MJD-OBS to 55005.180382 from DATE-OBS'. [astropy.wcs.wcs]\n",
      "WARNING:astropy:FITSFixedWarning: 'datfix' made the change 'Set MJD-OBS to 55005.180382 from DATE-OBS'.\n",
      "INFO:astropy:using the unit adu passed to the FITS reader instead of the unit adu in the FITS file.\n",
      "WARNING: FITSFixedWarning: 'datfix' made the change 'Set MJD-OBS to 55005.180660 from DATE-OBS'. [astropy.wcs.wcs]\n",
      "WARNING:astropy:FITSFixedWarning: 'datfix' made the change 'Set MJD-OBS to 55005.180660 from DATE-OBS'.\n",
      "INFO:astropy:using the unit adu passed to the FITS reader instead of the unit adu in the FITS file.\n",
      "WARNING: FITSFixedWarning: 'datfix' made the change 'Set MJD-OBS to 55005.180938 from DATE-OBS'. [astropy.wcs.wcs]\n",
      "WARNING:astropy:FITSFixedWarning: 'datfix' made the change 'Set MJD-OBS to 55005.180938 from DATE-OBS'.\n",
      "INFO:astropy:using the unit adu passed to the FITS reader instead of the unit adu in the FITS file.\n",
      "WARNING: FITSFixedWarning: 'datfix' made the change 'Set MJD-OBS to 55005.181227 from DATE-OBS'. [astropy.wcs.wcs]\n",
      "WARNING:astropy:FITSFixedWarning: 'datfix' made the change 'Set MJD-OBS to 55005.181227 from DATE-OBS'.\n",
      "INFO:astropy:using the unit adu passed to the FITS reader instead of the unit adu in the FITS file.\n",
      "WARNING: FITSFixedWarning: 'datfix' made the change 'Set MJD-OBS to 55005.181505 from DATE-OBS'. [astropy.wcs.wcs]\n",
      "WARNING:astropy:FITSFixedWarning: 'datfix' made the change 'Set MJD-OBS to 55005.181505 from DATE-OBS'.\n",
      "INFO:astropy:using the unit adu passed to the FITS reader instead of the unit adu in the FITS file.\n",
      "WARNING: FITSFixedWarning: 'datfix' made the change 'Set MJD-OBS to 55005.181782 from DATE-OBS'. [astropy.wcs.wcs]\n",
      "WARNING:astropy:FITSFixedWarning: 'datfix' made the change 'Set MJD-OBS to 55005.181782 from DATE-OBS'.\n",
      "INFO:astropy:using the unit adu passed to the FITS reader instead of the unit adu in the FITS file.\n",
      "WARNING: FITSFixedWarning: 'datfix' made the change 'Set MJD-OBS to 55005.182060 from DATE-OBS'. [astropy.wcs.wcs]\n",
      "WARNING:astropy:FITSFixedWarning: 'datfix' made the change 'Set MJD-OBS to 55005.182060 from DATE-OBS'.\n"
     ]
    },
    {
     "name": "stdout",
     "output_type": "stream",
     "text": [
      "INFO: using the unit adu passed to the FITS reader instead of the unit adu in the FITS file. [astropy.nddata.ccddata]\n",
      "INFO: using the unit adu passed to the FITS reader instead of the unit adu in the FITS file. [astropy.nddata.ccddata]\n",
      "INFO: using the unit adu passed to the FITS reader instead of the unit adu in the FITS file. [astropy.nddata.ccddata]\n",
      "INFO: using the unit adu passed to the FITS reader instead of the unit adu in the FITS file. [astropy.nddata.ccddata]\n",
      "INFO: using the unit adu passed to the FITS reader instead of the unit adu in the FITS file. [astropy.nddata.ccddata]\n",
      "INFO: using the unit adu passed to the FITS reader instead of the unit adu in the FITS file. [astropy.nddata.ccddata]\n",
      "INFO: using the unit adu passed to the FITS reader instead of the unit adu in the FITS file. [astropy.nddata.ccddata]\n"
     ]
    },
    {
     "name": "stderr",
     "output_type": "stream",
     "text": [
      "INFO:astropy:using the unit adu passed to the FITS reader instead of the unit adu in the FITS file.\n",
      "WARNING: FITSFixedWarning: 'datfix' made the change 'Set MJD-OBS to 55005.182338 from DATE-OBS'. [astropy.wcs.wcs]\n",
      "WARNING:astropy:FITSFixedWarning: 'datfix' made the change 'Set MJD-OBS to 55005.182338 from DATE-OBS'.\n",
      "INFO:astropy:using the unit adu passed to the FITS reader instead of the unit adu in the FITS file.\n",
      "WARNING: FITSFixedWarning: 'datfix' made the change 'Set MJD-OBS to 55005.182616 from DATE-OBS'. [astropy.wcs.wcs]\n",
      "WARNING:astropy:FITSFixedWarning: 'datfix' made the change 'Set MJD-OBS to 55005.182616 from DATE-OBS'.\n",
      "INFO:astropy:using the unit adu passed to the FITS reader instead of the unit adu in the FITS file.\n",
      "WARNING: FITSFixedWarning: 'datfix' made the change 'Set MJD-OBS to 55005.182894 from DATE-OBS'. [astropy.wcs.wcs]\n",
      "WARNING:astropy:FITSFixedWarning: 'datfix' made the change 'Set MJD-OBS to 55005.182894 from DATE-OBS'.\n",
      "INFO:astropy:using the unit adu passed to the FITS reader instead of the unit adu in the FITS file.\n",
      "WARNING: FITSFixedWarning: 'datfix' made the change 'Set MJD-OBS to 55005.183171 from DATE-OBS'. [astropy.wcs.wcs]\n",
      "WARNING:astropy:FITSFixedWarning: 'datfix' made the change 'Set MJD-OBS to 55005.183171 from DATE-OBS'.\n",
      "INFO:astropy:using the unit adu passed to the FITS reader instead of the unit adu in the FITS file.\n",
      "WARNING: FITSFixedWarning: 'datfix' made the change 'Set MJD-OBS to 55005.183449 from DATE-OBS'. [astropy.wcs.wcs]\n",
      "WARNING:astropy:FITSFixedWarning: 'datfix' made the change 'Set MJD-OBS to 55005.183449 from DATE-OBS'.\n",
      "INFO:astropy:using the unit adu passed to the FITS reader instead of the unit adu in the FITS file.\n",
      "WARNING: FITSFixedWarning: 'datfix' made the change 'Set MJD-OBS to 55005.183727 from DATE-OBS'. [astropy.wcs.wcs]\n",
      "WARNING:astropy:FITSFixedWarning: 'datfix' made the change 'Set MJD-OBS to 55005.183727 from DATE-OBS'.\n",
      "INFO:astropy:using the unit adu passed to the FITS reader instead of the unit adu in the FITS file.\n"
     ]
    },
    {
     "name": "stdout",
     "output_type": "stream",
     "text": [
      "INFO: using the unit adu passed to the FITS reader instead of the unit adu in the FITS file. [astropy.nddata.ccddata]\n",
      "INFO: using the unit adu passed to the FITS reader instead of the unit adu in the FITS file. [astropy.nddata.ccddata]\n",
      "INFO: using the unit adu passed to the FITS reader instead of the unit adu in the FITS file. [astropy.nddata.ccddata]\n",
      "INFO: using the unit adu passed to the FITS reader instead of the unit adu in the FITS file. [astropy.nddata.ccddata]\n",
      "INFO: using the unit adu passed to the FITS reader instead of the unit adu in the FITS file. [astropy.nddata.ccddata]\n",
      "INFO: using the unit adu passed to the FITS reader instead of the unit adu in the FITS file. [astropy.nddata.ccddata]\n",
      "INFO: using the unit adu passed to the FITS reader instead of the unit adu in the FITS file. [astropy.nddata.ccddata]\n"
     ]
    },
    {
     "name": "stderr",
     "output_type": "stream",
     "text": [
      "WARNING: FITSFixedWarning: 'datfix' made the change 'Set MJD-OBS to 55005.184005 from DATE-OBS'. [astropy.wcs.wcs]\n",
      "WARNING:astropy:FITSFixedWarning: 'datfix' made the change 'Set MJD-OBS to 55005.184005 from DATE-OBS'.\n",
      "INFO:astropy:using the unit adu passed to the FITS reader instead of the unit adu in the FITS file.\n",
      "WARNING: FITSFixedWarning: 'datfix' made the change 'Set MJD-OBS to 55005.184282 from DATE-OBS'. [astropy.wcs.wcs]\n",
      "WARNING:astropy:FITSFixedWarning: 'datfix' made the change 'Set MJD-OBS to 55005.184282 from DATE-OBS'.\n",
      "INFO:astropy:using the unit adu passed to the FITS reader instead of the unit adu in the FITS file.\n",
      "WARNING: FITSFixedWarning: 'datfix' made the change 'Set MJD-OBS to 55005.184572 from DATE-OBS'. [astropy.wcs.wcs]\n",
      "WARNING:astropy:FITSFixedWarning: 'datfix' made the change 'Set MJD-OBS to 55005.184572 from DATE-OBS'.\n",
      "INFO:astropy:using the unit adu passed to the FITS reader instead of the unit adu in the FITS file.\n",
      "WARNING: FITSFixedWarning: 'datfix' made the change 'Set MJD-OBS to 55005.184850 from DATE-OBS'. [astropy.wcs.wcs]\n",
      "WARNING:astropy:FITSFixedWarning: 'datfix' made the change 'Set MJD-OBS to 55005.184850 from DATE-OBS'.\n",
      "INFO:astropy:using the unit adu passed to the FITS reader instead of the unit adu in the FITS file.\n",
      "WARNING: FITSFixedWarning: 'datfix' made the change 'Set MJD-OBS to 55005.185127 from DATE-OBS'. [astropy.wcs.wcs]\n",
      "WARNING:astropy:FITSFixedWarning: 'datfix' made the change 'Set MJD-OBS to 55005.185127 from DATE-OBS'.\n",
      "INFO:astropy:using the unit adu passed to the FITS reader instead of the unit adu in the FITS file.\n",
      "WARNING: FITSFixedWarning: 'datfix' made the change 'Set MJD-OBS to 55005.185405 from DATE-OBS'. [astropy.wcs.wcs]\n",
      "WARNING:astropy:FITSFixedWarning: 'datfix' made the change 'Set MJD-OBS to 55005.185405 from DATE-OBS'.\n"
     ]
    },
    {
     "name": "stdout",
     "output_type": "stream",
     "text": [
      "INFO: using the unit adu passed to the FITS reader instead of the unit adu in the FITS file. [astropy.nddata.ccddata]\n",
      "INFO: using the unit adu passed to the FITS reader instead of the unit adu in the FITS file. [astropy.nddata.ccddata]\n",
      "INFO: using the unit adu passed to the FITS reader instead of the unit adu in the FITS file. [astropy.nddata.ccddata]\n",
      "INFO: using the unit adu passed to the FITS reader instead of the unit adu in the FITS file. [astropy.nddata.ccddata]\n",
      "INFO: using the unit adu passed to the FITS reader instead of the unit adu in the FITS file. [astropy.nddata.ccddata]\n"
     ]
    },
    {
     "name": "stderr",
     "output_type": "stream",
     "text": [
      "INFO:astropy:using the unit adu passed to the FITS reader instead of the unit adu in the FITS file.\n",
      "WARNING: FITSFixedWarning: 'datfix' made the change 'Set MJD-OBS to 55005.180382 from DATE-OBS'. [astropy.wcs.wcs]\n",
      "WARNING:astropy:FITSFixedWarning: 'datfix' made the change 'Set MJD-OBS to 55005.180382 from DATE-OBS'.\n",
      "INFO:astropy:using the unit adu passed to the FITS reader instead of the unit adu in the FITS file.\n",
      "WARNING: FITSFixedWarning: 'datfix' made the change 'Set MJD-OBS to 55005.180660 from DATE-OBS'. [astropy.wcs.wcs]\n",
      "WARNING:astropy:FITSFixedWarning: 'datfix' made the change 'Set MJD-OBS to 55005.180660 from DATE-OBS'.\n",
      "INFO:astropy:using the unit adu passed to the FITS reader instead of the unit adu in the FITS file.\n",
      "WARNING: FITSFixedWarning: 'datfix' made the change 'Set MJD-OBS to 55005.180938 from DATE-OBS'. [astropy.wcs.wcs]\n",
      "WARNING:astropy:FITSFixedWarning: 'datfix' made the change 'Set MJD-OBS to 55005.180938 from DATE-OBS'.\n",
      "INFO:astropy:using the unit adu passed to the FITS reader instead of the unit adu in the FITS file.\n",
      "WARNING: FITSFixedWarning: 'datfix' made the change 'Set MJD-OBS to 55005.181227 from DATE-OBS'. [astropy.wcs.wcs]\n",
      "WARNING:astropy:FITSFixedWarning: 'datfix' made the change 'Set MJD-OBS to 55005.181227 from DATE-OBS'.\n",
      "INFO:astropy:using the unit adu passed to the FITS reader instead of the unit adu in the FITS file.\n"
     ]
    },
    {
     "name": "stdout",
     "output_type": "stream",
     "text": [
      "INFO: using the unit adu passed to the FITS reader instead of the unit adu in the FITS file. [astropy.nddata.ccddata]\n",
      "INFO: using the unit adu passed to the FITS reader instead of the unit adu in the FITS file. [astropy.nddata.ccddata]\n",
      "INFO: using the unit adu passed to the FITS reader instead of the unit adu in the FITS file. [astropy.nddata.ccddata]\n",
      "INFO: using the unit adu passed to the FITS reader instead of the unit adu in the FITS file. [astropy.nddata.ccddata]\n",
      "INFO: using the unit adu passed to the FITS reader instead of the unit adu in the FITS file. [astropy.nddata.ccddata]\n"
     ]
    },
    {
     "name": "stderr",
     "output_type": "stream",
     "text": [
      "WARNING: FITSFixedWarning: 'datfix' made the change 'Set MJD-OBS to 55005.181505 from DATE-OBS'. [astropy.wcs.wcs]\n",
      "WARNING:astropy:FITSFixedWarning: 'datfix' made the change 'Set MJD-OBS to 55005.181505 from DATE-OBS'.\n",
      "INFO:astropy:using the unit adu passed to the FITS reader instead of the unit adu in the FITS file.\n",
      "WARNING: FITSFixedWarning: 'datfix' made the change 'Set MJD-OBS to 55005.181782 from DATE-OBS'. [astropy.wcs.wcs]\n",
      "WARNING:astropy:FITSFixedWarning: 'datfix' made the change 'Set MJD-OBS to 55005.181782 from DATE-OBS'.\n",
      "INFO:astropy:using the unit adu passed to the FITS reader instead of the unit adu in the FITS file.\n",
      "WARNING: FITSFixedWarning: 'datfix' made the change 'Set MJD-OBS to 55005.182060 from DATE-OBS'. [astropy.wcs.wcs]\n",
      "WARNING:astropy:FITSFixedWarning: 'datfix' made the change 'Set MJD-OBS to 55005.182060 from DATE-OBS'.\n",
      "INFO:astropy:using the unit adu passed to the FITS reader instead of the unit adu in the FITS file.\n",
      "WARNING: FITSFixedWarning: 'datfix' made the change 'Set MJD-OBS to 55005.182338 from DATE-OBS'. [astropy.wcs.wcs]\n",
      "WARNING:astropy:FITSFixedWarning: 'datfix' made the change 'Set MJD-OBS to 55005.182338 from DATE-OBS'.\n",
      "INFO:astropy:using the unit adu passed to the FITS reader instead of the unit adu in the FITS file.\n",
      "WARNING: FITSFixedWarning: 'datfix' made the change 'Set MJD-OBS to 55005.182616 from DATE-OBS'. [astropy.wcs.wcs]\n",
      "WARNING:astropy:FITSFixedWarning: 'datfix' made the change 'Set MJD-OBS to 55005.182616 from DATE-OBS'.\n",
      "INFO:astropy:using the unit adu passed to the FITS reader instead of the unit adu in the FITS file.\n",
      "WARNING: FITSFixedWarning: 'datfix' made the change 'Set MJD-OBS to 55005.182894 from DATE-OBS'. [astropy.wcs.wcs]\n",
      "WARNING:astropy:FITSFixedWarning: 'datfix' made the change 'Set MJD-OBS to 55005.182894 from DATE-OBS'.\n",
      "INFO:astropy:using the unit adu passed to the FITS reader instead of the unit adu in the FITS file.\n",
      "WARNING: FITSFixedWarning: 'datfix' made the change 'Set MJD-OBS to 55005.183171 from DATE-OBS'. [astropy.wcs.wcs]\n",
      "WARNING:astropy:FITSFixedWarning: 'datfix' made the change 'Set MJD-OBS to 55005.183171 from DATE-OBS'.\n",
      "INFO:astropy:using the unit adu passed to the FITS reader instead of the unit adu in the FITS file.\n",
      "WARNING: FITSFixedWarning: 'datfix' made the change 'Set MJD-OBS to 55005.183449 from DATE-OBS'. [astropy.wcs.wcs]\n",
      "WARNING:astropy:FITSFixedWarning: 'datfix' made the change 'Set MJD-OBS to 55005.183449 from DATE-OBS'.\n",
      "INFO:astropy:using the unit adu passed to the FITS reader instead of the unit adu in the FITS file.\n"
     ]
    },
    {
     "name": "stdout",
     "output_type": "stream",
     "text": [
      "INFO: using the unit adu passed to the FITS reader instead of the unit adu in the FITS file. [astropy.nddata.ccddata]\n",
      "INFO: using the unit adu passed to the FITS reader instead of the unit adu in the FITS file. [astropy.nddata.ccddata]\n",
      "INFO: using the unit adu passed to the FITS reader instead of the unit adu in the FITS file. [astropy.nddata.ccddata]\n",
      "INFO: using the unit adu passed to the FITS reader instead of the unit adu in the FITS file. [astropy.nddata.ccddata]\n",
      "INFO: using the unit adu passed to the FITS reader instead of the unit adu in the FITS file. [astropy.nddata.ccddata]\n",
      "INFO: using the unit adu passed to the FITS reader instead of the unit adu in the FITS file. [astropy.nddata.ccddata]\n",
      "INFO: using the unit adu passed to the FITS reader instead of the unit adu in the FITS file. [astropy.nddata.ccddata]\n",
      "INFO: using the unit adu passed to the FITS reader instead of the unit adu in the FITS file. [astropy.nddata.ccddata]\n"
     ]
    },
    {
     "name": "stderr",
     "output_type": "stream",
     "text": [
      "WARNING: FITSFixedWarning: 'datfix' made the change 'Set MJD-OBS to 55005.183727 from DATE-OBS'. [astropy.wcs.wcs]\n",
      "WARNING:astropy:FITSFixedWarning: 'datfix' made the change 'Set MJD-OBS to 55005.183727 from DATE-OBS'.\n",
      "INFO:astropy:using the unit adu passed to the FITS reader instead of the unit adu in the FITS file.\n",
      "WARNING: FITSFixedWarning: 'datfix' made the change 'Set MJD-OBS to 55005.184005 from DATE-OBS'. [astropy.wcs.wcs]\n",
      "WARNING:astropy:FITSFixedWarning: 'datfix' made the change 'Set MJD-OBS to 55005.184005 from DATE-OBS'.\n",
      "INFO:astropy:using the unit adu passed to the FITS reader instead of the unit adu in the FITS file.\n",
      "WARNING: FITSFixedWarning: 'datfix' made the change 'Set MJD-OBS to 55005.184282 from DATE-OBS'. [astropy.wcs.wcs]\n",
      "WARNING:astropy:FITSFixedWarning: 'datfix' made the change 'Set MJD-OBS to 55005.184282 from DATE-OBS'.\n",
      "INFO:astropy:using the unit adu passed to the FITS reader instead of the unit adu in the FITS file.\n",
      "WARNING: FITSFixedWarning: 'datfix' made the change 'Set MJD-OBS to 55005.184572 from DATE-OBS'. [astropy.wcs.wcs]\n",
      "WARNING:astropy:FITSFixedWarning: 'datfix' made the change 'Set MJD-OBS to 55005.184572 from DATE-OBS'.\n",
      "INFO:astropy:using the unit adu passed to the FITS reader instead of the unit adu in the FITS file.\n",
      "WARNING: FITSFixedWarning: 'datfix' made the change 'Set MJD-OBS to 55005.184850 from DATE-OBS'. [astropy.wcs.wcs]\n",
      "WARNING:astropy:FITSFixedWarning: 'datfix' made the change 'Set MJD-OBS to 55005.184850 from DATE-OBS'.\n",
      "INFO:astropy:using the unit adu passed to the FITS reader instead of the unit adu in the FITS file.\n",
      "WARNING: FITSFixedWarning: 'datfix' made the change 'Set MJD-OBS to 55005.185127 from DATE-OBS'. [astropy.wcs.wcs]\n",
      "WARNING:astropy:FITSFixedWarning: 'datfix' made the change 'Set MJD-OBS to 55005.185127 from DATE-OBS'.\n",
      "INFO:astropy:using the unit adu passed to the FITS reader instead of the unit adu in the FITS file.\n",
      "WARNING: FITSFixedWarning: 'datfix' made the change 'Set MJD-OBS to 55005.185405 from DATE-OBS'. [astropy.wcs.wcs]\n",
      "WARNING:astropy:FITSFixedWarning: 'datfix' made the change 'Set MJD-OBS to 55005.185405 from DATE-OBS'.\n"
     ]
    },
    {
     "name": "stdout",
     "output_type": "stream",
     "text": [
      "INFO: using the unit adu passed to the FITS reader instead of the unit adu in the FITS file. [astropy.nddata.ccddata]\n",
      "INFO: using the unit adu passed to the FITS reader instead of the unit adu in the FITS file. [astropy.nddata.ccddata]\n",
      "INFO: using the unit adu passed to the FITS reader instead of the unit adu in the FITS file. [astropy.nddata.ccddata]\n",
      "INFO: using the unit adu passed to the FITS reader instead of the unit adu in the FITS file. [astropy.nddata.ccddata]\n",
      "INFO: using the unit adu passed to the FITS reader instead of the unit adu in the FITS file. [astropy.nddata.ccddata]\n",
      "INFO: using the unit adu passed to the FITS reader instead of the unit adu in the FITS file. [astropy.nddata.ccddata]\n"
     ]
    },
    {
     "name": "stderr",
     "output_type": "stream",
     "text": [
      "INFO:astropy:using the unit adu passed to the FITS reader instead of the unit adu in the FITS file.\n",
      "WARNING: FITSFixedWarning: 'datfix' made the change 'Set MJD-OBS to 55005.180382 from DATE-OBS'. [astropy.wcs.wcs]\n",
      "WARNING:astropy:FITSFixedWarning: 'datfix' made the change 'Set MJD-OBS to 55005.180382 from DATE-OBS'.\n",
      "INFO:astropy:using the unit adu passed to the FITS reader instead of the unit adu in the FITS file.\n",
      "WARNING: FITSFixedWarning: 'datfix' made the change 'Set MJD-OBS to 55005.180660 from DATE-OBS'. [astropy.wcs.wcs]\n",
      "WARNING:astropy:FITSFixedWarning: 'datfix' made the change 'Set MJD-OBS to 55005.180660 from DATE-OBS'.\n",
      "INFO:astropy:using the unit adu passed to the FITS reader instead of the unit adu in the FITS file.\n",
      "WARNING: FITSFixedWarning: 'datfix' made the change 'Set MJD-OBS to 55005.180938 from DATE-OBS'. [astropy.wcs.wcs]\n",
      "WARNING:astropy:FITSFixedWarning: 'datfix' made the change 'Set MJD-OBS to 55005.180938 from DATE-OBS'.\n",
      "INFO:astropy:using the unit adu passed to the FITS reader instead of the unit adu in the FITS file.\n",
      "WARNING: FITSFixedWarning: 'datfix' made the change 'Set MJD-OBS to 55005.181227 from DATE-OBS'. [astropy.wcs.wcs]\n",
      "WARNING:astropy:FITSFixedWarning: 'datfix' made the change 'Set MJD-OBS to 55005.181227 from DATE-OBS'.\n",
      "INFO:astropy:using the unit adu passed to the FITS reader instead of the unit adu in the FITS file.\n",
      "WARNING: FITSFixedWarning: 'datfix' made the change 'Set MJD-OBS to 55005.181505 from DATE-OBS'. [astropy.wcs.wcs]\n",
      "WARNING:astropy:FITSFixedWarning: 'datfix' made the change 'Set MJD-OBS to 55005.181505 from DATE-OBS'.\n",
      "INFO:astropy:using the unit adu passed to the FITS reader instead of the unit adu in the FITS file.\n",
      "WARNING: FITSFixedWarning: 'datfix' made the change 'Set MJD-OBS to 55005.181782 from DATE-OBS'. [astropy.wcs.wcs]\n",
      "WARNING:astropy:FITSFixedWarning: 'datfix' made the change 'Set MJD-OBS to 55005.181782 from DATE-OBS'.\n",
      "INFO:astropy:using the unit adu passed to the FITS reader instead of the unit adu in the FITS file.\n",
      "WARNING: FITSFixedWarning: 'datfix' made the change 'Set MJD-OBS to 55005.182060 from DATE-OBS'. [astropy.wcs.wcs]\n",
      "WARNING:astropy:FITSFixedWarning: 'datfix' made the change 'Set MJD-OBS to 55005.182060 from DATE-OBS'.\n"
     ]
    },
    {
     "name": "stdout",
     "output_type": "stream",
     "text": [
      "INFO: using the unit adu passed to the FITS reader instead of the unit adu in the FITS file. [astropy.nddata.ccddata]\n",
      "INFO: using the unit adu passed to the FITS reader instead of the unit adu in the FITS file. [astropy.nddata.ccddata]\n",
      "INFO: using the unit adu passed to the FITS reader instead of the unit adu in the FITS file. [astropy.nddata.ccddata]\n",
      "INFO: using the unit adu passed to the FITS reader instead of the unit adu in the FITS file. [astropy.nddata.ccddata]\n",
      "INFO: using the unit adu passed to the FITS reader instead of the unit adu in the FITS file. [astropy.nddata.ccddata]\n",
      "INFO: using the unit adu passed to the FITS reader instead of the unit adu in the FITS file. [astropy.nddata.ccddata]\n",
      "INFO: using the unit adu passed to the FITS reader instead of the unit adu in the FITS file. [astropy.nddata.ccddata]\n"
     ]
    },
    {
     "name": "stderr",
     "output_type": "stream",
     "text": [
      "INFO:astropy:using the unit adu passed to the FITS reader instead of the unit adu in the FITS file.\n",
      "WARNING: FITSFixedWarning: 'datfix' made the change 'Set MJD-OBS to 55005.182338 from DATE-OBS'. [astropy.wcs.wcs]\n",
      "WARNING:astropy:FITSFixedWarning: 'datfix' made the change 'Set MJD-OBS to 55005.182338 from DATE-OBS'.\n",
      "INFO:astropy:using the unit adu passed to the FITS reader instead of the unit adu in the FITS file.\n",
      "WARNING: FITSFixedWarning: 'datfix' made the change 'Set MJD-OBS to 55005.182616 from DATE-OBS'. [astropy.wcs.wcs]\n",
      "WARNING:astropy:FITSFixedWarning: 'datfix' made the change 'Set MJD-OBS to 55005.182616 from DATE-OBS'.\n",
      "INFO:astropy:using the unit adu passed to the FITS reader instead of the unit adu in the FITS file.\n",
      "WARNING: FITSFixedWarning: 'datfix' made the change 'Set MJD-OBS to 55005.182894 from DATE-OBS'. [astropy.wcs.wcs]\n",
      "WARNING:astropy:FITSFixedWarning: 'datfix' made the change 'Set MJD-OBS to 55005.182894 from DATE-OBS'.\n",
      "INFO:astropy:using the unit adu passed to the FITS reader instead of the unit adu in the FITS file.\n",
      "WARNING: FITSFixedWarning: 'datfix' made the change 'Set MJD-OBS to 55005.183171 from DATE-OBS'. [astropy.wcs.wcs]\n",
      "WARNING:astropy:FITSFixedWarning: 'datfix' made the change 'Set MJD-OBS to 55005.183171 from DATE-OBS'.\n",
      "INFO:astropy:using the unit adu passed to the FITS reader instead of the unit adu in the FITS file.\n",
      "WARNING: FITSFixedWarning: 'datfix' made the change 'Set MJD-OBS to 55005.183449 from DATE-OBS'. [astropy.wcs.wcs]\n",
      "WARNING:astropy:FITSFixedWarning: 'datfix' made the change 'Set MJD-OBS to 55005.183449 from DATE-OBS'.\n",
      "INFO:astropy:using the unit adu passed to the FITS reader instead of the unit adu in the FITS file.\n",
      "WARNING: FITSFixedWarning: 'datfix' made the change 'Set MJD-OBS to 55005.183727 from DATE-OBS'. [astropy.wcs.wcs]\n",
      "WARNING:astropy:FITSFixedWarning: 'datfix' made the change 'Set MJD-OBS to 55005.183727 from DATE-OBS'.\n",
      "INFO:astropy:using the unit adu passed to the FITS reader instead of the unit adu in the FITS file.\n",
      "WARNING: FITSFixedWarning: 'datfix' made the change 'Set MJD-OBS to 55005.184005 from DATE-OBS'. [astropy.wcs.wcs]\n",
      "WARNING:astropy:FITSFixedWarning: 'datfix' made the change 'Set MJD-OBS to 55005.184005 from DATE-OBS'.\n",
      "INFO:astropy:using the unit adu passed to the FITS reader instead of the unit adu in the FITS file.\n"
     ]
    },
    {
     "name": "stdout",
     "output_type": "stream",
     "text": [
      "INFO: using the unit adu passed to the FITS reader instead of the unit adu in the FITS file. [astropy.nddata.ccddata]\n",
      "INFO: using the unit adu passed to the FITS reader instead of the unit adu in the FITS file. [astropy.nddata.ccddata]\n",
      "INFO: using the unit adu passed to the FITS reader instead of the unit adu in the FITS file. [astropy.nddata.ccddata]\n",
      "INFO: using the unit adu passed to the FITS reader instead of the unit adu in the FITS file. [astropy.nddata.ccddata]\n",
      "INFO: using the unit adu passed to the FITS reader instead of the unit adu in the FITS file. [astropy.nddata.ccddata]\n",
      "INFO: using the unit adu passed to the FITS reader instead of the unit adu in the FITS file. [astropy.nddata.ccddata]\n",
      "INFO: using the unit adu passed to the FITS reader instead of the unit adu in the FITS file. [astropy.nddata.ccddata]\n",
      "INFO: using the unit adu passed to the FITS reader instead of the unit adu in the FITS file. [astropy.nddata.ccddata]\n"
     ]
    },
    {
     "name": "stderr",
     "output_type": "stream",
     "text": [
      "WARNING: FITSFixedWarning: 'datfix' made the change 'Set MJD-OBS to 55005.184282 from DATE-OBS'. [astropy.wcs.wcs]\n",
      "WARNING:astropy:FITSFixedWarning: 'datfix' made the change 'Set MJD-OBS to 55005.184282 from DATE-OBS'.\n",
      "INFO:astropy:using the unit adu passed to the FITS reader instead of the unit adu in the FITS file.\n",
      "WARNING: FITSFixedWarning: 'datfix' made the change 'Set MJD-OBS to 55005.184572 from DATE-OBS'. [astropy.wcs.wcs]\n",
      "WARNING:astropy:FITSFixedWarning: 'datfix' made the change 'Set MJD-OBS to 55005.184572 from DATE-OBS'.\n",
      "INFO:astropy:using the unit adu passed to the FITS reader instead of the unit adu in the FITS file.\n",
      "WARNING: FITSFixedWarning: 'datfix' made the change 'Set MJD-OBS to 55005.184850 from DATE-OBS'. [astropy.wcs.wcs]\n",
      "WARNING:astropy:FITSFixedWarning: 'datfix' made the change 'Set MJD-OBS to 55005.184850 from DATE-OBS'.\n",
      "INFO:astropy:using the unit adu passed to the FITS reader instead of the unit adu in the FITS file.\n",
      "WARNING: FITSFixedWarning: 'datfix' made the change 'Set MJD-OBS to 55005.185127 from DATE-OBS'. [astropy.wcs.wcs]\n",
      "WARNING:astropy:FITSFixedWarning: 'datfix' made the change 'Set MJD-OBS to 55005.185127 from DATE-OBS'.\n",
      "INFO:astropy:using the unit adu passed to the FITS reader instead of the unit adu in the FITS file.\n",
      "WARNING: FITSFixedWarning: 'datfix' made the change 'Set MJD-OBS to 55005.185405 from DATE-OBS'. [astropy.wcs.wcs]\n",
      "WARNING:astropy:FITSFixedWarning: 'datfix' made the change 'Set MJD-OBS to 55005.185405 from DATE-OBS'.\n"
     ]
    },
    {
     "name": "stdout",
     "output_type": "stream",
     "text": [
      "INFO: using the unit adu passed to the FITS reader instead of the unit adu in the FITS file. [astropy.nddata.ccddata]\n",
      "INFO: using the unit adu passed to the FITS reader instead of the unit adu in the FITS file. [astropy.nddata.ccddata]\n",
      "INFO: using the unit adu passed to the FITS reader instead of the unit adu in the FITS file. [astropy.nddata.ccddata]\n",
      "INFO: using the unit adu passed to the FITS reader instead of the unit adu in the FITS file. [astropy.nddata.ccddata]\n"
     ]
    },
    {
     "name": "stderr",
     "output_type": "stream",
     "text": [
      "INFO:astropy:using the unit adu passed to the FITS reader instead of the unit adu in the FITS file.\n",
      "WARNING: FITSFixedWarning: 'datfix' made the change 'Set MJD-OBS to 55005.180382 from DATE-OBS'. [astropy.wcs.wcs]\n",
      "WARNING:astropy:FITSFixedWarning: 'datfix' made the change 'Set MJD-OBS to 55005.180382 from DATE-OBS'.\n",
      "INFO:astropy:using the unit adu passed to the FITS reader instead of the unit adu in the FITS file.\n",
      "WARNING: FITSFixedWarning: 'datfix' made the change 'Set MJD-OBS to 55005.180660 from DATE-OBS'. [astropy.wcs.wcs]\n",
      "WARNING:astropy:FITSFixedWarning: 'datfix' made the change 'Set MJD-OBS to 55005.180660 from DATE-OBS'.\n",
      "INFO:astropy:using the unit adu passed to the FITS reader instead of the unit adu in the FITS file.\n",
      "WARNING: FITSFixedWarning: 'datfix' made the change 'Set MJD-OBS to 55005.180938 from DATE-OBS'. [astropy.wcs.wcs]\n",
      "WARNING:astropy:FITSFixedWarning: 'datfix' made the change 'Set MJD-OBS to 55005.180938 from DATE-OBS'.\n",
      "INFO:astropy:using the unit adu passed to the FITS reader instead of the unit adu in the FITS file.\n",
      "WARNING: FITSFixedWarning: 'datfix' made the change 'Set MJD-OBS to 55005.181227 from DATE-OBS'. [astropy.wcs.wcs]\n",
      "WARNING:astropy:FITSFixedWarning: 'datfix' made the change 'Set MJD-OBS to 55005.181227 from DATE-OBS'.\n",
      "INFO:astropy:using the unit adu passed to the FITS reader instead of the unit adu in the FITS file.\n",
      "WARNING: FITSFixedWarning: 'datfix' made the change 'Set MJD-OBS to 55005.181505 from DATE-OBS'. [astropy.wcs.wcs]\n",
      "WARNING:astropy:FITSFixedWarning: 'datfix' made the change 'Set MJD-OBS to 55005.181505 from DATE-OBS'.\n",
      "INFO:astropy:using the unit adu passed to the FITS reader instead of the unit adu in the FITS file.\n",
      "WARNING: FITSFixedWarning: 'datfix' made the change 'Set MJD-OBS to 55005.181782 from DATE-OBS'. [astropy.wcs.wcs]\n",
      "WARNING:astropy:FITSFixedWarning: 'datfix' made the change 'Set MJD-OBS to 55005.181782 from DATE-OBS'.\n",
      "INFO:astropy:using the unit adu passed to the FITS reader instead of the unit adu in the FITS file.\n"
     ]
    },
    {
     "name": "stdout",
     "output_type": "stream",
     "text": [
      "INFO: using the unit adu passed to the FITS reader instead of the unit adu in the FITS file. [astropy.nddata.ccddata]\n",
      "INFO: using the unit adu passed to the FITS reader instead of the unit adu in the FITS file. [astropy.nddata.ccddata]\n",
      "INFO: using the unit adu passed to the FITS reader instead of the unit adu in the FITS file. [astropy.nddata.ccddata]\n",
      "INFO: using the unit adu passed to the FITS reader instead of the unit adu in the FITS file. [astropy.nddata.ccddata]\n",
      "INFO: using the unit adu passed to the FITS reader instead of the unit adu in the FITS file. [astropy.nddata.ccddata]\n",
      "INFO: using the unit adu passed to the FITS reader instead of the unit adu in the FITS file. [astropy.nddata.ccddata]\n",
      "INFO: using the unit adu passed to the FITS reader instead of the unit adu in the FITS file. [astropy.nddata.ccddata]\n"
     ]
    },
    {
     "name": "stderr",
     "output_type": "stream",
     "text": [
      "WARNING: FITSFixedWarning: 'datfix' made the change 'Set MJD-OBS to 55005.182060 from DATE-OBS'. [astropy.wcs.wcs]\n",
      "WARNING:astropy:FITSFixedWarning: 'datfix' made the change 'Set MJD-OBS to 55005.182060 from DATE-OBS'.\n",
      "INFO:astropy:using the unit adu passed to the FITS reader instead of the unit adu in the FITS file.\n",
      "WARNING: FITSFixedWarning: 'datfix' made the change 'Set MJD-OBS to 55005.182338 from DATE-OBS'. [astropy.wcs.wcs]\n",
      "WARNING:astropy:FITSFixedWarning: 'datfix' made the change 'Set MJD-OBS to 55005.182338 from DATE-OBS'.\n",
      "INFO:astropy:using the unit adu passed to the FITS reader instead of the unit adu in the FITS file.\n",
      "WARNING: FITSFixedWarning: 'datfix' made the change 'Set MJD-OBS to 55005.182616 from DATE-OBS'. [astropy.wcs.wcs]\n",
      "WARNING:astropy:FITSFixedWarning: 'datfix' made the change 'Set MJD-OBS to 55005.182616 from DATE-OBS'.\n",
      "INFO:astropy:using the unit adu passed to the FITS reader instead of the unit adu in the FITS file.\n",
      "WARNING: FITSFixedWarning: 'datfix' made the change 'Set MJD-OBS to 55005.182894 from DATE-OBS'. [astropy.wcs.wcs]\n",
      "WARNING:astropy:FITSFixedWarning: 'datfix' made the change 'Set MJD-OBS to 55005.182894 from DATE-OBS'.\n",
      "INFO:astropy:using the unit adu passed to the FITS reader instead of the unit adu in the FITS file.\n",
      "WARNING: FITSFixedWarning: 'datfix' made the change 'Set MJD-OBS to 55005.183171 from DATE-OBS'. [astropy.wcs.wcs]\n",
      "WARNING:astropy:FITSFixedWarning: 'datfix' made the change 'Set MJD-OBS to 55005.183171 from DATE-OBS'.\n",
      "INFO:astropy:using the unit adu passed to the FITS reader instead of the unit adu in the FITS file.\n",
      "WARNING: FITSFixedWarning: 'datfix' made the change 'Set MJD-OBS to 55005.183449 from DATE-OBS'. [astropy.wcs.wcs]\n",
      "WARNING:astropy:FITSFixedWarning: 'datfix' made the change 'Set MJD-OBS to 55005.183449 from DATE-OBS'.\n",
      "INFO:astropy:using the unit adu passed to the FITS reader instead of the unit adu in the FITS file.\n",
      "WARNING: FITSFixedWarning: 'datfix' made the change 'Set MJD-OBS to 55005.183727 from DATE-OBS'. [astropy.wcs.wcs]\n",
      "WARNING:astropy:FITSFixedWarning: 'datfix' made the change 'Set MJD-OBS to 55005.183727 from DATE-OBS'.\n"
     ]
    },
    {
     "name": "stdout",
     "output_type": "stream",
     "text": [
      "INFO: using the unit adu passed to the FITS reader instead of the unit adu in the FITS file. [astropy.nddata.ccddata]\n",
      "INFO: using the unit adu passed to the FITS reader instead of the unit adu in the FITS file. [astropy.nddata.ccddata]\n",
      "INFO: using the unit adu passed to the FITS reader instead of the unit adu in the FITS file. [astropy.nddata.ccddata]\n",
      "INFO: using the unit adu passed to the FITS reader instead of the unit adu in the FITS file. [astropy.nddata.ccddata]\n",
      "INFO: using the unit adu passed to the FITS reader instead of the unit adu in the FITS file. [astropy.nddata.ccddata]\n",
      "INFO: using the unit adu passed to the FITS reader instead of the unit adu in the FITS file. [astropy.nddata.ccddata]\n"
     ]
    },
    {
     "name": "stderr",
     "output_type": "stream",
     "text": [
      "INFO:astropy:using the unit adu passed to the FITS reader instead of the unit adu in the FITS file.\n",
      "WARNING: FITSFixedWarning: 'datfix' made the change 'Set MJD-OBS to 55005.184005 from DATE-OBS'. [astropy.wcs.wcs]\n",
      "WARNING:astropy:FITSFixedWarning: 'datfix' made the change 'Set MJD-OBS to 55005.184005 from DATE-OBS'.\n",
      "INFO:astropy:using the unit adu passed to the FITS reader instead of the unit adu in the FITS file.\n",
      "WARNING: FITSFixedWarning: 'datfix' made the change 'Set MJD-OBS to 55005.184282 from DATE-OBS'. [astropy.wcs.wcs]\n",
      "WARNING:astropy:FITSFixedWarning: 'datfix' made the change 'Set MJD-OBS to 55005.184282 from DATE-OBS'.\n",
      "INFO:astropy:using the unit adu passed to the FITS reader instead of the unit adu in the FITS file.\n",
      "WARNING: FITSFixedWarning: 'datfix' made the change 'Set MJD-OBS to 55005.184572 from DATE-OBS'. [astropy.wcs.wcs]\n",
      "WARNING:astropy:FITSFixedWarning: 'datfix' made the change 'Set MJD-OBS to 55005.184572 from DATE-OBS'.\n",
      "INFO:astropy:using the unit adu passed to the FITS reader instead of the unit adu in the FITS file.\n",
      "WARNING: FITSFixedWarning: 'datfix' made the change 'Set MJD-OBS to 55005.184850 from DATE-OBS'. [astropy.wcs.wcs]\n",
      "WARNING:astropy:FITSFixedWarning: 'datfix' made the change 'Set MJD-OBS to 55005.184850 from DATE-OBS'.\n",
      "INFO:astropy:using the unit adu passed to the FITS reader instead of the unit adu in the FITS file.\n",
      "WARNING: FITSFixedWarning: 'datfix' made the change 'Set MJD-OBS to 55005.185127 from DATE-OBS'. [astropy.wcs.wcs]\n",
      "WARNING:astropy:FITSFixedWarning: 'datfix' made the change 'Set MJD-OBS to 55005.185127 from DATE-OBS'.\n",
      "INFO:astropy:using the unit adu passed to the FITS reader instead of the unit adu in the FITS file.\n",
      "WARNING: FITSFixedWarning: 'datfix' made the change 'Set MJD-OBS to 55005.185405 from DATE-OBS'. [astropy.wcs.wcs]\n",
      "WARNING:astropy:FITSFixedWarning: 'datfix' made the change 'Set MJD-OBS to 55005.185405 from DATE-OBS'.\n"
     ]
    },
    {
     "name": "stdout",
     "output_type": "stream",
     "text": [
      "INFO: using the unit adu passed to the FITS reader instead of the unit adu in the FITS file. [astropy.nddata.ccddata]\n",
      "INFO: using the unit adu passed to the FITS reader instead of the unit adu in the FITS file. [astropy.nddata.ccddata]\n",
      "INFO: using the unit adu passed to the FITS reader instead of the unit adu in the FITS file. [astropy.nddata.ccddata]\n",
      "INFO: using the unit adu passed to the FITS reader instead of the unit adu in the FITS file. [astropy.nddata.ccddata]\n",
      "INFO: using the unit adu passed to the FITS reader instead of the unit adu in the FITS file. [astropy.nddata.ccddata]\n",
      "INFO: using the unit adu passed to the FITS reader instead of the unit adu in the FITS file. [astropy.nddata.ccddata]\n"
     ]
    },
    {
     "name": "stderr",
     "output_type": "stream",
     "text": [
      "INFO:astropy:using the unit adu passed to the FITS reader instead of the unit adu in the FITS file.\n",
      "WARNING: FITSFixedWarning: 'datfix' made the change 'Set MJD-OBS to 55005.180382 from DATE-OBS'. [astropy.wcs.wcs]\n",
      "WARNING:astropy:FITSFixedWarning: 'datfix' made the change 'Set MJD-OBS to 55005.180382 from DATE-OBS'.\n",
      "INFO:astropy:using the unit adu passed to the FITS reader instead of the unit adu in the FITS file.\n",
      "WARNING: FITSFixedWarning: 'datfix' made the change 'Set MJD-OBS to 55005.180660 from DATE-OBS'. [astropy.wcs.wcs]\n",
      "WARNING:astropy:FITSFixedWarning: 'datfix' made the change 'Set MJD-OBS to 55005.180660 from DATE-OBS'.\n",
      "INFO:astropy:using the unit adu passed to the FITS reader instead of the unit adu in the FITS file.\n",
      "WARNING: FITSFixedWarning: 'datfix' made the change 'Set MJD-OBS to 55005.180938 from DATE-OBS'. [astropy.wcs.wcs]\n",
      "WARNING:astropy:FITSFixedWarning: 'datfix' made the change 'Set MJD-OBS to 55005.180938 from DATE-OBS'.\n",
      "INFO:astropy:using the unit adu passed to the FITS reader instead of the unit adu in the FITS file.\n",
      "WARNING: FITSFixedWarning: 'datfix' made the change 'Set MJD-OBS to 55005.181227 from DATE-OBS'. [astropy.wcs.wcs]\n",
      "WARNING:astropy:FITSFixedWarning: 'datfix' made the change 'Set MJD-OBS to 55005.181227 from DATE-OBS'.\n",
      "INFO:astropy:using the unit adu passed to the FITS reader instead of the unit adu in the FITS file.\n",
      "WARNING: FITSFixedWarning: 'datfix' made the change 'Set MJD-OBS to 55005.181505 from DATE-OBS'. [astropy.wcs.wcs]\n",
      "WARNING:astropy:FITSFixedWarning: 'datfix' made the change 'Set MJD-OBS to 55005.181505 from DATE-OBS'.\n",
      "INFO:astropy:using the unit adu passed to the FITS reader instead of the unit adu in the FITS file.\n",
      "WARNING: FITSFixedWarning: 'datfix' made the change 'Set MJD-OBS to 55005.181782 from DATE-OBS'. [astropy.wcs.wcs]\n",
      "WARNING:astropy:FITSFixedWarning: 'datfix' made the change 'Set MJD-OBS to 55005.181782 from DATE-OBS'.\n",
      "INFO:astropy:using the unit adu passed to the FITS reader instead of the unit adu in the FITS file.\n",
      "WARNING: FITSFixedWarning: 'datfix' made the change 'Set MJD-OBS to 55005.182060 from DATE-OBS'. [astropy.wcs.wcs]\n",
      "WARNING:astropy:FITSFixedWarning: 'datfix' made the change 'Set MJD-OBS to 55005.182060 from DATE-OBS'.\n",
      "INFO:astropy:using the unit adu passed to the FITS reader instead of the unit adu in the FITS file.\n"
     ]
    },
    {
     "name": "stdout",
     "output_type": "stream",
     "text": [
      "INFO: using the unit adu passed to the FITS reader instead of the unit adu in the FITS file. [astropy.nddata.ccddata]\n",
      "INFO: using the unit adu passed to the FITS reader instead of the unit adu in the FITS file. [astropy.nddata.ccddata]\n",
      "INFO: using the unit adu passed to the FITS reader instead of the unit adu in the FITS file. [astropy.nddata.ccddata]\n",
      "INFO: using the unit adu passed to the FITS reader instead of the unit adu in the FITS file. [astropy.nddata.ccddata]\n",
      "INFO: using the unit adu passed to the FITS reader instead of the unit adu in the FITS file. [astropy.nddata.ccddata]\n",
      "INFO: using the unit adu passed to the FITS reader instead of the unit adu in the FITS file. [astropy.nddata.ccddata]\n",
      "INFO: using the unit adu passed to the FITS reader instead of the unit adu in the FITS file. [astropy.nddata.ccddata]\n",
      "INFO: using the unit adu passed to the FITS reader instead of the unit adu in the FITS file. [astropy.nddata.ccddata]\n"
     ]
    },
    {
     "name": "stderr",
     "output_type": "stream",
     "text": [
      "WARNING: FITSFixedWarning: 'datfix' made the change 'Set MJD-OBS to 55005.182338 from DATE-OBS'. [astropy.wcs.wcs]\n",
      "WARNING:astropy:FITSFixedWarning: 'datfix' made the change 'Set MJD-OBS to 55005.182338 from DATE-OBS'.\n",
      "INFO:astropy:using the unit adu passed to the FITS reader instead of the unit adu in the FITS file.\n",
      "WARNING: FITSFixedWarning: 'datfix' made the change 'Set MJD-OBS to 55005.182616 from DATE-OBS'. [astropy.wcs.wcs]\n",
      "WARNING:astropy:FITSFixedWarning: 'datfix' made the change 'Set MJD-OBS to 55005.182616 from DATE-OBS'.\n",
      "INFO:astropy:using the unit adu passed to the FITS reader instead of the unit adu in the FITS file.\n",
      "WARNING: FITSFixedWarning: 'datfix' made the change 'Set MJD-OBS to 55005.182894 from DATE-OBS'. [astropy.wcs.wcs]\n",
      "WARNING:astropy:FITSFixedWarning: 'datfix' made the change 'Set MJD-OBS to 55005.182894 from DATE-OBS'.\n",
      "INFO:astropy:using the unit adu passed to the FITS reader instead of the unit adu in the FITS file.\n",
      "WARNING: FITSFixedWarning: 'datfix' made the change 'Set MJD-OBS to 55005.183171 from DATE-OBS'. [astropy.wcs.wcs]\n",
      "WARNING:astropy:FITSFixedWarning: 'datfix' made the change 'Set MJD-OBS to 55005.183171 from DATE-OBS'.\n",
      "INFO:astropy:using the unit adu passed to the FITS reader instead of the unit adu in the FITS file.\n",
      "WARNING: FITSFixedWarning: 'datfix' made the change 'Set MJD-OBS to 55005.183449 from DATE-OBS'. [astropy.wcs.wcs]\n",
      "WARNING:astropy:FITSFixedWarning: 'datfix' made the change 'Set MJD-OBS to 55005.183449 from DATE-OBS'.\n",
      "INFO:astropy:using the unit adu passed to the FITS reader instead of the unit adu in the FITS file.\n",
      "WARNING: FITSFixedWarning: 'datfix' made the change 'Set MJD-OBS to 55005.183727 from DATE-OBS'. [astropy.wcs.wcs]\n",
      "WARNING:astropy:FITSFixedWarning: 'datfix' made the change 'Set MJD-OBS to 55005.183727 from DATE-OBS'.\n",
      "INFO:astropy:using the unit adu passed to the FITS reader instead of the unit adu in the FITS file.\n",
      "WARNING: FITSFixedWarning: 'datfix' made the change 'Set MJD-OBS to 55005.184005 from DATE-OBS'. [astropy.wcs.wcs]\n",
      "WARNING:astropy:FITSFixedWarning: 'datfix' made the change 'Set MJD-OBS to 55005.184005 from DATE-OBS'.\n",
      "INFO:astropy:using the unit adu passed to the FITS reader instead of the unit adu in the FITS file.\n",
      "WARNING: FITSFixedWarning: 'datfix' made the change 'Set MJD-OBS to 55005.184282 from DATE-OBS'. [astropy.wcs.wcs]\n",
      "WARNING:astropy:FITSFixedWarning: 'datfix' made the change 'Set MJD-OBS to 55005.184282 from DATE-OBS'.\n",
      "INFO:astropy:using the unit adu passed to the FITS reader instead of the unit adu in the FITS file.\n",
      "WARNING: FITSFixedWarning: 'datfix' made the change 'Set MJD-OBS to 55005.184572 from DATE-OBS'. [astropy.wcs.wcs]\n",
      "WARNING:astropy:FITSFixedWarning: 'datfix' made the change 'Set MJD-OBS to 55005.184572 from DATE-OBS'.\n",
      "INFO:astropy:using the unit adu passed to the FITS reader instead of the unit adu in the FITS file.\n",
      "WARNING: FITSFixedWarning: 'datfix' made the change 'Set MJD-OBS to 55005.184850 from DATE-OBS'. [astropy.wcs.wcs]\n",
      "WARNING:astropy:FITSFixedWarning: 'datfix' made the change 'Set MJD-OBS to 55005.184850 from DATE-OBS'.\n",
      "INFO:astropy:using the unit adu passed to the FITS reader instead of the unit adu in the FITS file.\n",
      "WARNING: FITSFixedWarning: 'datfix' made the change 'Set MJD-OBS to 55005.185127 from DATE-OBS'. [astropy.wcs.wcs]\n",
      "WARNING:astropy:FITSFixedWarning: 'datfix' made the change 'Set MJD-OBS to 55005.185127 from DATE-OBS'.\n"
     ]
    },
    {
     "name": "stdout",
     "output_type": "stream",
     "text": [
      "INFO: using the unit adu passed to the FITS reader instead of the unit adu in the FITS file. [astropy.nddata.ccddata]\n",
      "INFO: using the unit adu passed to the FITS reader instead of the unit adu in the FITS file. [astropy.nddata.ccddata]\n",
      "INFO: using the unit adu passed to the FITS reader instead of the unit adu in the FITS file. [astropy.nddata.ccddata]\n",
      "INFO: using the unit adu passed to the FITS reader instead of the unit adu in the FITS file. [astropy.nddata.ccddata]\n",
      "INFO: using the unit adu passed to the FITS reader instead of the unit adu in the FITS file. [astropy.nddata.ccddata]\n",
      "INFO: using the unit adu passed to the FITS reader instead of the unit adu in the FITS file. [astropy.nddata.ccddata]\n",
      "INFO: using the unit adu passed to the FITS reader instead of the unit adu in the FITS file. [astropy.nddata.ccddata]\n",
      "INFO: using the unit adu passed to the FITS reader instead of the unit adu in the FITS file. [astropy.nddata.ccddata]\n",
      "INFO: using the unit adu passed to the FITS reader instead of the unit adu in the FITS file. [astropy.nddata.ccddata]\n",
      "INFO: using the unit adu passed to the FITS reader instead of the unit adu in the FITS file. [astropy.nddata.ccddata]\n"
     ]
    },
    {
     "name": "stderr",
     "output_type": "stream",
     "text": [
      "INFO:astropy:using the unit adu passed to the FITS reader instead of the unit adu in the FITS file.\n",
      "WARNING: FITSFixedWarning: 'datfix' made the change 'Set MJD-OBS to 55005.185405 from DATE-OBS'. [astropy.wcs.wcs]\n",
      "WARNING:astropy:FITSFixedWarning: 'datfix' made the change 'Set MJD-OBS to 55005.185405 from DATE-OBS'.\n"
     ]
    },
    {
     "name": "stdout",
     "output_type": "stream",
     "text": [
      "INFO: using the unit adu passed to the FITS reader instead of the unit adu in the FITS file. [astropy.nddata.ccddata]\n"
     ]
    }
   ],
   "source": [
    "imgs = ccdp.ImageFileCollection(reduced_dir,glob_include='[ad]???ot.fits',glob_exclude='master*')\n",
    "biases = imgs.files_filtered(imagetyp='bias', include_path=True)\n",
    "\n",
    "master_bias = ccdp.combine(biases,\n",
    "                             method='average',\n",
    "                             sigma_clip=True, sigma_clip_low_thresh=3, sigma_clip_high_thresh=3,\n",
    "                             sigma_clip_func=np.ma.median, sigma_clip_dev_func=mad_std,\n",
    "                             mem_limit=350e6, unit=u.adu\n",
    "                            )\n",
    "\n",
    "master_bias.meta['combined'] = True\n",
    "master_bias.write(reduced_dir+'master_bias.fits',overwrite=True)"
   ]
  },
  {
   "cell_type": "code",
   "execution_count": null,
   "id": "9c1f0329-4245-4639-97a1-90914c9672f7",
   "metadata": {},
   "outputs": [],
   "source": []
  }
 ],
 "metadata": {
  "kernelspec": {
   "display_name": "Python [conda env:astr8060] *",
   "language": "python",
   "name": "conda-env-astr8060-py"
  },
  "language_info": {
   "codemirror_mode": {
    "name": "ipython",
    "version": 3
   },
   "file_extension": ".py",
   "mimetype": "text/x-python",
   "name": "python",
   "nbconvert_exporter": "python",
   "pygments_lexer": "ipython3",
   "version": "3.8.18"
  }
 },
 "nbformat": 4,
 "nbformat_minor": 5
}
