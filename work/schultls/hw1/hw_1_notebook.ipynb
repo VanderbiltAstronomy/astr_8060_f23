{
 "cells": [
  {
   "cell_type": "markdown",
   "metadata": {},
   "source": [
    "# HW 1 Notebook"
   ]
  },
  {
   "cell_type": "markdown",
   "metadata": {},
   "source": [
    "## 2 - sph. geom vs flat geometry"
   ]
  },
  {
   "cell_type": "code",
   "execution_count": 41,
   "metadata": {},
   "outputs": [],
   "source": [
    "import astropy\n",
    "import numpy as np"
   ]
  },
  {
   "cell_type": "code",
   "execution_count": 46,
   "metadata": {},
   "outputs": [
    {
     "data": {
      "text/plain": [
       "'1.25.2'"
      ]
     },
     "execution_count": 46,
     "metadata": {},
     "output_type": "execute_result"
    }
   ],
   "source": [
    "np.__version__"
   ]
  },
  {
   "cell_type": "code",
   "execution_count": 48,
   "metadata": {},
   "outputs": [
    {
     "data": {
      "text/plain": [
       "0.5403023058681398"
      ]
     },
     "execution_count": 48,
     "metadata": {},
     "output_type": "execute_result"
    }
   ],
   "source": [
    "np.cos(1)"
   ]
  },
  {
   "cell_type": "code",
   "execution_count": 49,
   "metadata": {},
   "outputs": [],
   "source": [
    "# calculate angular distance between two RA/Dec using sph. geometry\n",
    "def sph_angdist(pos1, pos2):\n",
    "    '''pos1 = single indexed np array [ra, dec] in radians\n",
    "    '''\n",
    "    ra1 = pos1[0]\n",
    "    ra2 = pos2[0]\n",
    "    dec1 = pos1[1]\n",
    "    dec2 = pos2[1]\n",
    "    theta = np.arccos(np.cos(dec1)*np.cos(dec2)*np.cos(ra2-ra1)+np.sin(dec1)*np.sin(dec2))\n",
    "    return theta"
   ]
  },
  {
   "cell_type": "code",
   "execution_count": 50,
   "metadata": {},
   "outputs": [],
   "source": [
    "# calculate angular distance between two RA/Dec using pythagorean theorem\n",
    "def mink_angdist(pos1, pos2):\n",
    "    '''pos1 = single indexed np array [ra, dec] in radians\n",
    "    '''\n",
    "    ra1 = pos1[0]\n",
    "    ra2 = pos2[0]\n",
    "    dec1 = pos1[1]\n",
    "    dec2 = pos2[1]\n",
    "    theta = np.sqrt((dec2-dec1)**2 + ((ra2-ra1)*np.cos(np.mean([dec1, dec2])))**2)\n",
    "    return theta"
   ]
  },
  {
   "cell_type": "code",
   "execution_count": 51,
   "metadata": {},
   "outputs": [],
   "source": [
    "# sample ra/dec points\n",
    "pos1s = np.zeros((2,10))\n",
    "pos2s = np.zeros((2,10))\n",
    "\n",
    "pos1s[0,:] = np.linspace(0, 180, 10) # ra1\n",
    "pos2s[0,:] = np.linspace(5, 185, 10) # ra2\n",
    "pos1s[1,:] = np.linspace(0, 90, 10) # dec1\n",
    "pos2s[1,:] = np.linspace(0,-90, 10) # dec2"
   ]
  },
  {
   "cell_type": "code",
   "execution_count": 54,
   "metadata": {},
   "outputs": [],
   "source": [
    "# calculating various arc lengths\n",
    "arclengths = np.zeros((2, 10))\n",
    "\n",
    "arclengths[0] = sph_angdist(np.radians(pos1s), np.radians(pos2s))\n",
    "arclengths[1] = mink_angdist(np.radians(pos1s), np.radians(pos2s))"
   ]
  },
  {
   "cell_type": "code",
   "execution_count": 55,
   "metadata": {},
   "outputs": [
    {
     "data": {
      "text/plain": [
       "array([[0.08726646, 0.35970114, 0.70334303, 1.05048992, 1.39853044,\n",
       "        1.74692599, 2.09549395, 2.44415375, 2.79286245, 3.14159265],\n",
       "       [0.08726646, 0.35980884, 0.70356471, 1.05082736, 1.39898782,\n",
       "        1.74750955, 2.09621237, 2.44501879, 2.79389001, 3.14280445]])"
      ]
     },
     "execution_count": 55,
     "metadata": {},
     "output_type": "execute_result"
    }
   ],
   "source": [
    "arclengths"
   ]
  },
  {
   "cell_type": "code",
   "execution_count": null,
   "metadata": {},
   "outputs": [],
   "source": []
  }
 ],
 "metadata": {
  "kernelspec": {
   "display_name": "ent15y_2",
   "language": "python",
   "name": "python3"
  },
  "language_info": {
   "codemirror_mode": {
    "name": "ipython",
    "version": 3
   },
   "file_extension": ".py",
   "mimetype": "text/x-python",
   "name": "python",
   "nbconvert_exporter": "python",
   "pygments_lexer": "ipython3",
   "version": "3.9.17"
  },
  "orig_nbformat": 4
 },
 "nbformat": 4,
 "nbformat_minor": 2
}
