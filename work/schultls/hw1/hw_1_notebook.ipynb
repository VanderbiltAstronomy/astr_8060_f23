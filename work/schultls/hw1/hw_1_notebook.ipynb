{
 "cells": [
  {
   "cell_type": "markdown",
   "metadata": {},
   "source": [
    "# HW 1 Notebook"
   ]
  },
  {
   "cell_type": "markdown",
   "metadata": {},
   "source": [
    "## 2 - sph. geom vs flat geometry"
   ]
  },
  {
   "cell_type": "code",
   "execution_count": 1,
   "metadata": {},
   "outputs": [],
   "source": [
    "import astropy\n",
    "import numpy"
   ]
  },
  {
   "cell_type": "code",
   "execution_count": 2,
   "metadata": {},
   "outputs": [],
   "source": [
    "# calculate angular distance between two RA/Dec using sph. geometry\n",
    "def sph_angdist(pos1, pos2):\n",
    "    '''pos1 = single indexed np array [ra, dec] in degrees\n",
    "    '''\n",
    "    ra1 = pos1[0]\n",
    "    ra2 = pos2[0]\n",
    "    dec1 = pos1[1]\n",
    "    dec2 = pos2[1]\n",
    "    theta = np.arccos(np.cos(dec1)*np.cos(dec2)*cos(ra2-ra1)+np.sin(dec1)*np.sin(dec2))\n",
    "    return theta"
   ]
  },
  {
   "cell_type": "code",
   "execution_count": null,
   "metadata": {},
   "outputs": [],
   "source": [
    "# calculate angular distance between two RA/Dec using pythagorean theorem\n",
    "def mink_angdist(pos1, pos2):\n",
    "    '''pos1 = single indexed np array [ra, dec] in degrees\n",
    "    '''\n",
    "    ra1 = pos1[0]\n",
    "    ra2 = pos2[0]\n",
    "    dec1 = pos1[1]\n",
    "    dec2 = pos2[1]\n",
    "    theta = np.sqrt((dec2-dec1)**2 + (ra2-ra1)*np.cos(np.avg()))"
   ]
  }
 ],
 "metadata": {
  "kernelspec": {
   "display_name": "ent15y_2",
   "language": "python",
   "name": "python3"
  },
  "language_info": {
   "codemirror_mode": {
    "name": "ipython",
    "version": 3
   },
   "file_extension": ".py",
   "mimetype": "text/x-python",
   "name": "python",
   "nbconvert_exporter": "python",
   "pygments_lexer": "ipython3",
   "version": "3.9.17"
  },
  "orig_nbformat": 4
 },
 "nbformat": 4,
 "nbformat_minor": 2
}
