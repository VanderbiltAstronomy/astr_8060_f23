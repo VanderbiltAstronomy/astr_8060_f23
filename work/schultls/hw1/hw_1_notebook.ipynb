{
 "cells": [
  {
   "cell_type": "markdown",
   "metadata": {},
   "source": [
    "# HW 1 Notebook"
   ]
  },
  {
   "cell_type": "markdown",
   "metadata": {},
   "source": [
    "## 2 - sph. geom vs flat geometry"
   ]
  },
  {
   "cell_type": "code",
   "execution_count": 57,
   "metadata": {},
   "outputs": [],
   "source": [
    "import astropy\n",
    "import numpy as np\n",
    "import matplotlib.pyplot as plt"
   ]
  },
  {
   "cell_type": "code",
   "execution_count": 46,
   "metadata": {},
   "outputs": [
    {
     "data": {
      "text/plain": [
       "'1.25.2'"
      ]
     },
     "execution_count": 46,
     "metadata": {},
     "output_type": "execute_result"
    }
   ],
   "source": [
    "np.__version__"
   ]
  },
  {
   "cell_type": "code",
   "execution_count": 48,
   "metadata": {},
   "outputs": [
    {
     "data": {
      "text/plain": [
       "0.5403023058681398"
      ]
     },
     "execution_count": 48,
     "metadata": {},
     "output_type": "execute_result"
    }
   ],
   "source": [
    "np.cos(1)"
   ]
  },
  {
   "cell_type": "code",
   "execution_count": 49,
   "metadata": {},
   "outputs": [],
   "source": [
    "# calculate angular distance between two RA/Dec using sph. geometry\n",
    "def sph_angdist(pos1, pos2):\n",
    "    '''pos1 = single indexed np array [ra, dec] in radians\n",
    "    '''\n",
    "    ra1 = pos1[0]\n",
    "    ra2 = pos2[0]\n",
    "    dec1 = pos1[1]\n",
    "    dec2 = pos2[1]\n",
    "    theta = np.arccos(np.cos(dec1)*np.cos(dec2)*np.cos(ra2-ra1)+np.sin(dec1)*np.sin(dec2))\n",
    "    return theta"
   ]
  },
  {
   "cell_type": "code",
   "execution_count": 50,
   "metadata": {},
   "outputs": [],
   "source": [
    "# calculate angular distance between two RA/Dec using pythagorean theorem\n",
    "def mink_angdist(pos1, pos2):\n",
    "    '''pos1 = single indexed np array [ra, dec] in radians\n",
    "    '''\n",
    "    ra1 = pos1[0]\n",
    "    ra2 = pos2[0]\n",
    "    dec1 = pos1[1]\n",
    "    dec2 = pos2[1]\n",
    "    theta = np.sqrt((dec2-dec1)**2 + ((ra2-ra1)*np.cos(np.mean([dec1, dec2])))**2)\n",
    "    return theta"
   ]
  },
  {
   "cell_type": "code",
   "execution_count": 51,
   "metadata": {},
   "outputs": [],
   "source": [
    "# sample ra/dec points\n",
    "pos1s = np.zeros((2,10))\n",
    "pos2s = np.zeros((2,10))\n",
    "\n",
    "pos1s[0,:] = np.linspace(0, 180, 10) # ra1\n",
    "pos2s[0,:] = np.linspace(5, 185, 10) # ra2\n",
    "pos1s[1,:] = np.linspace(0, 90, 10) # dec1\n",
    "pos2s[1,:] = np.linspace(0,-90, 10) # dec2"
   ]
  },
  {
   "cell_type": "code",
   "execution_count": 66,
   "metadata": {},
   "outputs": [
    {
     "data": {
      "text/plain": [
       "array([[  0.,  20.,  40.,  60.,  80., 100., 120., 140., 160., 180.],\n",
       "       [  0.,  10.,  20.,  30.,  40.,  50.,  60.,  70.,  80.,  90.]])"
      ]
     },
     "execution_count": 66,
     "metadata": {},
     "output_type": "execute_result"
    }
   ],
   "source": [
    "pos1s"
   ]
  },
  {
   "cell_type": "code",
   "execution_count": 67,
   "metadata": {},
   "outputs": [
    {
     "data": {
      "text/plain": [
       "array([[  5.,  25.,  45.,  65.,  85., 105., 125., 145., 165., 185.],\n",
       "       [  0., -10., -20., -30., -40., -50., -60., -70., -80., -90.]])"
      ]
     },
     "execution_count": 67,
     "metadata": {},
     "output_type": "execute_result"
    }
   ],
   "source": [
    "pos2s"
   ]
  },
  {
   "cell_type": "code",
   "execution_count": 65,
   "metadata": {},
   "outputs": [
    {
     "name": "stdout",
     "output_type": "stream",
     "text": [
      "[[0.         0.34906585 0.6981317  1.04719755 1.3962634  1.74532925\n",
      "  2.0943951  2.44346095 2.7925268  3.14159265]\n",
      " [0.         0.17453293 0.34906585 0.52359878 0.6981317  0.87266463\n",
      "  1.04719755 1.22173048 1.3962634  1.57079633]]\n"
     ]
    }
   ],
   "source": [
    "print(np.radians(pos1s))"
   ]
  },
  {
   "cell_type": "code",
   "execution_count": 68,
   "metadata": {},
   "outputs": [],
   "source": [
    "# calculating various arc lengths\n",
    "arclengths = np.zeros((2, 10))\n",
    "pos2s = np.zeros((2,10))\n",
    "arclengths[0] = sph_angdist(np.radians(pos1s), np.radians(pos2s))\n",
    "arclengths[1] = mink_angdist(np.radians(pos1s), np.radians(pos2s))"
   ]
  },
  {
   "cell_type": "code",
   "execution_count": 75,
   "metadata": {},
   "outputs": [
    {
     "data": {
      "image/png": "[encoded data removed]",
      "text/plain": [
       "<Figure size 640x480 with 1 Axes>"
      ]
     },
     "metadata": {},
     "output_type": "display_data"
    }
   ],
   "source": [
    "plt.figure()\n",
    "plt.plot(np.degrees(arclengths[1])-np.degrees(arclengths[0]))\n",
    "plt.title('(flat - spherical) angular distance calculation')\n",
    "plt.ylabel('degrees')\n",
    "plt.show()"
   ]
  },
  {
   "cell_type": "code",
   "execution_count": null,
   "metadata": {},
   "outputs": [],
   "source": []
  },
  {
   "cell_type": "code",
   "execution_count": null,
   "metadata": {},
   "outputs": [],
   "source": []
  },
  {
   "cell_type": "markdown",
   "metadata": {},
   "source": [
    "## Question 5"
   ]
  },
  {
   "cell_type": "markdown",
   "metadata": {},
   "source": []
  }
 ],
 "metadata": {
  "kernelspec": {
   "display_name": "ent15y_2",
   "language": "python",
   "name": "python3"
  },
  "language_info": {
   "codemirror_mode": {
    "name": "ipython",
    "version": 3
   },
   "file_extension": ".py",
   "mimetype": "text/x-python",
   "name": "python",
   "nbconvert_exporter": "python",
   "pygments_lexer": "ipython3",
   "version": "3.9.17"
  },
  "orig_nbformat": 4
 },
 "nbformat": 4,
 "nbformat_minor": 2
}
