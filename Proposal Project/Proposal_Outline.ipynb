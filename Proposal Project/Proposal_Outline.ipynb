{
 "cells": [
  {
   "cell_type": "markdown",
   "id": "5b355cd2",
   "metadata": {},
   "source": [
    "## PHASE I : Identify Science Case & Observatory+Instrument Combination\n",
    "\n",
    "I would like to use the Gemini Observatory for my project. The Gemini Observatory has two locations (Northern & Southern Hemisphere) and consists of two identical telescopes, one located on the summit of Mauna Kea in Hawaii, and the other on Cerro Pachón in Chile. These telescopes are known as Gemini North and Gemini South, respectively.\n",
    "\n",
    "These observatories are jointly operated by a consortium of international organizations, including the United States, Canada, Chile, Brazil, Argentina, and Korea. The Gemini Observatory is known for its advanced telescopes and state-of-the-art instrumentation, which allow astronomers to study the universe in various wavelengths of light, from visible to infrared. \n",
    "\n",
    "# Candidate 1: Pisces VII/Triangulum III - M33’s second dwarf satellite galaxy\n",
    "\n",
    "The study discusses Pisces VII/Triangulum III (Pisc VII), initially identified as a Local Group dwarf galaxy through the DESI Legacy Imaging Survey and later imaged with the 4-m Telescopio Nazionale Galileo. However, the original imaging didn't reach the horizontal branch of Pisc VII, making it challenging to measure its distance precisely. Based on the red giant branch population, it was suggested that Pisc VII could be an isolated ultra-faint dwarf galaxy or the second satellite galaxy of Triangulum (M33).\n",
    "\n",
    "To resolve this uncertainty, the study used deep imaging from Gemini GMOS-N (Gemini Multi-Object Spectrographs (GMOS)), which successfully measured the distance to Pisc VII as approximately 962,000 parsecs (kpc), indicating that Pisc VII is likely a satellite of M33. The study also reevaluated its size and luminosity, finding values of about 186 parsecs for half-light radius, -5.7 for apparent magnitude (MV), and approximately 1.6 x 10^4 times the luminosity of the Sun (L⊙).\n",
    "\n",
    "The location of Pisc VII in the M33 halo suggests that M33 might be in its first infall toward the Andromeda system. The study also noted the presence of blue stars in Pisc VII's color-magnitude diagram, which could have ages of around 1.5 billion years. If confirmed as members of the galaxy, these blue stars could provide valuable insights into how reionization affects faint galaxies. \n",
    "\n",
    "However, more data is needed to rule out alternative explanations. The study concludes by highlighting the potential for future deep imaging and dynamic studies to enhance our understanding of Pisc VII's stellar populations and the evolution of M33. There are a handful of stars in Pisc VII that would be bright enough to obtain spectra for with e.g. the 10 m Keck telescopes. Proper motions can only be acquired with multi-epoch observations from space-based telescopes such as Hubble or JWST. Future observations can allow us to solve multiple mysteries of M33’s evolution.\n",
    "\n",
    "\n",
    "# **Candidate 2: WD J004917.14−252556.81, the Most Massive Pulsating White Dwarf**\n",
    "\n",
    "The study discusses WD J004917.14−252556.81, an ultramassive DA white dwarf with specific characteristics: effective temperature 𝑇eff = 13020 K and surface gravity log 𝑔 = 9.34. The white dwarf exhibits variability at two significant frequencies, making it the most massive pulsating white dwarf known to date, with an estimated mass of either 1.31 𝑀⊙ (for a CO core) or 1.26 𝑀⊙ (for an ONe core). Importantly, there are no signs of binary mergers, magnetism, high tangential velocity, or rapid rotation, suggesting that it likely formed through single-star evolution and has an ONe core. Models suggest that its interior is approximately 99% crystallized.\n",
    "\n",
    "Asteroseismology provides a unique opportunity to explore the interior structure of this white dwarf. However, due to the limited number of detected pulsation modes, the study presents several possible solutions to explain its observed properties. To gain a more comprehensive understanding, further time-series photometry is needed to discover additional pulsation modes. This additional data would help resolve uncertainties in the asteroseismic fits and enable a more detailed exploration of the interior of this roughly 1.3 𝑀⊙ crystallized white dwarf.\n",
    "\n",
    "The study conducted high-speed photometry of J0049−2525 using the APO 3.5m telescope and the Agile frame transfer camera with a BG40 filter. The observations took place on December 22, 2022, over a period of 2 hours, with 30-second back-to-back exposures. The CCD was binned by 2 × 2, resulting in a plate scale of 0.258′′ pixel−1. The observations were conducted under conditions with 2.5′′ seeing and an airmass of 2. Due to the limited field of view of Agile, only one reference star was available, but significant photometric variations in J0049−2525 were detected, leading to subsequent observations with the Gemini GMOS instrument on December 26 and 27, 2022, with 121 and 215 × 7 s exposures, respectively. These Gemini observations used the SDSS-𝑔 filter and a 4×4 chip binning, resulting in a plate scale of 0.32′′ pixel−1. Relative photometry was performed using four reference stars brighter than J0049−2525. Additional APO photometry of J0049−2525 was obtained on January 8, 2023, with 360 × 15 s back-to-back exposures using the same Agile setup.\n",
    "\n",
    "They detected ∼ 30 millimag variations in J0049−2525 at two dif- ferent frequencies over four different nights, confirming it as the most massive pulsating DAV white dwarf currently known. Fig- ure 4 shows the masses and effective temperatures for the ZZ Ceti white dwarfs in the 100 pc white dwarf sample from Vincent et al. (2020) assuming CO cores. Ultramassive ZZ Ceti white dwarfs with 𝑀★ > 1 𝑀⊙ are labelled. Note that two of these objects, J0551+4135 and J0204+8713, lack follow-up optical spectroscopy. Hence, their classification as DAV white dwarfs requires confirmation. Another candidate that also needs follow-up spectroscopy for confirmation, J212402.03−600100.0, was too far south to be included in the Vin- cent et al. (2020) study, and therefore not shown here.\n",
    "\n",
    "Evolutionary models predict that its interior is & 99% crystallized. Asteroseis- mology offers a unique opportunity to probe the interior structure of crystallized massive white dwarfs like J0049−2525, provided that a sufficient number of 𝑔-modes with consecutive radial order are de- tected. Because periods and their spacings vary with mass, effective temperature, H envelope mass, and the crystallized mass fraction, and because J0049−2525 displays only two significant modes in our APO and Gemini data, it is impossible to find a unique seismic solu- tion. We provide several representative solutions that can match the observed characteristics of this star. However, a significant number of additional pulsation modes would need to be detected to overcome the degeneracies in the asteroseismic fits. We encourage extensive follow-up time-series photometry campaigns on this unique target.\n",
    "\n",
    "# Candidate 3: Gemini Near Infrared Spectrograph - Distant Quasar Survey: Augmented Spectroscopic Catalog and a Prescription for Correcting UV-Based Quasar Redshifts\n",
    "\n",
    "The study focuses on quasars with redshifts around z ≈ 1 and highlights a common issue with measuring their redshifts. Typically, these quasars have redshifts determined from ultraviolet emission lines, particularly C iv λ1549, which often exhibits blueshifts of up to ≈ 5000 km s−1 or even higher. This phenomenon results in uncertain redshift measurements when compared to redshifts determined from rest-frame optical emission lines, such as the narrow [O iii] λ5007 feature.\n",
    "\n",
    "To address this issue, the study presents spectroscopic measurements for 260 quasar sources in the redshift range of 1.55 ≤ z ≤ 3.50, with absolute magnitudes ranging from -28.0 to -30.0 mag. These measurements, obtained from the Gemini Near Infrared Spectrograph - Distant Quasar Survey (GNIRS-DQS) catalog, improve upon previous data for 226 of these sources. For a subset of 121 sources, reliable systemic redshifts based on [O iii] λ5007 are determined, serving as a reference.\n",
    "\n",
    "The study then develops correction prescriptions to improve the accuracy of UV-based redshifts determined from C iv λ1549. These prescriptions are derived from a regression analysis involving C iv full-width-at-half-maximum intensity, equivalent width, and the UV continuum luminosity at a rest-frame wavelength of 1350 Å. Applying these corrections can enhance the accuracy and precision of C iv-based redshifts by up to ∼ 850 km s−1 and ∼ 150 km s−1, respectively, which correspond to approximately 8.5 and 1.5 megaparsecs in comoving distance at z = 2.5. Additionally, these prescriptions enhance the accuracy of the best available multi-feature redshift determination algorithm by ∼ 100 km s−1.\n",
    "\n",
    "In conclusion, the study suggests that the spectroscopic properties of the C iv emission line can provide more reliable redshift estimates for high-redshift quasars. These corrections have the potential to benefit cosmological and quasar studies in upcoming large spectroscopic surveys.\n",
    "\n",
    "A primary interest going forward would be bolstering the sample with supplementary observations of quasars, primarily at z ∼ 3, in order to obtain statistically mean- ingful results on a potential redshift dependence, and further improve UV-based redshift determinations. It will also be interesting to test prescriptions at the highest accessible redshifts, where considerably larger C iv blueshifts have been observed in sources at z & 6, perhaps due to higher accretion rates (e.g., Meyer et al.Further investigation includes increasing the sample size of quasars with significantly higher spec- tral resolution, e.g., using Gemini’s Spectrograph and Camera for Observations of Rapid Phenomena in the In- frared and Optical (SCORPIO; Robberto et al. 2020), in order to further improve the UV-based redshift correc- tions by obtaining more accurate line peaks of spectral features.\n",
    "\n",
    "# Candidate 4: Speckle Observations of TESS Exoplanet Host Stars. II. Stellar Companions at 1-1000 AU and Implications for Small Planet Detection\n",
    "\n",
    "The study presents high-angular-resolution imaging observations of 517 host stars associated with TESS exoplanet candidates. These host stars are primarily bright F, G, and K-type stars located within distances of less than 500 parsecs. The observations are conducted using the 'Alopeke and Zorro speckle cameras at both Gemini North and South observatories, allowing for angular resolutions ranging from about 20 milliarcseconds to 1.2 arcseconds. This results in spatial resolutions spanning from less than 10 astronomical units (AU) to 500 AU for most stars.\n",
    "\n",
    "The study identifies 102 close stellar companions around these host stars and provides information about their separations, magnitude differences, mass ratios, and estimated orbital periods. It is observed that exoplanet host star binaries tend to have wider separations compared to binaries found in the general field, with an average orbital semi-major axis of approximately 100 AU. This supports previous findings that exoplanet host systems typically lack very closely separated binaries.\n",
    "\n",
    "Additionally, the study examines whether there is a correlation between the orbital radii of exoplanets and the separation of binary stars within the host systems. While no clear trend is found, it is noted that exoplanet systems containing binary host stars may face observational challenges in detecting Earth-sized planet transits due to the dilution of transit depth caused by the presence of the companion star.\n",
    "\n",
    "The study conducted observations of 517 stars from the TESS Objects of Interest (TOI) catalog using the 'Alopeke and Zorro speckle cameras on the Gemini 8.1 m North and South telescopes between May 2019 and December 2020. These observations aimed to investigate exoplanet host stars and their potential companions. The targets were selected from the TOI catalog of likely planet candidates, with detailed information about each observation provided in the study's tables.\n",
    "\n",
    "Each target was observed at least three times, with image sets consisting of 1000 60 ms exposures in two different filters (562 nm and 832 nm). For fainter targets (V > 9 mag), additional image sets were acquired, and point source standard stars were observed for calibration purposes. Data reduction was performed using a speckle team pipeline, which calculated and averaged power spectra for each image and corrected for the speckle transfer function. The pipeline also generated reconstructed images for each target and determined contrast limits to identify faint companions.\n",
    "\n",
    "Some transit detections initially identified by TESS were found to be false positives, and follow-up observations were conducted to confirm their nature as binary eclipses rather than planet transits. A total of 105 TOIs were classified as false positives and removed from further consideration, leaving 412 stars in the sample.\n",
    "\n",
    "The sample primarily consists of bright, Solar-type stars located at relatively small distances from Earth. The study's inner angular resolution allowed for the detection of companions in the 1 to 100 AU range, providing valuable insights into their properties. The study's sample distribution includes effective temperature, distance, and TESS magnitude, focusing on stars suitable for close companion detection.\n",
    "\n"
   ]
  },
  {
   "cell_type": "code",
   "execution_count": null,
   "id": "1a484459",
   "metadata": {},
   "outputs": [],
   "source": []
  }
 ],
 "metadata": {
  "kernelspec": {
   "display_name": "Python 3 (ipykernel)",
   "language": "python",
   "name": "python3"
  },
  "language_info": {
   "codemirror_mode": {
    "name": "ipython",
    "version": 3
   },
   "file_extension": ".py",
   "mimetype": "text/x-python",
   "name": "python",
   "nbconvert_exporter": "python",
   "pygments_lexer": "ipython3",
   "version": "3.9.12"
  }
 },
 "nbformat": 4,
 "nbformat_minor": 5
}
