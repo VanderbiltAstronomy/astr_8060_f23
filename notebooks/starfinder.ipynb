{
 "cells": [
  {
   "cell_type": "markdown",
   "id": "optimum-leadership",
   "metadata": {},
   "source": [
    "# Star Finder and Imexam\n",
    "\n",
    "J. Runnoe <br>\n",
    "Fall, 2021\n",
    "\n",
    "This notebook will guide you through the steps necessary for detecting stars in your overscan subtracted, trimmed, bias subtracted, flat fielded science frames.\n",
    "\n",
    "Doing aperture photometry requires that you be able to find stars in your image. Manually identifying the positions of stars in DS9 is not scalable to large numbers of stars or frames. Therefore, we will use the detection tools in PHOTUTILS. You can see example code and documentation here:\n",
    "\n",
    "<a href=\"https://photutils.readthedocs.io/en/stable/detection.html\">Star finder example code</a> <br>\n",
    "<a href=\"https://photutils.readthedocs.io/en/stable/api/photutils.detection.DAOStarFinder.html#photutils.detection.DAOStarFinder\">DAOStarFinder documentation</a> <br>\n",
    "<a href=\"https://imexam.readthedocs.io/en/0.9.1/\">imexam</a> <br>\n",
    "<a href=\"https://imexam.readthedocs.io/en/latest/api/imexam.imexamine.Imexamine.html#imexam.imexamine.Imexamine.radial_profile\">imexam radial profiles</a> <br>\n",
    "<a href=\"https://github.com/spacetelescope/imexam\">imexam repo with some example notebooks</a> <br>"
   ]
  },
  {
   "cell_type": "markdown",
   "id": "c54e3c99-df80-4bcd-9d21-6a311f5c5e1f",
   "metadata": {},
   "source": [
    "---\n",
    "## Contents\n",
    "* [Setup](#setup)\n",
    "    * [Download imexam](#imexam)\n",
    "* [Exercises](#exercises)\n",
    "* [Summary](#summary)"
   ]
  },
  {
   "cell_type": "markdown",
   "id": "3ab5d3a8-0a59-402c-877c-bb100c2fb8cb",
   "metadata": {},
   "source": [
    "## Setup <a class=\"anchor\" id=\"setup\"></a>"
   ]
  },
  {
   "cell_type": "markdown",
   "id": "51971141-0d5e-47ff-afdf-3b0fe61b4a41",
   "metadata": {},
   "source": [
    "### Download imexam <a class=\"anchor\" id=\"imexam\"></a>\n",
    "\n",
    "Imexam is a handy piece of software that traditionally worked well with DS9. These days, it is implemented in Python but getting the windows working is something of a nightmare. However, you can use some of the imexam tools without getting its full implementation! So I recommend installing it regardless.\n",
    "\n",
    "You can get imexam with pip (first make sure you're in the class Anaconda environment):<br>\n",
    "`$ pip install imexam` <br>\n",
    "\n",
    "Add the directory for DS9 to your path. For example, I added:<br>\n",
    "`/Volumes/Colfax/Applications/SAOImageDS9.app/Contents/MacOS/ds9`<br>\n",
    "to my PATH and PYTHON_PATH variables (for good measure)."
   ]
  },
  {
   "cell_type": "markdown",
   "id": "da8413e7-8a64-4b7c-afa9-89231ea226fe",
   "metadata": {},
   "source": [
    "---\n",
    "## Exercises <a class=\"anchor\" id=\"exercises\"></a>\n"
   ]
  },
  {
   "cell_type": "code",
   "execution_count": 62,
   "id": "gross-fireplace",
   "metadata": {},
   "outputs": [],
   "source": [
    "# import block\n",
    "# some of these may not be needed\n",
    "import numpy as np\n",
    "from astropy.io import fits\n",
    "import pdb\n",
    "%matplotlib inline\n",
    "from matplotlib import pyplot as plt\n",
    "from matplotlib import rc\n",
    "import matplotlib\n",
    "from astropy.visualization import hist\n",
    "from datetime import datetime\n",
    "from pathlib import Path\n",
    "import os\n",
    "from ccdproc import ImageFileCollection\n",
    "import ccdproc as ccdp\n",
    "from astropy.modeling.models import Polynomial1D,Chebyshev1D,Legendre1D,Hermite1D, Gaussian1D,Gaussian2D,Polynomial2D\n",
    "from astropy.modeling import fitting\n",
    "from astropy.stats import mad_std\n",
    "from astropy.nddata import CCDData, StdDevUncertainty\n",
    "from scipy import stats\n",
    "from astropy import units as u\n",
    "from photutils.aperture import CircularAperture,CircularAnnulus\n",
    "from photutils.aperture import aperture_photometry\n",
    "from astropy.stats import sigma_clipped_stats\n",
    "from photutils.detection import DAOStarFinder\n",
    "from astropy.table import Table\n",
    "from imexam.imexamine import Imexamine\n",
    "from astropy.coordinates import SkyCoord"
   ]
  },
  {
   "cell_type": "code",
   "execution_count": 2,
   "id": "objective-classroom",
   "metadata": {},
   "outputs": [],
   "source": [
    "# import convenience plotting functions downloaded from \n",
    "# here: https://github.com/mwcraig/ccd-reduction-and-photometry-guide\n",
    "phot_tutorial_dir = '/Users/runnojc1/Software/py/ccd-reduction-and-photometry-guide/notebooks/'\n",
    "import sys\n",
    "sys.path.insert(0,phot_tutorial_dir)\n",
    "from convenience_functions import show_image"
   ]
  },
  {
   "cell_type": "code",
   "execution_count": 3,
   "id": "breeding-fault",
   "metadata": {},
   "outputs": [],
   "source": [
    "# plotting defaults\n",
    "# Use custom style for larger fonts and figures\n",
    "plt.style.use(phot_tutorial_dir+'/guide.mplstyle')\n",
    "\n",
    "# Set some default parameters for the plots below\n",
    "rc('font', size=12)\n",
    "rc('axes', grid=True)"
   ]
  },
  {
   "cell_type": "code",
   "execution_count": 4,
   "id": "greatest-gambling",
   "metadata": {},
   "outputs": [],
   "source": [
    "data_dir = '/Users/runnojc1/Dropbox/Research/teaching/F2021/ASTR8060/Imaging/'            # raw data directory\n",
    "reduced_dir = '/Users/runnojc1/Dropbox/Research/teaching/F2021/ASTR8060/Imaging_reduced/' # reduced working directory"
   ]
  },
  {
   "cell_type": "markdown",
   "id": "legitimate-telling",
   "metadata": {},
   "source": [
    "#### 1. Find bright stars in the middle of your frame\n",
    "\n",
    "The star finder implemented in PHOTUTILS is an implementation of <a href=\"https://ui.adsabs.harvard.edu/abs/1987PASP...99..191S/abstract\">DAOPHOT</a>. Generally speaking, it looks for peaks in the distribution of pixel values in a frame. The challenges are to detect real stellar peaks near the level of the background and/or noise in the image, and to distinguish stellar peaks from various kinds of noise spikes and other astronomical sources (e.g., galaxies).\n"
   ]
  },
  {
   "cell_type": "markdown",
   "id": "european-landscape",
   "metadata": {},
   "source": [
    "##### (a) Look at the documentation and DAOPHOT paper to answer the following:\n",
    " - How do you control how faint the stars you find are? <br>\n",
    "\n",
    " - How do you avoid saturated stars?<br>\n",
    "\n",
    " - What is sharpness?<br>\n",
    "\n",
    " - What is roundness?<br>"
   ]
  },
  {
   "cell_type": "markdown",
   "id": "outside-madonna",
   "metadata": {},
   "source": [
    "##### (b) Read in the data and plot the image\n",
    "\n",
    "Plot the central part of the frame for columns 750-1250 and rows 1000-1500 for a085otzf.fits."
   ]
  },
  {
   "cell_type": "code",
   "execution_count": null,
   "id": "numeric-conspiracy",
   "metadata": {},
   "outputs": [],
   "source": []
  },
  {
   "cell_type": "markdown",
   "id": "opponent-republic",
   "metadata": {},
   "source": [
    "##### (c) Find the bright stars\n",
    "Look at the Star Finder example code to see the syntax for this. You will need a guess for fwhm (we'll measure this next). Approximately how many pixels would be reasonable starting guess? (The size of a faint start might be a good starting place.)"
   ]
  },
  {
   "cell_type": "code",
   "execution_count": null,
   "id": "thick-british",
   "metadata": {},
   "outputs": [],
   "source": []
  },
  {
   "cell_type": "markdown",
   "id": "italic-monaco",
   "metadata": {},
   "source": [
    "##### (d) Plot the image again and mark the detected stars\n",
    "\n",
    "Making apertures at the position of the stars you detect would be a good method for showing where they are."
   ]
  },
  {
   "cell_type": "code",
   "execution_count": null,
   "id": "defined-straight",
   "metadata": {},
   "outputs": [],
   "source": []
  },
  {
   "cell_type": "markdown",
   "id": "boolean-flexibility",
   "metadata": {},
   "source": [
    "#### 2. Measure the PSF FWHM\n",
    "\n",
    "The point spread function (PSF) full width at half maximum (FWHM) is a measure of the width in pixels where light from a point source is distributed on the CCD. Many of the detection methods above take the PSF FWHM as an input to help distinguish from noise spikes. Also, you may want to explore the PFS as a function of time or position on the CCD. Thus, it is worthwhile to know how to measure it.\n",
    "\n",
    "A simple estimate for the PSF FWHM would find the 1D Gaussian distribution of light from a single star in a column or row and determine its width. More complex algorithms include centroiding, 2D model fitting, and background subtraction. The imexam package includes these and many more tools. \n",
    "\n",
    "(Imexam also has many interactive tools and can run with DS9, but it is finicky to get the display set up. See the accompanying notebook if you are feeling extremely bold.)\n"
   ]
  },
  {
   "cell_type": "markdown",
   "id": "engaging-belize",
   "metadata": {},
   "source": [
    "We will use imexam to create a radial profile plot. This shows the azimuthally averaged value of the counts in a frame as a function of radius from the star centroid. The FWHM is taken from the width of this (Gaussian) profile.\n",
    "\n",
    "A warning about the radial profiles in imexam: they can fail with various errors if the position is near the edge of the frame."
   ]
  },
  {
   "cell_type": "markdown",
   "id": "automatic-punishment",
   "metadata": {},
   "source": [
    "##### (a) Find the FWHM for the sources you found in the previous step.\n",
    "\n",
    "To do this, we will use imexam to fit a 1D Gaussian function, and read the FHWM values off of the plots. \n",
    "\n",
    "As a point of interest, you can also return the data from these plots to fit your own 1D function and return a numerical value for the FHWM if you are so inclined. The code to return the data looks like this.\n",
    "```python\n",
    "\n",
    "data = radial_profile(1324,1054,data,genplot=False)\n",
    "radius = data[0]\n",
    "flux = data[1]\n",
    "```"
   ]
  },
  {
   "cell_type": "code",
   "execution_count": 10,
   "id": "alike-ivory",
   "metadata": {},
   "outputs": [],
   "source": [
    "#initalize the object to get access to the plotting functions\n",
    "plots=Imexamine() "
   ]
  },
  {
   "cell_type": "code",
   "execution_count": 1,
   "id": "lesser-academy",
   "metadata": {},
   "outputs": [],
   "source": [
    "# here is one radial profile at 1325,1054\n",
    "plots.radial_profile(1325,1054,data,genplot=True)\n",
    "\n",
    "# loop over the x and y centroids from the star finder\n",
    "# and generate a radial profile for each one\n"
   ]
  },
  {
   "cell_type": "markdown",
   "id": "exciting-progressive",
   "metadata": {},
   "source": [
    "#### 3. Write a function to do aperture photometry\n",
    "\n",
    "Write a function that takes a filename and:\n",
    "\n",
    "1. Reads in the data.\n",
    "2. Finds all the sources in the image.\n",
    "3. Puts a circular aperture and background annulus on each of the stars.\n",
    "4. Calculates background-subtracted instrumental magnitudes.\n",
    "5. Plots the image and apertures for visual inspection.\n",
    "6. Returns a table of photometry, including the instrumental magnitudes.\n",
    "\n",
    "Run your function on a085otzf.fits."
   ]
  },
  {
   "cell_type": "code",
   "execution_count": 68,
   "id": "reported-variable",
   "metadata": {},
   "outputs": [],
   "source": [
    "def get_phot(filename):\n",
    "    # do photometry\n",
    "    phot = 0\n",
    "    return phot"
   ]
  },
  {
   "cell_type": "code",
   "execution_count": 2,
   "id": "elder-belarus",
   "metadata": {},
   "outputs": [],
   "source": [
    "phot = get_phot(reduced_dir+'a085otzf.fits')\n",
    "phot"
   ]
  },
  {
   "cell_type": "markdown",
   "id": "fd4f27e5-f84f-4c44-a751-55005ab75347",
   "metadata": {},
   "source": [
    "---\n",
    "## Summary <a class=\"anchor\" id=\"summary\"></a>\n",
    "\n",
    "At this point, all of you should:\n",
    "* Be able to find star positions automatically.\n",
    "* Estimate the FWHM of stars in your image.\n",
    "* Do aperture photometry at a list of positions."
   ]
  }
 ],
 "metadata": {
  "kernelspec": {
   "display_name": "Python [conda env:astr8060]",
   "language": "python",
   "name": "conda-env-astr8060-py"
  },
  "language_info": {
   "codemirror_mode": {
    "name": "ipython",
    "version": 3
   },
   "file_extension": ".py",
   "mimetype": "text/x-python",
   "name": "python",
   "nbconvert_exporter": "python",
   "pygments_lexer": "ipython3",
   "version": "3.8.17"
  }
 },
 "nbformat": 4,
 "nbformat_minor": 5
}
