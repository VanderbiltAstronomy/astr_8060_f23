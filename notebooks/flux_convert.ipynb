{
 "cells": [
  {
   "cell_type": "markdown",
   "id": "22450358-d4cb-489f-bf3a-dcfafe4a78a0",
   "metadata": {},
   "source": [
    "# Flux and magnitude calculations\n",
    "\n",
    "*J. Runnoe* <br>\n",
    "*September, 2023*\n",
    "\n",
    "This notebook will take you through the steps to calculate flux unit conversions and determine magnitudes in different bands. It makes use of the [WFC3 tools](https://github.com/spacetelescope/WFC3Library/tree/master/notebooks), especially the [flux conversion tool notebook](https://github.com/spacetelescope/WFC3Library/blob/main/notebooks/flux_conversion_tool/flux_conversion_tool.ipynb)."
   ]
  },
  {
   "cell_type": "markdown",
   "id": "ea493bd4-9e3d-495a-a53c-0920065b7e31",
   "metadata": {},
   "source": [
    "---\n",
    "## Contents\n",
    "* [Setup](#setup)\n",
    "    * [Filter Response Curves](#filters)\n",
    "* [Exercises](#exercises)\n",
    "    * [Pretty Plots](#plotting)\n",
    "    * [Flux Unit Conversions](#fluxconv)\n",
    "    * [Filter Response Curves](#magfromspec)\n",
    "        * [Define a Source](#sourcedef)\n",
    "        * [Visualize the Filters](#visualize)\n",
    "* [Summary](#summary)"
   ]
  },
  {
   "cell_type": "markdown",
   "id": "8befb0ba-9808-4322-b43a-288a3f95b3ba",
   "metadata": {},
   "source": [
    "---\n",
    "## Setup <a class=\"anchor\" id=\"setup\"></a>\n",
    "\n",
    "If you have not set up the `astr8060` environment in `conda` yet, go back and start with the Python Setup notebook.\n",
    "\n",
    "We will need the `synphot` and `stsynphot` packages:\n",
    "\n",
    "1. Activate your class Python environment: <br>\n",
    "    `$ conda activate astr8060` <br>\n",
    "    \n",
    "2. Create a new python environment for this class: <br>\n",
    "    `$ conda install synphot -c conda-forge` <br>\n",
    "\n",
    "3. Installation isntructions for `stsynphot` are [here](https://stsynphot.readthedocs.io/en/latest/). The following worked for me: <br>\n",
    "    `$ pip install stsynphot` <br>\n"
   ]
  },
  {
   "cell_type": "markdown",
   "id": "5a647793-095a-48ee-8a3c-50050a9a1291",
   "metadata": {},
   "source": [
    "#### Filter Response Curves <a class=\"anchor\" id=\"filters\"></a>"
   ]
  },
  {
   "cell_type": "code",
   "execution_count": 178,
   "id": "ab02fb78-d8a4-40b4-8301-90b1c4e7e71d",
   "metadata": {},
   "outputs": [
    {
     "name": "stdout",
     "output_type": "stream",
     "text": [
      "Current directory is: /Users/runnojc1/Dropbox/Research/teaching/F2023/ASTR8060/work/py/filters\n"
     ]
    }
   ],
   "source": [
    "# make a filter directory\n",
    "# do not add this to Github!\n",
    "import os\n",
    "from pathlib import Path\n",
    "fltr_path = '/Users/runnojc1/Dropbox/Research/teaching/F2023/ASTR8060/work/py/filters/'\n",
    "Path(fltr_path).mkdir(exist_ok=True)\n",
    "os.chdir(fltr_path)\n",
    "print(\"Current directory is: \"+os.getcwd())"
   ]
  },
  {
   "cell_type": "markdown",
   "id": "390e7ca9-386c-4bb8-9fbf-84eea53c24d9",
   "metadata": {},
   "source": [
    "The [SVO website](http://svo2.cab.inta-csic.es/theory/fps/) has filter response curves for many different instruments. Download the following and put them in your filter directory:\n",
    "\n",
    "[U filter](http://svo2.cab.inta-csic.es/theory/fps/getdata.php?format=ascii&id=Generic/Bessell.U) <br>\n",
    "[B filter](http://svo2.cab.inta-csic.es/theory/fps/getdata.php?format=ascii&id=Generic/Bessell.B) <br>\n",
    "[V filter](http://svo2.cab.inta-csic.es/theory/fps/getdata.php?format=ascii&id=Generic/Bessell.V) <br>\n",
    "[R filter](http://svo2.cab.inta-csic.es/theory/fps/getdata.php?format=ascii&id=Generic/Bessell.R) <br>\n",
    "[I filter](http://svo2.cab.inta-csic.es/theory/fps/getdata.php?format=ascii&id=Generic/Bessell.I) <br>"
   ]
  },
  {
   "cell_type": "markdown",
   "id": "5300a30a-fb75-400b-a6ad-c8edde16a6bc",
   "metadata": {},
   "source": [
    "---\n",
    "## Exercises  <a class=\"anchor\" id=\"exercises\"></a>"
   ]
  },
  {
   "cell_type": "code",
   "execution_count": 179,
   "id": "a482be86-f888-452f-8918-f27181f95e69",
   "metadata": {},
   "outputs": [],
   "source": [
    "# import block\n",
    "import numpy as np\n",
    "import matplotlib.pyplot as plt\n",
    "import matplotlib as mpl\n",
    "%matplotlib inline\n",
    "\n",
    "import synphot as syn\n",
    "from synphot import SourceSpectrum, Observation\n",
    "from synphot.models import BlackBody1D, PowerLawFlux1D\n",
    "from synphot.units import convert_flux\n",
    "\n",
    "from astropy import units as u\n",
    "from synphot import units as su\n",
    "\n",
    "from scipy import interpolate, integrate"
   ]
  },
  {
   "cell_type": "markdown",
   "id": "f0f28919-cad4-4134-8592-022cb95abebd",
   "metadata": {},
   "source": [
    "### Pretty plots <a class=\"anchor\" id=\"plotting\"></a>\n",
    "\n",
    "It is good practice to make production-quality plots right off the bat. To do this, I include the matplotlib defaults in the following cell.\n",
    "\n",
    "To use these without executing them in every notebook you write, you can put them in your `matplotlibrc` file. It is usually located in `~/.matplotlib/matplotlibrc`. Note that if you decide to move these to your `matplotlibrc` file, the latex line should be set with `text.latex.preamble=\\usepackage{amsmath}`."
   ]
  },
  {
   "cell_type": "code",
   "execution_count": 180,
   "id": "0df44745-7073-4e00-8917-bae57057f1dd",
   "metadata": {},
   "outputs": [],
   "source": [
    "mpl.rcParams['font.family'] = 'Times New Roman'\n",
    "mpl.rcParams['mathtext.fontset'] = 'stix'\n",
    "mpl.rc('text', usetex=True)\n",
    "mpl.rcParams['text.latex.preamble']=r\"\\usepackage{amsmath}\"\n",
    "plt.rc('xtick.major',pad=2)\n",
    "plt.rc('ytick.major',pad=2)\n",
    "plt.rc('xtick.minor',pad=2)\n",
    "plt.rc('ytick.minor',pad=2)\n",
    "plt.rc('xtick', labelsize=20)\n",
    "plt.rc('ytick', labelsize=20)\n",
    "plt.rc('font',size=10,weight='bold')\n",
    "plt.rcParams['axes.labelweight'] = 'bold'\n",
    "mpl.rcParams['figure.dpi'] = 300"
   ]
  },
  {
   "cell_type": "markdown",
   "id": "449d0fad-7d84-4d7e-b8c0-2bcd800af71d",
   "metadata": {},
   "source": [
    "Edit your `.matplotlib/matplotlibrc` file to save your default plot settings."
   ]
  },
  {
   "cell_type": "markdown",
   "id": "62cf229c-246c-4f26-8d1a-42d80fdbf17f",
   "metadata": {},
   "source": [
    "### Flux Unit Conversions  <a class=\"anchor\" id=\"fluxconv\"></a>\n",
    "\n",
    "We will use the example from class to practice unit conversions because it is easy to check when things are working. The source we used had a flux density of $3\\times10^{-14}$ erg s$^{-1}$ cm$^{-2}$ $\\unicode[serif]{xC5}^{-1}$ at 5000$\\unicode[serif]{xC5}.$\n",
    "\n",
    "To do unit conversions, use the [`synphot.units.convert_flux`](https://synphot.readthedocs.io/en/latest/api/synphot.units.convert_flux.html#synphot.units.convert_flux) convenience function.\n",
    "\n",
    "It is worth noting that [`astropy`](https://docs.astropy.org/en/stable/units/) and [`synphot`](https://synphot.readthedocs.io/en/latest/synphot/units.html) have similar but not identical units available. A notable difference is that `synphot` has the `PHOTLAM` unit, which is photons s$^{-1}$ cm$^{-2}$ $\\unicode[serif]{xC5}^{-1}.$ I usually just use `astropy` units, but for flux conversion tasks like this I also find it useful to load the `synphot` units.\n",
    "\n",
    "Useful resources:<br>\n",
    "[List of available synphot flux units](https://synphot.readthedocs.io/en/latest/synphot/units.html) <br>\n",
    "[Example flux unit conversion](http://stsdas.stsci.edu/astropy_synphot/synphot/units.html) <br>\n"
   ]
  },
  {
   "cell_type": "markdown",
   "id": "b4b56729-7add-4205-9b52-24b9f82e6da1",
   "metadata": {},
   "source": [
    "1. Define a variable with $f_{\\lambda} = 3\\times10^{-14}$ erg s$^{-1}$ cm$^{-2}$ $\\unicode[serif]{xC5}^{-1}$ at 5000$\\unicode[serif]{xC5}.$"
   ]
  },
  {
   "cell_type": "code",
   "execution_count": null,
   "id": "d4fa71af-25fc-4d90-9093-ccbe53d082a8",
   "metadata": {},
   "outputs": [],
   "source": []
  },
  {
   "cell_type": "markdown",
   "id": "4efaa4e9-3cf4-413c-82b6-5b45d4d22fb6",
   "metadata": {},
   "source": [
    "2. How many erg s$^{-1}$ cm$^{-2}$ Hz$^{-1}$ is this?"
   ]
  },
  {
   "cell_type": "code",
   "execution_count": null,
   "id": "8e595bef-ed44-4abf-ab17-26530ff8c8f1",
   "metadata": {},
   "outputs": [],
   "source": []
  },
  {
   "cell_type": "markdown",
   "id": "8e079607-f0b0-4e1d-968f-b030459ec790",
   "metadata": {},
   "source": [
    "3. How many W m$^{-2}$ Hz$^{-1}$ is this?"
   ]
  },
  {
   "cell_type": "code",
   "execution_count": null,
   "id": "1646d612-4961-43e3-9e8a-02a3ddc4cbee",
   "metadata": {},
   "outputs": [],
   "source": []
  },
  {
   "cell_type": "markdown",
   "id": "5ef8ad7e-f0d8-417b-a1b7-e2aeccaecc93",
   "metadata": {},
   "source": [
    "4. How many Jansky is this?"
   ]
  },
  {
   "cell_type": "code",
   "execution_count": null,
   "id": "63d57feb-05dd-4ca0-9d82-ef86d2fb76c7",
   "metadata": {},
   "outputs": [],
   "source": []
  },
  {
   "cell_type": "markdown",
   "id": "c6109b44-226b-4eed-bb33-61df2a1e4167",
   "metadata": {},
   "source": [
    "5. How many photons s$^{-1}$ cm$^{-2}$ $\\unicode[serif]{xC5}^{-1}$ is this?"
   ]
  },
  {
   "cell_type": "code",
   "execution_count": null,
   "id": "9892f69f-034d-427a-9ca7-e861ca816853",
   "metadata": {},
   "outputs": [],
   "source": []
  },
  {
   "cell_type": "markdown",
   "id": "545d082e-0820-4457-8da0-54eeba91fb94",
   "metadata": {},
   "source": [
    "### Filter Response Curves  <a class=\"anchor\" id=\"magfromspec\"></a>"
   ]
  },
  {
   "cell_type": "markdown",
   "id": "7725e2b2-f6a5-45dd-aba5-eb1becabc58b",
   "metadata": {},
   "source": [
    "#### Define a Source  <a class=\"anchor\" id=\"sourcedef\"></a>\n",
    "\n",
    "Make a [SourceSpectrum](https://synphot.readthedocs.io/en/latest/synphot/spectrum.html) object of Vega and make a plot of the optical spectrum.\n",
    "\n",
    "You can find an example Vega SourceSpectrum setup [here](https://github.com/spacetelescope/WFC3Library/blob/2ddfbba6f1aae24fa3a4740ca0a3913ede7add50/notebooks/flux_conversion_tool/flux_conversion_tool.ipynb). \n",
    "\n",
    "You should make the plot manually. It will be helpful to know that you can extract the flux and wavelength from a SourceSpectrum with:\n",
    "\n",
    "```python\n",
    "wave = spec.waveset\n",
    "flux = spec(wave)\n",
    "```\n",
    "\n",
    "The default units are photons s$^{-1}$ cm$^{-2}$ $\\unicode[serif]{xC5}^{-1}.$ Make your plot in erg s$^{-1}$ cm$^{-2}$ $\\unicode[serif]{xC5}^{-1}.$"
   ]
  },
  {
   "cell_type": "code",
   "execution_count": 2,
   "id": "77e56a89-64bf-46b2-8be8-07349e7cd24a",
   "metadata": {},
   "outputs": [],
   "source": [
    "# code here\n",
    "# add cells as needed\n"
   ]
  },
  {
   "cell_type": "markdown",
   "id": "637556e4-21d5-4f2d-8a27-24a698769350",
   "metadata": {},
   "source": [
    "#### Visualize the Filters  <a class=\"anchor\" id=\"visualize\"></a>\n",
    "\n",
    "Read in the UBVRI filters that you downloaded and plot them. You should make a single plot with all the filter responses in a different colors.\n",
    "\n",
    "Overplot the spectrum of Vega with a shared x axis to see where the filters will fall. You can create a separate y axis like this:\n",
    "\n",
    "```python\n",
    "fig,ax = plt.subplots(1,figsize=(6,4))\n",
    "ax.plot(fwave,fresp,'b-')\n",
    "ax.set_xlabel('Wavelength [\\AA]')\n",
    "ax.set_ylabel('Response')\n",
    "ax2 = ax.twinx()\n",
    "ax2.plot(vwave,vflux,'k-')\n",
    "ax2.set_ylabel('$f_{\\lambda}$ [ph s$^{-1}$ cm$^{-2}$ \\AA$^{-1}$]')\n",
    "```\n"
   ]
  },
  {
   "cell_type": "code",
   "execution_count": 1,
   "id": "6a3e6fb7-87c9-46c7-95a5-bc66168c4652",
   "metadata": {},
   "outputs": [],
   "source": [
    "# code here\n",
    "# add cells as needed\n"
   ]
  },
  {
   "cell_type": "markdown",
   "id": "a1cab130-2058-420b-a358-29326eda23f4",
   "metadata": {},
   "source": [
    "---\n",
    "## Summary <a class=\"anchor\" id=\"summary\"></a>\n",
    "\n",
    "At this point, all of you should have:\n",
    "* Installed `synphot` and `stsynphot` on your computer.\n",
    "* Downloaded some generic filter response curves and know where to find more.\n",
    "* Updated your `matplotlibrc` file to default to pretty plots.\n",
    "* Know how to visualize filter response curves."
   ]
  }
 ],
 "metadata": {
  "kernelspec": {
   "display_name": "Python [conda env:astr8060] *",
   "language": "python",
   "name": "conda-env-astr8060-py"
  },
  "language_info": {
   "codemirror_mode": {
    "name": "ipython",
    "version": 3
   },
   "file_extension": ".py",
   "mimetype": "text/x-python",
   "name": "python",
   "nbconvert_exporter": "python",
   "pygments_lexer": "ipython3",
   "version": "3.8.17"
  }
 },
 "nbformat": 4,
 "nbformat_minor": 5
}
