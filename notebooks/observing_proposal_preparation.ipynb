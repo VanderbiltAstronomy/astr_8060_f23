{
 "cells": [
  {
   "cell_type": "markdown",
   "id": "owned-bronze",
   "metadata": {},
   "source": [
    "# Observing Proposal Preparation\n",
    "\n",
    "Writing a proposal from scratch is a lot of work and it can be daunting or difficult to know where to start. Below are some exercises to prompt you to think about your proposal and develop some of the ideas you will need."
   ]
  },
  {
   "cell_type": "markdown",
   "id": "palestinian-subject",
   "metadata": {},
   "source": [
    "## Guidelines to keep in mind\n",
    "\n",
    " - <b>Title:</b> you should have one.\n",
    " - <b> References:</b>  you should have $\\sim\\!$10 relevant references.\n",
    " \n",
    " - <b> Figures:</b> aim to have at least 1-2 figures for the main science justification. Additional figures or tables (e.g., to motivate your targets or exposure time calcultion) are great. \n",
    " - <b> Length:</b> with your scientific justification, aim to fill the allowed space. For your experimental design and technical justification, aim for at least half a page to a page each."
   ]
  },
  {
   "cell_type": "markdown",
   "id": "silent-vintage",
   "metadata": {},
   "source": [
    "## The sections of a proposal\n",
    "\n",
    "Most proposals will include the three sections listed below. In some cases, you may find that the experimental design and technical justification are combined. But even then, you will still need to explain the same ideas, so the section title is not that important. In your own words, describe what goes in each of these sections.\n",
    "\n",
    "- <b>Scientific Justification:</b>\n",
    "<br>\n",
    "- <b>Experimental Design:</b>\n",
    "<br>\n",
    "- <b>Technical Justification:</b>\n",
    "<br>"
   ]
  },
  {
   "cell_type": "markdown",
   "id": "finite-needle",
   "metadata": {},
   "source": [
    "## Brainstorming\n",
    "\n",
    "In no particular order or organization (you do not even need to use full sentences), write some notes about ideas that you think you will need to include in your proposal somewhere. Do not be discouraged if you cannot think of many things on your first try. Come back to this as you continue to develop other aspects of your proposal and read papers. Specific areas you are not limited to are:\n",
    "\n",
    " - What is your proposal about?\n",
    " - Ideas that someone (including you!) might need to understand in order to appreciate your proposal.\n",
    " - Definitions that you want to explain.\n",
    " - Methods that you want to describe.\n",
    " - Calculations you want to include.\n",
    " - Details about why this topic is interesting to you.\n",
    " - Numbers that you wish you knew.\n",
    "\n",
    "Once you've written down some ideas, try to group similar ones together. As a last step, decide whether these groups belong in the scientific justification, experimental design, or technical justification. It might help to do this on a white board and then take a picture."
   ]
  },
  {
   "cell_type": "markdown",
   "id": "casual-picking",
   "metadata": {},
   "source": [
    "## What is your proposal about?\n",
    "\n",
    "What is your proposal about? Turn to the person next to you and take turns giving a short summary of what you are planning. If they have any questions, write them down. If you want to take another pass at describing your proposal, go ahead. \n",
    "\n",
    "Once you have settled on a description, can you transform your proposal topic into a specific, answerable question?\n",
    "\n",
    "Look at the example proposals on Brightspace. Can you identify one that feels closest to yours? What about it is close (e.g., science, methods, telescope)?"
   ]
  },
  {
   "cell_type": "markdown",
   "id": "quiet-junction",
   "metadata": {},
   "source": [
    "## References\n",
    "\n",
    "While you develop your proposal, you may have many questions or need to turn to the literature to learn more about the topics you are writing about.\n",
    "\n",
    "Identify a reference for each of the following ideas:\n",
    "\n",
    " - <b> General topic:</b> This should be a paper about the general scientific idea addressed by your proposal. For example, if I am writing a proposal to do spectroscopic monitoring of quasars that are supermassive black hole binary candidates, a paper about supermassive black hole binaries would be appropriate here.\n",
    "<br>\n",
    "\n",
    " - <b> Measurement:</b> This should be a paper that makes a measurement similar to the one that you are proposing, even if the scientific goal is different. For example, if I aim to observe the host galaxies of quasars that have recently turned off and measure their masses, a paper that does an image decomposition and measures masses for post-starburst quasars would be appropriate here.\n",
    "<br>\n",
    " \n",
    " - <b>Sample:</b> This should be the paper that inspires your target selection, either because you are planning to use a similar approach or because your targets are literally listed in the paper. For example, if I aim to do spectroscopic monitoring of binary stars to measure their orbital properties, then a paper that includes a list of and preliminary measurements for massive binary stars would be appropriate here.\n",
    "<br>\n",
    " \n",
    " - <b> Figure:</b> This should be a paper that has a figure you would like to include in your own proposal. You can also make your own figure, but you are likely to choose at least one from the literature.\n",
    "<br>"
   ]
  },
  {
   "cell_type": "markdown",
   "id": "simple-friendship",
   "metadata": {},
   "source": [
    "## Measurements\n",
    "\n",
    "Often, when you are trying to develop an observing proposal the first inclination will be to describe \"what you want to look at\". This is a good place to start, and the measurements you have planned go one step beyond that.\n",
    "\n",
    " - What do you want to look at? <br>\n",
    " <br>\n",
    " - What do you aim to measure? <br>\n",
    " <br>\n",
    " - How will your measurement help to answer your proposal question? <br>\n",
    " <br>\n",
    " - What is your main S/N requirement? <br>\n",
    " <br>\n",
    " - How bright is(are) your target(s)? <br>"
   ]
  },
  {
   "cell_type": "markdown",
   "id": "departmental-nancy",
   "metadata": {},
   "source": [
    "## Exposure time and other technical calculations\n",
    "\n",
    "Pull up some notes about the signal-to-noise equation, including homeworks where you calculated the rate of source photons.\n",
    "\n",
    " - How are signal-to-noise, exposure time, and brightness (e.g., source magnitude, surface brightness) related? Write a qualitative answer in words, not equations (although you can include an equation if that is helpful for your thought process).<br>\n",
    "<br>\n",
    " - Write down a list of the quantities that you can think of that go into a signal-to-noise or exposure time calculation.<br>\n",
    "<br>\n",
    " - Of these quantities, which ones seem relevant for your proposal? Can you identify the one that will drive your exposure time calculation? <br>\n",
    " <br>\n",
    " - Are there other technical quantities that are important for your science case? For example, we did many calculations about spatial resolution, Nyquist sampling, and field of view. Do you care about these? <br>\n",
    " <br>\n",
    " - Many telescopes (e.g., Gemini) encode the signal-to-noise equation in an Exposure Time Calculator (ETC) written specifically for that telescope. Does your telescope have an ETC? If so, practice using it (or ask Jessie for help)."
   ]
  },
  {
   "cell_type": "markdown",
   "id": "nasty-xerox",
   "metadata": {},
   "source": [
    "## Outlining your proposal\n",
    "\n",
    "Writing an outline for a proposal does not work for everyone, but it can be very helpful to streamline your arguments. A good outline does not just say \"1. Motivation, 2. Background, etc.\", it actually specifies the logical arguments you plan to make and distributes all the points you wrote down in your brainstorming session so you do not miss any.\n",
    "\n",
    "One approach to writing an outline that works well for me is to present the argument I want to make verbally. In practice, giving a full-blown talk on your proposal plans may not be a feasible time commitment. But you can find a partner and practice explaining to them. Their feedback will help you identify common confusions, background ideas you need to include and the appropriate order to put them in, etc.\n",
    "\n",
    "Another approach to writing an outline is to build on the brainstorming above. Imagine that you are outlining your technical justification. This is basically an exposure time calculation. Write down all the numbers, ideas, constraints, and ideas that you think are important for your exposure time calculation. This can even include details of how you will set up the telescope, or what instrument you need to use. Then, start to order them so that they tell a clear story that ends with your desired exposure time. "
   ]
  }
 ],
 "metadata": {
  "kernelspec": {
   "display_name": "Python 3 (ipykernel)",
   "language": "python",
   "name": "python3"
  },
  "language_info": {
   "codemirror_mode": {
    "name": "ipython",
    "version": 3
   },
   "file_extension": ".py",
   "mimetype": "text/x-python",
   "name": "python",
   "nbconvert_exporter": "python",
   "pygments_lexer": "ipython3",
   "version": "3.8.17"
  }
 },
 "nbformat": 4,
 "nbformat_minor": 5
}
