{
 "cells": [
  {
   "cell_type": "markdown",
   "id": "195707b3-abfb-4017-bc78-54050f646417",
   "metadata": {},
   "source": [
    "# Image Combination\n",
    "\n",
    "*J. Runnoe* <br>\n",
    "*September, 2023*\n",
    "\n",
    "This notebook will take you through the steps to interact with real imaging data and practice methods for combining images. Many of these tasks are reflected in the [astropy CCD reduction and photometry guide](https://github.com/astropy/ccd-reduction-and-photometry-guide/tree/main), so reading those notebooks can be very helpful."
   ]
  },
  {
   "cell_type": "markdown",
   "id": "b7ea259b-65d9-4e6e-a50c-ae64efc0194e",
   "metadata": {},
   "source": [
    "---\n",
    "## Contents\n",
    "* [Setup](#setup)\n",
    "    * [Install DS9](#ds9)\n",
    "    * [Get Imaging Data](#data)\n",
    "    * [Install Python Packages](#python)\n",
    "* [Exercises](#exercises)\n",
    "* [Summary](#summary)"
   ]
  },
  {
   "cell_type": "markdown",
   "id": "9ecd7081-12e2-4292-8ef1-dcaa7c8d6acc",
   "metadata": {},
   "source": [
    "## Setup <a class=\"anchor\" id=\"setup\"></a>"
   ]
  },
  {
   "cell_type": "markdown",
   "id": "89e2733a-2ca2-478c-8fa6-fc5e8baabb6d",
   "metadata": {},
   "source": [
    "### Install DS9 <a class=\"anchor\" id=\"ds9\"></a>\n",
    "\n",
    "Astronomer's have developed a handy tool for inspecting and manipulating images stored in [`fits`](https://fits.gsfc.nasa.gov/fits_standard.html) files: DS9. You should [download DS9](https://sites.google.com/cfa.harvard.edu/saoimageds9) and install it on your computer. If you have any trouble with the previous link, you can find the direct download for your operaty system [here](https://ds9.si.edu/download/)."
   ]
  },
  {
   "cell_type": "markdown",
   "id": "619d77cc-cf4c-4060-a1a6-38e272445706",
   "metadata": {},
   "source": [
    "### Get Imaging Data <a class=\"anchor\" id=\"data\"></a>\n",
    "\n",
    "We will use a real photometric data set for imaging data reduction in this class. We will use the same data set for these exercises, so you should download it now. This is something that you should store on your computer, but <font color='red'>do not add it to the class Git repository!</font>\n",
    "\n",
    "[Download the imaging data set](https://www.dropbox.com/sh/u2mce0afty9gin1/AAAhhOPrSQqr_WggG4tHUuj8a?dl=0), it is ~2.6GB."
   ]
  },
  {
   "cell_type": "markdown",
   "id": "a52b1de5-8f49-4537-af8d-abb5038f1a8a",
   "metadata": {},
   "source": [
    "### Install Python packages <a class=\"anchor\" id=\"python\"></a>\n",
    "\n",
    "You won't need these today, but they will be useful going forward with data reduction. Thus, do this before next week. If you didn't get any of these when you set up your class Python environment, install the following packages: <br>\n",
    "    `$ conda install -c astropy ccdproc photutils ipywidgets matplotlib` <br>"
   ]
  },
  {
   "cell_type": "markdown",
   "id": "79560775-79e3-4e4f-aa57-ded834631ff3",
   "metadata": {},
   "source": [
    "## Exercises <a class=\"anchor\" id=\"exercises\"></a>\n",
    "\n",
    "In the following exercises, you will practice inspecting images in DS9 and interacting with them in Python. The tools you develop in these exercises will be useful for data reduction assignments coming up.\n",
    "\n",
    "For more information, read notebooks 01-01 to 01-06 from the [CCD reduction guide](https://github.com/astropy/ccd-reduction-and-photometry-guide/tree/main)."
   ]
  },
  {
   "cell_type": "code",
   "execution_count": 1,
   "id": "ee41a67a-5777-466f-aff5-bfafeb28e1c6",
   "metadata": {},
   "outputs": [],
   "source": [
    "# import block\n",
    "import numpy as np\n",
    "from astropy.io import fits\n",
    "\n",
    "from matplotlib import pyplot as plt\n",
    "%matplotlib inline\n",
    "#from matplotlib import rc\n",
    "\n",
    "from astropy.visualization import hist\n",
    "#from astropy.stats import mad_std\n",
    "\n",
    "#from ccdproc import ImageFileCollection"
   ]
  },
  {
   "cell_type": "code",
   "execution_count": 2,
   "id": "0eb4c2b9-d787-431a-9fbb-0ff17a4adc77",
   "metadata": {},
   "outputs": [],
   "source": [
    "# set your data directory\n",
    "# this should point to the Imaging directory on your computer\n",
    "data_dir = '/Users/runnojc1/Dropbox/Research/teaching/F2021/ASTR8060/Imaging/'"
   ]
  },
  {
   "cell_type": "markdown",
   "id": "09b4a0da-a12c-4a6c-a7d2-c355d952c316",
   "metadata": {},
   "source": [
    "1. In DS9, open and display a bias, flat, dark frame. Play with scaling and cursor options. You can identify which filenames are associated with these different kinds of exposures by reading the `log.txt` file that comes with the data. "
   ]
  },
  {
   "cell_type": "markdown",
   "id": "376f2774-61a1-44a7-ab9d-a540fc6eda56",
   "metadata": {},
   "source": [
    "2. Now open and display one of the images in Python. The [`astropy.io.fits`](https://docs.astropy.org/en/stable/io/fits/) package is one way of opening fits files. You can open a fits file like this:\n",
    "\n",
    "```python\n",
    "hdu = fits.open('filename')\n",
    "hdr = hdu[0].header\n",
    "img = hdu[0].data\n",
    "```\n",
    "\n",
    "You may need to experiment with the extension (i.e. the number 0 in the code above) to see where the data are stored. Then, a handy code snippet for plotting:\n",
    "\n",
    "```python\r",
    "fig = plt.subplots(1,1,figsize=(4,4))\r",
    "plt.imshow(img, vmin=min_level, vmax=max_level)\r",
    "plt.xticks([])\r",
    "plt.yticks([])\r",
    "plt.title('Title')\r",
    "plt.grid(False)\r",
    "plt.show()\n",
    "```"
   ]
  },
  {
   "cell_type": "code",
   "execution_count": null,
   "id": "01d4de91-22f8-4173-bcec-925c712252a3",
   "metadata": {},
   "outputs": [],
   "source": []
  },
  {
   "cell_type": "markdown",
   "id": "1e9993a2-a95c-46a0-bca5-69a2ba3c76c3",
   "metadata": {},
   "source": [
    "3. Figure out how to select a single column, a single row, and a range of columns or rows from this image. Try looking at the image shape for a clue."
   ]
  },
  {
   "cell_type": "code",
   "execution_count": null,
   "id": "77ecec62-fb95-4044-afaf-b894a32536b1",
   "metadata": {},
   "outputs": [],
   "source": []
  },
  {
   "cell_type": "markdown",
   "id": "44e49e04-d64f-4dd9-8fe2-81f9c97c8d98",
   "metadata": {},
   "source": [
    "4. Plot the value of pixels in an individual column or row as a function of pixel number."
   ]
  },
  {
   "cell_type": "code",
   "execution_count": null,
   "id": "13709a38-d08e-4651-b96c-6f8a269d5ea2",
   "metadata": {},
   "outputs": [],
   "source": []
  },
  {
   "cell_type": "markdown",
   "id": "fbeb3ccd-b0f3-4e83-b7d2-3bd5c460caf6",
   "metadata": {},
   "source": [
    "5. Plot a histogram of the values in a bias and a flat. One way of plotting histograms (there are many!):\n",
    "\n",
    "```python\n",
    "\n",
    "bins = np.histogram_bin_edges(bias, bins=N_bins, range=[low_limit,hi_limit])\n",
    "\n",
    "plt.figure(figsize=(6,6))\n",
    "hist(image.flatten(), bins=bins, alpha=0.5, label='bias',rwidth=1)\n",
    "plt.legend()\n",
    "plt.xlim([low_limit,hi_limit])\n",
    "plt.xlabel('Counts')\n",
    "plt.ylabel('Number of pixels')\n",
    "plt.show()\n",
    "```"
   ]
  },
  {
   "cell_type": "code",
   "execution_count": null,
   "id": "53b55fd9-8905-46db-96fb-9e4ef0f660f3",
   "metadata": {},
   "outputs": [],
   "source": []
  },
  {
   "cell_type": "markdown",
   "id": "762d73b2-f053-46cc-93f8-93f62e2e331b",
   "metadata": {},
   "source": [
    "6. Choose at least 3 biases and mean and median combine them to create two master biases. Evaluate (with difference imaging and by plotting the distribution of their values on the same histogram) which is preferred. A handy method for combining frames is to do the following:\n",
    "\n",
    "```python\n",
    "combined_image = np.mean([img1,img2,img3],axis=0)\n",
    "```\n",
    "\n",
    "This stacks the frames, with shape (3,2048,2200) and axis=0 takes the mean of each pixel in the image."
   ]
  },
  {
   "cell_type": "code",
   "execution_count": null,
   "id": "d0cd052d-54a3-4f4f-b987-dfc29576190e",
   "metadata": {},
   "outputs": [],
   "source": []
  },
  {
   "cell_type": "markdown",
   "id": "2adc7d8c-2541-4cb7-8fbb-4f88cc630973",
   "metadata": {},
   "source": [
    "---\n",
    "## Summary <a class=\"anchor\" id=\"summary\"></a>\n",
    "\n",
    "At this point, all of you should have:\n",
    "* Installed DS9 on your computer.\n",
    "* Downloaded the Imaging data set for this class.\n",
    "* Learned to inspect images in DS9.\n",
    "* Learned to open and display images in Python and manipulate them.\n",
    "* Practiced and evaluated methods for combining images in Python."
   ]
  }
 ],
 "metadata": {
  "kernelspec": {
   "display_name": "Python [conda env:astr8060] *",
   "language": "python",
   "name": "conda-env-astr8060-py"
  },
  "language_info": {
   "codemirror_mode": {
    "name": "ipython",
    "version": 3
   },
   "file_extension": ".py",
   "mimetype": "text/x-python",
   "name": "python",
   "nbconvert_exporter": "python",
   "pygments_lexer": "ipython3",
   "version": "3.8.17"
  }
 },
 "nbformat": 4,
 "nbformat_minor": 5
}
