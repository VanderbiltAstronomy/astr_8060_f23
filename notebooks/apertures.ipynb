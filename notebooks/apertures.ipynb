{
 "cells": [
  {
   "cell_type": "markdown",
   "id": "bd8db56e-4d8a-4e43-a127-cb91881f094b",
   "metadata": {},
   "source": [
    "# Apertures\n",
    "\n",
    "*J. Runnoe* <br>\n",
    "*Fall 2021*\n",
    "\n",
    "Our aim will be to calculate instrumental magnitudes, i.e. magnitudes calculated from our data set but not calibrated to the outside world. Then, by comparing to standard stars, we will calibrate our photometric system. We will use aperture photometry to calculate the magnitudes needed for these steps.\n",
    "\n",
    "These tasks will guide you through aperture photometry with the PHOTUTILS package. These tasks should be performed on the overscan subtracted, trimmed, bias subtracted, flat fielded science frames. \n",
    "\n",
    "Although the outline for the <a href=\"https://github.com/mwcraig/ccd-reduction-and-photometry-guide/tree/master/notebooks/photometry\">Github tutorials</a> we have been using extends to aperture photometry, they are not yet complete. The examples and documentation for aperture photometry with PHOTUTILS and some extra tools for finding stars in images are here instead:\n",
    "\n",
    "<a href=\"https://photutils.readthedocs.io/en/stable/aperture.html\">Aperture photometry with PHOTUTILS</a> <br>\n",
    "<a href=\"https://photutils.readthedocs.io/en/stable/detection.html\">Star finder</a> <br>"
   ]
  },
  {
   "cell_type": "markdown",
   "id": "7850ce0e-5d91-4ebf-b5b1-bba992ae403f",
   "metadata": {},
   "source": [
    "In general, the aim of aperture photometry is to characterize the signal from a source in an aperture. However, the pixels that recorded the source signal also record the background. Thus, the total signal is:\n",
    "\n",
    "$S = T+AB$\n",
    "\n",
    "$S$ - the total signal in the aperture <br>\n",
    "$T$ - the total signal from the source in the aperture <br>\n",
    "$A$ - the total number of background pixels in the aperture <br>\n",
    "$B$ - the average background signal per pixel <br>"
   ]
  },
  {
   "cell_type": "markdown",
   "id": "cbee14f1-03b2-47e3-bfd4-d6bdcff623f4",
   "metadata": {},
   "source": [
    "---\n",
    "## Contents\n",
    "* [Exercises](#exercises)\n",
    "* [Summary](#summary)"
   ]
  },
  {
   "cell_type": "markdown",
   "id": "586d97e8-eacd-4e75-bfa8-cba99ea7fcb0",
   "metadata": {},
   "source": [
    "---\n",
    "## Exercises <a class=\"anchor\" id=\"exercises\"></a>\n"
   ]
  },
  {
   "cell_type": "code",
   "execution_count": 33,
   "id": "3f7b69fa-17dc-442c-8c88-01467ae54cdc",
   "metadata": {},
   "outputs": [],
   "source": [
    "# import block\n",
    "# some of these may not be needed\n",
    "import numpy as np\n",
    "from astropy.io import fits\n",
    "import pdb\n",
    "%matplotlib inline\n",
    "from matplotlib import pyplot as plt\n",
    "from matplotlib import rc\n",
    "import matplotlib\n",
    "from astropy.visualization import hist\n",
    "from datetime import datetime\n",
    "from pathlib import Path\n",
    "import os\n",
    "from ccdproc import ImageFileCollection\n",
    "import ccdproc as ccdp\n",
    "from astropy.modeling.models import Polynomial1D,Chebyshev1D,Legendre1D,Hermite1D, Gaussian1D,Gaussian2D,Polynomial2D\n",
    "from astropy.modeling import fitting\n",
    "from astropy.stats import mad_std\n",
    "from astropy.nddata import CCDData, StdDevUncertainty\n",
    "from scipy import stats\n",
    "from astropy import units as u\n",
    "from photutils.aperture import CircularAperture,CircularAnnulus\n",
    "from photutils.aperture import aperture_photometry\n",
    "from astropy.stats import sigma_clipped_stats\n",
    "from photutils.detection import DAOStarFinder\n",
    "from astropy.table import Table\n",
    "\n",
    "from astropy.coordinates import SkyCoord"
   ]
  },
  {
   "cell_type": "code",
   "execution_count": 34,
   "id": "254ff05a-c86c-4fc7-9766-2517eb84c514",
   "metadata": {},
   "outputs": [],
   "source": [
    "# import convenience plotting functions downloaded from \n",
    "# here: https://github.com/mwcraig/ccd-reduction-and-photometry-guide\n",
    "phot_tutorial_dir = '/Users/runnojc1/Software/py/ccd-reduction-and-photometry-guide/notebooks/'\n",
    "import sys\n",
    "sys.path.insert(0,phot_tutorial_dir)\n",
    "from convenience_functions import show_image"
   ]
  },
  {
   "cell_type": "code",
   "execution_count": 35,
   "id": "dbc0afc8-9570-40b7-837a-3e65ebc14dc6",
   "metadata": {},
   "outputs": [],
   "source": [
    "data_dir = '/Users/runnojc1/Dropbox/Research/teaching/F2021/ASTR8060/Imaging/'            # raw data directory\n",
    "reduced_dir = '/Users/runnojc1/Dropbox/Research/teaching/F2021/ASTR8060/Imaging_reduced/' # reduced working directory"
   ]
  },
  {
   "cell_type": "markdown",
   "id": "d26bc6cd-887f-4725-808f-0ac7bad80ad9",
   "metadata": {},
   "source": [
    "#### 1. Load the V-band image of the PG1633+099 field\n",
    "\n",
    "PG1633+099 is a Landolt standard field, meaning that via very careful measurements, the magnitudes of many stars in this field are well known. Load up a085otzf.fits to practice on. Ideally, you should use the overscan, bias, trim, and flatfielded image. If you don't have a version of your own, you can [download mine](https://www.dropbox.com/scl/fi/x8b4ew663ttj9xucabynn/a085otzf.fits?rlkey=eehki6xruy7lvbpts4ttxrtuy&dl=0) to work with for now."
   ]
  },
  {
   "cell_type": "code",
   "execution_count": null,
   "id": "105d9ce7-018a-426d-aaa1-362f2126358e",
   "metadata": {},
   "outputs": [],
   "source": []
  },
  {
   "cell_type": "markdown",
   "id": "5cff2de0-43c4-4bc1-8096-ac9f91b8010c",
   "metadata": {},
   "source": [
    "#### 2. Select a star and find its position\n",
    "\n",
    "A good star is one that doesn't look saturated and is relatively isolated. It should have a nice, clean, round shape, but not be too faint. <br>\n",
    "\n",
    "To start, open the same frame in DS9. Choose a star to practice apertures and find its position in DS9. You can centroid an aperture in DS9 to get more accurate values than your cursor.\n",
    "\n",
    "Edit>Region <br>\n",
    "Click on a star near the center of the field and a green circle will appear. <br>\n",
    "Double click inside the circle to edit the region's properties. <br>\n",
    "Set radius to 15. <br>\n",
    "Region>Centroid <br>\n",
    "Double click inside the circle again to see the new x and y positions. <br>\n",
    "\n",
    "You could also do this in Python with a 2D Gaussian fit."
   ]
  },
  {
   "cell_type": "code",
   "execution_count": 38,
   "id": "2dd4c0d2-a048-4e7f-87f5-32c6329f1c1d",
   "metadata": {},
   "outputs": [],
   "source": [
    "# this will choose three dummy positions all centered at [0,0]\n",
    "# you can choose more or fewer positions by adding/removing x,y pairs\n",
    "# insert the position of a star from DS9 from the notes above\n",
    "x1 = 0\n",
    "x2 = 0\n",
    "x3 = 0\n",
    "y1 = 0\n",
    "y2 = 0\n",
    "y3 = 0\n",
    "positions = [(x1,y1),(x2,y2),(x3,y3)]"
   ]
  },
  {
   "cell_type": "markdown",
   "id": "8b9504ba-197a-4488-a1ea-7bc22668aa90",
   "metadata": {},
   "source": [
    "#### 2. Create two apertures and plot them over the image\n",
    "Create a circular aperture at the position of the star with a radius of 4 pixels. Also create a circular annulus with an inner radius of 10 pixels and an outer radius of 15 pixels.\n",
    "<br>\n",
    "<br>\n",
    "Then display the a085 frame and plot your apertures over it in two different colors."
   ]
  },
  {
   "cell_type": "code",
   "execution_count": null,
   "id": "022b41de-6a11-4d0f-b115-8d9a0f07daad",
   "metadata": {},
   "outputs": [],
   "source": []
  },
  {
   "cell_type": "markdown",
   "id": "3482fc96-96bc-4958-b264-efbba66a7c67",
   "metadata": {},
   "source": [
    "#### 3. Calculate the total signal, $S$\n",
    "\n",
    "Check [this tutorial](https://photutils.readthedocs.io/en/stable/aperture.html) for an example of how to use photutils to do aperture photometry."
   ]
  },
  {
   "cell_type": "code",
   "execution_count": null,
   "id": "7453c30a-4922-426d-8b3f-835cc2699b0f",
   "metadata": {},
   "outputs": [],
   "source": []
  },
  {
   "cell_type": "markdown",
   "id": "abccf1b2-e4b1-4d96-ab21-748536fd2aff",
   "metadata": {},
   "source": [
    "#### 4. Calculate the number of pixels in the circular aperture, $A$\n",
    "\n",
    "This is done for you with the aperture.area feature. Try printing this, and compare to $\\pi r^2$ for your input radius."
   ]
  },
  {
   "cell_type": "code",
   "execution_count": null,
   "id": "bda6dde9-3265-42c4-bac3-8dea87597dbe",
   "metadata": {},
   "outputs": [],
   "source": []
  },
  {
   "cell_type": "markdown",
   "id": "779cd662-94f2-4008-8fa7-668356eacb9f",
   "metadata": {},
   "source": [
    "#### 5. Calculate the mean background, $B$\n",
    "\n",
    "This is just your total counts in the background annulus divided by the area of that annulus."
   ]
  },
  {
   "cell_type": "code",
   "execution_count": null,
   "id": "74094c9c-5e7d-40ab-9693-22c5de4866ac",
   "metadata": {},
   "outputs": [],
   "source": []
  },
  {
   "cell_type": "markdown",
   "id": "91563b51-9e3a-4020-ac61-4e7f09502c24",
   "metadata": {},
   "source": [
    "#### 6. Calculate an instrumental magnitude\n",
    "\n",
    "The instrumental magnitude is given by:\n",
    "\n",
    "$m = -2.5\\times\\textrm{log}(T) = -2.5\\times\\textrm{log}(S-AB)$\n",
    "\n",
    "Note that you can add columns to a Table simply by asserting that they are there."
   ]
  },
  {
   "cell_type": "code",
   "execution_count": null,
   "id": "b8b4c980-59f2-44da-abae-ff48f0a75edf",
   "metadata": {},
   "outputs": [],
   "source": []
  },
  {
   "cell_type": "markdown",
   "id": "49e575e1-15c5-46c8-a7db-0cb5a16a6a6c",
   "metadata": {},
   "source": [
    "---\n",
    "## Summary <a class=\"anchor\" id=\"summary\"></a>\n",
    "\n",
    "At this point, all of you should:\n",
    "* Be able to find positions of stars.\n",
    "* Know how to make apertures with photutils.\n",
    "* Be able to calculate the counts and background in an aperture.\n",
    "* Know how to calculate instrumental magnitudes."
   ]
  }
 ],
 "metadata": {
  "kernelspec": {
   "display_name": "Python [conda env:astr8060]",
   "language": "python",
   "name": "conda-env-astr8060-py"
  },
  "language_info": {
   "codemirror_mode": {
    "name": "ipython",
    "version": 3
   },
   "file_extension": ".py",
   "mimetype": "text/x-python",
   "name": "python",
   "nbconvert_exporter": "python",
   "pygments_lexer": "ipython3",
   "version": "3.8.17"
  }
 },
 "nbformat": 4,
 "nbformat_minor": 5
}
