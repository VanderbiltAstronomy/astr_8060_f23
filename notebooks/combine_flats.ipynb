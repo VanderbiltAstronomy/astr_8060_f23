{
 "cells": [
  {
   "cell_type": "markdown",
   "id": "bd8db56e-4d8a-4e43-a127-cb91881f094b",
   "metadata": {},
   "source": [
    "# Combine Flats\n",
    "\n",
    "*J. Runnoe* <br>\n",
    "*October, 2023*\n",
    "\n",
    "This notebook will introduce some tasks that will be useful for creating master flat frames. Many of these tasks are reflected in the [astropy CCD reduction and photometry guide](https://github.com/astropy/ccd-reduction-and-photometry-guide/tree/main), so reading those notebooks can be very helpful."
   ]
  },
  {
   "cell_type": "markdown",
   "id": "cbee14f1-03b2-47e3-bfd4-d6bdcff623f4",
   "metadata": {},
   "source": [
    "---\n",
    "## Contents\n",
    "* [Exercises](#exercises)\n",
    "* [Summary](#summary)"
   ]
  },
  {
   "cell_type": "markdown",
   "id": "586d97e8-eacd-4e75-bfa8-cba99ea7fcb0",
   "metadata": {},
   "source": [
    "---\n",
    "## Exercises <a class=\"anchor\" id=\"exercises\"></a>\n"
   ]
  },
  {
   "cell_type": "code",
   "execution_count": 73,
   "id": "3f7b69fa-17dc-442c-8c88-01467ae54cdc",
   "metadata": {},
   "outputs": [],
   "source": [
    "# import block\n",
    "import numpy as np\n",
    "from astropy.io import fits\n",
    "from matplotlib import pyplot as plt\n",
    "from matplotlib import rc\n",
    "%matplotlib inline\n",
    "from astropy.visualization import hist\n",
    "from ccdproc import ImageFileCollection\n",
    "import ccdproc as ccdp\n",
    "from astropy.modeling import fitting\n",
    "from astropy.modeling.models import Polynomial1D,Chebyshev1D,Legendre1D,Hermite1D\n",
    "from astropy.nddata import CCDData\n",
    "from datetime import datetime\n",
    "from astropy.stats import sigma_clip"
   ]
  },
  {
   "cell_type": "code",
   "execution_count": 26,
   "id": "254ff05a-c86c-4fc7-9766-2517eb84c514",
   "metadata": {},
   "outputs": [],
   "source": [
    "# import convenience plotting functions downloaded from \n",
    "# here: https://github.com/mwcraig/ccd-reduction-and-photometry-guide\n",
    "phot_tutorial_dir = '/Users/runnojc1/Software/py/ccd-reduction-and-photometry-guide/notebooks/'\n",
    "import sys\n",
    "sys.path.insert(0,phot_tutorial_dir)\n",
    "from convenience_functions import show_image"
   ]
  },
  {
   "cell_type": "code",
   "execution_count": 27,
   "id": "41e653b6-cc40-412f-a330-aab562940023",
   "metadata": {},
   "outputs": [],
   "source": [
    "# for imaging, I like the photometry notebook plot defaults\n",
    "# so use their custom style for larger fonts and figures\n",
    "plt.style.use('/Users/runnojc1/Software/py/ccd-reduction-and-photometry-guide/notebooks/guide.mplstyle')\n",
    "\n",
    "# set a couple more default parameters for the plots below\n",
    "rc('font', size=20)\n",
    "rc('axes', grid=True)"
   ]
  },
  {
   "cell_type": "code",
   "execution_count": 66,
   "id": "dc7597c5-6daa-466e-b11a-670afe33d378",
   "metadata": {},
   "outputs": [],
   "source": [
    "def inv_median(x):\n",
    "    return 1./np.median(x)\n",
    "\n",
    "def inv_mean(x):\n",
    "    return 1./np.mean(x)\n",
    "\n",
    "def inv_mode(x):\n",
    "    return 1./stats.mode(x,axis=None)[0][0]"
   ]
  },
  {
   "cell_type": "markdown",
   "id": "5cff2de0-43c4-4bc1-8096-ac9f91b8010c",
   "metadata": {},
   "source": [
    "#### 1. Load up the $V$-band flats\n",
    "\n",
    "Ideally, you should use the overscan and bias subtracted, trimmed flats for this. If you have not produced these yet, you can download mine [here](https://www.dropbox.com/scl/fo/7p3qam2rcwaz0jp0lhnox/h?rlkey=b1c54j5rh3wslw0idhit9v8y8&dl=0).\n",
    "\n",
    "Note that you can filter an image file collection for specific image types and filters:\n",
    "\n",
    "```python\n",
    "import ccdproc as ccdp\n",
    "\n",
    "# just read in the bias-subtracted images\n",
    "imgs = ccdp.ImageFileCollection(reduced_dir,glob_include='*otz.fits') \n",
    "\n",
    "# get filenames for the V-band flats only\n",
    "v_flat_files = imgs.files_filtered(imagetyp='skyflat',filter='V',include_path=True) \n",
    "\n",
    "# or filter on the ImageFileCollection directly\n",
    "v_flat_imgs  = imgs.filter(imagetyp='skyflat',filter='V') \n",
    "v_flat_imgs.summary\n",
    "```"
   ]
  },
  {
   "cell_type": "code",
   "execution_count": 5,
   "id": "b4b47d89-94a8-4de2-9128-b8246c39bdc1",
   "metadata": {},
   "outputs": [],
   "source": [
    "data_dir = '/Users/runnojc1/Dropbox/Research/teaching/F2021/ASTR8060/Imaging/'            # raw data directory\n",
    "reduced_dir = '/Users/runnojc1/Dropbox/Research/teaching/F2021/ASTR8060/Imaging_reduced/' # reduced working directory"
   ]
  },
  {
   "cell_type": "code",
   "execution_count": null,
   "id": "ea7cd6cb-9455-4728-bf25-2a57fff2f6ea",
   "metadata": {},
   "outputs": [],
   "source": []
  },
  {
   "cell_type": "markdown",
   "id": "8b9504ba-197a-4488-a1ea-7bc22668aa90",
   "metadata": {},
   "source": [
    "#### 2. Combine the $V$-band flats\n",
    "\n",
    "Combine the V-band flats with a straight average and straight median. Compare these to each other, and to the individual frames. What do you notice?\n",
    "\n",
    "Use both the standard deviation of pixel values and 2D images as tools to assess different methods of combining the flats."
   ]
  },
  {
   "cell_type": "code",
   "execution_count": null,
   "id": "3c8d59d6-bfa9-461a-86a7-81d171ed01ba",
   "metadata": {},
   "outputs": [],
   "source": []
  },
  {
   "cell_type": "markdown",
   "id": "3482fc96-96bc-4958-b264-efbba66a7c67",
   "metadata": {},
   "source": [
    "#### 3. Combine the flats with sigma clipping\n",
    "\n",
    "Try combining the flats with sigma clipping. For image combination including weighting and sigma clipping, you can use the CCDPROC combine task, or implement your own. You can also explore [astropy.sigma_clip](https://docs.astropy.org/en/stable/api/astropy.stats.sigma_clip.html). What’s a good level for sigma clipping for these frames?\n",
    "\n",
    "Use mean combine, and compare sigma-clipped mean combined flats versus a straight mean without sigma clipping to see how well it is working."
   ]
  },
  {
   "cell_type": "code",
   "execution_count": null,
   "id": "de230fdc-d1f7-4215-8b7d-1e6a772c27f6",
   "metadata": {},
   "outputs": [],
   "source": []
  },
  {
   "cell_type": "markdown",
   "id": "49e575e1-15c5-46c8-a7db-0cb5a16a6a6c",
   "metadata": {},
   "source": [
    "---\n",
    "## Summary <a class=\"anchor\" id=\"summary\"></a>\n",
    "\n",
    "At this point, all of you should:\n",
    "* Know two tools to assess different approaches to image combination.\n",
    "* Understand what will differ when you mean or median combine the $V$-band flat frames from this data set.\n",
    "* Know how to scale, sigma clip, and combine images."
   ]
  },
  {
   "cell_type": "code",
   "execution_count": null,
   "id": "b8a1d4cc-c444-4b32-87e9-19b3aba52060",
   "metadata": {},
   "outputs": [],
   "source": []
  }
 ],
 "metadata": {
  "kernelspec": {
   "display_name": "Python [conda env:astr8060] *",
   "language": "python",
   "name": "conda-env-astr8060-py"
  },
  "language_info": {
   "codemirror_mode": {
    "name": "ipython",
    "version": 3
   },
   "file_extension": ".py",
   "mimetype": "text/x-python",
   "name": "python",
   "nbconvert_exporter": "python",
   "pygments_lexer": "ipython3",
   "version": "3.8.17"
  }
 },
 "nbformat": 4,
 "nbformat_minor": 5
}
