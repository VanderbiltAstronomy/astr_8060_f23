{
 "cells": [
  {
   "cell_type": "markdown",
   "id": "a6be466c-a6b5-449c-baef-a940540f8086",
   "metadata": {},
   "source": [
    "# Initial python setup for ASTR8060\n",
    "\n",
    "*J. Runnoe* <br>\n",
    "*August, 2023*\n",
    "\n",
    "This notebook will take you through the steps to initialize the computing setup that you will need for ASTR8060. Some aspects are drawn from [Steve Taylor's ASTR8080 course](https://github.com/VanderbiltAstronomy/astr_8070_s22)."
   ]
  },
  {
   "cell_type": "markdown",
   "id": "e383ce3b-b4df-4039-ab77-522e110c1e45",
   "metadata": {
    "jp-MarkdownHeadingCollapsed": true
   },
   "source": [
    "---\n",
    "## Contents\n",
    "* [Choose a Text Editor](#text)\n",
    "* [Install Python](#python)\n",
    "* [Create a Python Environment](#env)\n",
    "* [Installing ThorSky](#thorsky)\n",
    "* [Summary](#summary)"
   ]
  },
  {
   "cell_type": "markdown",
   "id": "bdbfeb61-43a8-44bd-a9e4-0bebcbcd466a",
   "metadata": {},
   "source": [
    "---\n",
    "## Choose a Text Editor <a class=\"anchor\" id=\"text\"></a>\n",
    "\n",
    "It may be useful to have an editor to work on code or manipulate files. I use [MacVim](https://macvim.org/), but you can use any one that you like. [emacs](https://www.gnu.org/software/emacs/), [Atom](https://github.blog/2022-06-08-sunsetting-atom/), and [SublimeText](https://www.sublimetext.com/) are other common choices.\n",
    "\n",
    "Make sure you have an editor installed on your computer. At least on a Mac, you may want to alias your editor so that it is easy to open. The way to add this depends on what shell you are using in your terminal. The two most common are BASH (likely what your computer defaulted to if you did not explicitly set this up) and TCSH. You can pass your terminal default settings to run when it starts up with either a `.bash_profile` or `.tcshrc` file. To write a new alias, add the followin to your startup file:\n",
    "\n",
    "tcsh: `alias atom 'open -a atom'` <br>\r",
    "bash: `alias atom='open -a atom'` <br>"
   ]
  },
  {
   "cell_type": "markdown",
   "id": "5354c5cc-f413-4284-a679-60fcd32baeaa",
   "metadata": {},
   "source": [
    "---\n",
    "## Install Python <a class=\"anchor\" id=\"python\"></a>\n",
    "\n",
    "If you already have anaconda3 or miniconda3 installed, skip this step. Conda is a computing environment manager that we will use to install Python and all of the software packages that we will use with it. The difference between Miniconda and Anaconda is that the former includes only the base content that you need for conda and Python, whereas Anaconda also includes many pre-built packages.\n",
    "\n",
    "The following instructions are tested for Mac; the Linux installation will be very similar. Windows is untested."
   ]
  },
  {
   "cell_type": "markdown",
   "id": "53c76bf3-eb4e-450b-8540-1c37a13f18b0",
   "metadata": {},
   "source": [
    "1. Install Miniconda<br>\n",
    "    This notebook should have everything you need to install Python, but you can also view detailed installation instructions for [Linux](https://docs.conda.io/projects/conda/en/stable/user-guide/install/linux.html) or [Mac](https://docs.conda.io/projects/conda/en/stable/user-guide/install/macos.html). <br>\n",
    "    \n",
    "    Download the appropriate installer for your operating system [from the download page](https://docs.conda.io/en/latest/miniconda.html). <br>\n",
    "\n",
    "   Run the installation. If you downloaded a Mac installer package you can run it and follow the prompts. For Linux (or Mac if you downloaded the .sh script installer) you can install from the command line. The -b flag runs the installation in batch mode with no PATH modifications to your shell scripts (e.g. .bash_profile). It also assumes that you agree to the license agreement. <br>\n",
    "     `$ bash Miniconda3-latest-Linux-x86_64.sh -b`<br>\n",
    "\n",
    "2. Check your installation: <br>\n",
    "\n",
    "   Open a **new** terminal window, and make sure your `$PATH` variable points to the conda installation. There are a number of reasonable answers, but the path should include anaconda3 or miniconda3. <br>\n",
    "   `$ which python` <br>\n",
    "    <font color='gray'>/Users/runnojc1/opt/anaconda3/bin/python</font><br>\n",
    "\n",
    "    You can also check that conda is working:<br>\n",
    "    `$ conda list` <br>\n",
    "    <font color='gray'>\\# packages in environment at /Users/runnojc1/opt/anaconda3: <br>\n",
    "    \\# <br>\n",
    "    \\# Name                    Version                   Build  Channel <br>\n",
    "    anaconda-client           1.11.2          py310hca03da5_0   <br>\n",
    "    anaconda-navigator        2.4.0           py310hca03da5_0   <br>\n",
    "    anaconda-project          0.11.1          py310hca03da5_0   <br>\n",
    "    ...<br></font>\n",
    "   \n",
    "3. If Step 2 did not work, it may be because Conda is not in your `$PATH`. Add Conda to your `.bash_profile` by adding the line: <br>\n",
    "    \n",
    "    `\n",
    "    export PATH=\"$HOME/opt/miniconda3/bin:$PATH\"<br>\n",
    "    `\n",
    "   \n",
    "    Or if you use TCSH instead, you will need the following in your `.tcshrc` file: <br>                                                                                                                            \n",
    "    `\n",
    "    setenv PATH \"${PATH}:/Users/runnojc1/opt/miniconda3/bin/\"<br>\n",
    "    `\n",
    "\n",
    "    Now try Step 2 again.\n",
    "\n",
    "5. Once your Conda installation is sorted, you can clean up (once you are sure you will not need the installer anymore): <br>\n",
    "     `$ rm Miniconda3-latest-Linux-x86_64.sh` (be careful with “rm”) <br>"
   ]
  },
  {
   "cell_type": "markdown",
   "id": "ede8ee61-dcc3-4a06-b674-4ee726379bdd",
   "metadata": {},
   "source": [
    "---\n",
    "## Create a Python Environment <a class=\"anchor\" id=\"env\"></a>\n",
    "\n",
    "Conda is an environment manager, which we will use specifically for managing Python. A Python environment is effectively a Python workspace that is created on top of the base Python installation. You can create multiple environments (e.g. each with unique packages installed) and they will not interfere with each other."
   ]
  },
  {
   "cell_type": "markdown",
   "id": "b9ff532f-0321-499a-b84f-9236e4d2720f",
   "metadata": {},
   "source": [
    "1. Create a new python environment for this class: <br>\n",
    "    `$ conda create -n astr8060 python=3.8 numpy scipy matplotlib astropy ccdproc photutils jupyterlab nb_conda_kernels`. <br>\n",
    "    (When prompted, press `y` to proceed.)<br>\n",
    "    \n",
    "2. You can activate this environment from the terminal by typing: <br>\n",
    "    `$ conda activate astr8060`\n",
    "\n",
    "\n",
    "3. Use this kernel in a Jupyter notebook: <br>\n",
    "   start up jupyterlab: `$ jupyter-lab &` <br>\n",
    "   when opening a new notebook: click `File` &rarr; `New` and select `Python [conda env:astr8060]` <br>\n",
    "   when opening an existing notebook click `Kernel` &rarr; `Change kernel` &rarr; `Python [conda env:astr8060]` <br>\n",
    "\n",
    "5. When necessary, you can deactivate the class Python environment in the terminal by typing: <br>\n",
    "   `$ conda deactivate`"
   ]
  },
  {
   "cell_type": "markdown",
   "id": "6ecb1041-06a1-4801-bb4c-92cf86ebd352",
   "metadata": {},
   "source": [
    "---\n",
    "## Installing ThorSky (optional) <a class=\"anchor\" id=\"thorsky\"></a>\n",
    "\n",
    "The is a package for finding your way around the night sky. It is located [on Github](https://github.com/jrthorstensen/thorsky)."
   ]
  },
  {
   "cell_type": "markdown",
   "id": "ad09c059-4fd4-42ef-b934-98779c106988",
   "metadata": {},
   "source": [
    "1. Create the directory structure to house this and other software. I have the following on my computer: ~/Software/py.\n",
    "2. I will add ThorSky to this directory. Create on for ThorSky and change into it:\n",
    "\n",
    "   `$ cd ~/Software/py/`<br>\n",
    "   `$ mkdir thorsky`<br>\n",
    "   `$ cd thorsky/`<br>\n",
    "\n",
    "3. Download the repository from Github (if Git is not installed, ask for help):\n",
    "\n",
    "    `$ git clone https://github.com/jrthorstensen/thorsky .` <br>\n",
    "    <font color='gray'>Cloning into '.'...<br>\n",
    "    remote: Enumerating objects: 143, done.<br>\n",
    "    remote: Total 143 (delta 0), reused 0 (delta 0), pack-reused 143<br>\n",
    "    Receiving objects: 100% (143/143), 4.36 MiB | 14.87 MiB/s, done.<br>\n",
    "    Resolving deltas: 100% (28/28), done.<br></font>\n",
    "\n",
    "    `$ ls`<br>\n",
    "    <font color='gray'>LICENSE\t\t\tdocs\t\t\tthorsky.tar.gz\t\tthorskyutil.py<br>\n",
    "    README.md\t\tpyskycalc3.py\t\tthorskyclasses3.py<br></font>\n",
    "\t  \n",
    "5. Run the installation (from your astr8060 conda environment):<br>\n",
    "    `$ cd thorsky`<br>\n",
    "    `$ pwd`<br>\n",
    "    <font color='gray'>/Users/runnojc1/Software/py/thorsky/thorsky<br></font>\n",
    "    `$ python setup.py install`<br>\n",
    "\n",
    "6. Add thorsky to your startup script. In your `.bash_profile` do:<br>\n",
    "\n",
    "    `\n",
    "    export PYTHONPATH=\"$PYTHONPATH:$HOME/Software/py/thorsky/thorsky/\"\n",
    "    `\n",
    "   \n",
    "    Or if you use TCSH instead, you will need the following in your `.tcshrc` file: <br>                                                                                                                            \n",
    "    `\n",
    "    setenv PYTHONPATH \"${PYTHONPATH}:$HOME/Software/py/thorsky/thorsky/\" <br>\n",
    "    `\n",
    "\n",
    "    The path that you enter may differ slightly, depending on where you installed `thorsky`. The correct location will have the file `observatories_rev.dat` in it.\n",
    "   \n",
    "8. Once it is installed, you can run a JSkyCalc-like GUI with pyskycalc3.py. I aliased this in my startup script. For `BASH` in your `.bash_profile`:<br>\n",
    "    \n",
    "    `\n",
    "    alias skycalc=\"python /Users/runnojc1/Software/py/thorsky/pyskycalc3.py\"\n",
    "    `\n",
    "   \n",
    "    Or if you use TCSH instead, you will need the following in your `.tcshrc` file: <br>                                                                                                                            \n",
    "    `\n",
    "    alias skycalc 'python /Users/runnojc1/Software/py/thorsky/pyskycalc3.py'\n",
    "    ` <br>\n",
    "\n",
    "    Then you can call it with:\n",
    "\n",
    "    `$ thorsky`<br>\n",
    "\n",
    "\n",
    "\n",
    "\n"
   ]
  },
  {
   "cell_type": "markdown",
   "id": "bbfc4844-2dba-4023-8eee-054d49768fd0",
   "metadata": {},
   "source": [
    "---\n",
    "### Summary <a class=\"anchor\" id=\"summary\"></a>\n",
    "\n",
    "At this point, all of you should have:\n",
    "* Downloaded a text editor.\n",
    "* Installed the Anaconda/Miniconda Python Distribution with Python 3.\n",
    "* Created a python environment for this class and learned to use it in the terminal and Jupyter notebooks.\n",
    "* Installed `thorsky`.\n",
    "* Set up the paths and alias to easily run `skycalc`."
   ]
  }
 ],
 "metadata": {
  "kernelspec": {
   "display_name": "py3",
   "language": "python",
   "name": "py3"
  },
  "language_info": {
   "codemirror_mode": {
    "name": "ipython",
    "version": 3
   },
   "file_extension": ".py",
   "mimetype": "text/x-python",
   "name": "python",
   "nbconvert_exporter": "python",
   "pygments_lexer": "ipython3",
   "version": "3.10.10"
  }
 },
 "nbformat": 4,
 "nbformat_minor": 5
}
